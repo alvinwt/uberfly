{
 "metadata": {
  "name": ""
 },
 "nbformat": 3,
 "nbformat_minor": 0,
 "worksheets": [
  {
   "cells": [
    {
     "cell_type": "code",
     "collapsed": false,
     "input": [
      "from django.core.management import setup_environ\n",
      "from loq import settings\n",
      "setup_environ(settings)\n",
      "import os\n",
      "os.environ['DJANGO_SETTINGS_MODULE'] = 'loq.settings'\n",
      "%pwd\n",
      "from loq.models import Read_alignment, Interval, Library"
     ],
     "language": "python",
     "metadata": {},
     "outputs": [],
     "prompt_number": 1
    },
    {
     "cell_type": "code",
     "collapsed": false,
     "input": [
      "### Used to generate the ucsc link for entries in the interval table \n",
      "a = Interval.objects.all()\n",
      "for i in a:\n",
      "    i.Link = \"http://genome.ucsc.edu/cgi-bin/hgTracks?db=dm3&position=\" +str(i.NeatName) \n",
      "    #i.Link = \"http://genome.cbis.nus.edu.sg/cgi-bin/hgTracks?db=dm3&position=\" + str(i.NeatName)\n",
      "    i.save()"
     ],
     "language": "python",
     "metadata": {},
     "outputs": [
      {
       "output_type": "stream",
       "stream": "stderr",
       "text": [
        "DEBUG:django.db.backends:(0.010) SELECT `loq_interval`.`id`, `loq_interval`.`chr`, `loq_interval`.`start`, `loq_interval`.`stop`, `loq_interval`.`mirName`, `loq_interval`.`NeatName`, `loq_interval`.`IntervalSize`, `loq_interval`.`IntervalSerialNumber`, `loq_interval`.`Structure`, `loq_interval`.`Annotations`, `loq_interval`.`Tags`, `loq_interval`.`sum_read_counts`, `loq_interval`.`sum_normReads`, `loq_interval`.`mapped_strand`, `loq_interval`.`mid_point`, `loq_interval`.`Link`, `loq_interval`.`hairpin_seq`, `loq_interval`.`mature_seq`, `loq_interval`.`five_p`, `loq_interval`.`three_p` FROM `loq_interval`; args=()\n"
       ]
      },
      {
       "output_type": "stream",
       "stream": "stderr",
       "text": [
        "DEBUG:django.db.backends:(0.000) SELECT (1) AS `a` FROM `loq_interval` WHERE `loq_interval`.`id` = 1  LIMIT 1; args=(1,)\n"
       ]
      },
      {
       "output_type": "stream",
       "stream": "stderr",
       "text": [
        "DEBUG:django.db.backends:(0.001) UPDATE `loq_interval` SET `chr` = 'chr2L', `start` = 243034, `stop` = 243141, `mirName` = 'dme-mir-965', `NeatName` = 'chr2L:243035-243141', `IntervalSize` = 107, `IntervalSerialNumber` = 1, `Structure` = '..(((((..(((((((.((((((((((.(((((((((((((.((((.................))))))))))))).))))))))))))))))).)))))))))...', `Annotations` = '', `Tags` = '', `sum_read_counts` = 120008, `sum_normReads` = 11227.4303, `mapped_strand` = '-', `mid_point` = 243087, `Link` = 'http://genome.ucsc.edu/cgi-bin/hgTracks?db=dm3&position=chr2L:243035-243141', `hairpin_seq` = 'GACAATATTGCTCAACATTTTGGGGGGTAAAACTGTACGTTATATGTGCCCTTCTGTGATATTCATAAGCGTATAGCTTTTCCCCTTAAAAGTTAGAGCTATTGCAA', `mature_seq` = '', `five_p` = '24-46', `three_p` = '66-87' WHERE `loq_interval`.`id` = 1 ; args=(u'chr2L', 243034, 243141, u'dme-mir-965', u'chr2L:243035-243141', 107, 1, u'..(((((..(((((((.((((((((((.(((((((((((((.((((.................))))))))))))).))))))))))))))))).)))))))))...', u'', u'', 120008, 11227.4303, u'-', 243087, 'http://genome.ucsc.edu/cgi-bin/hgTracks?db=dm3&position=chr2L:243035-243141', u'GACAATATTGCTCAACATTTTGGGGGGTAAAACTGTACGTTATATGTGCCCTTCTGTGATATTCATAAGCGTATAGCTTTTCCCCTTAAAAGTTAGAGCTATTGCAA', u'', u'24-46', u'66-87', 1)\n"
       ]
      },
      {
       "output_type": "stream",
       "stream": "stderr",
       "text": [
        "DEBUG:django.db.backends:(0.000) SELECT (1) AS `a` FROM `loq_interval` WHERE `loq_interval`.`id` = 2  LIMIT 1; args=(2,)\n"
       ]
      },
      {
       "output_type": "stream",
       "stream": "stderr",
       "text": [
        "DEBUG:django.db.backends:(0.000) UPDATE `loq_interval` SET `chr` = 'chr2L', `start` = 857541, `stop` = 857632, `mirName` = 'dme-mir-375', `NeatName` = 'chr2L:857542-857632', `IntervalSize` = 91, `IntervalSerialNumber` = 2, `Structure` = '.(((((((.((((.((((((((((((.((..(((((((..............))))))))).)))))))))))).)))).).))))))...', `Annotations` = '', `Tags` = '', `sum_read_counts` = 120, `sum_normReads` = 11.2719, `mapped_strand` = '+', `mid_point` = 857585, `Link` = 'http://genome.ucsc.edu/cgi-bin/hgTracks?db=dm3&position=chr2L:857542-857632', `hairpin_seq` = 'CCGGGCAGCGAATTACTTGGGCCAAGGGAATGCAAACTGTGATCATCCCGAAAGTTTGTTCGTTTGGCTTAAGTTATTTTCATGTCCGACT', `mature_seq` = '', `five_p` = '15-38', `three_p` = '55-76' WHERE `loq_interval`.`id` = 2 ; args=(u'chr2L', 857541, 857632, u'dme-mir-375', u'chr2L:857542-857632', 91, 2, u'.(((((((.((((.((((((((((((.((..(((((((..............))))))))).)))))))))))).)))).).))))))...', u'', u'', 120, 11.2719, u'+', 857585, 'http://genome.ucsc.edu/cgi-bin/hgTracks?db=dm3&position=chr2L:857542-857632', u'CCGGGCAGCGAATTACTTGGGCCAAGGGAATGCAAACTGTGATCATCCCGAAAGTTTGTTCGTTTGGCTTAAGTTATTTTCATGTCCGACT', u'', u'15-38', u'55-76', 2)\n"
       ]
      },
      {
       "output_type": "stream",
       "stream": "stderr",
       "text": [
        "DEBUG:django.db.backends:(0.000) SELECT (1) AS `a` FROM `loq_interval` WHERE `loq_interval`.`id` = 3  LIMIT 1; args=(3,)\n"
       ]
      },
      {
       "output_type": "stream",
       "stream": "stderr",
       "text": [
        "DEBUG:django.db.backends:(0.000) UPDATE `loq_interval` SET `chr` = 'chr2L', `start` = 1831684, `stop` = 1831799, `mirName` = 'dme-mir-2280', `NeatName` = 'chr2L:1831685-1831799', `IntervalSize` = 115, `IntervalSerialNumber` = 3, `Structure` = '((((......(((..((((((((((.(((..(((((((((...((((.((((((((...)))..))))).))))...)))))))))..))).))))))))))..)))...)))).', `Annotations` = '', `Tags` = '', `sum_read_counts` = 282, `sum_normReads` = 31.1471, `mapped_strand` = '-', `mid_point` = 1831742, `Link` = 'http://genome.ucsc.edu/cgi-bin/hgTracks?db=dm3&position=chr2L:1831685-1831799', `hairpin_seq` = 'TCGTTTAAGATGCTGTGAATATCCCGTTTTCTTAGCTTGGCAATAAAATATTATTCACAGAAACTAGTAATTTACTTCCAAGCTAACTGAAGGGGATATTCAGTGCAACCACGGA', `mature_seq` = '', `five_p` = '30-51', `three_p` = '69-90' WHERE `loq_interval`.`id` = 3 ; args=(u'chr2L', 1831684, 1831799, u'dme-mir-2280', u'chr2L:1831685-1831799', 115, 3, u'((((......(((..((((((((((.(((..(((((((((...((((.((((((((...)))..))))).))))...)))))))))..))).))))))))))..)))...)))).', u'', u'', 282, 31.1471, u'-', 1831742, 'http://genome.ucsc.edu/cgi-bin/hgTracks?db=dm3&position=chr2L:1831685-1831799', u'TCGTTTAAGATGCTGTGAATATCCCGTTTTCTTAGCTTGGCAATAAAATATTATTCACAGAAACTAGTAATTTACTTCCAAGCTAACTGAAGGGGATATTCAGTGCAACCACGGA', u'', u'30-51', u'69-90', 3)\n"
       ]
      },
      {
       "output_type": "stream",
       "stream": "stderr",
       "text": [
        "DEBUG:django.db.backends:(0.000) SELECT (1) AS `a` FROM `loq_interval` WHERE `loq_interval`.`id` = 4  LIMIT 1; args=(4,)\n"
       ]
      },
      {
       "output_type": "stream",
       "stream": "stderr",
       "text": [
        "DEBUG:django.db.backends:(0.000) UPDATE `loq_interval` SET `chr` = 'chr2L', `start` = 2737567, `stop` = 2737661, `mirName` = 'dme-mir-4914', `NeatName` = 'chr2L:2737568-2737661', `IntervalSize` = 94, `IntervalSerialNumber` = 4, `Structure` = '(((.((((...((((.((.(((((((((.(((((..((....)).)))))...)))...........))))))..)).))))..)))).)))..', `Annotations` = '', `Tags` = '', `sum_read_counts` = 2, `sum_normReads` = 0.2718, `mapped_strand` = '+', `mid_point` = 2737606, `Link` = 'http://genome.ucsc.edu/cgi-bin/hgTracks?db=dm3&position=chr2L:2737568-2737661', `hairpin_seq` = 'GTGAGTGAGAGCGAGTTCCAATGTGGTCCTCGAAACCAGTTGTGCTTCGATCAGATTCCAAAATTGACACATTCCGACCTTGAATCACCCACAG', `mature_seq` = '', `five_p` = '', `three_p` = '' WHERE `loq_interval`.`id` = 4 ; args=(u'chr2L', 2737567, 2737661, u'dme-mir-4914', u'chr2L:2737568-2737661', 94, 4, u'(((.((((...((((.((.(((((((((.(((((..((....)).)))))...)))...........))))))..)).))))..)))).)))..', u'', u'', 2, 0.2718, u'+', 2737606, 'http://genome.ucsc.edu/cgi-bin/hgTracks?db=dm3&position=chr2L:2737568-2737661', u'GTGAGTGAGAGCGAGTTCCAATGTGGTCCTCGAAACCAGTTGTGCTTCGATCAGATTCCAAAATTGACACATTCCGACCTTGAATCACCCACAG', u'', u'', u'', 4)\n"
       ]
      },
      {
       "output_type": "stream",
       "stream": "stderr",
       "text": [
        "DEBUG:django.db.backends:(0.000) SELECT (1) AS `a` FROM `loq_interval` WHERE `loq_interval`.`id` = 5  LIMIT 1; args=(5,)\n"
       ]
      },
      {
       "output_type": "stream",
       "stream": "stderr",
       "text": [
        "DEBUG:django.db.backends:(0.000) UPDATE `loq_interval` SET `chr` = 'chr2L', `start` = 3463289, `stop` = 3463400, `mirName` = 'dme-mir-4971', `NeatName` = 'chr2L:3463290-3463400', `IntervalSize` = 111, `IntervalSerialNumber` = 5, `Structure` = '.....((((((.((((((((((.(((((((((((((.(((((((..(((....)))..)))).........))).))))))))))).)).)))))))))))))))).....', `Annotations` = '', `Tags` = '', `sum_read_counts` = 9, `sum_normReads` = 0.8355, `mapped_strand` = '-', `mid_point` = 3463350, `Link` = 'http://genome.ucsc.edu/cgi-bin/hgTracks?db=dm3&position=chr2L:3463290-3463400', `hairpin_seq` = 'TCGGCCCTCGACACGGTGGATGAGCTTGTCAGTGGCGGATCCAGGAGCAATTCTGCCGCTGGCGACAGATCATCGGCCACTGACAATGCCCATTCACTGTTCGAGGAGATC', `mature_seq` = '', `five_p` = '', `three_p` = '' WHERE `loq_interval`.`id` = 5 ; args=(u'chr2L', 3463289, 3463400, u'dme-mir-4971', u'chr2L:3463290-3463400', 111, 5, u'.....((((((.((((((((((.(((((((((((((.(((((((..(((....)))..)))).........))).))))))))))).)).)))))))))))))))).....', u'', u'', 9, 0.8355, u'-', 3463350, 'http://genome.ucsc.edu/cgi-bin/hgTracks?db=dm3&position=chr2L:3463290-3463400', u'TCGGCCCTCGACACGGTGGATGAGCTTGTCAGTGGCGGATCCAGGAGCAATTCTGCCGCTGGCGACAGATCATCGGCCACTGACAATGCCCATTCACTGTTCGAGGAGATC', u'', u'', u'', 5)\n"
       ]
      },
      {
       "output_type": "stream",
       "stream": "stderr",
       "text": [
        "DEBUG:django.db.backends:(0.000) SELECT (1) AS `a` FROM `loq_interval` WHERE `loq_interval`.`id` = 6  LIMIT 1; args=(6,)\n"
       ]
      },
      {
       "output_type": "stream",
       "stream": "stderr",
       "text": [
        "DEBUG:django.db.backends:(0.000) UPDATE `loq_interval` SET `chr` = 'chr2L', `start` = 3636966, `stop` = 3637073, `mirName` = 'dme-mir-4972', `NeatName` = 'chr2L:3636967-3637073', `IntervalSize` = 107, `IntervalSerialNumber` = 6, `Structure` = '.....((((.((((..((((...(((((((((((((((((((((((((.......)))))))))))))))...........))).))))))).)))))).)).))))', `Annotations` = '', `Tags` = '', `sum_read_counts` = NULL, `sum_normReads` = NULL, `mapped_strand` = '-', `mid_point` = 3637022, `Link` = 'http://genome.ucsc.edu/cgi-bin/hgTracks?db=dm3&position=chr2L:3636967-3637073', `hairpin_seq` = 'AATCAAAAGCGCCGTAGGCCTCCACCTCGGCTTTACAGATATATATATATATATCGTGTATATATCTGTGCGATCGGGATTGAGACTGAGGTTGGTCCGAGTACTTT', `mature_seq` = '', `five_p` = '25-46', `three_p` = '61-82' WHERE `loq_interval`.`id` = 6 ; args=(u'chr2L', 3636966, 3637073, u'dme-mir-4972', u'chr2L:3636967-3637073', 107, 6, u'.....((((.((((..((((...(((((((((((((((((((((((((.......)))))))))))))))...........))).))))))).)))))).)).))))', u'', u'', u'-', 3637022, 'http://genome.ucsc.edu/cgi-bin/hgTracks?db=dm3&position=chr2L:3636967-3637073', u'AATCAAAAGCGCCGTAGGCCTCCACCTCGGCTTTACAGATATATATATATATATCGTGTATATATCTGTGCGATCGGGATTGAGACTGAGGTTGGTCCGAGTACTTT', u'', u'25-46', u'61-82', 6)\n"
       ]
      },
      {
       "output_type": "stream",
       "stream": "stderr",
       "text": [
        "DEBUG:django.db.backends:(0.000) SELECT (1) AS `a` FROM `loq_interval` WHERE `loq_interval`.`id` = 7  LIMIT 1; args=(7,)\n"
       ]
      },
      {
       "output_type": "stream",
       "stream": "stderr",
       "text": [
        "DEBUG:django.db.backends:(0.000) UPDATE `loq_interval` SET `chr` = 'chr2L', `start` = 3767620, `stop` = 3767688, `mirName` = 'dme-mir-1004', `NeatName` = 'chr2L:3767621-3767688', `IntervalSize` = 68, `IntervalSerialNumber` = 7, `Structure` = '..(((((((...((((...(((((..(.((((.....)))))..)))))...))))..)))))))...', `Annotations` = '', `Tags` = '', `sum_read_counts` = 5, `sum_normReads` = 0.3928, `mapped_strand` = '+', `mid_point` = 3767654, `Link` = 'http://genome.ucsc.edu/cgi-bin/hgTracks?db=dm3&position=chr2L:3767621-3767688', `hairpin_seq` = 'GTTGGGGGACATTGATCTCGGAGACGGCGGTTTAACTGATCCATTCTCTCACATCACTTCCCTCACAG', `mature_seq` = '', `five_p` = '', `three_p` = '' WHERE `loq_interval`.`id` = 7 ; args=(u'chr2L', 3767620, 3767688, u'dme-mir-1004', u'chr2L:3767621-3767688', 68, 7, u'..(((((((...((((...(((((..(.((((.....)))))..)))))...))))..)))))))...', u'', u'', 5, 0.3928, u'+', 3767654, 'http://genome.ucsc.edu/cgi-bin/hgTracks?db=dm3&position=chr2L:3767621-3767688', u'GTTGGGGGACATTGATCTCGGAGACGGCGGTTTAACTGATCCATTCTCTCACATCACTTCCCTCACAG', u'', u'', u'', 7)\n"
       ]
      },
      {
       "output_type": "stream",
       "stream": "stderr",
       "text": [
        "DEBUG:django.db.backends:(0.000) SELECT (1) AS `a` FROM `loq_interval` WHERE `loq_interval`.`id` = 8  LIMIT 1; args=(8,)\n"
       ]
      },
      {
       "output_type": "stream",
       "stream": "stderr",
       "text": [
        "DEBUG:django.db.backends:(0.000) UPDATE `loq_interval` SET `chr` = 'chr2L', `start` = 4343695, `stop` = 4343756, `mirName` = 'dme-mir-1005', `NeatName` = 'chr2L:4343696-4343756', `IntervalSize` = 61, `IntervalSerialNumber` = 8, `Structure` = '(((((((((..((((((.((((((((.....)))....))))))))))).)))))))))..', `Annotations` = '', `Tags` = '', `sum_read_counts` = 153, `sum_normReads` = 14.2046, `mapped_strand` = '+', `mid_point` = 4343723, `Link` = 'http://genome.ucsc.edu/cgi-bin/hgTracks?db=dm3&position=chr2L:4343696-4343756', `hairpin_seq` = 'GTGAGTTGATCGATTTCGAGGTTTTGGCACACGAATATAATCTGGAATCTTTAATTCGCAG', `mature_seq` = '', `five_p` = '', `three_p` = '' WHERE `loq_interval`.`id` = 8 ; args=(u'chr2L', 4343695, 4343756, u'dme-mir-1005', u'chr2L:4343696-4343756', 61, 8, u'(((((((((..((((((.((((((((.....)))....))))))))))).)))))))))..', u'', u'', 153, 14.2046, u'+', 4343723, 'http://genome.ucsc.edu/cgi-bin/hgTracks?db=dm3&position=chr2L:4343696-4343756', u'GTGAGTTGATCGATTTCGAGGTTTTGGCACACGAATATAATCTGGAATCTTTAATTCGCAG', u'', u'', u'', 8)\n"
       ]
      },
      {
       "output_type": "stream",
       "stream": "stderr",
       "text": [
        "DEBUG:django.db.backends:(0.000) SELECT (1) AS `a` FROM `loq_interval` WHERE `loq_interval`.`id` = 9  LIMIT 1; args=(9,)\n"
       ]
      },
      {
       "output_type": "stream",
       "stream": "stderr",
       "text": [
        "DEBUG:django.db.backends:(0.000) UPDATE `loq_interval` SET `chr` = 'chr2L', `start` = 4817815, `stop` = 4817881, `mirName` = 'dme-mir-4910', `NeatName` = 'chr2L:4817816-4817881', `IntervalSize` = 66, `IntervalSerialNumber` = 9, `Structure` = '....((((((((..(((((((.((..((((...))))..))))).))))..)))))))).......', `Annotations` = '', `Tags` = '', `sum_read_counts` = 7, `sum_normReads` = 0.9004, `mapped_strand` = '-', `mid_point` = 4817850, `Link` = 'http://genome.ucsc.edu/cgi-bin/hgTracks?db=dm3&position=chr2L:4817816-4817881', `hairpin_seq` = 'GTTTGTATGGAATTCCATGAGCTTCAAAGTAATGCTTCTAACTCTGTGGTTTTTCATATTTCCCAG', `mature_seq` = '', `five_p` = '', `three_p` = '' WHERE `loq_interval`.`id` = 9 ; args=(u'chr2L', 4817815, 4817881, u'dme-mir-4910', u'chr2L:4817816-4817881', 66, 9, u'....((((((((..(((((((.((..((((...))))..))))).))))..)))))))).......', u'', u'', 7, 0.9004, u'-', 4817850, 'http://genome.ucsc.edu/cgi-bin/hgTracks?db=dm3&position=chr2L:4817816-4817881', u'GTTTGTATGGAATTCCATGAGCTTCAAAGTAATGCTTCTAACTCTGTGGTTTTTCATATTTCCCAG', u'', u'', u'', 9)\n"
       ]
      },
      {
       "output_type": "stream",
       "stream": "stderr",
       "text": [
        "DEBUG:django.db.backends:(0.000) SELECT (1) AS `a` FROM `loq_interval` WHERE `loq_interval`.`id` = 10  LIMIT 1; args=(10,)\n"
       ]
      },
      {
       "output_type": "stream",
       "stream": "stderr",
       "text": [
        "DEBUG:django.db.backends:(0.000) UPDATE `loq_interval` SET `chr` = 'chr2L', `start` = 4829979, `stop` = 4830039, `mirName` = 'dme-mir-4912', `NeatName` = 'chr2L:4829980-4830039', `IntervalSize` = 60, `IntervalSerialNumber` = 10, `Structure` = '..(((((((.((((((((((..(((.......)))))))))..))).).)))))))....', `Annotations` = '', `Tags` = '', `sum_read_counts` = 6, `sum_normReads` = 0.4542, `mapped_strand` = '-', `mid_point` = 4830011, `Link` = 'http://genome.ucsc.edu/cgi-bin/hgTracks?db=dm3&position=chr2L:4829980-4830039', `hairpin_seq` = 'GTGAGTAGTCGTATGTTTATTAAGATTTACTTTCTATAAATTAATGTCCACTACTTTTAG', `mature_seq` = '', `five_p` = '', `three_p` = '' WHERE `loq_interval`.`id` = 10 ; args=(u'chr2L', 4829979, 4830039, u'dme-mir-4912', u'chr2L:4829980-4830039', 60, 10, u'..(((((((.((((((((((..(((.......)))))))))..))).).)))))))....', u'', u'', 6, 0.4542, u'-', 4830011, 'http://genome.ucsc.edu/cgi-bin/hgTracks?db=dm3&position=chr2L:4829980-4830039', u'GTGAGTAGTCGTATGTTTATTAAGATTTACTTTCTATAAATTAATGTCCACTACTTTTAG', u'', u'', u'', 10)\n"
       ]
      },
      {
       "output_type": "stream",
       "stream": "stderr",
       "text": [
        "DEBUG:django.db.backends:(0.000) SELECT (1) AS `a` FROM `loq_interval` WHERE `loq_interval`.`id` = 11  LIMIT 1; args=(11,)\n"
       ]
      },
      {
       "output_type": "stream",
       "stream": "stderr",
       "text": [
        "DEBUG:django.db.backends:(0.000) UPDATE `loq_interval` SET `chr` = 'chr2L', `start` = 5068569, `stop` = 5068684, `mirName` = 'dme-mir-2495', `NeatName` = 'chr2L:5068570-5068684', `IntervalSize` = 115, `IntervalSerialNumber` = 11, `Structure` = '(((.(((((..((((((((((.((((.((((.(((((((((((((.((((.((.....)).)))))))).)).))))))).)))))))).).))).)).))))...)))))))).', `Annotations` = '', `Tags` = '', `sum_read_counts` = 1, `sum_normReads` = 0.0428, `mapped_strand` = '+', `mid_point` = 5068624, `Link` = 'http://genome.ucsc.edu/cgi-bin/hgTracks?db=dm3&position=chr2L:5068570-5068684', `hairpin_seq` = 'TGTATGATCACATTGGCTTGTGGGCGTGGCACTTCAATTGGGCTGACTTTGCCTGGCTGGAAAAGCGGCACCTAATTGAAATGCCCGCCGATCAGTGCTCGATTACGATCGACAC', `mature_seq` = '', `five_p` = '27-48', `three_p` = '66-89' WHERE `loq_interval`.`id` = 11 ; args=(u'chr2L', 5068569, 5068684, u'dme-mir-2495', u'chr2L:5068570-5068684', 115, 11, u'(((.(((((..((((((((((.((((.((((.(((((((((((((.((((.((.....)).)))))))).)).))))))).)))))))).).))).)).))))...)))))))).', u'', u'', 1, 0.0428, u'+', 5068624, 'http://genome.ucsc.edu/cgi-bin/hgTracks?db=dm3&position=chr2L:5068570-5068684', u'TGTATGATCACATTGGCTTGTGGGCGTGGCACTTCAATTGGGCTGACTTTGCCTGGCTGGAAAAGCGGCACCTAATTGAAATGCCCGCCGATCAGTGCTCGATTACGATCGACAC', u'', u'27-48', u'66-89', 11)\n"
       ]
      },
      {
       "output_type": "stream",
       "stream": "stderr",
       "text": [
        "DEBUG:django.db.backends:(0.000) SELECT (1) AS `a` FROM `loq_interval` WHERE `loq_interval`.`id` = 12  LIMIT 1; args=(12,)\n"
       ]
      },
      {
       "output_type": "stream",
       "stream": "stderr",
       "text": [
        "DEBUG:django.db.backends:(0.000) UPDATE `loq_interval` SET `chr` = 'chr2L', `start` = 5640939, `stop` = 5641037, `mirName` = 'dme-mir-959', `NeatName` = 'chr2L:5640940-5641037', `IntervalSize` = 98, `IntervalSerialNumber` = 12, `Structure` = '....(((((..((((((((.((((((((....((((((((.((((......))))...))))))))....)))))))).).)))))))..)))))...', `Annotations` = '', `Tags` = '', `sum_read_counts` = 15, `sum_normReads` = 1.6197, `mapped_strand` = '+', `mid_point` = 5640986, `Link` = 'http://genome.ucsc.edu/cgi-bin/hgTracks?db=dm3&position=chr2L:5640940-5641037', `hairpin_seq` = 'TTAACTTTGTTCTATATTCTTAGTACTCGGGTTGATAAAGACCTTTTCTTCAGGGAGCCTTTGTCATCGGGGGTATTATGAAATATAGTTTAAAGAAA', `mature_seq` = '', `five_p` = '20-40', `three_p` = '61-82' WHERE `loq_interval`.`id` = 12 ; args=(u'chr2L', 5640939, 5641037, u'dme-mir-959', u'chr2L:5640940-5641037', 98, 12, u'....(((((..((((((((.((((((((....((((((((.((((......))))...))))))))....)))))))).).)))))))..)))))...', u'', u'', 15, 1.6197, u'+', 5640986, 'http://genome.ucsc.edu/cgi-bin/hgTracks?db=dm3&position=chr2L:5640940-5641037', u'TTAACTTTGTTCTATATTCTTAGTACTCGGGTTGATAAAGACCTTTTCTTCAGGGAGCCTTTGTCATCGGGGGTATTATGAAATATAGTTTAAAGAAA', u'', u'20-40', u'61-82', 12)\n"
       ]
      },
      {
       "output_type": "stream",
       "stream": "stderr",
       "text": [
        "DEBUG:django.db.backends:(0.000) SELECT (1) AS `a` FROM `loq_interval` WHERE `loq_interval`.`id` = 13  LIMIT 1; args=(13,)\n"
       ]
      },
      {
       "output_type": "stream",
       "stream": "stderr",
       "text": [
        "DEBUG:django.db.backends:(0.000) UPDATE `loq_interval` SET `chr` = 'chr2L', `start` = 5641062, `stop` = 5641155, `mirName` = 'dme-mir-960', `NeatName` = 'chr2L:5641063-5641155', `IntervalSize` = 93, `IntervalSerialNumber` = 13, `Structure` = '.(((((.((((((......((((.((((((((((.(((((..((......))..))))).)))))))))).))))......)))))).)))))', `Annotations` = '', `Tags` = '', `sum_read_counts` = 101, `sum_normReads` = 8.5696, `mapped_strand` = '+', `mid_point` = 5641108, `Link` = 'http://genome.ucsc.edu/cgi-bin/hgTracks?db=dm3&position=chr2L:5641063-5641155', `hairpin_seq` = 'GGGTTTTGTACCACATTCTGAGTATTCCAGATTGCATAGCTTTGTGCTACTATTGCTATACGGTCTGGGACACTTTTAACATGGTATCAAATC', `mature_seq` = '', `five_p` = '19-40', `three_p` = '57-78' WHERE `loq_interval`.`id` = 13 ; args=(u'chr2L', 5641062, 5641155, u'dme-mir-960', u'chr2L:5641063-5641155', 93, 13, u'.(((((.((((((......((((.((((((((((.(((((..((......))..))))).)))))))))).))))......)))))).)))))', u'', u'', 101, 8.5696, u'+', 5641108, 'http://genome.ucsc.edu/cgi-bin/hgTracks?db=dm3&position=chr2L:5641063-5641155', u'GGGTTTTGTACCACATTCTGAGTATTCCAGATTGCATAGCTTTGTGCTACTATTGCTATACGGTCTGGGACACTTTTAACATGGTATCAAATC', u'', u'19-40', u'57-78', 13)\n"
       ]
      },
      {
       "output_type": "stream",
       "stream": "stderr",
       "text": [
        "DEBUG:django.db.backends:(0.000) SELECT (1) AS `a` FROM `loq_interval` WHERE `loq_interval`.`id` = 14  LIMIT 1; args=(14,)\n"
       ]
      },
      {
       "output_type": "stream",
       "stream": "stderr",
       "text": [
        "DEBUG:django.db.backends:(0.000) UPDATE `loq_interval` SET `chr` = 'chr2L', `start` = 5641190, `stop` = 5641279, `mirName` = 'dme-mir-961', `NeatName` = 'chr2L:5641191-5641279', `IntervalSize` = 89, `IntervalSerialNumber` = 14, `Structure` = '....((((((((((.(.((((((..((((.(((.((((((((.......)))))))))))..))))..)))))).)))))))).)))..', `Annotations` = '', `Tags` = '', `sum_read_counts` = 9, `sum_normReads` = 0.7098, `mapped_strand` = '+', `mid_point` = 5641235, `Link` = 'http://genome.ucsc.edu/cgi-bin/hgTracks?db=dm3&position=chr2L:5641191-5641279', `hairpin_seq` = 'TCAAGGGCCGAGTTACCTTTGATCACCAGTAACTGAGATTGTTTCTGATACGGTTTCGTTTTCTGGCAATCAAAAGAACTTGGACTCGA', `mature_seq` = '', `five_p` = '18-39', `three_p` = '55-76' WHERE `loq_interval`.`id` = 14 ; args=(u'chr2L', 5641190, 5641279, u'dme-mir-961', u'chr2L:5641191-5641279', 89, 14, u'....((((((((((.(.((((((..((((.(((.((((((((.......)))))))))))..))))..)))))).)))))))).)))..', u'', u'', 9, 0.7098, u'+', 5641235, 'http://genome.ucsc.edu/cgi-bin/hgTracks?db=dm3&position=chr2L:5641191-5641279', u'TCAAGGGCCGAGTTACCTTTGATCACCAGTAACTGAGATTGTTTCTGATACGGTTTCGTTTTCTGGCAATCAAAAGAACTTGGACTCGA', u'', u'18-39', u'55-76', 14)\n"
       ]
      },
      {
       "output_type": "stream",
       "stream": "stderr",
       "text": [
        "DEBUG:django.db.backends:(0.000) SELECT (1) AS `a` FROM `loq_interval` WHERE `loq_interval`.`id` = 15  LIMIT 1; args=(15,)\n"
       ]
      },
      {
       "output_type": "stream",
       "stream": "stderr",
       "text": [
        "DEBUG:django.db.backends:(0.000) UPDATE `loq_interval` SET `chr` = 'chr2L', `start` = 5641297, `stop` = 5641389, `mirName` = 'dme-mir-962', `NeatName` = 'chr2L:5641298-5641389', `IntervalSize` = 92, `IntervalSerialNumber` = 15, `Structure` = '...((((((..((((....(((((((.((((((((.((((...........))).).)))))))).)))))))....))))..))))))...', `Annotations` = '', `Tags` = '', `sum_read_counts` = 14, `sum_normReads` = 1.2106, `mapped_strand` = '+', `mid_point` = 5641342, `Link` = 'http://genome.ucsc.edu/cgi-bin/hgTracks?db=dm3&position=chr2L:5641298-5641389', `hairpin_seq` = 'GATGGGGCACTCAGGCTATAAGGTAGAGAAATTGATGCTGTCTACACTATTCAGACTTCAGTTTCATTACCTTTCAATTTGTTTGCCCCCAT', `mature_seq` = '', `five_p` = '18-42', `three_p` = '55-76' WHERE `loq_interval`.`id` = 15 ; args=(u'chr2L', 5641297, 5641389, u'dme-mir-962', u'chr2L:5641298-5641389', 92, 15, u'...((((((..((((....(((((((.((((((((.((((...........))).).)))))))).)))))))....))))..))))))...', u'', u'', 14, 1.2106, u'+', 5641342, 'http://genome.ucsc.edu/cgi-bin/hgTracks?db=dm3&position=chr2L:5641298-5641389', u'GATGGGGCACTCAGGCTATAAGGTAGAGAAATTGATGCTGTCTACACTATTCAGACTTCAGTTTCATTACCTTTCAATTTGTTTGCCCCCAT', u'', u'18-42', u'55-76', 15)\n"
       ]
      },
      {
       "output_type": "stream",
       "stream": "stderr",
       "text": [
        "DEBUG:django.db.backends:(0.000) SELECT (1) AS `a` FROM `loq_interval` WHERE `loq_interval`.`id` = 16  LIMIT 1; args=(16,)\n"
       ]
      },
      {
       "output_type": "stream",
       "stream": "stderr",
       "text": [
        "DEBUG:django.db.backends:(0.000) UPDATE `loq_interval` SET `chr` = 'chr2L', `start` = 5641989, `stop` = 5642078, `mirName` = 'dme-mir-963', `NeatName` = 'chr2L:5641990-5642078', `IntervalSize` = 89, `IntervalSerialNumber` = 16, `Structure` = '...((((((((...(((((((((.(((.(((((.(((((............))))))))))))).)))).)))))..))))))))....', `Annotations` = '', `Tags` = '', `sum_read_counts` = 75, `sum_normReads` = 6.5734, `mapped_strand` = '+', `mid_point` = 5642033, `Link` = 'http://genome.ucsc.edu/cgi-bin/hgTracks?db=dm3&position=chr2L:5641990-5642078', `hairpin_seq` = 'TTAGTCTAATCTAAAACAAGGTAAATATCAGGTTGTTTCCTGTATTCGATCGAAACATCTGTATATACCTTTGTTCCGATTGGACAAAA', `mature_seq` = '', `five_p` = '16-39', `three_p` = '54-75' WHERE `loq_interval`.`id` = 16 ; args=(u'chr2L', 5641989, 5642078, u'dme-mir-963', u'chr2L:5641990-5642078', 89, 16, u'...((((((((...(((((((((.(((.(((((.(((((............))))))))))))).)))).)))))..))))))))....', u'', u'', 75, 6.5734, u'+', 5642033, 'http://genome.ucsc.edu/cgi-bin/hgTracks?db=dm3&position=chr2L:5641990-5642078', u'TTAGTCTAATCTAAAACAAGGTAAATATCAGGTTGTTTCCTGTATTCGATCGAAACATCTGTATATACCTTTGTTCCGATTGGACAAAA', u'', u'16-39', u'54-75', 16)\n"
       ]
      },
      {
       "output_type": "stream",
       "stream": "stderr",
       "text": [
        "DEBUG:django.db.backends:(0.000) SELECT (1) AS `a` FROM `loq_interval` WHERE `loq_interval`.`id` = 17  LIMIT 1; args=(17,)\n"
       ]
      },
      {
       "output_type": "stream",
       "stream": "stderr",
       "text": [
        "DEBUG:django.db.backends:(0.000) UPDATE `loq_interval` SET `chr` = 'chr2L', `start` = 5642101, `stop` = 5642201, `mirName` = 'dme-mir-964', `NeatName` = 'chr2L:5642102-5642201', `IntervalSize` = 100, `IntervalSerialNumber` = 17, `Structure` = '...........((((((((.(((.(((((((((((((...((((((((.............))))))))...))))))))))))).))).)))..)))))', `Annotations` = '', `Tags` = '', `sum_read_counts` = 340, `sum_normReads` = 28.955, `mapped_strand` = '+', `mid_point` = 5642155, `Link` = 'http://genome.ucsc.edu/cgi-bin/hgTracks?db=dm3&position=chr2L:5642102-5642201', `hairpin_seq` = 'CAATAACATATTGGTCCAACTTGCCTTAGAATAGGGGAGCTTAACTTATGTTTTTGATGTTTAAGTTAAAAGCCTCTGTTCTAAGACAATTTGATGATCA', `mature_seq` = '', `five_p` = '26-47', `three_p` = '64-85' WHERE `loq_interval`.`id` = 17 ; args=(u'chr2L', 5642101, 5642201, u'dme-mir-964', u'chr2L:5642102-5642201', 100, 17, u'...........((((((((.(((.(((((((((((((...((((((((.............))))))))...))))))))))))).))).)))..)))))', u'', u'', 340, 28.955, u'+', 5642155, 'http://genome.ucsc.edu/cgi-bin/hgTracks?db=dm3&position=chr2L:5642102-5642201', u'CAATAACATATTGGTCCAACTTGCCTTAGAATAGGGGAGCTTAACTTATGTTTTTGATGTTTAAGTTAAAAGCCTCTGTTCTAAGACAATTTGATGATCA', u'', u'26-47', u'64-85', 17)\n"
       ]
      },
      {
       "output_type": "stream",
       "stream": "stderr",
       "text": [
        "DEBUG:django.db.backends:(0.000) SELECT (1) AS `a` FROM `loq_interval` WHERE `loq_interval`.`id` = 18  LIMIT 1; args=(18,)\n"
       ]
      },
      {
       "output_type": "stream",
       "stream": "stderr",
       "text": [
        "DEBUG:django.db.backends:(0.000) UPDATE `loq_interval` SET `chr` = 'chr2L', `start` = 6045626, `stop` = 6045713, `mirName` = 'dme-mir-966', `NeatName` = 'chr2L:6045627-6045713', `IntervalSize` = 87, `IntervalSerialNumber` = 18, `Structure` = '..((((.(((((.((((.(((((((.(((((.(((((............)))))))))).))))))).))))))))))).)).....', `Annotations` = '', `Tags` = '', `sum_read_counts` = 149, `sum_normReads` = 15.6737, `mapped_strand` = '-', `mid_point` = 6045671, `Link` = 'http://genome.ucsc.edu/cgi-bin/hgTracks?db=dm3&position=chr2L:6045627-6045713', `hairpin_seq` = 'AACCTGATCCGCTGCTGTGGGTTGTGGGCTGTGTGGCTGTGGTATAGGTGCCGCCAGTTGATAACCCCCAGCGTGGGCACGGACCCA', `mature_seq` = '', `five_p` = '16-36', `three_p` = '51-72' WHERE `loq_interval`.`id` = 18 ; args=(u'chr2L', 6045626, 6045713, u'dme-mir-966', u'chr2L:6045627-6045713', 87, 18, u'..((((.(((((.((((.(((((((.(((((.(((((............)))))))))).))))))).))))))))))).)).....', u'', u'', 149, 15.6737, u'-', 6045671, 'http://genome.ucsc.edu/cgi-bin/hgTracks?db=dm3&position=chr2L:6045627-6045713', u'AACCTGATCCGCTGCTGTGGGTTGTGGGCTGTGTGGCTGTGGTATAGGTGCCGCCAGTTGATAACCCCCAGCGTGGGCACGGACCCA', u'', u'16-36', u'51-72', 18)\n"
       ]
      },
      {
       "output_type": "stream",
       "stream": "stderr",
       "text": [
        "DEBUG:django.db.backends:(0.000) SELECT (1) AS `a` FROM `loq_interval` WHERE `loq_interval`.`id` = 19  LIMIT 1; args=(19,)\n"
       ]
      },
      {
       "output_type": "stream",
       "stream": "stderr",
       "text": [
        "DEBUG:django.db.backends:(0.000) UPDATE `loq_interval` SET `chr` = 'chr2L', `start` = 6902061, `stop` = 6902152, `mirName` = 'dme-mir-932', `NeatName` = 'chr2L:6902062-6902152', `IntervalSize` = 91, `IntervalSerialNumber` = 19, `Structure` = '..((((((((((((.((((.((((((((((.((((((((.((......)).)))))))))))))))))).)))).)))))))).))))...', `Annotations` = '', `Tags` = '', `sum_read_counts` = 1848, `sum_normReads` = 174.2176, `mapped_strand` = '+', `mid_point` = 6902105, `Link` = 'http://genome.ucsc.edu/cgi-bin/hgTracks?db=dm3&position=chr2L:6902062-6902152', `hairpin_seq` = 'TTGGTTTTGAAGTTTTCAATTCCGTAGTGCATTGCAGTGTGTTTCATTATTTACTGCAAGCGCTGCGGATTTGGCAACTTTGACGACCTTC', `mature_seq` = '', `five_p` = '16-37', `three_p` = '55-76' WHERE `loq_interval`.`id` = 19 ; args=(u'chr2L', 6902061, 6902152, u'dme-mir-932', u'chr2L:6902062-6902152', 91, 19, u'..((((((((((((.((((.((((((((((.((((((((.((......)).)))))))))))))))))).)))).)))))))).))))...', u'', u'', 1848, 174.2176, u'+', 6902105, 'http://genome.ucsc.edu/cgi-bin/hgTracks?db=dm3&position=chr2L:6902062-6902152', u'TTGGTTTTGAAGTTTTCAATTCCGTAGTGCATTGCAGTGTGTTTCATTATTTACTGCAAGCGCTGCGGATTTGGCAACTTTGACGACCTTC', u'', u'16-37', u'55-76', 19)\n"
       ]
      },
      {
       "output_type": "stream",
       "stream": "stderr",
       "text": [
        "DEBUG:django.db.backends:(0.000) SELECT (1) AS `a` FROM `loq_interval` WHERE `loq_interval`.`id` = 20  LIMIT 1; args=(20,)\n"
       ]
      },
      {
       "output_type": "stream",
       "stream": "stderr",
       "text": [
        "DEBUG:django.db.backends:(0.000) UPDATE `loq_interval` SET `chr` = 'chr2L', `start` = 7425794, `stop` = 7425892, `mirName` = 'dme-mir-275', `NeatName` = 'chr2L:7425795-7425892', `IntervalSize` = 98, `IntervalSerialNumber` = 20, `Structure` = '......((((.(((((.(((((((((.((((..(((..(((((..(......)..))))).)))..))))..))))))))).))))).))))......', `Annotations` = '', `Tags` = '', `sum_read_counts` = 369169, `sum_normReads` = 35516.2339, `mapped_strand` = '+', `mid_point` = 7425842, `Link` = 'http://genome.ucsc.edu/cgi-bin/hgTracks?db=dm3&position=chr2L:7425795-7425892', `hairpin_seq` = 'TGTAAAGTCTCCTACCTTGCGCGCTAATCAGTGACCGGGGCTGGTTTTTTATATACAGTCAGGTACCTGAAGTAGCGCGCGTGGTGGCAGACATATAT', `mature_seq` = '', `five_p` = '20-42', `three_p` = '59-81' WHERE `loq_interval`.`id` = 20 ; args=(u'chr2L', 7425794, 7425892, u'dme-mir-275', u'chr2L:7425795-7425892', 98, 20, u'......((((.(((((.(((((((((.((((..(((..(((((..(......)..))))).)))..))))..))))))))).))))).))))......', u'', u'', 369169, 35516.2339, u'+', 7425842, 'http://genome.ucsc.edu/cgi-bin/hgTracks?db=dm3&position=chr2L:7425795-7425892', u'TGTAAAGTCTCCTACCTTGCGCGCTAATCAGTGACCGGGGCTGGTTTTTTATATACAGTCAGGTACCTGAAGTAGCGCGCGTGGTGGCAGACATATAT', u'', u'20-42', u'59-81', 20)\n"
       ]
      },
      {
       "output_type": "stream",
       "stream": "stderr",
       "text": [
        "DEBUG:django.db.backends:(0.000) SELECT (1) AS `a` FROM `loq_interval` WHERE `loq_interval`.`id` = 21  LIMIT 1; args=(21,)\n"
       ]
      },
      {
       "output_type": "stream",
       "stream": "stderr",
       "text": [
        "DEBUG:django.db.backends:(0.000) UPDATE `loq_interval` SET `chr` = 'chr2L', `start` = 7425971, `stop` = 7426044, `mirName` = 'dme-mir-305', `NeatName` = 'chr2L:7425972-7426044', `IntervalSize` = 73, `IntervalSerialNumber` = 21, `Structure` = '(((((....(((((((((.((.(((((..((.((........))))))))).)).)))))))))....)))))', `Annotations` = 'loq', `Tags` = 'lit: reduced abundance in loqs mutants?', `sum_read_counts` = 343310, `sum_normReads` = 34763.9971, `mapped_strand` = '+', `mid_point` = 7426008, `Link` = 'http://genome.ucsc.edu/cgi-bin/hgTracks?db=dm3&position=chr2L:7425972-7426044', `hairpin_seq` = 'CATGTCTATTGTACTTCATCAGGTGCTCTGGTGTGTCTCGTAACCCGGCACATGTTGAAGTACACTCAATATG', `mature_seq` = '', `five_p` = '8-30', `three_p` = '46-68' WHERE `loq_interval`.`id` = 21 ; args=(u'chr2L', 7425971, 7426044, u'dme-mir-305', u'chr2L:7425972-7426044', 73, 21, u'(((((....(((((((((.((.(((((..((.((........))))))))).)).)))))))))....)))))', u'loq', u'lit: reduced abundance in loqs mutants?', 343310, 34763.9971, u'+', 7426008, 'http://genome.ucsc.edu/cgi-bin/hgTracks?db=dm3&position=chr2L:7425972-7426044', u'CATGTCTATTGTACTTCATCAGGTGCTCTGGTGTGTCTCGTAACCCGGCACATGTTGAAGTACACTCAATATG', u'', u'8-30', u'46-68', 21)\n"
       ]
      },
      {
       "output_type": "stream",
       "stream": "stderr",
       "text": [
        "DEBUG:django.db.backends:(0.000) SELECT (1) AS `a` FROM `loq_interval` WHERE `loq_interval`.`id` = 22  LIMIT 1; args=(22,)\n"
       ]
      },
      {
       "output_type": "stream",
       "stream": "stderr",
       "text": [
        "DEBUG:django.db.backends:(0.000) UPDATE `loq_interval` SET `chr` = 'chr2L', `start` = 8141539, `stop` = 8141662, `mirName` = 'dme-mir-4984', `NeatName` = 'chr2L:8141540-8141662', `IntervalSize` = 123, `IntervalSerialNumber` = 22, `Structure` = '...(((..((.(((((((.....(((((((((((((((((.(..(((.....((((.((........)).))))..)))..).))))))))))))))))).......)))).))).))..)))', `Annotations` = '', `Tags` = '', `sum_read_counts` = 6, `sum_normReads` = 0.8754, `mapped_strand` = '-', `mid_point` = 8141600, `Link` = 'http://genome.ucsc.edu/cgi-bin/hgTracks?db=dm3&position=chr2L:8141540-8141662', `hairpin_seq` = 'CTTCGCTCGAGGTGTGAAAACCTTTTGGCCAGCGAATACGCCTCGGATCCAATCACGTTTCAAGATCGAGGTGAATTCTTTGACGTATTCGCTGGCCAAATGACACGTTCGCCATGTTTTGCG', `mature_seq` = '', `five_p` = '31-55', `three_p` = '74-95' WHERE `loq_interval`.`id` = 22 ; args=(u'chr2L', 8141539, 8141662, u'dme-mir-4984', u'chr2L:8141540-8141662', 123, 22, u'...(((..((.(((((((.....(((((((((((((((((.(..(((.....((((.((........)).))))..)))..).))))))))))))))))).......)))).))).))..)))', u'', u'', 6, 0.8754, u'-', 8141600, 'http://genome.ucsc.edu/cgi-bin/hgTracks?db=dm3&position=chr2L:8141540-8141662', u'CTTCGCTCGAGGTGTGAAAACCTTTTGGCCAGCGAATACGCCTCGGATCCAATCACGTTTCAAGATCGAGGTGAATTCTTTGACGTATTCGCTGGCCAAATGACACGTTCGCCATGTTTTGCG', u'', u'31-55', u'74-95', 22)\n"
       ]
      },
      {
       "output_type": "stream",
       "stream": "stderr",
       "text": [
        "DEBUG:django.db.backends:(0.000) SELECT (1) AS `a` FROM `loq_interval` WHERE `loq_interval`.`id` = 23  LIMIT 1; args=(23,)\n"
       ]
      },
      {
       "output_type": "stream",
       "stream": "stderr",
       "text": [
        "DEBUG:django.db.backends:(0.000) UPDATE `loq_interval` SET `chr` = 'chr2L', `start` = 8258615, `stop` = 8258692, `mirName` = 'dme-mir-2b-1', `NeatName` = 'chr2L:8258616-8258692', `IntervalSize` = 77, `IntervalSerialNumber` = 23, `Structure` = '...((((..(((((((((((((.((((.((((((....)))))).....)))).)))).)))))))))..))))...', `Annotations` = '', `Tags` = '', `sum_read_counts` = 1503408, `sum_normReads` = 70748.9382999999, `mapped_strand` = '-', `mid_point` = 8258657, `Link` = 'http://genome.ucsc.edu/cgi-bin/hgTracks?db=dm3&position=chr2L:8258616-8258692', `hairpin_seq` = 'CTTCAACTGTCTTCAAAGTGGCAGTGACATGTTGTCAACAATATTCATATCACAGCCAGCTTTGAGGAGCGTTGCGG', `mature_seq` = '', `five_p` = '', `three_p` = '' WHERE `loq_interval`.`id` = 23 ; args=(u'chr2L', 8258615, 8258692, u'dme-mir-2b-1', u'chr2L:8258616-8258692', 77, 23, u'...((((..(((((((((((((.((((.((((((....)))))).....)))).)))).)))))))))..))))...', u'', u'', 1503408, 70748.9382999999, u'-', 8258657, 'http://genome.ucsc.edu/cgi-bin/hgTracks?db=dm3&position=chr2L:8258616-8258692', u'CTTCAACTGTCTTCAAAGTGGCAGTGACATGTTGTCAACAATATTCATATCACAGCCAGCTTTGAGGAGCGTTGCGG', u'', u'', u'', 23)\n"
       ]
      },
      {
       "output_type": "stream",
       "stream": "stderr",
       "text": [
        "DEBUG:django.db.backends:(0.000) SELECT (1) AS `a` FROM `loq_interval` WHERE `loq_interval`.`id` = 24  LIMIT 1; args=(24,)\n"
       ]
      },
      {
       "output_type": "stream",
       "stream": "stderr",
       "text": [
        "DEBUG:django.db.backends:(0.000) UPDATE `loq_interval` SET `chr` = 'chr2L', `start` = 9950417, `stop` = 9950516, `mirName` = 'dme-mir-87', `NeatName` = 'chr2L:9950418-9950516', `IntervalSize` = 99, `IntervalSerialNumber` = 24, `Structure` = '((((((((((.(.((((((((.((.(((((.(((((..((((...))))........))))).))))).))..)))))))).).)))))))))).....', `Annotations` = 'loq', `Tags` = '', `sum_read_counts` = 19, `sum_normReads` = 1.5254, `mapped_strand` = '-', `mid_point` = 9950473, `Link` = 'http://genome.ucsc.edu/cgi-bin/hgTracks?db=dm3&position=chr2L:9950418-9950516', `hairpin_seq` = 'AACACATTTCATTCGCGCCTGTATCTTGCTGAACCGCTGCCATTATGGCCAACGATCCGGTTGAGCAAAATTTCAGGTGTGTGAGAAATGTGTTTAGCA', `mature_seq` = '', `five_p` = '13-34', `three_p` = '61-81' WHERE `loq_interval`.`id` = 24 ; args=(u'chr2L', 9950417, 9950516, u'dme-mir-87', u'chr2L:9950418-9950516', 99, 24, u'((((((((((.(.((((((((.((.(((((.(((((..((((...))))........))))).))))).))..)))))))).).)))))))))).....', u'loq', u'', 19, 1.5254, u'-', 9950473, 'http://genome.ucsc.edu/cgi-bin/hgTracks?db=dm3&position=chr2L:9950418-9950516', u'AACACATTTCATTCGCGCCTGTATCTTGCTGAACCGCTGCCATTATGGCCAACGATCCGGTTGAGCAAAATTTCAGGTGTGTGAGAAATGTGTTTAGCA', u'', u'13-34', u'61-81', 24)\n"
       ]
      },
      {
       "output_type": "stream",
       "stream": "stderr",
       "text": [
        "DEBUG:django.db.backends:(0.000) SELECT (1) AS `a` FROM `loq_interval` WHERE `loq_interval`.`id` = 25  LIMIT 1; args=(25,)\n"
       ]
      },
      {
       "output_type": "stream",
       "stream": "stderr",
       "text": [
        "DEBUG:django.db.backends:(0.000) UPDATE `loq_interval` SET `chr` = 'chr2L', `start` = 10741884, `stop` = 10741987, `mirName` = 'dme-mir-4970', `NeatName` = 'chr2L:10741885-10741987', `IntervalSize` = 103, `IntervalSerialNumber` = 25, `Structure` = '.....((.(((.((..((((.(((((((((.(((.(((.((((..................)))).))).))).))))))))).))))..)).))).))....', `Annotations` = '', `Tags` = '', `sum_read_counts` = 6, `sum_normReads` = 0.5443, `mapped_strand` = '+', `mid_point` = 10741935, `Link` = 'http://genome.ucsc.edu/cgi-bin/hgTracks?db=dm3&position=chr2L:10741885-10741987', `hairpin_seq` = 'CCAAAGGTGGGCGACAAGGGCTGGGAGCAGCAGTTGCTGGCGGTATTCTGAAGCTGCTCTTCCGTGGGTTGCTCTTGCTCCTGACCCTCCTCTTCCTCCGCTT', `mature_seq` = '', `five_p` = '', `three_p` = '' WHERE `loq_interval`.`id` = 25 ; args=(u'chr2L', 10741884, 10741987, u'dme-mir-4970', u'chr2L:10741885-10741987', 103, 25, u'.....((.(((.((..((((.(((((((((.(((.(((.((((..................)))).))).))).))))))))).))))..)).))).))....', u'', u'', 6, 0.5443, u'+', 10741935, 'http://genome.ucsc.edu/cgi-bin/hgTracks?db=dm3&position=chr2L:10741885-10741987', u'CCAAAGGTGGGCGACAAGGGCTGGGAGCAGCAGTTGCTGGCGGTATTCTGAAGCTGCTCTTCCGTGGGTTGCTCTTGCTCCTGACCCTCCTCTTCCTCCGCTT', u'', u'', u'', 25)\n"
       ]
      },
      {
       "output_type": "stream",
       "stream": "stderr",
       "text": [
        "DEBUG:django.db.backends:(0.000) SELECT (1) AS `a` FROM `loq_interval` WHERE `loq_interval`.`id` = 26  LIMIT 1; args=(26,)\n"
       ]
      },
      {
       "output_type": "stream",
       "stream": "stderr",
       "text": [
        "DEBUG:django.db.backends:(0.000) UPDATE `loq_interval` SET `chr` = 'chr2L', `start` = 10840344, `stop` = 10840476, `mirName` = 'dme-mir-4987', `NeatName` = 'chr2L:10840345-10840476', `IntervalSize` = 132, `IntervalSerialNumber` = 26, `Structure` = '((((((.(((((.((....))))))).((((((((..(((.(((((.(((((......((.((((....)))).)).....)))))))))))))..)))))))).))))))((((((.......))))))..', `Annotations` = '', `Tags` = '', `sum_read_counts` = 2, `sum_normReads` = 0.2564, `mapped_strand` = '-', `mid_point` = 10840410, `Link` = 'http://genome.ucsc.edu/cgi-bin/hgTracks?db=dm3&position=chr2L:10840345-10840476', `hairpin_seq` = 'GCGGTGCCGTTGATGATGACACAGCGCGCTTGCAACAGCGTGCGGCACGATTCTCACAGCAGGGCTCCAGCTCGGCCAAAAAATCGGTCGTCGCCATTGCAAGCTCACCGTTTGGTCTCACCACGGCCAAGA', `mature_seq` = '', `five_p` = '30-52', `three_p` = '84-104' WHERE `loq_interval`.`id` = 26 ; args=(u'chr2L', 10840344, 10840476, u'dme-mir-4987', u'chr2L:10840345-10840476', 132, 26, u'((((((.(((((.((....))))))).((((((((..(((.(((((.(((((......((.((((....)))).)).....)))))))))))))..)))))))).))))))((((((.......))))))..', u'', u'', 2, 0.2564, u'-', 10840410, 'http://genome.ucsc.edu/cgi-bin/hgTracks?db=dm3&position=chr2L:10840345-10840476', u'GCGGTGCCGTTGATGATGACACAGCGCGCTTGCAACAGCGTGCGGCACGATTCTCACAGCAGGGCTCCAGCTCGGCCAAAAAATCGGTCGTCGCCATTGCAAGCTCACCGTTTGGTCTCACCACGGCCAAGA', u'', u'30-52', u'84-104', 26)\n"
       ]
      },
      {
       "output_type": "stream",
       "stream": "stderr",
       "text": [
        "DEBUG:django.db.backends:(0.000) SELECT (1) AS `a` FROM `loq_interval` WHERE `loq_interval`.`id` = 27  LIMIT 1; args=(27,)\n"
       ]
      },
      {
       "output_type": "stream",
       "stream": "stderr",
       "text": [
        "DEBUG:django.db.backends:(0.000) UPDATE `loq_interval` SET `chr` = 'chr2L', `start` = 11953409, `stop` = 11953503, `mirName` = 'dme-mir-263a', `NeatName` = 'chr2L:11953410-11953503', `IntervalSize` = 94, `IntervalSerialNumber` = 27, `Structure` = '....(((((.(((.((..(((.((((((.(((..(((((((...............)))))))))).)))))).)))..)).))))))))....', `Annotations` = '', `Tags` = '', `sum_read_counts` = 10440, `sum_normReads` = 987.1074, `mapped_strand` = '-', `mid_point` = 11953455, `Link` = 'http://genome.ucsc.edu/cgi-bin/hgTracks?db=dm3&position=chr2L:11953410-11953503', `hairpin_seq` = 'TAGATCTCGGCACAGTTAATGGCACTGGAAGAATTCACGGGGTAATTTTTATACAACCCGTGATCTCTTAGTGGCATCTATGGTGCGAGAATAA', `mature_seq` = '', `five_p` = '18-41', `three_p` = '59-80' WHERE `loq_interval`.`id` = 27 ; args=(u'chr2L', 11953409, 11953503, u'dme-mir-263a', u'chr2L:11953410-11953503', 94, 27, u'....(((((.(((.((..(((.((((((.(((..(((((((...............)))))))))).)))))).)))..)).))))))))....', u'', u'', 10440, 987.1074, u'-', 11953455, 'http://genome.ucsc.edu/cgi-bin/hgTracks?db=dm3&position=chr2L:11953410-11953503', u'TAGATCTCGGCACAGTTAATGGCACTGGAAGAATTCACGGGGTAATTTTTATACAACCCGTGATCTCTTAGTGGCATCTATGGTGCGAGAATAA', u'', u'18-41', u'59-80', 27)\n"
       ]
      },
      {
       "output_type": "stream",
       "stream": "stderr",
       "text": [
        "DEBUG:django.db.backends:(0.000) SELECT (1) AS `a` FROM `loq_interval` WHERE `loq_interval`.`id` = 28  LIMIT 1; args=(28,)\n"
       ]
      },
      {
       "output_type": "stream",
       "stream": "stderr",
       "text": [
        "DEBUG:django.db.backends:(0.000) UPDATE `loq_interval` SET `chr` = 'chr2L', `start` = 12460003, `stop` = 12460100, `mirName` = 'dme-mir-967', `NeatName` = 'chr2L:12460004-12460100', `IntervalSize` = 97, `IntervalSerialNumber` = 28, `Structure` = '...((((((.((((((((((.((((((((((.((..((((.......))))........)).))))))))))...))))))))))))))))......', `Annotations` = '', `Tags` = '', `sum_read_counts` = 141, `sum_normReads` = 13.2504, `mapped_strand` = '-', `mid_point` = 12460057, `Link` = 'http://genome.ucsc.edu/cgi-bin/hgTracks?db=dm3&position=chr2L:12460004-12460100', `hairpin_seq` = 'CTTGGAGAGCAGAGATACCTCTGGAGAAGCGCGTGACCTGACCCCAGCAGGAGAACCCAACCCGCTTTTCCACCTAGGTGTCTCTCTCTCTCTTTAT', `mature_seq` = '', `five_p` = '11-31', `three_p` = '65-87' WHERE `loq_interval`.`id` = 28 ; args=(u'chr2L', 12460003, 12460100, u'dme-mir-967', u'chr2L:12460004-12460100', 97, 28, u'...((((((.((((((((((.((((((((((.((..((((.......))))........)).))))))))))...))))))))))))))))......', u'', u'', 141, 13.2504, u'-', 12460057, 'http://genome.ucsc.edu/cgi-bin/hgTracks?db=dm3&position=chr2L:12460004-12460100', u'CTTGGAGAGCAGAGATACCTCTGGAGAAGCGCGTGACCTGACCCCAGCAGGAGAACCCAACCCGCTTTTCCACCTAGGTGTCTCTCTCTCTCTTTAT', u'', u'11-31', u'65-87', 28)\n"
       ]
      },
      {
       "output_type": "stream",
       "stream": "stderr",
       "text": [
        "DEBUG:django.db.backends:(0.000) SELECT (1) AS `a` FROM `loq_interval` WHERE `loq_interval`.`id` = 29  LIMIT 1; args=(29,)\n"
       ]
      },
      {
       "output_type": "stream",
       "stream": "stderr",
       "text": [
        "DEBUG:django.db.backends:(0.000) UPDATE `loq_interval` SET `chr` = 'chr2L', `start` = 13609973, `stop` = 13610068, `mirName` = 'dme-mir-2489', `NeatName` = 'chr2L:13609974-13610068', `IntervalSize` = 95, `IntervalSerialNumber` = 29, `Structure` = '((.((..((.(((((((((((((((.((((((..((((((((((....))))))..).)))..))))))))))))))))).)))).)).)).)).', `Annotations` = '', `Tags` = '', `sum_read_counts` = 30, `sum_normReads` = 2.9758, `mapped_strand` = '+', `mid_point` = 13610018, `Link` = 'http://genome.ucsc.edu/cgi-bin/hgTracks?db=dm3&position=chr2L:13609974-13610068', `hairpin_seq` = 'GCAATAAGTTAGACGTGAGTATGGCTATACAAATCATCTGGAACGTAAGTTCTAATGTATGTATTGTATGTTGTATTTGCAGTTTTATGATAGCA', `mature_seq` = '', `five_p` = '5-33', `three_p` = '62-83' WHERE `loq_interval`.`id` = 29 ; args=(u'chr2L', 13609973, 13610068, u'dme-mir-2489', u'chr2L:13609974-13610068', 95, 29, u'((.((..((.(((((((((((((((.((((((..((((((((((....))))))..).)))..))))))))))))))))).)))).)).)).)).', u'', u'', 30, 2.9758, u'+', 13610018, 'http://genome.ucsc.edu/cgi-bin/hgTracks?db=dm3&position=chr2L:13609974-13610068', u'GCAATAAGTTAGACGTGAGTATGGCTATACAAATCATCTGGAACGTAAGTTCTAATGTATGTATTGTATGTTGTATTTGCAGTTTTATGATAGCA', u'', u'5-33', u'62-83', 29)\n"
       ]
      },
      {
       "output_type": "stream",
       "stream": "stderr",
       "text": [
        "DEBUG:django.db.backends:(0.000) SELECT (1) AS `a` FROM `loq_interval` WHERE `loq_interval`.`id` = 30  LIMIT 1; args=(30,)\n"
       ]
      },
      {
       "output_type": "stream",
       "stream": "stderr",
       "text": [
        "DEBUG:django.db.backends:(0.000) UPDATE `loq_interval` SET `chr` = 'chr2L', `start` = 13747608, `stop` = 13747697, `mirName` = 'dme-mir-1002', `NeatName` = 'chr2L:13747609-13747697', `IntervalSize` = 89, `IntervalSerialNumber` = 30, `Structure` = '..(((((((..((.((((((((...((((((...(((((.............))))).))))))...)))))))).))..)))))))..', `Annotations` = '', `Tags` = '', `sum_read_counts` = 3, `sum_normReads` = 0.2175, `mapped_strand` = '-', `mid_point` = 13747652, `Link` = 'http://genome.ucsc.edu/cgi-bin/hgTracks?db=dm3&position=chr2L:13747609-13747697', `hairpin_seq` = 'TAGAAATTATATATTTAAGTAGTGGATACAAAGGGCGATTTGATATAAAAGTGTCGCATTGTATGACCTACTTAACTAGCTGATTTTGT', `mature_seq` = '', `five_p` = '15-38', `three_p` = '56-77' WHERE `loq_interval`.`id` = 30 ; args=(u'chr2L', 13747608, 13747697, u'dme-mir-1002', u'chr2L:13747609-13747697', 89, 30, u'..(((((((..((.((((((((...((((((...(((((.............))))).))))))...)))))))).))..)))))))..', u'', u'', 3, 0.2175, u'-', 13747652, 'http://genome.ucsc.edu/cgi-bin/hgTracks?db=dm3&position=chr2L:13747609-13747697', u'TAGAAATTATATATTTAAGTAGTGGATACAAAGGGCGATTTGATATAAAAGTGTCGCATTGTATGACCTACTTAACTAGCTGATTTTGT', u'', u'15-38', u'56-77', 30)\n"
       ]
      },
      {
       "output_type": "stream",
       "stream": "stderr",
       "text": [
        "DEBUG:django.db.backends:(0.000) SELECT (1) AS `a` FROM `loq_interval` WHERE `loq_interval`.`id` = 31  LIMIT 1; args=(31,)\n"
       ]
      },
      {
       "output_type": "stream",
       "stream": "stderr",
       "text": [
        "DEBUG:django.db.backends:(0.000) UPDATE `loq_interval` SET `chr` = 'chr2L', `start` = 13747747, `stop` = 13747839, `mirName` = 'dme-mir-968', `NeatName` = 'chr2L:13747748-13747839', `IntervalSize` = 92, `IntervalSerialNumber` = 31, `Structure` = '...((((.(.(((...((((((((..(((((((((((((................)))))))))))))))))))))...))).)))))....', `Annotations` = '', `Tags` = '', `sum_read_counts` = 43, `sum_normReads` = 3.8183, `mapped_strand` = '-', `mid_point` = 13747793, `Link` = 'http://genome.ucsc.edu/cgi-bin/hgTracks?db=dm3&position=chr2L:13747748-13747839', `hairpin_seq` = 'TGATGGAAGCTTCCTTAAGTAGTATCCATTAAAGGGTTGTTCTCAACATGCAAATCAACCTTTTGATGTACTACTTTAAGAATCTCCAGTTA', `mature_seq` = '', `five_p` = '16-39', `three_p` = '58-79' WHERE `loq_interval`.`id` = 31 ; args=(u'chr2L', 13747747, 13747839, u'dme-mir-968', u'chr2L:13747748-13747839', 92, 31, u'...((((.(.(((...((((((((..(((((((((((((................)))))))))))))))))))))...))).)))))....', u'', u'', 43, 3.8183, u'-', 13747793, 'http://genome.ucsc.edu/cgi-bin/hgTracks?db=dm3&position=chr2L:13747748-13747839', u'TGATGGAAGCTTCCTTAAGTAGTATCCATTAAAGGGTTGTTCTCAACATGCAAATCAACCTTTTGATGTACTACTTTAAGAATCTCCAGTTA', u'', u'16-39', u'58-79', 31)\n"
       ]
      },
      {
       "output_type": "stream",
       "stream": "stderr",
       "text": [
        "DEBUG:django.db.backends:(0.000) SELECT (1) AS `a` FROM `loq_interval` WHERE `loq_interval`.`id` = 32  LIMIT 1; args=(32,)\n"
       ]
      },
      {
       "output_type": "stream",
       "stream": "stderr",
       "text": [
        "DEBUG:django.db.backends:(0.000) UPDATE `loq_interval` SET `chr` = 'chr2L', `start` = 16528374, `stop` = 16528491, `mirName` = 'dme-mir-4943', `NeatName` = 'chr2L:16528375-16528491', `IntervalSize` = 117, `IntervalSerialNumber` = 32, `Structure` = '...((.((.(((((.((.......(((((((((((((.(.((((((((...(((.......)))...)))))))).)..))))))))))))).......)).)))).).)).))...', `Annotations` = '', `Tags` = '', `sum_read_counts` = 32, `sum_normReads` = 3.1317, `mapped_strand` = '-', `mid_point` = 16528434, `Link` = 'http://genome.ucsc.edu/cgi-bin/hgTracks?db=dm3&position=chr2L:16528375-16528491', `hairpin_seq` = 'TTCGGATCGTTTGAATGACCAATTTTGTCTTTTATTTTCTCTGTGTTTTCAGTTAATGAAAGATAGTGAACACAGTGCTAAATGAAAGATAATGAGACCCAGTCGACAGGACCCAAG', `mature_seq` = '', `five_p` = '30-51', `three_p` = '67-89' WHERE `loq_interval`.`id` = 32 ; args=(u'chr2L', 16528374, 16528491, u'dme-mir-4943', u'chr2L:16528375-16528491', 117, 32, u'...((.((.(((((.((.......(((((((((((((.(.((((((((...(((.......)))...)))))))).)..))))))))))))).......)).)))).).)).))...', u'', u'', 32, 3.1317, u'-', 16528434, 'http://genome.ucsc.edu/cgi-bin/hgTracks?db=dm3&position=chr2L:16528375-16528491', u'TTCGGATCGTTTGAATGACCAATTTTGTCTTTTATTTTCTCTGTGTTTTCAGTTAATGAAAGATAGTGAACACAGTGCTAAATGAAAGATAATGAGACCCAGTCGACAGGACCCAAG', u'', u'30-51', u'67-89', 32)\n"
       ]
      },
      {
       "output_type": "stream",
       "stream": "stderr",
       "text": [
        "DEBUG:django.db.backends:(0.000) SELECT (1) AS `a` FROM `loq_interval` WHERE `loq_interval`.`id` = 33  LIMIT 1; args=(33,)\n"
       ]
      },
      {
       "output_type": "stream",
       "stream": "stderr",
       "text": [
        "DEBUG:django.db.backends:(0.000) UPDATE `loq_interval` SET `chr` = 'chr2L', `start` = 16678239, `stop` = 16678335, `mirName` = 'dme-mir-2497', `NeatName` = 'chr2L:16678240-16678335', `IntervalSize` = 96, `IntervalSerialNumber` = 33, `Structure` = '((.(((((.(((.(((.(((((((.((((((((((((................))))))))...))))...))))))))))....))).)))))))', `Annotations` = '', `Tags` = '', `sum_read_counts` = 274, `sum_normReads` = 23.3741, `mapped_strand` = '+', `mid_point` = 16678283, `Link` = 'http://genome.ucsc.edu/cgi-bin/hgTracks?db=dm3&position=chr2L:16678240-16678335', `hairpin_seq` = 'GCACGTCATCGTAAGCATTGCAAAATGTAGTTGTTAAATTCGCTCTTCAATCATTAACAACATTTACAATGTTTGCAGGCTGTCAACGTTGATGGC', `mature_seq` = '', `five_p` = '11-35', `three_p` = '57-78' WHERE `loq_interval`.`id` = 33 ; args=(u'chr2L', 16678239, 16678335, u'dme-mir-2497', u'chr2L:16678240-16678335', 96, 33, u'((.(((((.(((.(((.(((((((.((((((((((((................))))))))...))))...))))))))))....))).)))))))', u'', u'', 274, 23.3741, u'+', 16678283, 'http://genome.ucsc.edu/cgi-bin/hgTracks?db=dm3&position=chr2L:16678240-16678335', u'GCACGTCATCGTAAGCATTGCAAAATGTAGTTGTTAAATTCGCTCTTCAATCATTAACAACATTTACAATGTTTGCAGGCTGTCAACGTTGATGGC', u'', u'11-35', u'57-78', 33)\n"
       ]
      },
      {
       "output_type": "stream",
       "stream": "stderr",
       "text": [
        "DEBUG:django.db.backends:(0.000) SELECT (1) AS `a` FROM `loq_interval` WHERE `loq_interval`.`id` = 34  LIMIT 1; args=(34,)\n"
       ]
      },
      {
       "output_type": "stream",
       "stream": "stderr",
       "text": [
        "DEBUG:django.db.backends:(0.000) UPDATE `loq_interval` SET `chr` = 'chr2L', `start` = 16697923, `stop` = 16698015, `mirName` = 'dme-mir-9c', `NeatName` = 'chr2L:16697924-16698015', `IntervalSize` = 92, `IntervalSerialNumber` = 34, `Structure` = '', `Annotations` = '', `Tags` = '', `sum_read_counts` = 89570, `sum_normReads` = 8453.2166, `mapped_strand` = '+', `mid_point` = 16697969, `Link` = 'http://genome.ucsc.edu/cgi-bin/hgTracks?db=dm3&position=chr2L:16697924-16698015', `hairpin_seq` = 'ATTTTTGCTGTTTCTTTGGTATTCTAGCTGTAGATTGTTTCACGCACATTGTATATCATCTAAAGCTTTTATACCAAAGCTCCAGCTTAAAT', `mature_seq` = '', `five_p` = '13-34', `three_p` = '61-82' WHERE `loq_interval`.`id` = 34 ; args=(u'chr2L', 16697923, 16698015, u'dme-mir-9c', u'chr2L:16697924-16698015', 92, 34, u'', u'', u'', 89570, 8453.2166, u'+', 16697969, 'http://genome.ucsc.edu/cgi-bin/hgTracks?db=dm3&position=chr2L:16697924-16698015', u'ATTTTTGCTGTTTCTTTGGTATTCTAGCTGTAGATTGTTTCACGCACATTGTATATCATCTAAAGCTTTTATACCAAAGCTCCAGCTTAAAT', u'', u'13-34', u'61-82', 34)\n"
       ]
      },
      {
       "output_type": "stream",
       "stream": "stderr",
       "text": [
        "DEBUG:django.db.backends:(0.000) SELECT (1) AS `a` FROM `loq_interval` WHERE `loq_interval`.`id` = 35  LIMIT 1; args=(35,)\n"
       ]
      },
      {
       "output_type": "stream",
       "stream": "stderr",
       "text": [
        "DEBUG:django.db.backends:(0.000) UPDATE `loq_interval` SET `chr` = 'chr2L', `start` = 16698403, `stop` = 16698488, `mirName` = 'dme-mir-306', `NeatName` = 'chr2L:16698404-16698488', `IntervalSize` = 85, `IntervalSerialNumber` = 35, `Structure` = '.((((((.(.((((.(((((((..(((((((((((((((....).)))..)))))))))))..))))))).))))).))))))..', `Annotations` = '', `Tags` = '', `sum_read_counts` = 360714, `sum_normReads` = 34056.6682000001, `mapped_strand` = '+', `mid_point` = 16698443, `Link` = 'http://genome.ucsc.edu/cgi-bin/hgTracks?db=dm3&position=chr2L:16698404-16698488', `hairpin_seq` = 'GTCCACTCGATGGCTCAGGTACTTAGTGACTCTCAATGCTTTTGACATTTTGGGGGTCACTCTGTGCCTGTGCTGCCAGTGGGAC', `mature_seq` = '', `five_p` = '15-36', `three_p` = '52-73' WHERE `loq_interval`.`id` = 35 ; args=(u'chr2L', 16698403, 16698488, u'dme-mir-306', u'chr2L:16698404-16698488', 85, 35, u'.((((((.(.((((.(((((((..(((((((((((((((....).)))..)))))))))))..))))))).))))).))))))..', u'', u'', 360714, 34056.6682000001, u'+', 16698443, 'http://genome.ucsc.edu/cgi-bin/hgTracks?db=dm3&position=chr2L:16698404-16698488', u'GTCCACTCGATGGCTCAGGTACTTAGTGACTCTCAATGCTTTTGACATTTTGGGGGTCACTCTGTGCCTGTGCTGCCAGTGGGAC', u'', u'15-36', u'52-73', 35)\n"
       ]
      },
      {
       "output_type": "stream",
       "stream": "stderr",
       "text": [
        "DEBUG:django.db.backends:(0.000) SELECT (1) AS `a` FROM `loq_interval` WHERE `loq_interval`.`id` = 36  LIMIT 1; args=(36,)\n"
       ]
      },
      {
       "output_type": "stream",
       "stream": "stderr",
       "text": [
        "DEBUG:django.db.backends:(0.000) UPDATE `loq_interval` SET `chr` = 'chr2L', `start` = 16698553, `stop` = 16698650, `mirName` = 'dme-mir-79', `NeatName` = 'chr2L:16698554-16698650', `IntervalSize` = 97, `IntervalSerialNumber` = 36, `Structure` = '(((..(((....((((.((((((((...(((((((.((((((((.......)))..))))).)))))))...)))))))).)))).....))).)))', `Annotations` = 'loq', `Tags` = 'lit: reduced abundance in loqs mutants?', `sum_read_counts` = 60640, `sum_normReads` = 5490.3019, `mapped_strand` = '+', `mid_point` = 16698600, `Link` = 'http://genome.ucsc.edu/cgi-bin/hgTracks?db=dm3&position=chr2L:16698554-16698650', `hairpin_seq` = 'TGAAGCTGACTTGCCATTGCTTTGGCGCTTTAGCTGTATGATAGATTTAAACTACTTCATAAAGCTAGATTACCAAAGCATTGGCTTCTGCAGGTCA', `mature_seq` = '', `five_p` = '19-41', `three_p` = '60-81' WHERE `loq_interval`.`id` = 36 ; args=(u'chr2L', 16698553, 16698650, u'dme-mir-79', u'chr2L:16698554-16698650', 97, 36, u'(((..(((....((((.((((((((...(((((((.((((((((.......)))..))))).)))))))...)))))))).)))).....))).)))', u'loq', u'lit: reduced abundance in loqs mutants?', 60640, 5490.3019, u'+', 16698600, 'http://genome.ucsc.edu/cgi-bin/hgTracks?db=dm3&position=chr2L:16698554-16698650', u'TGAAGCTGACTTGCCATTGCTTTGGCGCTTTAGCTGTATGATAGATTTAAACTACTTCATAAAGCTAGATTACCAAAGCATTGGCTTCTGCAGGTCA', u'', u'19-41', u'60-81', 36)\n"
       ]
      },
      {
       "output_type": "stream",
       "stream": "stderr",
       "text": [
        "DEBUG:django.db.backends:(0.000) SELECT (1) AS `a` FROM `loq_interval` WHERE `loq_interval`.`id` = 37  LIMIT 1; args=(37,)\n"
       ]
      },
      {
       "output_type": "stream",
       "stream": "stderr",
       "text": [
        "DEBUG:django.db.backends:(0.000) UPDATE `loq_interval` SET `chr` = 'chr2L', `start` = 16698743, `stop` = 16698834, `mirName` = 'dme-mir-9b', `NeatName` = 'chr2L:16698744-16698834', `IntervalSize` = 91, `IntervalSerialNumber` = 37, `Structure` = '', `Annotations` = '', `Tags` = '', `sum_read_counts` = 109865, `sum_normReads` = 10849.5445, `mapped_strand` = '+', `mid_point` = 16698787, `Link` = 'http://genome.ucsc.edu/cgi-bin/hgTracks?db=dm3&position=chr2L:16698744-16698834', `hairpin_seq` = 'TGCATATTATTTGCTCTTTGGTGATTTTAGCTGTATGGTGTTTATGTATATTCCATAGAGCTTTATTACCAAAAACCAAATGGTTTCTGCA', `mature_seq` = '', `five_p` = '15-37', `three_p` = '56-77' WHERE `loq_interval`.`id` = 37 ; args=(u'chr2L', 16698743, 16698834, u'dme-mir-9b', u'chr2L:16698744-16698834', 91, 37, u'', u'', u'', 109865, 10849.5445, u'+', 16698787, 'http://genome.ucsc.edu/cgi-bin/hgTracks?db=dm3&position=chr2L:16698744-16698834', u'TGCATATTATTTGCTCTTTGGTGATTTTAGCTGTATGGTGTTTATGTATATTCCATAGAGCTTTATTACCAAAAACCAAATGGTTTCTGCA', u'', u'15-37', u'56-77', 37)\n"
       ]
      },
      {
       "output_type": "stream",
       "stream": "stderr",
       "text": [
        "DEBUG:django.db.backends:(0.000) SELECT (1) AS `a` FROM `loq_interval` WHERE `loq_interval`.`id` = 38  LIMIT 1; args=(38,)\n"
       ]
      },
      {
       "output_type": "stream",
       "stream": "stderr",
       "text": [
        "DEBUG:django.db.backends:(0.000) UPDATE `loq_interval` SET `chr` = 'chr2L', `start` = 16724794, `stop` = 16724858, `mirName` = 'dme-mir-1006', `NeatName` = 'chr2L:16724795-16724858', `IntervalSize` = 64, `IntervalSerialNumber` = 38, `Structure` = '((((((..(((((((((.....((((((((.....))))))))..)))))))))..))))))..', `Annotations` = '', `Tags` = '', `sum_read_counts` = 789, `sum_normReads` = 78.4077, `mapped_strand` = '-', `mid_point` = 16724826, `Link` = 'http://genome.ucsc.edu/cgi-bin/hgTracks?db=dm3&position=chr2L:16724795-16724858', `hairpin_seq` = 'GTGAGTTTGAAATTGAAATGCGTAAATTGTTTGGTACAATTTAAATTCGATTTCTTATTCATAG', `mature_seq` = '', `five_p` = '2-26', `three_p` = '42-64' WHERE `loq_interval`.`id` = 38 ; args=(u'chr2L', 16724794, 16724858, u'dme-mir-1006', u'chr2L:16724795-16724858', 64, 38, u'((((((..(((((((((.....((((((((.....))))))))..)))))))))..))))))..', u'', u'', 789, 78.4077, u'-', 16724826, 'http://genome.ucsc.edu/cgi-bin/hgTracks?db=dm3&position=chr2L:16724795-16724858', u'GTGAGTTTGAAATTGAAATGCGTAAATTGTTTGGTACAATTTAAATTCGATTTCTTATTCATAG', u'', u'2-26', u'42-64', 38)\n"
       ]
      },
      {
       "output_type": "stream",
       "stream": "stderr",
       "text": [
        "DEBUG:django.db.backends:(0.000) SELECT (1) AS `a` FROM `loq_interval` WHERE `loq_interval`.`id` = 39  LIMIT 1; args=(39,)\n"
       ]
      },
      {
       "output_type": "stream",
       "stream": "stderr",
       "text": [
        "DEBUG:django.db.backends:(0.000) UPDATE `loq_interval` SET `chr` = 'chr2L', `start` = 17566369, `stop` = 17566469, `mirName` = 'dme-mir-124', `NeatName` = 'chr2L:17566370-17566469', `IntervalSize` = 100, `IntervalSerialNumber` = 39, `Structure` = '..........(((((..(((.((((((.((((((..((((.((((.........))))))))..)))))).)))))).))).))))).............', `Annotations` = '', `Tags` = '', `sum_read_counts` = 294, `sum_normReads` = 27.4422, `mapped_strand` = '+', `mid_point` = 17566418, `Link` = 'http://genome.ucsc.edu/cgi-bin/hgTracks?db=dm3&position=chr2L:17566370-17566469', `hairpin_seq` = 'TCATTTGGTACGTTTTTCTCCTGGTATCCACTGTAGGCCTATATGTATTTCCACCATAAGGCACGCGGTGAATGCCAAGAGCGAACGCAGTTCTACAAAT', `mature_seq` = '', `five_p` = '23-45', `three_p` = '57-79' WHERE `loq_interval`.`id` = 39 ; args=(u'chr2L', 17566369, 17566469, u'dme-mir-124', u'chr2L:17566370-17566469', 100, 39, u'..........(((((..(((.((((((.((((((..((((.((((.........))))))))..)))))).)))))).))).))))).............', u'', u'', 294, 27.4422, u'+', 17566418, 'http://genome.ucsc.edu/cgi-bin/hgTracks?db=dm3&position=chr2L:17566370-17566469', u'TCATTTGGTACGTTTTTCTCCTGGTATCCACTGTAGGCCTATATGTATTTCCACCATAAGGCACGCGGTGAATGCCAAGAGCGAACGCAGTTCTACAAAT', u'', u'23-45', u'57-79', 39)\n"
       ]
      },
      {
       "output_type": "stream",
       "stream": "stderr",
       "text": [
        "DEBUG:django.db.backends:(0.000) SELECT (1) AS `a` FROM `loq_interval` WHERE `loq_interval`.`id` = 40  LIMIT 1; args=(40,)\n"
       ]
      },
      {
       "output_type": "stream",
       "stream": "stderr",
       "text": [
        "DEBUG:django.db.backends:(0.000) UPDATE `loq_interval` SET `chr` = 'chr2L', `start` = 17574609, `stop` = 17574702, `mirName` = 'dme-mir-287', `NeatName` = 'chr2L:17574610-17574702', `IntervalSize` = 93, `IntervalSerialNumber` = 40, `Structure` = '..(((((.(.......).))))).((.(((((((((((((..((((((((((((...))))))))))))..)))...)))).)).)))).)).', `Annotations` = '', `Tags` = '', `sum_read_counts` = NULL, `sum_normReads` = NULL, `mapped_strand` = '+', `mid_point` = 17574664, `Link` = 'http://genome.ucsc.edu/cgi-bin/hgTracks?db=dm3&position=chr2L:17574610-17574702', `hairpin_seq` = 'GGACGCCGGGGATGTATGGGTGTGTAGGGTCTGAAATTTTGCACACATTTACAATAATTGTAAATGTGTTGAAAATCGTTTGCACGACTGTGA', `mature_seq` = '', `five_p` = '', `three_p` = '' WHERE `loq_interval`.`id` = 40 ; args=(u'chr2L', 17574609, 17574702, u'dme-mir-287', u'chr2L:17574610-17574702', 93, 40, u'..(((((.(.......).))))).((.(((((((((((((..((((((((((((...))))))))))))..)))...)))).)).)))).)).', u'', u'', u'+', 17574664, 'http://genome.ucsc.edu/cgi-bin/hgTracks?db=dm3&position=chr2L:17574610-17574702', u'GGACGCCGGGGATGTATGGGTGTGTAGGGTCTGAAATTTTGCACACATTTACAATAATTGTAAATGTGTTGAAAATCGTTTGCACGACTGTGA', u'', u'', u'', 40)\n"
       ]
      },
      {
       "output_type": "stream",
       "stream": "stderr",
       "text": [
        "DEBUG:django.db.backends:(0.000) SELECT (1) AS `a` FROM `loq_interval` WHERE `loq_interval`.`id` = 41  LIMIT 1; args=(41,)\n"
       ]
      },
      {
       "output_type": "stream",
       "stream": "stderr",
       "text": [
        "DEBUG:django.db.backends:(0.000) UPDATE `loq_interval` SET `chr` = 'chr2L', `start` = 18471433, `stop` = 18471533, `mirName` = 'dme-mir-100', `NeatName` = 'chr2L:18471434-18471533', `IntervalSize` = 100, `IntervalSerialNumber` = 41, `Structure` = '.((((.(((((..(((((((..(((..(((((((.(........).).))))))..)))..)))))))..))))).))))....................', `Annotations` = '', `Tags` = '', `sum_read_counts` = 247, `sum_normReads` = 22.0228, `mapped_strand` = '+', `mid_point` = 18471472, `Link` = 'http://genome.ucsc.edu/cgi-bin/hgTracks?db=dm3&position=chr2L:18471434-18471533', `hairpin_seq` = 'CCATTAACAGAAACCCGTAAATCCGAACTTGTGCTGTTTTATATCTGTTACAAGACCGGCATTATGGGAGTCTGTCAATGCAAACAACTGGTTTTTGGCA', `mature_seq` = '', `five_p` = '12-33', `three_p` = '51-72' WHERE `loq_interval`.`id` = 41 ; args=(u'chr2L', 18471433, 18471533, u'dme-mir-100', u'chr2L:18471434-18471533', 100, 41, u'.((((.(((((..(((((((..(((..(((((((.(........).).))))))..)))..)))))))..))))).))))....................', u'', u'', 247, 22.0228, u'+', 18471472, 'http://genome.ucsc.edu/cgi-bin/hgTracks?db=dm3&position=chr2L:18471434-18471533', u'CCATTAACAGAAACCCGTAAATCCGAACTTGTGCTGTTTTATATCTGTTACAAGACCGGCATTATGGGAGTCTGTCAATGCAAACAACTGGTTTTTGGCA', u'', u'12-33', u'51-72', 41)\n"
       ]
      },
      {
       "output_type": "stream",
       "stream": "stderr",
       "text": [
        "DEBUG:django.db.backends:(0.000) SELECT (1) AS `a` FROM `loq_interval` WHERE `loq_interval`.`id` = 42  LIMIT 1; args=(42,)\n"
       ]
      },
      {
       "output_type": "stream",
       "stream": "stderr",
       "text": [
        "DEBUG:django.db.backends:(0.000) UPDATE `loq_interval` SET `chr` = 'chr2L', `start` = 18472033, `stop` = 18472111, `mirName` = 'dme-let-7', `NeatName` = 'chr2L:18472034-18472111', `IntervalSize` = 78, `IntervalSerialNumber` = 42, `Structure` = '((.((((((..(((.(((((.(((((((((((..............))))))))))).))))).)))..)))))).))', `Annotations` = '', `Tags` = '', `sum_read_counts` = 3178, `sum_normReads` = 295.3519, `mapped_strand` = '+', `mid_point` = 18472071, `Link` = 'http://genome.ucsc.edu/cgi-bin/hgTracks?db=dm3&position=chr2L:18472034-18472111', `hairpin_seq` = 'TCTGGCAAATTGAGGTAGTAGGTTGTATAGTAGTAATTACACATCATACTATACAATGTGCTAGCTTTCTTTGCTTGA', `mature_seq` = '', `five_p` = '11-31', `three_p` = '49-70' WHERE `loq_interval`.`id` = 42 ; args=(u'chr2L', 18472033, 18472111, u'dme-let-7', u'chr2L:18472034-18472111', 78, 42, u'((.((((((..(((.(((((.(((((((((((..............))))))))))).))))).)))..)))))).))', u'', u'', 3178, 295.3519, u'+', 18472071, 'http://genome.ucsc.edu/cgi-bin/hgTracks?db=dm3&position=chr2L:18472034-18472111', u'TCTGGCAAATTGAGGTAGTAGGTTGTATAGTAGTAATTACACATCATACTATACAATGTGCTAGCTTTCTTTGCTTGA', u'', u'11-31', u'49-70', 42)\n"
       ]
      },
      {
       "output_type": "stream",
       "stream": "stderr",
       "text": [
        "DEBUG:django.db.backends:(0.000) SELECT (1) AS `a` FROM `loq_interval` WHERE `loq_interval`.`id` = 43  LIMIT 1; args=(43,)\n"
       ]
      },
      {
       "output_type": "stream",
       "stream": "stderr",
       "text": [
        "DEBUG:django.db.backends:(0.000) UPDATE `loq_interval` SET `chr` = 'chr2L', `start` = 18472314, `stop` = 18472424, `mirName` = 'dme-mir-125', `NeatName` = 'chr2L:18472315-18472424', `IntervalSize` = 110, `IntervalSerialNumber` = 43, `Structure` = '(((((..((((..((((((....(((((..((.((((.(..(((((((((...............)))))))))..).)))).)).)))))..))))))))))..)))))', `Annotations` = '', `Tags` = '', `sum_read_counts` = 266, `sum_normReads` = 23.9306, `mapped_strand` = '+', `mid_point` = 18472371, `Link` = 'http://genome.ucsc.edu/cgi-bin/hgTracks?db=dm3&position=chr2L:18472315-18472424', `hairpin_seq` = 'GACATGTGCAAATGTTTGTATGGCTGATTCCCTGAGACCCTAACTTGTGACTTTTAATACCAGTTTCACAAGTTTTGATCTCCGGTATTGGACGCAAACTTGCTGATGTT', `mature_seq` = '', `five_p` = '29-50', `three_p` = '68-88' WHERE `loq_interval`.`id` = 43 ; args=(u'chr2L', 18472314, 18472424, u'dme-mir-125', u'chr2L:18472315-18472424', 110, 43, u'(((((..((((..((((((....(((((..((.((((.(..(((((((((...............)))))))))..).)))).)).)))))..))))))))))..)))))', u'', u'', 266, 23.9306, u'+', 18472371, 'http://genome.ucsc.edu/cgi-bin/hgTracks?db=dm3&position=chr2L:18472315-18472424', u'GACATGTGCAAATGTTTGTATGGCTGATTCCCTGAGACCCTAACTTGTGACTTTTAATACCAGTTTCACAAGTTTTGATCTCCGGTATTGGACGCAAACTTGCTGATGTT', u'', u'29-50', u'68-88', 43)\n"
       ]
      },
      {
       "output_type": "stream",
       "stream": "stderr",
       "text": [
        "DEBUG:django.db.backends:(0.000) SELECT (1) AS `a` FROM `loq_interval` WHERE `loq_interval`.`id` = 44  LIMIT 1; args=(44,)\n"
       ]
      },
      {
       "output_type": "stream",
       "stream": "stderr",
       "text": [
        "DEBUG:django.db.backends:(0.000) UPDATE `loq_interval` SET `chr` = 'chr2L', `start` = 18867045, `stop` = 18867161, `mirName` = 'dme-mir-4946', `NeatName` = 'chr2L:18867046-18867161', `IntervalSize` = 116, `IntervalSerialNumber` = 44, `Structure` = '(((.(((....((..(((.((.((((((((((((((((((((((.((((...............)))).)))))..)))))))))))))..)))).)).)))))..))))))....', `Annotations` = '', `Tags` = '', `sum_read_counts` = NULL, `sum_normReads` = NULL, `mapped_strand` = '-', `mid_point` = 18867105, `Link` = 'http://genome.ucsc.edu/cgi-bin/hgTracks?db=dm3&position=chr2L:18867046-18867161', `hairpin_seq` = 'GCTCGATTGCTGCAACTAAGAAACAAATATTTTCAGTTGTTCATTGCAAATTAATTTATGTACATTGCTATGAAATCAATTGAAAATATAATTGTATCCTAGGCTTATCAGCTGCA', `mature_seq` = '', `five_p` = '', `three_p` = '' WHERE `loq_interval`.`id` = 44 ; args=(u'chr2L', 18867045, 18867161, u'dme-mir-4946', u'chr2L:18867046-18867161', 116, 44, u'(((.(((....((..(((.((.((((((((((((((((((((((.((((...............)))).)))))..)))))))))))))..)))).)).)))))..))))))....', u'', u'', u'-', 18867105, 'http://genome.ucsc.edu/cgi-bin/hgTracks?db=dm3&position=chr2L:18867046-18867161', u'GCTCGATTGCTGCAACTAAGAAACAAATATTTTCAGTTGTTCATTGCAAATTAATTTATGTACATTGCTATGAAATCAATTGAAAATATAATTGTATCCTAGGCTTATCAGCTGCA', u'', u'', u'', 44)\n"
       ]
      },
      {
       "output_type": "stream",
       "stream": "stderr",
       "text": [
        "DEBUG:django.db.backends:(0.000) SELECT (1) AS `a` FROM `loq_interval` WHERE `loq_interval`.`id` = 45  LIMIT 1; args=(45,)\n"
       ]
      },
      {
       "output_type": "stream",
       "stream": "stderr",
       "text": [
        "DEBUG:django.db.backends:(0.000) UPDATE `loq_interval` SET `chr` = 'chr2L', `start` = 19569489, `stop` = 19569561, `mirName` = 'dme-mir-2a-2', `NeatName` = 'chr2L:19569490-19569561', `IntervalSize` = 72, `IntervalSerialNumber` = 45, `Structure` = '((((.(((.(((((((((((((((((((((...........)))))))))))))..))))))))))).))))', `Annotations` = '', `Tags` = '', `sum_read_counts` = 3985582, `sum_normReads` = 180439.959899999, `mapped_strand` = '-', `mid_point` = 19569526, `Link` = 'http://genome.ucsc.edu/cgi-bin/hgTracks?db=dm3&position=chr2L:19569490-19569561', `hairpin_seq` = 'ATCTAAGCCTCATCAAGTGGTTGTGATATGGATACCCAACGCATATCACAGCCAGCTTTGATGAGCTAGGAT', `mature_seq` = '', `five_p` = '', `three_p` = '' WHERE `loq_interval`.`id` = 45 ; args=(u'chr2L', 19569489, 19569561, u'dme-mir-2a-2', u'chr2L:19569490-19569561', 72, 45, u'((((.(((.(((((((((((((((((((((...........)))))))))))))..))))))))))).))))', u'', u'', 3985582, 180439.959899999, u'-', 19569526, 'http://genome.ucsc.edu/cgi-bin/hgTracks?db=dm3&position=chr2L:19569490-19569561', u'ATCTAAGCCTCATCAAGTGGTTGTGATATGGATACCCAACGCATATCACAGCCAGCTTTGATGAGCTAGGAT', u'', u'', u'', 45)\n"
       ]
      },
      {
       "output_type": "stream",
       "stream": "stderr",
       "text": [
        "DEBUG:django.db.backends:(0.000) SELECT (1) AS `a` FROM `loq_interval` WHERE `loq_interval`.`id` = 46  LIMIT 1; args=(46,)\n"
       ]
      },
      {
       "output_type": "stream",
       "stream": "stderr",
       "text": [
        "DEBUG:django.db.backends:(0.000) UPDATE `loq_interval` SET `chr` = 'chr2L', `start` = 19569896, `stop` = 19569972, `mirName` = 'dme-mir-2a-1', `NeatName` = 'chr2L:19569897-19569972', `IntervalSize` = 76, `IntervalSerialNumber` = 46, `Structure` = '((((((((((((((((((((((((.((((.....(((.....))))))).))))))))).)))))).)))))))))', `Annotations` = '', `Tags` = '', `sum_read_counts` = 3995501, `sum_normReads` = 181371.1246, `mapped_strand` = '-', `mid_point` = 19569933, `Link` = 'http://genome.ucsc.edu/cgi-bin/hgTracks?db=dm3&position=chr2L:19569897-19569972', `hairpin_seq` = 'GCTGGGCTCTCAAAGTGGTTGTGAAATGCATTTCCGCTTTGCGCGGCATATCACAGCCAGCTTTGATGAGCTTAGC', `mature_seq` = '', `five_p` = '', `three_p` = '' WHERE `loq_interval`.`id` = 46 ; args=(u'chr2L', 19569896, 19569972, u'dme-mir-2a-1', u'chr2L:19569897-19569972', 76, 46, u'((((((((((((((((((((((((.((((.....(((.....))))))).))))))))).)))))).)))))))))', u'', u'', 3995501, 181371.1246, u'-', 19569933, 'http://genome.ucsc.edu/cgi-bin/hgTracks?db=dm3&position=chr2L:19569897-19569972', u'GCTGGGCTCTCAAAGTGGTTGTGAAATGCATTTCCGCTTTGCGCGGCATATCACAGCCAGCTTTGATGAGCTTAGC', u'', u'', u'', 46)\n"
       ]
      },
      {
       "output_type": "stream",
       "stream": "stderr",
       "text": [
        "DEBUG:django.db.backends:(0.000) SELECT (1) AS `a` FROM `loq_interval` WHERE `loq_interval`.`id` = 47  LIMIT 1; args=(47,)\n"
       ]
      },
      {
       "output_type": "stream",
       "stream": "stderr",
       "text": [
        "DEBUG:django.db.backends:(0.000) UPDATE `loq_interval` SET `chr` = 'chr2L', `start` = 19570181, `stop` = 19570264, `mirName` = 'dme-mir-2b-2', `NeatName` = 'chr2L:19570182-19570264', `IntervalSize` = 83, `IntervalSerialNumber` = 47, `Structure` = '(((((((.(((((((((((((((((((.(((...((........)).....))).))))))))).)))))))))).)))))))', `Annotations` = '', `Tags` = '', `sum_read_counts` = 1465142, `sum_normReads` = 67512.7479, `mapped_strand` = '-', `mid_point` = 19570225, `Link` = 'http://genome.ucsc.edu/cgi-bin/hgTracks?db=dm3&position=chr2L:19570182-19570264', `hairpin_seq` = 'TTGTGTCATTCTTCAAAGTGGTTGTGAAATGTTTGCCTTTTTATGCCTATTCATATCACAGCCAGCTTTGAGGAGCGACGCGA', `mature_seq` = '', `five_p` = '', `three_p` = '' WHERE `loq_interval`.`id` = 47 ; args=(u'chr2L', 19570181, 19570264, u'dme-mir-2b-2', u'chr2L:19570182-19570264', 83, 47, u'(((((((.(((((((((((((((((((.(((...((........)).....))).))))))))).)))))))))).)))))))', u'', u'', 1465142, 67512.7479, u'-', 19570225, 'http://genome.ucsc.edu/cgi-bin/hgTracks?db=dm3&position=chr2L:19570182-19570264', u'TTGTGTCATTCTTCAAAGTGGTTGTGAAATGTTTGCCTTTTTATGCCTATTCATATCACAGCCAGCTTTGAGGAGCGACGCGA', u'', u'', u'', 47)\n"
       ]
      },
      {
       "output_type": "stream",
       "stream": "stderr",
       "text": [
        "DEBUG:django.db.backends:(0.000) SELECT (1) AS `a` FROM `loq_interval` WHERE `loq_interval`.`id` = 48  LIMIT 1; args=(48,)\n"
       ]
      },
      {
       "output_type": "stream",
       "stream": "stderr",
       "text": [
        "DEBUG:django.db.backends:(0.000) UPDATE `loq_interval` SET `chr` = 'chr2L', `start` = 20487440, `stop` = 20487531, `mirName` = 'dme-mir-1', `NeatName` = 'chr2L:20487441-20487531', `IntervalSize` = 91, `IntervalSerialNumber` = 48, `Structure` = '....(((.......((((((((((((.((((((((.((((((.......))).))).)))))))).)))))))))))).......)))...', `Annotations` = '', `Tags` = '', `sum_read_counts` = 533, `sum_normReads` = 47.482, `mapped_strand` = '+', `mid_point` = 20487485, `Link` = 'http://genome.ucsc.edu/cgi-bin/hgTracks?db=dm3&position=chr2L:20487441-20487531', `hairpin_seq` = 'TTCAGCCTTTGAGAGTTCCATGCTTCCTTGCATTCAATAGTTATATTCAAGCATATGGAATGTAAAGAAGTATGGAGCGAAATCTGGCGAG', `mature_seq` = '', `five_p` = '18-39', `three_p` = '56-77' WHERE `loq_interval`.`id` = 48 ; args=(u'chr2L', 20487440, 20487531, u'dme-mir-1', u'chr2L:20487441-20487531', 91, 48, u'....(((.......((((((((((((.((((((((.((((((.......))).))).)))))))).)))))))))))).......)))...', u'', u'', 533, 47.482, u'+', 20487485, 'http://genome.ucsc.edu/cgi-bin/hgTracks?db=dm3&position=chr2L:20487441-20487531', u'TTCAGCCTTTGAGAGTTCCATGCTTCCTTGCATTCAATAGTTATATTCAAGCATATGGAATGTAAAGAAGTATGGAGCGAAATCTGGCGAG', u'', u'18-39', u'56-77', 48)\n"
       ]
      },
      {
       "output_type": "stream",
       "stream": "stderr",
       "text": [
        "DEBUG:django.db.backends:(0.000) SELECT (1) AS `a` FROM `loq_interval` WHERE `loq_interval`.`id` = 49  LIMIT 1; args=(49,)\n"
       ]
      },
      {
       "output_type": "stream",
       "stream": "stderr",
       "text": [
        "DEBUG:django.db.backends:(0.000) UPDATE `loq_interval` SET `chr` = 'chr2L', `start` = 20562297, `stop` = 20562448, `mirName` = 'dme-mir-4973', `NeatName` = 'chr2L:20562298-20562448', `IntervalSize` = 151, `IntervalSerialNumber` = 49, `Structure` = '........(((((.((((.(((((((((((.((..(((.....(((((((....)))..))))................((((((.(((((.((....)).))))).))))))...))).)).))))))))))).)).)).))))).....', `Annotations` = '', `Tags` = '', `sum_read_counts` = 2, `sum_normReads` = 0.0039, `mapped_strand` = '+', `mid_point` = 20562392, `Link` = 'http://genome.ucsc.edu/cgi-bin/hgTracks?db=dm3&position=chr2L:20562298-20562448', `hairpin_seq` = 'CTCGTTCAGTCGTCGTTGCGTGTTGTAGGTGGCCTGGTCTACTGAGCTCCGTTTGGACTGCTCCTCCTCCAACTACTACTGCGGCCGCTGCTGCTGCTGCTGCGGCTGCTGCATCCGCCTGCAACCTGCAACACTCACACCACGGCAACAG', `mature_seq` = '', `five_p` = '8-28', `three_p` = '127-148' WHERE `loq_interval`.`id` = 49 ; args=(u'chr2L', 20562297, 20562448, u'dme-mir-4973', u'chr2L:20562298-20562448', 151, 49, u'........(((((.((((.(((((((((((.((..(((.....(((((((....)))..))))................((((((.(((((.((....)).))))).))))))...))).)).))))))))))).)).)).))))).....', u'', u'', 2, 0.0039, u'+', 20562392, 'http://genome.ucsc.edu/cgi-bin/hgTracks?db=dm3&position=chr2L:20562298-20562448', u'CTCGTTCAGTCGTCGTTGCGTGTTGTAGGTGGCCTGGTCTACTGAGCTCCGTTTGGACTGCTCCTCCTCCAACTACTACTGCGGCCGCTGCTGCTGCTGCTGCGGCTGCTGCATCCGCCTGCAACCTGCAACACTCACACCACGGCAACAG', u'', u'8-28', u'127-148', 49)\n"
       ]
      },
      {
       "output_type": "stream",
       "stream": "stderr",
       "text": [
        "DEBUG:django.db.backends:(0.000) SELECT (1) AS `a` FROM `loq_interval` WHERE `loq_interval`.`id` = 50  LIMIT 1; args=(50,)\n"
       ]
      },
      {
       "output_type": "stream",
       "stream": "stderr",
       "text": [
        "DEBUG:django.db.backends:(0.000) UPDATE `loq_interval` SET `chr` = 'chr2L', `start` = 20616616, `stop` = 20616714, `mirName` = 'dme-mir-133', `NeatName` = 'chr2L:20616617-20616714', `IntervalSize` = 98, `IntervalSerialNumber` = 50, `Structure` = '.....((((((((..(((((((((((((....(((((((((((........)).)))))).)))..)))))))))))))..)))).))))........', `Annotations` = '', `Tags` = '', `sum_read_counts` = 49, `sum_normReads` = 4.7972, `mapped_strand` = '+', `mid_point` = 20616662, `Link` = 'http://genome.ucsc.edu/cgi-bin/hgTracks?db=dm3&position=chr2L:20616617-20616714', `hairpin_seq` = 'ACCTGCAACACTGTGTGTAGCTGGTTGACATCGGGTCAGATCTGTTTTTCAAGCATTTGGTCCCCTTCAACCAGCTGTAGCCAGTGGTTGATGACAAC', `mature_seq` = '', `five_p` = '19-41', `three_p` = '57-78' WHERE `loq_interval`.`id` = 50 ; args=(u'chr2L', 20616616, 20616714, u'dme-mir-133', u'chr2L:20616617-20616714', 98, 50, u'.....((((((((..(((((((((((((....(((((((((((........)).)))))).)))..)))))))))))))..)))).))))........', u'', u'', 49, 4.7972, u'+', 20616662, 'http://genome.ucsc.edu/cgi-bin/hgTracks?db=dm3&position=chr2L:20616617-20616714', u'ACCTGCAACACTGTGTGTAGCTGGTTGACATCGGGTCAGATCTGTTTTTCAAGCATTTGGTCCCCTTCAACCAGCTGTAGCCAGTGGTTGATGACAAC', u'', u'19-41', u'57-78', 50)\n"
       ]
      },
      {
       "output_type": "stream",
       "stream": "stderr",
       "text": [
        "DEBUG:django.db.backends:(0.000) SELECT (1) AS `a` FROM `loq_interval` WHERE `loq_interval`.`id` = 51  LIMIT 1; args=(51,)\n"
       ]
      },
      {
       "output_type": "stream",
       "stream": "stderr",
       "text": [
        "DEBUG:django.db.backends:(0.000) UPDATE `loq_interval` SET `chr` = 'chr2L', `start` = 20618365, `stop` = 20618462, `mirName` = 'dme-mir-288', `NeatName` = 'chr2L:20618366-20618462', `IntervalSize` = 97, `IntervalSerialNumber` = 51, `Structure` = '(((((.((((((....((.((((..((((((.(((((((........((((....)))))))))))...)))))).)))).))..)))))).)))))', `Annotations` = '', `Tags` = '', `sum_read_counts` = NULL, `sum_normReads` = NULL, `mapped_strand` = '-', `mid_point` = 20618410, `Link` = 'http://genome.ucsc.edu/cgi-bin/hgTracks?db=dm3&position=chr2L:20618366-20618462', `hairpin_seq` = 'CGGCCATGTCGTAATTAGCGGAGCACGGCATCGCCGGCGATAATTAATGACGGTGGTCACGTTGGTTTCATGTCGATTTCATTTCATGACACGGCCG', `mature_seq` = '', `five_p` = '', `three_p` = '' WHERE `loq_interval`.`id` = 51 ; args=(u'chr2L', 20618365, 20618462, u'dme-mir-288', u'chr2L:20618366-20618462', 97, 51, u'(((((.((((((....((.((((..((((((.(((((((........((((....)))))))))))...)))))).)))).))..)))))).)))))', u'', u'', u'-', 20618410, 'http://genome.ucsc.edu/cgi-bin/hgTracks?db=dm3&position=chr2L:20618366-20618462', u'CGGCCATGTCGTAATTAGCGGAGCACGGCATCGCCGGCGATAATTAATGACGGTGGTCACGTTGGTTTCATGTCGATTTCATTTCATGACACGGCCG', u'', u'', u'', 51)\n"
       ]
      },
      {
       "output_type": "stream",
       "stream": "stderr",
       "text": [
        "DEBUG:django.db.backends:(0.000) SELECT (1) AS `a` FROM `loq_interval` WHERE `loq_interval`.`id` = 52  LIMIT 1; args=(52,)\n"
       ]
      },
      {
       "output_type": "stream",
       "stream": "stderr",
       "text": [
        "DEBUG:django.db.backends:(0.000) UPDATE `loq_interval` SET `chr` = 'chr2L', `start` = 21263932, `stop` = 21264034, `mirName` = 'dme-mir-4974', `NeatName` = 'chr2L:21263933-21264034', `IntervalSize` = 102, `IntervalSerialNumber` = 52, `Structure` = '...........(((((..((((((.((((((((..((((((.((((.(......).)))).))))))..))))))))))))))..)))))............', `Annotations` = '', `Tags` = '', `sum_read_counts` = 29, `sum_normReads` = 3.0198, `mapped_strand` = '+', `mid_point` = 21263982, `Link` = 'http://genome.ucsc.edu/cgi-bin/hgTracks?db=dm3&position=chr2L:21263933-21264034', `hairpin_seq` = 'TTCTTTGTTTTTATTCCCTGTCAGAGAGTATATTGATTTTAGGTGGACATTTGCGACCATATAAAATATATATATTCCTGATAAAGAATATTTAATATATCT', `mature_seq` = '', `five_p` = '23-44', `three_p` = '60-81' WHERE `loq_interval`.`id` = 52 ; args=(u'chr2L', 21263932, 21264034, u'dme-mir-4974', u'chr2L:21263933-21264034', 102, 52, u'...........(((((..((((((.((((((((..((((((.((((.(......).)))).))))))..))))))))))))))..)))))............', u'', u'', 29, 3.0198, u'+', 21263982, 'http://genome.ucsc.edu/cgi-bin/hgTracks?db=dm3&position=chr2L:21263933-21264034', u'TTCTTTGTTTTTATTCCCTGTCAGAGAGTATATTGATTTTAGGTGGACATTTGCGACCATATAAAATATATATATTCCTGATAAAGAATATTTAATATATCT', u'', u'23-44', u'60-81', 52)\n"
       ]
      },
      {
       "output_type": "stream",
       "stream": "stderr",
       "text": [
        "DEBUG:django.db.backends:(0.000) SELECT (1) AS `a` FROM `loq_interval` WHERE `loq_interval`.`id` = 53  LIMIT 1; args=(53,)\n"
       ]
      },
      {
       "output_type": "stream",
       "stream": "stderr",
       "text": [
        "DEBUG:django.db.backends:(0.000) UPDATE `loq_interval` SET `chr` = 'chr2LHet', `start` = 27335, `stop` = 27410, `mirName` = 'dme-mir-2490', `NeatName` = 'chr2LHet:27336-27410', `IntervalSize` = 75, `IntervalSerialNumber` = 53, `Structure` = '..(((((((.(((((((((((.(((..(((((..((......))))))).))).))))))))))).)))))))..', `Annotations` = '', `Tags` = '', `sum_read_counts` = 2, `sum_normReads` = 0.0757, `mapped_strand` = '+', `mid_point` = 27373, `Link` = 'http://genome.ucsc.edu/cgi-bin/hgTracks?db=dm3&position=chr2LHet:27336-27410', `hairpin_seq` = 'GAGCGAGTTGAAGCGATAAAGCAGGTTGCAAACTGCTCTCTCGCTTTGCTCTTACTTTATCGCTTAAACTCGCAA', `mature_seq` = '', `five_p` = '9-31', `three_p` = '47-67' WHERE `loq_interval`.`id` = 53 ; args=(u'chr2LHet', 27335, 27410, u'dme-mir-2490', u'chr2LHet:27336-27410', 75, 53, u'..(((((((.(((((((((((.(((..(((((..((......))))))).))).))))))))))).)))))))..', u'', u'', 2, 0.0757, u'+', 27373, 'http://genome.ucsc.edu/cgi-bin/hgTracks?db=dm3&position=chr2LHet:27336-27410', u'GAGCGAGTTGAAGCGATAAAGCAGGTTGCAAACTGCTCTCTCGCTTTGCTCTTACTTTATCGCTTAAACTCGCAA', u'', u'9-31', u'47-67', 53)\n"
       ]
      },
      {
       "output_type": "stream",
       "stream": "stderr",
       "text": [
        "DEBUG:django.db.backends:(0.000) SELECT (1) AS `a` FROM `loq_interval` WHERE `loq_interval`.`id` = 54  LIMIT 1; args=(54,)\n"
       ]
      },
      {
       "output_type": "stream",
       "stream": "stderr",
       "text": [
        "DEBUG:django.db.backends:(0.000) UPDATE `loq_interval` SET `chr` = 'chr2R', `start` = 2594667, `stop` = 2594778, `mirName` = 'dme-mir-4975', `NeatName` = 'chr2R:2594668-2594778', `IntervalSize` = 111, `IntervalSerialNumber` = 54, `Structure` = '((((((..........)))))).(((.((...(((.((((..(((((.((((.....))))...)))))...)))).))).)).)))............((((....))))', `Annotations` = '', `Tags` = '', `sum_read_counts` = NULL, `sum_normReads` = NULL, `mapped_strand` = '-', `mid_point` = 2594724, `Link` = 'http://genome.ucsc.edu/cgi-bin/hgTracks?db=dm3&position=chr2R:2594668-2594778', `hairpin_seq` = 'GGGCAAATAAAGCACGTTGCTCCCTGTTTACTTGGGTTTTCTGTTCATTTCGCCTATCGAACGTTGAACTTAAAAAGCCACGATCAGTTGTTTAACATACAGATATCTCTG', `mature_seq` = '', `five_p` = '', `three_p` = '' WHERE `loq_interval`.`id` = 54 ; args=(u'chr2R', 2594667, 2594778, u'dme-mir-4975', u'chr2R:2594668-2594778', 111, 54, u'((((((..........)))))).(((.((...(((.((((..(((((.((((.....))))...)))))...)))).))).)).)))............((((....))))', u'', u'', u'-', 2594724, 'http://genome.ucsc.edu/cgi-bin/hgTracks?db=dm3&position=chr2R:2594668-2594778', u'GGGCAAATAAAGCACGTTGCTCCCTGTTTACTTGGGTTTTCTGTTCATTTCGCCTATCGAACGTTGAACTTAAAAAGCCACGATCAGTTGTTTAACATACAGATATCTCTG', u'', u'', u'', 54)\n"
       ]
      },
      {
       "output_type": "stream",
       "stream": "stderr",
       "text": [
        "DEBUG:django.db.backends:(0.000) SELECT (1) AS `a` FROM `loq_interval` WHERE `loq_interval`.`id` = 55  LIMIT 1; args=(55,)\n"
       ]
      },
      {
       "output_type": "stream",
       "stream": "stderr",
       "text": [
        "DEBUG:django.db.backends:(0.000) UPDATE `loq_interval` SET `chr` = 'chr2R', `start` = 2723037, `stop` = 2723140, `mirName` = 'dme-mir-4976', `NeatName` = 'chr2R:2723038-2723140', `IntervalSize` = 103, `IntervalSerialNumber` = 55, `Structure` = '..(((.(.((((((((.(((((.(.(((((.(((((((.(((((.(((((...)))))..))))).))))))).))))).).))))).)))))))).))))..', `Annotations` = '', `Tags` = '', `sum_read_counts` = 5, `sum_normReads` = 0.473, `mapped_strand` = '-', `mid_point` = 2723089, `Link` = 'http://genome.ucsc.edu/cgi-bin/hgTracks?db=dm3&position=chr2R:2723038-2723140', `hairpin_seq` = 'GTCGATGCCGGCGTTTCCCGCTCCAGGCTGTCGTCCATGGAGTTTGTGTTGTCAGCATTCAGCTCGGTGGATGTCAGCCAGCGGTGGAAGGCGTCGTCTCGCT', `mature_seq` = '', `five_p` = '22-43', `three_p` = '64-83' WHERE `loq_interval`.`id` = 55 ; args=(u'chr2R', 2723037, 2723140, u'dme-mir-4976', u'chr2R:2723038-2723140', 103, 55, u'..(((.(.((((((((.(((((.(.(((((.(((((((.(((((.(((((...)))))..))))).))))))).))))).).))))).)))))))).))))..', u'', u'', 5, 0.473, u'-', 2723089, 'http://genome.ucsc.edu/cgi-bin/hgTracks?db=dm3&position=chr2R:2723038-2723140', u'GTCGATGCCGGCGTTTCCCGCTCCAGGCTGTCGTCCATGGAGTTTGTGTTGTCAGCATTCAGCTCGGTGGATGTCAGCCAGCGGTGGAAGGCGTCGTCTCGCT', u'', u'22-43', u'64-83', 55)\n"
       ]
      },
      {
       "output_type": "stream",
       "stream": "stderr",
       "text": [
        "DEBUG:django.db.backends:(0.000) SELECT (1) AS `a` FROM `loq_interval` WHERE `loq_interval`.`id` = 56  LIMIT 1; args=(56,)\n"
       ]
      },
      {
       "output_type": "stream",
       "stream": "stderr",
       "text": [
        "DEBUG:django.db.backends:(0.000) UPDATE `loq_interval` SET `chr` = 'chr2R', `start` = 3294237, `stop` = 3294342, `mirName` = 'dme-mir-4977', `NeatName` = 'chr2R:3294238-3294342', `IntervalSize` = 105, `IntervalSerialNumber` = 56, `Structure` = '.....((((((((.(.....((.(((((((((.(((((((((.((((((...))).))).))))).)))).))))))))).)).....).)))))..))).....', `Annotations` = '', `Tags` = '', `sum_read_counts` = 9, `sum_normReads` = 0.9245, `mapped_strand` = '-', `mid_point` = 3294292, `Link` = 'http://genome.ucsc.edu/cgi-bin/hgTracks?db=dm3&position=chr2R:3294238-3294342', `hairpin_seq` = 'TAACCCTCCGCTCGAGAACGTGGTTTCTTTTGCGACGTGCAATACTCTGTGGCAGAAGTCTTGCACCGTTCCAAAAGAGAGCAGCACGTGGAGCGACGAGAACGG', `mature_seq` = '', `five_p` = '24-44', `three_p` = '59-81' WHERE `loq_interval`.`id` = 56 ; args=(u'chr2R', 3294237, 3294342, u'dme-mir-4977', u'chr2R:3294238-3294342', 105, 56, u'.....((((((((.(.....((.(((((((((.(((((((((.((((((...))).))).))))).)))).))))))))).)).....).)))))..))).....', u'', u'', 9, 0.9245, u'-', 3294292, 'http://genome.ucsc.edu/cgi-bin/hgTracks?db=dm3&position=chr2R:3294238-3294342', u'TAACCCTCCGCTCGAGAACGTGGTTTCTTTTGCGACGTGCAATACTCTGTGGCAGAAGTCTTGCACCGTTCCAAAAGAGAGCAGCACGTGGAGCGACGAGAACGG', u'', u'24-44', u'59-81', 56)\n"
       ]
      },
      {
       "output_type": "stream",
       "stream": "stderr",
       "text": [
        "DEBUG:django.db.backends:(0.000) SELECT (1) AS `a` FROM `loq_interval` WHERE `loq_interval`.`id` = 57  LIMIT 1; args=(57,)\n"
       ]
      },
      {
       "output_type": "stream",
       "stream": "stderr",
       "text": [
        "DEBUG:django.db.backends:(0.000) UPDATE `loq_interval` SET `chr` = 'chr2R', `start` = 3598921, `stop` = 3598981, `mirName` = 'dme-mir-4909', `NeatName` = 'chr2R:3598922-3598981', `IntervalSize` = 60, `IntervalSerialNumber` = 57, `Structure` = '.((((.(((((((((((((((.(((((.....))))).))))))))))).)))).)))).', `Annotations` = '', `Tags` = '', `sum_read_counts` = NULL, `sum_normReads` = NULL, `mapped_strand` = '+', `mid_point` = 3598950, `Link` = 'http://genome.ucsc.edu/cgi-bin/hgTracks?db=dm3&position=chr2R:3598922-3598981', `hairpin_seq` = 'GTAGGTTGAAATCGGATACAACTAAAAGTTATTTTTAATTGTATCCGGTCTTCATTTTAG', `mature_seq` = '', `five_p` = '', `three_p` = '' WHERE `loq_interval`.`id` = 57 ; args=(u'chr2R', 3598921, 3598981, u'dme-mir-4909', u'chr2R:3598922-3598981', 60, 57, u'.((((.(((((((((((((((.(((((.....))))).))))))))))).)))).)))).', u'', u'', u'+', 3598950, 'http://genome.ucsc.edu/cgi-bin/hgTracks?db=dm3&position=chr2R:3598922-3598981', u'GTAGGTTGAAATCGGATACAACTAAAAGTTATTTTTAATTGTATCCGGTCTTCATTTTAG', u'', u'', u'', 57)\n"
       ]
      },
      {
       "output_type": "stream",
       "stream": "stderr",
       "text": [
        "DEBUG:django.db.backends:(0.000) SELECT (1) AS `a` FROM `loq_interval` WHERE `loq_interval`.`id` = 58  LIMIT 1; args=(58,)\n"
       ]
      },
      {
       "output_type": "stream",
       "stream": "stderr",
       "text": [
        "DEBUG:django.db.backends:(0.000) UPDATE `loq_interval` SET `chr` = 'chr2R', `start` = 3673826, `stop` = 3673948, `mirName` = 'dme-mir-4980', `NeatName` = 'chr2R:3673827-3673948', `IntervalSize` = 122, `IntervalSerialNumber` = 58, `Structure` = '..(((((..(((((.(((....((.(((.....(((((((((..((((((..(.(((((((....))).))))).))))))..)))))))))..)))))....)))..)))))....)))))', `Annotations` = '', `Tags` = '', `sum_read_counts` = 7, `sum_normReads` = 0.7666, `mapped_strand` = '+', `mid_point` = 3673888, `Link` = 'http://genome.ucsc.edu/cgi-bin/hgTracks?db=dm3&position=chr2R:3673827-3673948', `hairpin_seq` = 'GAAGAGGCTGAGAGCGGGAAAGTGAGAAGTAGAGAGCGCAGATAGGGAGTGGGAGCTTATACCGTTATAAAGCCAACTTCCGTTCTGCGTTTCGTTCCAACCCCCCACCTCTCTTTCCCTCT', `mature_seq` = '', `five_p` = '', `three_p` = '' WHERE `loq_interval`.`id` = 58 ; args=(u'chr2R', 3673826, 3673948, u'dme-mir-4980', u'chr2R:3673827-3673948', 122, 58, u'..(((((..(((((.(((....((.(((.....(((((((((..((((((..(.(((((((....))).))))).))))))..)))))))))..)))))....)))..)))))....)))))', u'', u'', 7, 0.7666, u'+', 3673888, 'http://genome.ucsc.edu/cgi-bin/hgTracks?db=dm3&position=chr2R:3673827-3673948', u'GAAGAGGCTGAGAGCGGGAAAGTGAGAAGTAGAGAGCGCAGATAGGGAGTGGGAGCTTATACCGTTATAAAGCCAACTTCCGTTCTGCGTTTCGTTCCAACCCCCCACCTCTCTTTCCCTCT', u'', u'', u'', 58)\n"
       ]
      },
      {
       "output_type": "stream",
       "stream": "stderr",
       "text": [
        "DEBUG:django.db.backends:(0.000) SELECT (1) AS `a` FROM `loq_interval` WHERE `loq_interval`.`id` = 59  LIMIT 1; args=(59,)\n"
       ]
      },
      {
       "output_type": "stream",
       "stream": "stderr",
       "text": [
        "DEBUG:django.db.backends:(0.000) UPDATE `loq_interval` SET `chr` = 'chr2R', `start` = 3902753, `stop` = 3902848, `mirName` = 'dme-mir-4981', `NeatName` = 'chr2R:3902754-3902848', `IntervalSize` = 95, `IntervalSerialNumber` = 59, `Structure` = '...(((((.((((.((((((((.((((((((((.((((((.(((...))).)))..)))))))))))))..)))))))).))..)).)))))...', `Annotations` = '', `Tags` = '', `sum_read_counts` = NULL, `sum_normReads` = NULL, `mapped_strand` = '+', `mid_point` = 3902798, `Link` = 'http://genome.ucsc.edu/cgi-bin/hgTracks?db=dm3&position=chr2R:3902754-3902848', `hairpin_seq` = 'TGGCCACGTGCCCGCAAGACGCCTTCGGCCGGCGCAAAGTTTCAATTTGATATTCCTTGGCCGGTCGAGCAGCGTCTTGGGGTTGTTCGTGGATT', `mature_seq` = '', `five_p` = '', `three_p` = '' WHERE `loq_interval`.`id` = 59 ; args=(u'chr2R', 3902753, 3902848, u'dme-mir-4981', u'chr2R:3902754-3902848', 95, 59, u'...(((((.((((.((((((((.((((((((((.((((((.(((...))).)))..)))))))))))))..)))))))).))..)).)))))...', u'', u'', u'+', 3902798, 'http://genome.ucsc.edu/cgi-bin/hgTracks?db=dm3&position=chr2R:3902754-3902848', u'TGGCCACGTGCCCGCAAGACGCCTTCGGCCGGCGCAAAGTTTCAATTTGATATTCCTTGGCCGGTCGAGCAGCGTCTTGGGGTTGTTCGTGGATT', u'', u'', u'', 59)\n"
       ]
      },
      {
       "output_type": "stream",
       "stream": "stderr",
       "text": [
        "DEBUG:django.db.backends:(0.000) SELECT (1) AS `a` FROM `loq_interval` WHERE `loq_interval`.`id` = 60  LIMIT 1; args=(60,)\n"
       ]
      },
      {
       "output_type": "stream",
       "stream": "stderr",
       "text": [
        "DEBUG:django.db.backends:(0.000) UPDATE `loq_interval` SET `chr` = 'chr2R', `start` = 4185610, `stop` = 4185705, `mirName` = 'dme-mir-280', `NeatName` = 'chr2R:4185611-4185705', `IntervalSize` = 95, `IntervalSerialNumber` = 60, `Structure` = '.((((((..(((((.(((.((((((((((((((((...............))))))))))))))))))).)))))....))))))..........', `Annotations` = '', `Tags` = '', `sum_read_counts` = NULL, `sum_normReads` = NULL, `mapped_strand` = '+', `mid_point` = 4185652, `Link` = 'http://genome.ucsc.edu/cgi-bin/hgTracks?db=dm3&position=chr2R:4185611-4185705', `hairpin_seq` = 'TGGCTTTTATGTATTTACGTTGCATATGAAATGATATTTATAGTAAACAGATTATTTTATATGCAGGTATATGCAAGTCGAGGTCCTCCACACTG', `mature_seq` = '', `five_p` = '', `three_p` = '' WHERE `loq_interval`.`id` = 60 ; args=(u'chr2R', 4185610, 4185705, u'dme-mir-280', u'chr2R:4185611-4185705', 95, 60, u'.((((((..(((((.(((.((((((((((((((((...............))))))))))))))))))).)))))....))))))..........', u'', u'', u'+', 4185652, 'http://genome.ucsc.edu/cgi-bin/hgTracks?db=dm3&position=chr2R:4185611-4185705', u'TGGCTTTTATGTATTTACGTTGCATATGAAATGATATTTATAGTAAACAGATTATTTTATATGCAGGTATATGCAAGTCGAGGTCCTCCACACTG', u'', u'', u'', 60)\n"
       ]
      },
      {
       "output_type": "stream",
       "stream": "stderr",
       "text": [
        "DEBUG:django.db.backends:(0.000) SELECT (1) AS `a` FROM `loq_interval` WHERE `loq_interval`.`id` = 61  LIMIT 1; args=(61,)\n"
       ]
      },
      {
       "output_type": "stream",
       "stream": "stderr",
       "text": [
        "DEBUG:django.db.backends:(0.000) UPDATE `loq_interval` SET `chr` = 'chr2R', `start` = 4332486, `stop` = 4332586, `mirName` = 'dme-mir-986', `NeatName` = 'chr2R:4332487-4332586', `IntervalSize` = 100, `IntervalSerialNumber` = 61, `Structure` = '....((((((((.(((...((.(((((((.((((..(((((.......((...))......)))))..)))).))))))).))...))).))))))))..', `Annotations` = '', `Tags` = '', `sum_read_counts` = 2095, `sum_normReads` = 235.3238, `mapped_strand` = '+', `mid_point` = 4332537, `Link` = 'http://genome.ucsc.edu/cgi-bin/hgTracks?db=dm3&position=chr2R:4332487-4332586', `hairpin_seq` = 'CACACCTGAAATTACCCATCTCGAATAGCGTTGTGACTGAGGTAACTGCGCATCGAATCTACTCAGCGGCGAGGCTATTCAAGTAAGGTTATTTTGGGCC', `mature_seq` = '', `five_p` = '19-40', `three_p` = '65-86' WHERE `loq_interval`.`id` = 61 ; args=(u'chr2R', 4332486, 4332586, u'dme-mir-986', u'chr2R:4332487-4332586', 100, 61, u'....((((((((.(((...((.(((((((.((((..(((((.......((...))......)))))..)))).))))))).))...))).))))))))..', u'', u'', 2095, 235.3238, u'+', 4332537, 'http://genome.ucsc.edu/cgi-bin/hgTracks?db=dm3&position=chr2R:4332487-4332586', u'CACACCTGAAATTACCCATCTCGAATAGCGTTGTGACTGAGGTAACTGCGCATCGAATCTACTCAGCGGCGAGGCTATTCAAGTAAGGTTATTTTGGGCC', u'', u'19-40', u'65-86', 61)\n"
       ]
      },
      {
       "output_type": "stream",
       "stream": "stderr",
       "text": [
        "DEBUG:django.db.backends:(0.000) SELECT (1) AS `a` FROM `loq_interval` WHERE `loq_interval`.`id` = 62  LIMIT 1; args=(62,)\n"
       ]
      },
      {
       "output_type": "stream",
       "stream": "stderr",
       "text": [
        "DEBUG:django.db.backends:(0.000) UPDATE `loq_interval` SET `chr` = 'chr2R', `start` = 5200527, `stop` = 5200621, `mirName` = 'dme-mir-987', `NeatName` = 'chr2R:5200528-5200621', `IntervalSize` = 94, `IntervalSerialNumber` = 62, `Structure` = '((((((((((((((..((((((((.(((((..((((((((..(((....)))...))))))))))))))))))))).))).))))))).)))).', `Annotations` = '', `Tags` = '', `sum_read_counts` = 542, `sum_normReads` = 49.8811, `mapped_strand` = '-', `mid_point` = 5200575, `Link` = 'http://genome.ucsc.edu/cgi-bin/hgTracks?db=dm3&position=chr2R:5200528-5200621', `hairpin_seq` = 'TGTTGGACTGTGTTTAAAGTAAATAGTCTGGATTGATGAAAGTTGCATTCGAGAATTCATCAACAGGCATTTACTTCAACTGCAGTTTGAACAA', `mature_seq` = '', `five_p` = '15-38', `three_p` = '59-78' WHERE `loq_interval`.`id` = 62 ; args=(u'chr2R', 5200527, 5200621, u'dme-mir-987', u'chr2R:5200528-5200621', 94, 62, u'((((((((((((((..((((((((.(((((..((((((((..(((....)))...))))))))))))))))))))).))).))))))).)))).', u'', u'', 542, 49.8811, u'-', 5200575, 'http://genome.ucsc.edu/cgi-bin/hgTracks?db=dm3&position=chr2R:5200528-5200621', u'TGTTGGACTGTGTTTAAAGTAAATAGTCTGGATTGATGAAAGTTGCATTCGAGAATTCATCAACAGGCATTTACTTCAACTGCAGTTTGAACAA', u'', u'15-38', u'59-78', 62)\n"
       ]
      },
      {
       "output_type": "stream",
       "stream": "stderr",
       "text": [
        "DEBUG:django.db.backends:(0.000) SELECT (1) AS `a` FROM `loq_interval` WHERE `loq_interval`.`id` = 63  LIMIT 1; args=(63,)\n"
       ]
      },
      {
       "output_type": "stream",
       "stream": "stderr",
       "text": [
        "DEBUG:django.db.backends:(0.000) UPDATE `loq_interval` SET `chr` = 'chr2R', `start` = 5441266, `stop` = 5441329, `mirName` = 'dme-mir-14', `NeatName` = 'chr2R:5441267-5441329', `IntervalSize` = 63, `IntervalSerialNumber` = 63, `Structure` = '((((((((.((((.(((((((.(((((.........))))).))))))).)))).))))))))', `Annotations` = '', `Tags` = '', `sum_read_counts` = 6899249, `sum_normReads` = 649404.052000002, `mapped_strand` = '+', `mid_point` = 5441297, `Link` = 'http://genome.ucsc.edu/cgi-bin/hgTracks?db=dm3&position=chr2R:5441267-5441329', `hairpin_seq` = 'TGTGGGAGCGAGACGGGGACTCACTGTGCTTATTAAATAGTCAGTCTTTTTCTCTCTCCTATA', `mature_seq` = '', `five_p` = '4-25', `three_p` = '41-62' WHERE `loq_interval`.`id` = 63 ; args=(u'chr2R', 5441266, 5441329, u'dme-mir-14', u'chr2R:5441267-5441329', 63, 63, u'((((((((.((((.(((((((.(((((.........))))).))))))).)))).))))))))', u'', u'', 6899249, 649404.052000002, u'+', 5441297, 'http://genome.ucsc.edu/cgi-bin/hgTracks?db=dm3&position=chr2R:5441267-5441329', u'TGTGGGAGCGAGACGGGGACTCACTGTGCTTATTAAATAGTCAGTCTTTTTCTCTCTCCTATA', u'', u'4-25', u'41-62', 63)\n"
       ]
      },
      {
       "output_type": "stream",
       "stream": "stderr",
       "text": [
        "DEBUG:django.db.backends:(0.000) SELECT (1) AS `a` FROM `loq_interval` WHERE `loq_interval`.`id` = 64  LIMIT 1; args=(64,)\n"
       ]
      },
      {
       "output_type": "stream",
       "stream": "stderr",
       "text": [
        "DEBUG:django.db.backends:(0.001) UPDATE `loq_interval` SET `chr` = 'chr2R', `start` = 5508738, `stop` = 5508858, `mirName` = 'dme-mir-307b', `NeatName` = 'chr2R:5508739-5508858', `IntervalSize` = 120, `IntervalSerialNumber` = 64, `Structure` = '.((((..((((......((((.((((...((((((((((...((.(((((((..................))))))).))...))))))))))...)))).)))).....)))).)))).', `Annotations` = '', `Tags` = '', `sum_read_counts` = 1, `sum_normReads` = 0.1861, `mapped_strand` = '+', `mid_point` = 5508798, `Link` = 'http://genome.ucsc.edu/cgi-bin/hgTracks?db=dm3&position=chr2R:5508739-5508858', `hairpin_seq` = 'TAGTTTCGTGGATACTCTGTCCTGCTATCGCTCACTCAAGGAGGTTGTGATGGATACCATATCGAAATAACATCACACCCAGGTTGAGTGAGTCAAAGCAAGACAAAATGCTGCTAACTT', `mature_seq` = '', `five_p` = '32-53', `three_p` = '73-94' WHERE `loq_interval`.`id` = 64 ; args=(u'chr2R', 5508738, 5508858, u'dme-mir-307b', u'chr2R:5508739-5508858', 120, 64, u'.((((..((((......((((.((((...((((((((((...((.(((((((..................))))))).))...))))))))))...)))).)))).....)))).)))).', u'', u'', 1, 0.1861, u'+', 5508798, 'http://genome.ucsc.edu/cgi-bin/hgTracks?db=dm3&position=chr2R:5508739-5508858', u'TAGTTTCGTGGATACTCTGTCCTGCTATCGCTCACTCAAGGAGGTTGTGATGGATACCATATCGAAATAACATCACACCCAGGTTGAGTGAGTCAAAGCAAGACAAAATGCTGCTAACTT', u'', u'32-53', u'73-94', 64)\n"
       ]
      },
      {
       "output_type": "stream",
       "stream": "stderr",
       "text": [
        "DEBUG:django.db.backends:(0.000) SELECT (1) AS `a` FROM `loq_interval` WHERE `loq_interval`.`id` = 65  LIMIT 1; args=(65,)\n"
       ]
      },
      {
       "output_type": "stream",
       "stream": "stderr",
       "text": [
        "DEBUG:django.db.backends:(0.000) UPDATE `loq_interval` SET `chr` = 'chr2R', `start` = 5508755, `stop` = 5508843, `mirName` = 'dme-mir-307a', `NeatName` = 'chr2R:5508756-5508843', `IntervalSize` = 88, `IntervalSerialNumber` = 65, `Structure` = '((((((((((((.(((((((((...((.(((((((.((((.......))))..))))))).))...)))))))))))).)))))))))', `Annotations` = 'loq', `Tags` = '', `sum_read_counts` = 1903, `sum_normReads` = 174.5715, `mapped_strand` = '-', `mid_point` = 5508800, `Link` = 'http://genome.ucsc.edu/cgi-bin/hgTracks?db=dm3&position=chr2R:5508756-5508843', `hairpin_seq` = 'TGTCTTGCTTTGACTCACTCAACCTGGGTGTGATGTTATTTCGATATGGTATCCATCACAACCTCCTTGAGTGAGCGATAGCAGGACA', `mature_seq` = '', `five_p` = '13-34', `three_p` = '56-75' WHERE `loq_interval`.`id` = 65 ; args=(u'chr2R', 5508755, 5508843, u'dme-mir-307a', u'chr2R:5508756-5508843', 88, 65, u'((((((((((((.(((((((((...((.(((((((.((((.......))))..))))))).))...)))))))))))).)))))))))', u'loq', u'', 1903, 174.5715, u'-', 5508800, 'http://genome.ucsc.edu/cgi-bin/hgTracks?db=dm3&position=chr2R:5508756-5508843', u'TGTCTTGCTTTGACTCACTCAACCTGGGTGTGATGTTATTTCGATATGGTATCCATCACAACCTCCTTGAGTGAGCGATAGCAGGACA', u'', u'13-34', u'56-75', 65)\n"
       ]
      },
      {
       "output_type": "stream",
       "stream": "stderr",
       "text": [
        "DEBUG:django.db.backends:(0.000) SELECT (1) AS `a` FROM `loq_interval` WHERE `loq_interval`.`id` = 66  LIMIT 1; args=(66,)\n"
       ]
      },
      {
       "output_type": "stream",
       "stream": "stderr",
       "text": [
        "DEBUG:django.db.backends:(0.000) UPDATE `loq_interval` SET `chr` = 'chr2R', `start` = 5899597, `stop` = 5899704, `mirName` = 'dme-mir-4967', `NeatName` = 'chr2R:5899598-5899704', `IntervalSize` = 107, `IntervalSerialNumber` = 66, `Structure` = '.....(((((((..((((((((..(((((..(.((((.(((((.((.(...........).))))))).)))).)..)))))))))))))...))))..))).....', `Annotations` = '', `Tags` = '', `sum_read_counts` = 1, `sum_normReads` = 0.1861, `mapped_strand` = '-', `mid_point` = 5899651, `Link` = 'http://genome.ucsc.edu/cgi-bin/hgTracks?db=dm3&position=chr2R:5899598-5899704', `hairpin_seq` = 'CTATAGCGTTGTCTCTTGCGCAAATTGCATTTTCTCTCTGTTAACATGTACACATAATTCCTGTAACAAAGGGCATTTGCAATGTGTGAGTCAGCAAACCGCATCCG', `mature_seq` = '', `five_p` = '26-45', `three_p` = '64-85' WHERE `loq_interval`.`id` = 66 ; args=(u'chr2R', 5899597, 5899704, u'dme-mir-4967', u'chr2R:5899598-5899704', 107, 66, u'.....(((((((..((((((((..(((((..(.((((.(((((.((.(...........).))))))).)))).)..)))))))))))))...))))..))).....', u'', u'', 1, 0.1861, u'-', 5899651, 'http://genome.ucsc.edu/cgi-bin/hgTracks?db=dm3&position=chr2R:5899598-5899704', u'CTATAGCGTTGTCTCTTGCGCAAATTGCATTTTCTCTCTGTTAACATGTACACATAATTCCTGTAACAAAGGGCATTTGCAATGTGTGAGTCAGCAAACCGCATCCG', u'', u'26-45', u'64-85', 66)\n"
       ]
      },
      {
       "output_type": "stream",
       "stream": "stderr",
       "text": [
        "DEBUG:django.db.backends:(0.000) SELECT (1) AS `a` FROM `loq_interval` WHERE `loq_interval`.`id` = 67  LIMIT 1; args=(67,)\n"
       ]
      },
      {
       "output_type": "stream",
       "stream": "stderr",
       "text": [
        "DEBUG:django.db.backends:(0.000) UPDATE `loq_interval` SET `chr` = 'chr2R', `start` = 6773037, `stop` = 6773094, `mirName` = 'dme-mir-1008', `NeatName` = 'chr2R:6773038-6773094', `IntervalSize` = 57, `IntervalSerialNumber` = 67, `Structure` = '((((((((..(((((((.(((((.((...)))))))..)))))))..))))))))..', `Annotations` = '', `Tags` = '', `sum_read_counts` = 298, `sum_normReads` = 28.8895, `mapped_strand` = '+', `mid_point` = 6773064, `Link` = 'http://genome.ucsc.edu/cgi-bin/hgTracks?db=dm3&position=chr2R:6773038-6773094', `hairpin_seq` = 'GTAAATATCTAAAGTTGAACTTGGCCAATGGCAAGTCACAGCTTTTTGTGTTTACAG', `mature_seq` = '', `five_p` = '', `three_p` = '' WHERE `loq_interval`.`id` = 67 ; args=(u'chr2R', 6773037, 6773094, u'dme-mir-1008', u'chr2R:6773038-6773094', 57, 67, u'((((((((..(((((((.(((((.((...)))))))..)))))))..))))))))..', u'', u'', 298, 28.8895, u'+', 6773064, 'http://genome.ucsc.edu/cgi-bin/hgTracks?db=dm3&position=chr2R:6773038-6773094', u'GTAAATATCTAAAGTTGAACTTGGCCAATGGCAAGTCACAGCTTTTTGTGTTTACAG', u'', u'', u'', 67)\n"
       ]
      },
      {
       "output_type": "stream",
       "stream": "stderr",
       "text": [
        "DEBUG:django.db.backends:(0.000) SELECT (1) AS `a` FROM `loq_interval` WHERE `loq_interval`.`id` = 68  LIMIT 1; args=(68,)\n"
       ]
      },
      {
       "output_type": "stream",
       "stream": "stderr",
       "text": [
        "DEBUG:django.db.backends:(0.000) UPDATE `loq_interval` SET `chr` = 'chr2R', `start` = 8046376, `stop` = 8046475, `mirName` = 'dme-mir-988', `NeatName` = 'chr2R:8046377-8046475', `IntervalSize` = 99, `IntervalSerialNumber` = 68, `Structure` = '...........((((((((((.((((((.(.((((((((((.(((((.........)))))....)))))))))).).)))))).)))))).))))...', `Annotations` = '', `Tags` = '', `sum_read_counts` = 79176, `sum_normReads` = 7275.20629999999, `mapped_strand` = '-', `mid_point` = 8046424, `Link` = 'http://genome.ucsc.edu/cgi-bin/hgTracks?db=dm3&position=chr2R:8046377-8046475', `hairpin_seq` = 'GACGGCGGTACCGGGCATTTTGGGTGTGTGATTTGTAGCAAAGTGATATGTATTTGATCATCCCCTTGTTGCAAACCTCACGCCAAAGATGATCTGCGA', `mature_seq` = '', `five_p` = '26-47', `three_p` = '62-83' WHERE `loq_interval`.`id` = 68 ; args=(u'chr2R', 8046376, 8046475, u'dme-mir-988', u'chr2R:8046377-8046475', 99, 68, u'...........((((((((((.((((((.(.((((((((((.(((((.........)))))....)))))))))).).)))))).)))))).))))...', u'', u'', 79176, 7275.20629999999, u'-', 8046424, 'http://genome.ucsc.edu/cgi-bin/hgTracks?db=dm3&position=chr2R:8046377-8046475', u'GACGGCGGTACCGGGCATTTTGGGTGTGTGATTTGTAGCAAAGTGATATGTATTTGATCATCCCCTTGTTGCAAACCTCACGCCAAAGATGATCTGCGA', u'', u'26-47', u'62-83', 68)\n"
       ]
      },
      {
       "output_type": "stream",
       "stream": "stderr",
       "text": [
        "DEBUG:django.db.backends:(0.000) SELECT (1) AS `a` FROM `loq_interval` WHERE `loq_interval`.`id` = 69  LIMIT 1; args=(69,)\n"
       ]
      },
      {
       "output_type": "stream",
       "stream": "stderr",
       "text": [
        "DEBUG:django.db.backends:(0.000) UPDATE `loq_interval` SET `chr` = 'chr2R', `start` = 8057657, `stop` = 8057749, `mirName` = 'dme-mir-281-2', `NeatName` = 'chr2R:8057658-8057749', `IntervalSize` = 92, `IntervalSerialNumber` = 69, `Structure` = '(((((.((...(((((((((((..(((((.((((((..((((......)))).....)))))))))))...)))))))))))...)))))))', `Annotations` = '', `Tags` = '', `sum_read_counts` = 8954, `sum_normReads` = 627.5131, `mapped_strand` = '-', `mid_point` = 8057705, `Link` = 'http://genome.ucsc.edu/cgi-bin/hgTracks?db=dm3&position=chr2R:8057658-8057749', `hairpin_seq` = 'CGAATTGTGAAATGAAGAGAGCTATCCGTCGACAGTCAAGTTAAGACCGATTGTAATACTGTCATGGAATTGCTCTCTTTGTATAACATTCG', `mature_seq` = '', `five_p` = '', `three_p` = '' WHERE `loq_interval`.`id` = 69 ; args=(u'chr2R', 8057657, 8057749, u'dme-mir-281-2', u'chr2R:8057658-8057749', 92, 69, u'(((((.((...(((((((((((..(((((.((((((..((((......)))).....)))))))))))...)))))))))))...)))))))', u'', u'', 8954, 627.5131, u'-', 8057705, 'http://genome.ucsc.edu/cgi-bin/hgTracks?db=dm3&position=chr2R:8057658-8057749', u'CGAATTGTGAAATGAAGAGAGCTATCCGTCGACAGTCAAGTTAAGACCGATTGTAATACTGTCATGGAATTGCTCTCTTTGTATAACATTCG', u'', u'', u'', 69)\n"
       ]
      },
      {
       "output_type": "stream",
       "stream": "stderr",
       "text": [
        "DEBUG:django.db.backends:(0.000) SELECT (1) AS `a` FROM `loq_interval` WHERE `loq_interval`.`id` = 70  LIMIT 1; args=(70,)\n"
       ]
      },
      {
       "output_type": "stream",
       "stream": "stderr",
       "text": [
        "DEBUG:django.db.backends:(0.000) UPDATE `loq_interval` SET `chr` = 'chr2R', `start` = 8057877, `stop` = 8057967, `mirName` = 'dme-mir-281-1', `NeatName` = 'chr2R:8057878-8057967', `IntervalSize` = 90, `IntervalSerialNumber` = 70, `Structure` = '((((((.....(((((((((((..(((((.((((((...................)))))))))))...)))))))))))....))))))', `Annotations` = '', `Tags` = '', `sum_read_counts` = 5997, `sum_normReads` = 364.4752, `mapped_strand` = '-', `mid_point` = 8057922, `Link` = 'http://genome.ucsc.edu/cgi-bin/hgTracks?db=dm3&position=chr2R:8057878-8057967', `hairpin_seq` = 'CGAATAAGTGAATAAAGAGAGCTGTCCGTCGACAGTCCAGAAACTATTTAATATCACTGTCATGGAATTGCTCTCTTTGTATAATATTCG', `mature_seq` = '', `five_p` = '', `three_p` = '' WHERE `loq_interval`.`id` = 70 ; args=(u'chr2R', 8057877, 8057967, u'dme-mir-281-1', u'chr2R:8057878-8057967', 90, 70, u'((((((.....(((((((((((..(((((.((((((...................)))))))))))...)))))))))))....))))))', u'', u'', 5997, 364.4752, u'-', 8057922, 'http://genome.ucsc.edu/cgi-bin/hgTracks?db=dm3&position=chr2R:8057878-8057967', u'CGAATAAGTGAATAAAGAGAGCTGTCCGTCGACAGTCCAGAAACTATTTAATATCACTGTCATGGAATTGCTCTCTTTGTATAATATTCG', u'', u'', u'', 70)\n"
       ]
      },
      {
       "output_type": "stream",
       "stream": "stderr",
       "text": [
        "DEBUG:django.db.backends:(0.000) SELECT (1) AS `a` FROM `loq_interval` WHERE `loq_interval`.`id` = 71  LIMIT 1; args=(71,)\n"
       ]
      },
      {
       "output_type": "stream",
       "stream": "stderr",
       "text": [
        "DEBUG:django.db.backends:(0.000) UPDATE `loq_interval` SET `chr` = 'chr2R', `start` = 9216906, `stop` = 9217006, `mirName` = 'dme-mir-184', `NeatName` = 'chr2R:9216907-9217006', `IntervalSize` = 100, `IntervalSerialNumber` = 71, `Structure` = '((....))((((.((.((..((((((((((((((.((((...(((..........)))...)).))))))).)))))))))..)).))))))........', `Annotations` = '', `Tags` = '', `sum_read_counts` = 1110866, `sum_normReads` = 98859.5318, `mapped_strand` = '-', `mid_point` = 9216957, `Link` = 'http://genome.ucsc.edu/cgi-bin/hgTracks?db=dm3&position=chr2R:9216907-9217006', `hairpin_seq` = 'GGTTGGCCGGTGCATTCGTACCCTTATCATTCTCTCGCCCCGTGTGCACTTAAAGACAACTGGACGGAGAACTGATAAGGGCTCGTATCACCAATTCATC', `mature_seq` = '', `five_p` = '22-42', `three_p` = '61-82' WHERE `loq_interval`.`id` = 71 ; args=(u'chr2R', 9216906, 9217006, u'dme-mir-184', u'chr2R:9216907-9217006', 100, 71, u'((....))((((.((.((..((((((((((((((.((((...(((..........)))...)).))))))).)))))))))..)).))))))........', u'', u'', 1110866, 98859.5318, u'-', 9216957, 'http://genome.ucsc.edu/cgi-bin/hgTracks?db=dm3&position=chr2R:9216907-9217006', u'GGTTGGCCGGTGCATTCGTACCCTTATCATTCTCTCGCCCCGTGTGCACTTAAAGACAACTGGACGGAGAACTGATAAGGGCTCGTATCACCAATTCATC', u'', u'22-42', u'61-82', 71)\n"
       ]
      },
      {
       "output_type": "stream",
       "stream": "stderr",
       "text": [
        "DEBUG:django.db.backends:(0.000) SELECT (1) AS `a` FROM `loq_interval` WHERE `loq_interval`.`id` = 72  LIMIT 1; args=(72,)\n"
       ]
      },
      {
       "output_type": "stream",
       "stream": "stderr",
       "text": [
        "DEBUG:django.db.backends:(0.000) UPDATE `loq_interval` SET `chr` = 'chr2R', `start` = 9893364, `stop` = 9893511, `mirName` = 'dme-mir-4978', `NeatName` = 'chr2R:9893365-9893511', `IntervalSize` = 147, `IntervalSerialNumber` = 72, `Structure` = '(..(((.((((((((((..(((.((((.(.(((((((..((((((((....(((.....)))((((..((((...)))).....)))).....))))))))...))))))).)))))....))).)))))))..))).)))..)...', `Annotations` = '', `Tags` = '', `sum_read_counts` = NULL, `sum_normReads` = NULL, `mapped_strand` = '-', `mid_point` = 9893438, `Link` = 'http://genome.ucsc.edu/cgi-bin/hgTracks?db=dm3&position=chr2R:9893365-9893511', `hairpin_seq` = 'GGACTTTCCACTTTTCGTTTGGCTGGCCTGGAAAAGCTCTCTTTCTCTATTGCCTCTATGGCTCGGCAGCGCTGGGCGCCTAATCCGAATTGCGAGAAAGATCCGCTTTTCGAGCCAAAAACCATCGAAAAGCCTGGCAAGCACACA', `mature_seq` = '', `five_p` = '', `three_p` = '' WHERE `loq_interval`.`id` = 72 ; args=(u'chr2R', 9893364, 9893511, u'dme-mir-4978', u'chr2R:9893365-9893511', 147, 72, u'(..(((.((((((((((..(((.((((.(.(((((((..((((((((....(((.....)))((((..((((...)))).....)))).....))))))))...))))))).)))))....))).)))))))..))).)))..)...', u'', u'', u'-', 9893438, 'http://genome.ucsc.edu/cgi-bin/hgTracks?db=dm3&position=chr2R:9893365-9893511', u'GGACTTTCCACTTTTCGTTTGGCTGGCCTGGAAAAGCTCTCTTTCTCTATTGCCTCTATGGCTCGGCAGCGCTGGGCGCCTAATCCGAATTGCGAGAAAGATCCGCTTTTCGAGCCAAAAACCATCGAAAAGCCTGGCAAGCACACA', u'', u'', u'', 72)\n"
       ]
      },
      {
       "output_type": "stream",
       "stream": "stderr",
       "text": [
        "DEBUG:django.db.backends:(0.000) SELECT (1) AS `a` FROM `loq_interval` WHERE `loq_interval`.`id` = 73  LIMIT 1; args=(73,)\n"
       ]
      },
      {
       "output_type": "stream",
       "stream": "stderr",
       "text": [
        "DEBUG:django.db.backends:(0.000) UPDATE `loq_interval` SET `chr` = 'chr2R', `start` = 10032855, `stop` = 10033029, `mirName` = 'dme-mir-989', `NeatName` = 'chr2R:10032856-10033029', `IntervalSize` = 174, `IntervalSerialNumber` = 73, `Structure` = '...(((((((((......(((((((.(((((.(((((((((.(((((((.(((((((.((((((((((.(.(((..(.........)..))).)))).))))))).))).)))).))))))).)...........))))))))))))).)))))))......)))))))))...', `Annotations` = '', `Tags` = '', `sum_read_counts` = 205, `sum_normReads` = 18.3443, `mapped_strand` = '-', `mid_point` = 10032948, `Link` = 'http://genome.ucsc.edu/cgi-bin/hgTracks?db=dm3&position=chr2R:10032856-10033029', `hairpin_seq` = 'AAAGATTTTGGGAATCGGCCACTACCTTGCAGTCACGTGATGAAAAGACACAGGTGACACTGATCCGGATTTGGTAGTTGACAAATCCTCCATGCCGAGATTAGTTTCATTTTGCGTCTTTTGAATTCGAATAGTTCATGTGATGTGACGTAGTGGAACATACCTGAAATTACA', `mature_seq` = '', `five_p` = '17-39', `three_p` = '139-159' WHERE `loq_interval`.`id` = 73 ; args=(u'chr2R', 10032855, 10033029, u'dme-mir-989', u'chr2R:10032856-10033029', 174, 73, u'...(((((((((......(((((((.(((((.(((((((((.(((((((.(((((((.((((((((((.(.(((..(.........)..))).)))).))))))).))).)))).))))))).)...........))))))))))))).)))))))......)))))))))...', u'', u'', 205, 18.3443, u'-', 10032948, 'http://genome.ucsc.edu/cgi-bin/hgTracks?db=dm3&position=chr2R:10032856-10033029', u'AAAGATTTTGGGAATCGGCCACTACCTTGCAGTCACGTGATGAAAAGACACAGGTGACACTGATCCGGATTTGGTAGTTGACAAATCCTCCATGCCGAGATTAGTTTCATTTTGCGTCTTTTGAATTCGAATAGTTCATGTGATGTGACGTAGTGGAACATACCTGAAATTACA', u'', u'17-39', u'139-159', 73)\n"
       ]
      },
      {
       "output_type": "stream",
       "stream": "stderr",
       "text": [
        "DEBUG:django.db.backends:(0.000) SELECT (1) AS `a` FROM `loq_interval` WHERE `loq_interval`.`id` = 74  LIMIT 1; args=(74,)\n"
       ]
      },
      {
       "output_type": "stream",
       "stream": "stderr",
       "text": [
        "DEBUG:django.db.backends:(0.001) UPDATE `loq_interval` SET `chr` = 'chr2R', `start` = 10103306, `stop` = 10103369, `mirName` = 'dme-mir-308', `NeatName` = 'chr2R:10103307-10103369', `IntervalSize` = 63, `IntervalSerialNumber` = 74, `Structure` = '(((((((((((.(((((((.((((..(.((...)).)..)))).))))))).)))))))))))', `Annotations` = '', `Tags` = '', `sum_read_counts` = 6099, `sum_normReads` = 573.4414, `mapped_strand` = '-', `mid_point` = 10103338, `Link` = 'http://genome.ucsc.edu/cgi-bin/hgTracks?db=dm3&position=chr2R:10103307-10103369', `hairpin_seq` = 'CTCGCAGTATATTTTTGTGTTTTGTTTCGTTTTGCAATCCAAATCACAGGATTATACTGTGAG', `mature_seq` = '', `five_p` = '3-24', `three_p` = '42-63' WHERE `loq_interval`.`id` = 74 ; args=(u'chr2R', 10103306, 10103369, u'dme-mir-308', u'chr2R:10103307-10103369', 63, 74, u'(((((((((((.(((((((.((((..(.((...)).)..)))).))))))).)))))))))))', u'', u'', 6099, 573.4414, u'-', 10103338, 'http://genome.ucsc.edu/cgi-bin/hgTracks?db=dm3&position=chr2R:10103307-10103369', u'CTCGCAGTATATTTTTGTGTTTTGTTTCGTTTTGCAATCCAAATCACAGGATTATACTGTGAG', u'', u'3-24', u'42-63', 74)\n"
       ]
      },
      {
       "output_type": "stream",
       "stream": "stderr",
       "text": [
        "DEBUG:django.db.backends:(0.000) SELECT (1) AS `a` FROM `loq_interval` WHERE `loq_interval`.`id` = 75  LIMIT 1; args=(75,)\n"
       ]
      },
      {
       "output_type": "stream",
       "stream": "stderr",
       "text": [
        "DEBUG:django.db.backends:(0.001) UPDATE `loq_interval` SET `chr` = 'chr2R', `start` = 10120634, `stop` = 10120692, `mirName` = 'dme-mir-1016', `NeatName` = 'chr2R:10120635-10120692', `IntervalSize` = 58, `IntervalSerialNumber` = 75, `Structure` = '.(((((((.((((((..((((((((......))))...)))).)))))).))))))).', `Annotations` = '', `Tags` = '', `sum_read_counts` = 98, `sum_normReads` = 9.59039999999999, `mapped_strand` = '-', `mid_point` = 10120665, `Link` = 'http://genome.ucsc.edu/cgi-bin/hgTracks?db=dm3&position=chr2R:10120635-10120692', `hairpin_seq` = 'GTAAGTATAGAGAGGATGTGATTGGTAAATTCCAAAGTTCACCTCTCTCCATACTTAG', `mature_seq` = '', `five_p` = '2-21', `three_p` = '38-58' WHERE `loq_interval`.`id` = 75 ; args=(u'chr2R', 10120634, 10120692, u'dme-mir-1016', u'chr2R:10120635-10120692', 58, 75, u'.(((((((.((((((..((((((((......))))...)))).)))))).))))))).', u'', u'', 98, 9.59039999999999, u'-', 10120665, 'http://genome.ucsc.edu/cgi-bin/hgTracks?db=dm3&position=chr2R:10120635-10120692', u'GTAAGTATAGAGAGGATGTGATTGGTAAATTCCAAAGTTCACCTCTCTCCATACTTAG', u'', u'2-21', u'38-58', 75)\n"
       ]
      },
      {
       "output_type": "stream",
       "stream": "stderr",
       "text": [
        "DEBUG:django.db.backends:(0.000) SELECT (1) AS `a` FROM `loq_interval` WHERE `loq_interval`.`id` = 76  LIMIT 1; args=(76,)\n"
       ]
      },
      {
       "output_type": "stream",
       "stream": "stderr",
       "text": [
        "DEBUG:django.db.backends:(0.000) UPDATE `loq_interval` SET `chr` = 'chr2R', `start` = 11544570, `stop` = 11544668, `mirName` = 'dme-mir-278', `NeatName` = 'chr2R:11544571-11544668', `IntervalSize` = 98, `IntervalSerialNumber` = 76, `Structure` = '..((((((....(((((.(((((((.(((((.((.(((((.(((.......)))))))).))))))).))))))).)))))..)))))).........', `Annotations` = '', `Tags` = '', `sum_read_counts` = 11241, `sum_normReads` = 1085.9185, `mapped_strand` = '+', `mid_point` = 11544617, `Link` = 'http://genome.ucsc.edu/cgi-bin/hgTracks?db=dm3&position=chr2R:11544571-11544668', `hairpin_seq` = 'GTAATGGTACGGTGCGACCGGATGATGGTTCACAACGACCGTGTCATTTAAACGGGTCGGTGGGACTTTCGTCCGTTTGTAACGCCATTTGTCAACGA', `mature_seq` = '', `five_p` = '18-40', `three_p` = '57-78' WHERE `loq_interval`.`id` = 76 ; args=(u'chr2R', 11544570, 11544668, u'dme-mir-278', u'chr2R:11544571-11544668', 98, 76, u'..((((((....(((((.(((((((.(((((.((.(((((.(((.......)))))))).))))))).))))))).)))))..)))))).........', u'', u'', 11241, 1085.9185, u'+', 11544617, 'http://genome.ucsc.edu/cgi-bin/hgTracks?db=dm3&position=chr2R:11544571-11544668', u'GTAATGGTACGGTGCGACCGGATGATGGTTCACAACGACCGTGTCATTTAAACGGGTCGGTGGGACTTTCGTCCGTTTGTAACGCCATTTGTCAACGA', u'', u'18-40', u'57-78', 76)\n"
       ]
      },
      {
       "output_type": "stream",
       "stream": "stderr",
       "text": [
        "DEBUG:django.db.backends:(0.000) SELECT (1) AS `a` FROM `loq_interval` WHERE `loq_interval`.`id` = 77  LIMIT 1; args=(77,)\n"
       ]
      },
      {
       "output_type": "stream",
       "stream": "stderr",
       "text": [
        "DEBUG:django.db.backends:(0.000) UPDATE `loq_interval` SET `chr` = 'chr2R', `start` = 11833391, `stop` = 11833451, `mirName` = 'dme-mir-4919', `NeatName` = 'chr2R:11833392-11833451', `IntervalSize` = 60, `IntervalSerialNumber` = 77, `Structure` = '(((((((....(((((((((..................)))))))))....)))))))..', `Annotations` = '', `Tags` = '', `sum_read_counts` = 4, `sum_normReads` = 0.4076, `mapped_strand` = '+', `mid_point` = 11833419, `Link` = 'http://genome.ucsc.edu/cgi-bin/hgTracks?db=dm3&position=chr2R:11833392-11833451', `hairpin_seq` = 'GTGAGTCTCTAGGGGATTAGCAAGCTATAATTTCTCACTTAATCCCTGAACGACTTGCAG', `mature_seq` = '', `five_p` = '', `three_p` = '' WHERE `loq_interval`.`id` = 77 ; args=(u'chr2R', 11833391, 11833451, u'dme-mir-4919', u'chr2R:11833392-11833451', 60, 77, u'(((((((....(((((((((..................)))))))))....)))))))..', u'', u'', 4, 0.4076, u'+', 11833419, 'http://genome.ucsc.edu/cgi-bin/hgTracks?db=dm3&position=chr2R:11833392-11833451', u'GTGAGTCTCTAGGGGATTAGCAAGCTATAATTTCTCACTTAATCCCTGAACGACTTGCAG', u'', u'', u'', 77)\n"
       ]
      },
      {
       "output_type": "stream",
       "stream": "stderr",
       "text": [
        "DEBUG:django.db.backends:(0.000) SELECT (1) AS `a` FROM `loq_interval` WHERE `loq_interval`.`id` = 78  LIMIT 1; args=(78,)\n"
       ]
      },
      {
       "output_type": "stream",
       "stream": "stderr",
       "text": [
        "DEBUG:django.db.backends:(0.000) UPDATE `loq_interval` SET `chr` = 'chr2R', `start` = 11952758, `stop` = 11952849, `mirName` = 'dme-mir-137', `NeatName` = 'chr2R:11952759-11952849', `IntervalSize` = 91, `IntervalSerialNumber` = 78, `Structure` = '.((((((....(((.((((((((.((((.(((.(((((.((.....))...))))).))))))).)))))))).)))....))))))....', `Annotations` = '', `Tags` = '', `sum_read_counts` = 98, `sum_normReads` = 10.6887, `mapped_strand` = '-', `mid_point` = 11952806, `Link` = 'http://genome.ucsc.edu/cgi-bin/hgTracks?db=dm3&position=chr2R:11952759-11952849', `hairpin_seq` = 'CAATCTCCAATGGCCACGTGTATGCTCGTAGCTATAACCTGAAATCCAAATGTTATTGCTTGAGAATACACGTAGTTCACCGAGATTTGTT', `mature_seq` = '', `five_p` = '16-38', `three_p` = '54-75' WHERE `loq_interval`.`id` = 78 ; args=(u'chr2R', 11952758, 11952849, u'dme-mir-137', u'chr2R:11952759-11952849', 91, 78, u'.((((((....(((.((((((((.((((.(((.(((((.((.....))...))))).))))))).)))))))).)))....))))))....', u'', u'', 98, 10.6887, u'-', 11952806, 'http://genome.ucsc.edu/cgi-bin/hgTracks?db=dm3&position=chr2R:11952759-11952849', u'CAATCTCCAATGGCCACGTGTATGCTCGTAGCTATAACCTGAAATCCAAATGTTATTGCTTGAGAATACACGTAGTTCACCGAGATTTGTT', u'', u'16-38', u'54-75', 78)\n"
       ]
      },
      {
       "output_type": "stream",
       "stream": "stderr",
       "text": [
        "DEBUG:django.db.backends:(0.000) SELECT (1) AS `a` FROM `loq_interval` WHERE `loq_interval`.`id` = 79  LIMIT 1; args=(79,)\n"
       ]
      },
      {
       "output_type": "stream",
       "stream": "stderr",
       "text": [
        "DEBUG:django.db.backends:(0.000) UPDATE `loq_interval` SET `chr` = 'chr2R', `start` = 12718936, `stop` = 12719023, `mirName` = 'dme-mir-8', `NeatName` = 'chr2R:12718937-12719023', `IntervalSize` = 87, `IntervalSerialNumber` = 79, `Structure` = '.(((((((......((((((((((.(((((.((((((.............)))))).))))).))).))))))).....))))))).', `Annotations` = '', `Tags` = '', `sum_read_counts` = 230101, `sum_normReads` = 20763.7605, `mapped_strand` = '+', `mid_point` = 12718979, `Link` = 'http://genome.ucsc.edu/cgi-bin/hgTracks?db=dm3&position=chr2R:12718937-12719023', `hairpin_seq` = 'AAGGACATCTGTTCACATCTTACCGGGCAGCATTAGATCCTTTTTATAACTCTAATACTGTCAGGTAAAGATGTCGTCCGTGTCCTT', `mature_seq` = '', `five_p` = '16-37', `three_p` = '53-75' WHERE `loq_interval`.`id` = 79 ; args=(u'chr2R', 12718936, 12719023, u'dme-mir-8', u'chr2R:12718937-12719023', 87, 79, u'.(((((((......((((((((((.(((((.((((((.............)))))).))))).))).))))))).....))))))).', u'', u'', 230101, 20763.7605, u'+', 12718979, 'http://genome.ucsc.edu/cgi-bin/hgTracks?db=dm3&position=chr2R:12718937-12719023', u'AAGGACATCTGTTCACATCTTACCGGGCAGCATTAGATCCTTTTTATAACTCTAATACTGTCAGGTAAAGATGTCGTCCGTGTCCTT', u'', u'16-37', u'53-75', 79)\n"
       ]
      },
      {
       "output_type": "stream",
       "stream": "stderr",
       "text": [
        "DEBUG:django.db.backends:(0.000) SELECT (1) AS `a` FROM `loq_interval` WHERE `loq_interval`.`id` = 80  LIMIT 1; args=(80,)\n"
       ]
      },
      {
       "output_type": "stream",
       "stream": "stderr",
       "text": [
        "DEBUG:django.db.backends:(0.000) UPDATE `loq_interval` SET `chr` = 'chr2R', `start` = 12782727, `stop` = 12782813, `mirName` = 'dme-mir-990', `NeatName` = 'chr2R:12782728-12782813', `IntervalSize` = 86, `IntervalSerialNumber` = 80, `Structure` = '..(((((.(.((....(((((..(((((((((((((........).))))))))..))))...))))).....)).)...))))).', `Annotations` = '', `Tags` = '', `sum_read_counts` = NULL, `sum_normReads` = NULL, `mapped_strand` = '-', `mid_point` = 12782774, `Link` = 'http://genome.ucsc.edu/cgi-bin/hgTracks?db=dm3&position=chr2R:12782728-12782813', `hairpin_seq` = 'TCTGCTCTGCGACATTCACCGTTCTGAGTTGGCCCCAAGTGCACGTGGGCCAGCTTTCAGCTTCGGTGCCATTTCACCCCGAGCAC', `mature_seq` = '', `five_p` = '14-34', `three_p` = '49-72' WHERE `loq_interval`.`id` = 80 ; args=(u'chr2R', 12782727, 12782813, u'dme-mir-990', u'chr2R:12782728-12782813', 86, 80, u'..(((((.(.((....(((((..(((((((((((((........).))))))))..))))...))))).....)).)...))))).', u'', u'', u'-', 12782774, 'http://genome.ucsc.edu/cgi-bin/hgTracks?db=dm3&position=chr2R:12782728-12782813', u'TCTGCTCTGCGACATTCACCGTTCTGAGTTGGCCCCAAGTGCACGTGGGCCAGCTTTCAGCTTCGGTGCCATTTCACCCCGAGCAC', u'', u'14-34', u'49-72', 80)\n"
       ]
      },
      {
       "output_type": "stream",
       "stream": "stderr",
       "text": [
        "DEBUG:django.db.backends:(0.000) SELECT (1) AS `a` FROM `loq_interval` WHERE `loq_interval`.`id` = 81  LIMIT 1; args=(81,)\n"
       ]
      },
      {
       "output_type": "stream",
       "stream": "stderr",
       "text": [
        "DEBUG:django.db.backends:(0.000) UPDATE `loq_interval` SET `chr` = 'chr2R', `start` = 13653897, `stop` = 13653965, `mirName` = 'dme-mir-3643', `NeatName` = 'chr2R:13653898-13653965', `IntervalSize` = 68, `IntervalSerialNumber` = 81, `Structure` = '..((((.((..(((.((((.(.(((....))).).)))).)))..)).))))................', `Annotations` = '', `Tags` = '', `sum_read_counts` = 31, `sum_normReads` = 3.0794, `mapped_strand` = '-', `mid_point` = 13653939, `Link` = 'http://genome.ucsc.edu/cgi-bin/hgTracks?db=dm3&position=chr2R:13653898-13653965', `hairpin_seq` = 'GTGAGTTTATCTAAATATGCCCATTTATCAATAGTCATACTTATTTATGCTCCTTTAACTCCTTGCAG', `mature_seq` = '', `five_p` = '1-22', `three_p` = '35-56' WHERE `loq_interval`.`id` = 81 ; args=(u'chr2R', 13653897, 13653965, u'dme-mir-3643', u'chr2R:13653898-13653965', 68, 81, u'..((((.((..(((.((((.(.(((....))).).)))).)))..)).))))................', u'', u'', 31, 3.0794, u'-', 13653939, 'http://genome.ucsc.edu/cgi-bin/hgTracks?db=dm3&position=chr2R:13653898-13653965', u'GTGAGTTTATCTAAATATGCCCATTTATCAATAGTCATACTTATTTATGCTCCTTTAACTCCTTGCAG', u'', u'1-22', u'35-56', 81)\n"
       ]
      },
      {
       "output_type": "stream",
       "stream": "stderr",
       "text": [
        "DEBUG:django.db.backends:(0.000) SELECT (1) AS `a` FROM `loq_interval` WHERE `loq_interval`.`id` = 82  LIMIT 1; args=(82,)\n"
       ]
      },
      {
       "output_type": "stream",
       "stream": "stderr",
       "text": [
        "DEBUG:django.db.backends:(0.000) UPDATE `loq_interval` SET `chr` = 'chr2R', `start` = 13671299, `stop` = 13671391, `mirName` = 'dme-mir-31a', `NeatName` = 'chr2R:13671300-13671391', `IntervalSize` = 92, `IntervalSerialNumber` = 82, `Structure` = '((((((((..(((((((.(((((.(((((((((.(...((.((((....)))).))...))))))))))))))).)))))))..))))))))', `Annotations` = '', `Tags` = '', `sum_read_counts` = 125, `sum_normReads` = 13.5141, `mapped_strand` = '-', `mid_point` = 13671345, `Link` = 'http://genome.ucsc.edu/cgi-bin/hgTracks?db=dm3&position=chr2R:13671300-13671391', `hairpin_seq` = 'TCCGTTGGTAAATTGGCAAGATGTCGGCATAGCTGACGTTGAAAAGCGATTTTGAAGAGCGCTATGCTGCATCTAGTCAGTTGTTCAATGGA', `mature_seq` = '', `five_p` = '14-36', `three_p` = '60-81' WHERE `loq_interval`.`id` = 82 ; args=(u'chr2R', 13671299, 13671391, u'dme-mir-31a', u'chr2R:13671300-13671391', 92, 82, u'((((((((..(((((((.(((((.(((((((((.(...((.((((....)))).))...))))))))))))))).)))))))..))))))))', u'', u'', 125, 13.5141, u'-', 13671345, 'http://genome.ucsc.edu/cgi-bin/hgTracks?db=dm3&position=chr2R:13671300-13671391', u'TCCGTTGGTAAATTGGCAAGATGTCGGCATAGCTGACGTTGAAAAGCGATTTTGAAGAGCGCTATGCTGCATCTAGTCAGTTGTTCAATGGA', u'', u'14-36', u'60-81', 82)\n"
       ]
      },
      {
       "output_type": "stream",
       "stream": "stderr",
       "text": [
        "DEBUG:django.db.backends:(0.000) SELECT (1) AS `a` FROM `loq_interval` WHERE `loq_interval`.`id` = 83  LIMIT 1; args=(83,)\n"
       ]
      },
      {
       "output_type": "stream",
       "stream": "stderr",
       "text": [
        "DEBUG:django.db.backends:(0.000) UPDATE `loq_interval` SET `chr` = 'chr2R', `start` = 14607673, `stop` = 14607792, `mirName` = 'dme-mir-4982', `NeatName` = 'chr2R:14607674-14607792', `IntervalSize` = 119, `IntervalSerialNumber` = 83, `Structure` = '(((.(((.((.((((..(((((((.(((((((((((((((..(((..(((((............))))).)))..))))))))))))....)))))))))).))))))..))))))...', `Annotations` = '', `Tags` = '', `sum_read_counts` = NULL, `sum_normReads` = NULL, `mapped_strand` = '+', `mid_point` = 14607730, `Link` = 'http://genome.ucsc.edu/cgi-bin/hgTracks?db=dm3&position=chr2R:14607674-14607792', `hairpin_seq` = 'CCAACTTTGCTGGCATTCGGTGGCCAATAATGCAATTGCATGTCCTTGTTGCTGTTGCAATGTTGCAGCTGGAATTGCAATTGCATTTCTAGTTGCCGCTGCTGCTGCTCGAGTGGCAA', `mature_seq` = '', `five_p` = '30-50', `three_p` = '67-88' WHERE `loq_interval`.`id` = 83 ; args=(u'chr2R', 14607673, 14607792, u'dme-mir-4982', u'chr2R:14607674-14607792', 119, 83, u'(((.(((.((.((((..(((((((.(((((((((((((((..(((..(((((............))))).)))..))))))))))))....)))))))))).))))))..))))))...', u'', u'', u'+', 14607730, 'http://genome.ucsc.edu/cgi-bin/hgTracks?db=dm3&position=chr2R:14607674-14607792', u'CCAACTTTGCTGGCATTCGGTGGCCAATAATGCAATTGCATGTCCTTGTTGCTGTTGCAATGTTGCAGCTGGAATTGCAATTGCATTTCTAGTTGCCGCTGCTGCTGCTCGAGTGGCAA', u'', u'30-50', u'67-88', 83)\n"
       ]
      },
      {
       "output_type": "stream",
       "stream": "stderr",
       "text": [
        "DEBUG:django.db.backends:(0.000) SELECT (1) AS `a` FROM `loq_interval` WHERE `loq_interval`.`id` = 84  LIMIT 1; args=(84,)\n"
       ]
      },
      {
       "output_type": "stream",
       "stream": "stderr",
       "text": [
        "DEBUG:django.db.backends:(0.000) UPDATE `loq_interval` SET `chr` = 'chr2R', `start` = 15524918, `stop` = 15525026, `mirName` = 'dme-mir-4983', `NeatName` = 'chr2R:15524919-15525026', `IntervalSize` = 108, `IntervalSerialNumber` = 84, `Structure` = '((.((((..((.((((.((((((((((...(.((((((((.....((..........)).....)))))))).)...)))))))))).)))).))....)))).))..', `Annotations` = '', `Tags` = '', `sum_read_counts` = NULL, `sum_normReads` = NULL, `mapped_strand` = '+', `mid_point` = 15524969, `Link` = 'http://genome.ucsc.edu/cgi-bin/hgTracks?db=dm3&position=chr2R:15524919-15525026', `hairpin_seq` = 'GGCTGGCTGTCTTGACCCACTTGCTCGTTTGCATTTCTGAAAAATGTATACGCAAAAACCAAAATCAGAAATTCTTTTGAGCAAGTGTGTCATGAAATTGCCATTCGT', `mature_seq` = '', `five_p` = '18-39', `three_p` = '68-89' WHERE `loq_interval`.`id` = 84 ; args=(u'chr2R', 15524918, 15525026, u'dme-mir-4983', u'chr2R:15524919-15525026', 108, 84, u'((.((((..((.((((.((((((((((...(.((((((((.....((..........)).....)))))))).)...)))))))))).)))).))....)))).))..', u'', u'', u'+', 15524969, 'http://genome.ucsc.edu/cgi-bin/hgTracks?db=dm3&position=chr2R:15524919-15525026', u'GGCTGGCTGTCTTGACCCACTTGCTCGTTTGCATTTCTGAAAAATGTATACGCAAAAACCAAAATCAGAAATTCTTTTGAGCAAGTGTGTCATGAAATTGCCATTCGT', u'', u'18-39', u'68-89', 84)\n"
       ]
      },
      {
       "output_type": "stream",
       "stream": "stderr",
       "text": [
        "DEBUG:django.db.backends:(0.000) SELECT (1) AS `a` FROM `loq_interval` WHERE `loq_interval`.`id` = 85  LIMIT 1; args=(85,)\n"
       ]
      },
      {
       "output_type": "stream",
       "stream": "stderr",
       "text": [
        "DEBUG:django.db.backends:(0.000) UPDATE `loq_interval` SET `chr` = 'chr2R', `start` = 15548220, `stop` = 15548300, `mirName` = 'dme-mir-6-3', `NeatName` = 'chr2R:15548221-15548300', `IntervalSize` = 80, `IntervalSerialNumber` = 85, `Structure` = '((((.((((((((((((((((((.((((((((.(((.........))).)))))))))))))))))))))))))).))))', `Annotations` = '', `Tags` = '', `sum_read_counts` = 978, `sum_normReads` = 33.1529, `mapped_strand` = '-', `mid_point` = 15548260, `Link` = 'http://genome.ucsc.edu/cgi-bin/hgTracks?db=dm3&position=chr2R:15548221-15548300', `hairpin_seq` = 'CAAAAAGAAGGGAACGGTTGCTGATGATGTAGTTTGAAACTCTCACAATTTATATCACAGTGGCTGTTCTTTTTTGTTTG', `mature_seq` = '', `five_p` = '', `three_p` = '' WHERE `loq_interval`.`id` = 85 ; args=(u'chr2R', 15548220, 15548300, u'dme-mir-6-3', u'chr2R:15548221-15548300', 80, 85, u'((((.((((((((((((((((((.((((((((.(((.........))).)))))))))))))))))))))))))).))))', u'', u'', 978, 33.1529, u'-', 15548260, 'http://genome.ucsc.edu/cgi-bin/hgTracks?db=dm3&position=chr2R:15548221-15548300', u'CAAAAAGAAGGGAACGGTTGCTGATGATGTAGTTTGAAACTCTCACAATTTATATCACAGTGGCTGTTCTTTTTTGTTTG', u'', u'', u'', 85)\n"
       ]
      },
      {
       "output_type": "stream",
       "stream": "stderr",
       "text": [
        "DEBUG:django.db.backends:(0.000) SELECT (1) AS `a` FROM `loq_interval` WHERE `loq_interval`.`id` = 86  LIMIT 1; args=(86,)\n"
       ]
      },
      {
       "output_type": "stream",
       "stream": "stderr",
       "text": [
        "DEBUG:django.db.backends:(0.000) UPDATE `loq_interval` SET `chr` = 'chr2R', `start` = 15548373, `stop` = 15548447, `mirName` = 'dme-mir-6-2', `NeatName` = 'chr2R:15548374-15548447', `IntervalSize` = 74, `IntervalSerialNumber` = 86, `Structure` = '(((((.((((((((..((((((.(((((((.((((....)).)).)))))))))))))..)))))))).)))))', `Annotations` = '', `Tags` = '', `sum_read_counts` = 935, `sum_normReads` = 29.166, `mapped_strand` = '-', `mid_point` = 15548411, `Link` = 'http://genome.ucsc.edu/cgi-bin/hgTracks?db=dm3&position=chr2R:15548374-15548447', `hairpin_seq` = 'TAACCCAAGGGAACTTCTGCTGCTGATATATTATTGAAAAACTACTATATCACAGTGGCTGTTCTTTTTGGTTG', `mature_seq` = '', `five_p` = '', `three_p` = '' WHERE `loq_interval`.`id` = 86 ; args=(u'chr2R', 15548373, 15548447, u'dme-mir-6-2', u'chr2R:15548374-15548447', 74, 86, u'(((((.((((((((..((((((.(((((((.((((....)).)).)))))))))))))..)))))))).)))))', u'', u'', 935, 29.166, u'-', 15548411, 'http://genome.ucsc.edu/cgi-bin/hgTracks?db=dm3&position=chr2R:15548374-15548447', u'TAACCCAAGGGAACTTCTGCTGCTGATATATTATTGAAAAACTACTATATCACAGTGGCTGTTCTTTTTGGTTG', u'', u'', u'', 86)\n"
       ]
      },
      {
       "output_type": "stream",
       "stream": "stderr",
       "text": [
        "DEBUG:django.db.backends:(0.000) SELECT (1) AS `a` FROM `loq_interval` WHERE `loq_interval`.`id` = 87  LIMIT 1; args=(87,)\n"
       ]
      },
      {
       "output_type": "stream",
       "stream": "stderr",
       "text": [
        "DEBUG:django.db.backends:(0.000) UPDATE `loq_interval` SET `chr` = 'chr2R', `start` = 15548507, `stop` = 15548589, `mirName` = 'dme-mir-6-1', `NeatName` = 'chr2R:15548508-15548589', `IntervalSize` = 82, `IntervalSerialNumber` = 87, `Structure` = '.......((((((((((((((((((((.((((.((...........)).)))).))))))))))))))))))))........', `Annotations` = '', `Tags` = '', `sum_read_counts` = 918, `sum_normReads` = 27.8028, `mapped_strand` = '-', `mid_point` = 15548549, `Link` = 'http://genome.ucsc.edu/cgi-bin/hgTracks?db=dm3&position=chr2R:15548508-15548589', `hairpin_seq` = 'TTTAATGTAGAGGGAATAGTTGCTGTGCTGTAAGTTAATATACCATATCTATATCACAGTGGCTGTTCTTTTTGTACCTAAA', `mature_seq` = '', `five_p` = '', `three_p` = '' WHERE `loq_interval`.`id` = 87 ; args=(u'chr2R', 15548507, 15548589, u'dme-mir-6-1', u'chr2R:15548508-15548589', 82, 87, u'.......((((((((((((((((((((.((((.((...........)).)))).))))))))))))))))))))........', u'', u'', 918, 27.8028, u'-', 15548549, 'http://genome.ucsc.edu/cgi-bin/hgTracks?db=dm3&position=chr2R:15548508-15548589', u'TTTAATGTAGAGGGAATAGTTGCTGTGCTGTAAGTTAATATACCATATCTATATCACAGTGGCTGTTCTTTTTGTACCTAAA', u'', u'', u'', 87)\n"
       ]
      },
      {
       "output_type": "stream",
       "stream": "stderr",
       "text": [
        "DEBUG:django.db.backends:(0.000) SELECT (1) AS `a` FROM `loq_interval` WHERE `loq_interval`.`id` = 88  LIMIT 1; args=(88,)\n"
       ]
      },
      {
       "output_type": "stream",
       "stream": "stderr",
       "text": [
        "DEBUG:django.db.backends:(0.000) UPDATE `loq_interval` SET `chr` = 'chr2R', `start` = 15548662, `stop` = 15548731, `mirName` = 'dme-mir-5', `NeatName` = 'chr2R:15548663-15548731', `IntervalSize` = 69, `IntervalSerialNumber` = 88, `Structure` = '....(((((((.(((((((((((((((.............)))))))))))))))))))))).......', `Annotations` = '', `Tags` = '', `sum_read_counts` = 1921, `sum_normReads` = 164.7956, `mapped_strand` = '-', `mid_point` = 15548698, `Link` = 'http://genome.ucsc.edu/cgi-bin/hgTracks?db=dm3&position=chr2R:15548663-15548731', `hairpin_seq` = 'GCTAAAAGGAACGATCGTTGTGATATGAGTTGTTTCCTAACATATCACAGTGATTTTCCTTTATAACGC', `mature_seq` = '', `five_p` = '5-27', `three_p` = '43-65' WHERE `loq_interval`.`id` = 88 ; args=(u'chr2R', 15548662, 15548731, u'dme-mir-5', u'chr2R:15548663-15548731', 69, 88, u'....(((((((.(((((((((((((((.............)))))))))))))))))))))).......', u'', u'', 1921, 164.7956, u'-', 15548698, 'http://genome.ucsc.edu/cgi-bin/hgTracks?db=dm3&position=chr2R:15548663-15548731', u'GCTAAAAGGAACGATCGTTGTGATATGAGTTGTTTCCTAACATATCACAGTGATTTTCCTTTATAACGC', u'', u'5-27', u'43-65', 88)\n"
       ]
      },
      {
       "output_type": "stream",
       "stream": "stderr",
       "text": [
        "DEBUG:django.db.backends:(0.000) SELECT (1) AS `a` FROM `loq_interval` WHERE `loq_interval`.`id` = 89  LIMIT 1; args=(89,)\n"
       ]
      },
      {
       "output_type": "stream",
       "stream": "stderr",
       "text": [
        "DEBUG:django.db.backends:(0.000) UPDATE `loq_interval` SET `chr` = 'chr2R', `start` = 15548793, `stop` = 15548874, `mirName` = 'dme-mir-4', `NeatName` = 'chr2R:15548794-15548874', `IntervalSize` = 81, `IntervalSerialNumber` = 89, `Structure` = '..(((((.((((((..((((.(((.(((.((..((((((.....)))))).))))).))).))))..)))))).)))))..', `Annotations` = '', `Tags` = '', `sum_read_counts` = 33, `sum_normReads` = 3.1745, `mapped_strand` = '-', `mid_point` = 15548833, `Link` = 'http://genome.ucsc.edu/cgi-bin/hgTracks?db=dm3&position=chr2R:15548794-15548874', `hairpin_seq` = 'TTGCAATTAGTTTCTTTGGTCGTCCAGCCTTAGGTGATTTTTCCGGTCATAAAGCTAGACAACCATTGAAGTTCGTTGTGG', `mature_seq` = '', `five_p` = '14-37', `three_p` = '49-69' WHERE `loq_interval`.`id` = 89 ; args=(u'chr2R', 15548793, 15548874, u'dme-mir-4', u'chr2R:15548794-15548874', 81, 89, u'..(((((.((((((..((((.(((.(((.((..((((((.....)))))).))))).))).))))..)))))).)))))..', u'', u'', 33, 3.1745, u'-', 15548833, 'http://genome.ucsc.edu/cgi-bin/hgTracks?db=dm3&position=chr2R:15548794-15548874', u'TTGCAATTAGTTTCTTTGGTCGTCCAGCCTTAGGTGATTTTTCCGGTCATAAAGCTAGACAACCATTGAAGTTCGTTGTGG', u'', u'14-37', u'49-69', 89)\n"
       ]
      },
      {
       "output_type": "stream",
       "stream": "stderr",
       "text": [
        "DEBUG:django.db.backends:(0.000) SELECT (1) AS `a` FROM `loq_interval` WHERE `loq_interval`.`id` = 90  LIMIT 1; args=(90,)\n"
       ]
      },
      {
       "output_type": "stream",
       "stream": "stderr",
       "text": [
        "DEBUG:django.db.backends:(0.000) UPDATE `loq_interval` SET `chr` = 'chr2R', `start` = 15548926, `stop` = 15549026, `mirName` = 'dme-mir-286', `NeatName` = 'chr2R:15548927-15549026', `IntervalSize` = 100, `IntervalSerialNumber` = 90, `Structure` = '(((((((((....((((.(((((((.(((((.((((......(((....)))........)))).))))).)))).))).))))....)))))))))...', `Annotations` = '', `Tags` = '', `sum_read_counts` = 7931, `sum_normReads` = 671.9963, `mapped_strand` = '-', `mid_point` = 15548980, `Link` = 'http://genome.ucsc.edu/cgi-bin/hgTracks?db=dm3&position=chr2R:15548927-15549026', `hairpin_seq` = 'TTAAAATTGAATGGCGAATGTCGGTATGGTCTCTTTTTCAAAGAAAGGTTTCGATTAAGCGAAGTGACTAGACCGAACACTCGTGCTATAATTTTAAAAT', `mature_seq` = '', `five_p` = '13-34', `three_p` = '65-87' WHERE `loq_interval`.`id` = 90 ; args=(u'chr2R', 15548926, 15549026, u'dme-mir-286', u'chr2R:15548927-15549026', 100, 90, u'(((((((((....((((.(((((((.(((((.((((......(((....)))........)))).))))).)))).))).))))....)))))))))...', u'', u'', 7931, 671.9963, u'-', 15548980, 'http://genome.ucsc.edu/cgi-bin/hgTracks?db=dm3&position=chr2R:15548927-15549026', u'TTAAAATTGAATGGCGAATGTCGGTATGGTCTCTTTTTCAAAGAAAGGTTTCGATTAAGCGAAGTGACTAGACCGAACACTCGTGCTATAATTTTAAAAT', u'', u'13-34', u'65-87', 90)\n"
       ]
      },
      {
       "output_type": "stream",
       "stream": "stderr",
       "text": [
        "DEBUG:django.db.backends:(0.000) SELECT (1) AS `a` FROM `loq_interval` WHERE `loq_interval`.`id` = 91  LIMIT 1; args=(91,)\n"
       ]
      },
      {
       "output_type": "stream",
       "stream": "stderr",
       "text": [
        "DEBUG:django.db.backends:(0.000) UPDATE `loq_interval` SET `chr` = 'chr2R', `start` = 15549099, `stop` = 15549168, `mirName` = 'dme-mir-3', `NeatName` = 'chr2R:15549100-15549168', `IntervalSize` = 69, `IntervalSerialNumber` = 91, `Structure` = '((((.((((((((((.((((.((((.((((.........)))).)))).)))).)))))))))).))))', `Annotations` = '', `Tags` = '', `sum_read_counts` = 405, `sum_normReads` = 36.2572, `mapped_strand` = '-', `mid_point` = 15549134, `Link` = 'http://genome.ucsc.edu/cgi-bin/hgTracks?db=dm3&position=chr2R:15549100-15549168', `hairpin_seq` = 'GATCCTGGGATGCATCTTGTGCAGTTATGTTTCAATCTCACATCACTGGGCAAAGTGTGTCTCAAGATC', `mature_seq` = '', `five_p` = '8-29', `three_p` = '43-64' WHERE `loq_interval`.`id` = 91 ; args=(u'chr2R', 15549099, 15549168, u'dme-mir-3', u'chr2R:15549100-15549168', 69, 91, u'((((.((((((((((.((((.((((.((((.........)))).)))).)))).)))))))))).))))', u'', u'', 405, 36.2572, u'-', 15549134, 'http://genome.ucsc.edu/cgi-bin/hgTracks?db=dm3&position=chr2R:15549100-15549168', u'GATCCTGGGATGCATCTTGTGCAGTTATGTTTCAATCTCACATCACTGGGCAAAGTGTGTCTCAAGATC', u'', u'8-29', u'43-64', 91)\n"
       ]
      },
      {
       "output_type": "stream",
       "stream": "stderr",
       "text": [
        "DEBUG:django.db.backends:(0.000) SELECT (1) AS `a` FROM `loq_interval` WHERE `loq_interval`.`id` = 92  LIMIT 1; args=(92,)\n"
       ]
      },
      {
       "output_type": "stream",
       "stream": "stderr",
       "text": [
        "DEBUG:django.db.backends:(0.000) UPDATE `loq_interval` SET `chr` = 'chr2R', `start` = 15549210, `stop` = 15549279, `mirName` = 'dme-mir-309', `NeatName` = 'chr2R:15549211-15549279', `IntervalSize` = 69, `IntervalSerialNumber` = 92, `Structure` = '((((((.(((((((.(((((((((.(((.(.........).))).))))))))).))))))).))))))', `Annotations` = '', `Tags` = '', `sum_read_counts` = 24, `sum_normReads` = 2.0091, `mapped_strand` = '-', `mid_point` = 15549245, `Link` = 'http://genome.ucsc.edu/cgi-bin/hgTracks?db=dm3&position=chr2R:15549211-15549279', `hairpin_seq` = 'ATTATACGACAAACCTTGTTCGGTTTTGCCAATTTCCAAGCCAGCACTGGGTAAAGTTTGTCCTATAAT', `mature_seq` = '', `five_p` = '7-28', `three_p` = '44-65' WHERE `loq_interval`.`id` = 92 ; args=(u'chr2R', 15549210, 15549279, u'dme-mir-309', u'chr2R:15549211-15549279', 69, 92, u'((((((.(((((((.(((((((((.(((.(.........).))).))))))))).))))))).))))))', u'', u'', 24, 2.0091, u'-', 15549245, 'http://genome.ucsc.edu/cgi-bin/hgTracks?db=dm3&position=chr2R:15549211-15549279', u'ATTATACGACAAACCTTGTTCGGTTTTGCCAATTTCCAAGCCAGCACTGGGTAAAGTTTGTCCTATAAT', u'', u'7-28', u'44-65', 92)\n"
       ]
      },
      {
       "output_type": "stream",
       "stream": "stderr",
       "text": [
        "DEBUG:django.db.backends:(0.000) SELECT (1) AS `a` FROM `loq_interval` WHERE `loq_interval`.`id` = 93  LIMIT 1; args=(93,)\n"
       ]
      },
      {
       "output_type": "stream",
       "stream": "stderr",
       "text": [
        "DEBUG:django.db.backends:(0.000) UPDATE `loq_interval` SET `chr` = 'chr2R', `start` = 16471256, `stop` = 16471345, `mirName` = 'dme-mir-310', `NeatName` = 'chr2R:16471257-16471345', `IntervalSize` = 89, `IntervalSerialNumber` = 93, `Structure` = '.((((..(((((((.(((.((((..(((((.(((((((.(((.....))).))))))))))))..)))).))).)))))))...)))).', `Annotations` = '', `Tags` = '', `sum_read_counts` = 1918, `sum_normReads` = 189.5671, `mapped_strand` = '-', `mid_point` = 16471301, `Link` = 'http://genome.ucsc.edu/cgi-bin/hgTracks?db=dm3&position=chr2R:16471257-16471345', `hairpin_seq` = 'AACATAAACATTTGCAGGGCGGGTCGTGTGTCAGTGTATTTATATCTTAGCTATATTGCACACTTCCCGGCCTTTAAATGTCCAATGTT', `mature_seq` = '', `five_p` = '16-38', `three_p` = '54-75' WHERE `loq_interval`.`id` = 93 ; args=(u'chr2R', 16471256, 16471345, u'dme-mir-310', u'chr2R:16471257-16471345', 89, 93, u'.((((..(((((((.(((.((((..(((((.(((((((.(((.....))).))))))))))))..)))).))).)))))))...)))).', u'', u'', 1918, 189.5671, u'-', 16471301, 'http://genome.ucsc.edu/cgi-bin/hgTracks?db=dm3&position=chr2R:16471257-16471345', u'AACATAAACATTTGCAGGGCGGGTCGTGTGTCAGTGTATTTATATCTTAGCTATATTGCACACTTCCCGGCCTTTAAATGTCCAATGTT', u'', u'16-38', u'54-75', 93)\n"
       ]
      },
      {
       "output_type": "stream",
       "stream": "stderr",
       "text": [
        "DEBUG:django.db.backends:(0.000) SELECT (1) AS `a` FROM `loq_interval` WHERE `loq_interval`.`id` = 94  LIMIT 1; args=(94,)\n"
       ]
      },
      {
       "output_type": "stream",
       "stream": "stderr",
       "text": [
        "DEBUG:django.db.backends:(0.000) UPDATE `loq_interval` SET `chr` = 'chr2R', `start` = 16471381, `stop` = 16471465, `mirName` = 'dme-mir-311', `NeatName` = 'chr2R:16471382-16471465', `IntervalSize` = 84, `IntervalSerialNumber` = 94, `Structure` = '(((.(((.((((((.((.((((..(((.((.((((((((.......))).))))))).)))..)))).)).))))))))).)))', `Annotations` = 'loq', `Tags` = 'lit: reduced abundance in loqs mutants?', `sum_read_counts` = 415, `sum_normReads` = 46.319, `mapped_strand` = '-', `mid_point` = 16471423, `Link` = 'http://genome.ucsc.edu/cgi-bin/hgTracks?db=dm3&position=chr2R:16471382-16471465', `hairpin_seq` = 'TCTAGATCATTTTTCGGACGGTATATGGGTTAATATTTCATTTGTCGAATATATTGCACATTCACCGGCCTGAAAATATCAAGA', `mature_seq` = '', `five_p` = '15-37', `three_p` = '52-73' WHERE `loq_interval`.`id` = 94 ; args=(u'chr2R', 16471381, 16471465, u'dme-mir-311', u'chr2R:16471382-16471465', 84, 94, u'(((.(((.((((((.((.((((..(((.((.((((((((.......))).))))))).)))..)))).)).))))))))).)))', u'loq', u'lit: reduced abundance in loqs mutants?', 415, 46.319, u'-', 16471423, 'http://genome.ucsc.edu/cgi-bin/hgTracks?db=dm3&position=chr2R:16471382-16471465', u'TCTAGATCATTTTTCGGACGGTATATGGGTTAATATTTCATTTGTCGAATATATTGCACATTCACCGGCCTGAAAATATCAAGA', u'', u'15-37', u'52-73', 94)\n"
       ]
      },
      {
       "output_type": "stream",
       "stream": "stderr",
       "text": [
        "DEBUG:django.db.backends:(0.000) SELECT (1) AS `a` FROM `loq_interval` WHERE `loq_interval`.`id` = 95  LIMIT 1; args=(95,)\n"
       ]
      },
      {
       "output_type": "stream",
       "stream": "stderr",
       "text": [
        "DEBUG:django.db.backends:(0.000) UPDATE `loq_interval` SET `chr` = 'chr2R', `start` = 16471560, `stop` = 16471626, `mirName` = 'dme-mir-312', `NeatName` = 'chr2R:16471561-16471626', `IntervalSize` = 66, `IntervalSerialNumber` = 95, `Structure` = '((((.(((.((((.((((.(((((.(((...........))).))))).)))).))))))).))))', `Annotations` = '', `Tags` = '', `sum_read_counts` = 3678, `sum_normReads` = 371.9804, `mapped_strand` = '-', `mid_point` = 16471593, `Link` = 'http://genome.ucsc.edu/cgi-bin/hgTracks?db=dm3&position=chr2R:16471561-16471626', `hairpin_seq` = 'GATTTGGTTCGTCACAAGGGCAATTCTGCATTTTTTAACTAGTATTGCACTTGAGACGGCCTGATT', `mature_seq` = '', `five_p` = '5-27', `three_p` = '43-64' WHERE `loq_interval`.`id` = 95 ; args=(u'chr2R', 16471560, 16471626, u'dme-mir-312', u'chr2R:16471561-16471626', 66, 95, u'((((.(((.((((.((((.(((((.(((...........))).))))).)))).))))))).))))', u'', u'', 3678, 371.9804, u'-', 16471593, 'http://genome.ucsc.edu/cgi-bin/hgTracks?db=dm3&position=chr2R:16471561-16471626', u'GATTTGGTTCGTCACAAGGGCAATTCTGCATTTTTTAACTAGTATTGCACTTGAGACGGCCTGATT', u'', u'5-27', u'43-64', 95)\n"
       ]
      },
      {
       "output_type": "stream",
       "stream": "stderr",
       "text": [
        "DEBUG:django.db.backends:(0.000) SELECT (1) AS `a` FROM `loq_interval` WHERE `loq_interval`.`id` = 96  LIMIT 1; args=(96,)\n"
       ]
      },
      {
       "output_type": "stream",
       "stream": "stderr",
       "text": [
        "DEBUG:django.db.backends:(0.000) UPDATE `loq_interval` SET `chr` = 'chr2R', `start` = 16471694, `stop` = 16471765, `mirName` = 'dme-mir-313', `NeatName` = 'chr2R:16471695-16471765', `IntervalSize` = 71, `IntervalSerialNumber` = 96, `Structure` = '((((((.((((.(((.((..((((((((...............)))))))).)).))).))))..))))))', `Annotations` = '', `Tags` = '', `sum_read_counts` = 349, `sum_normReads` = 35.2464, `mapped_strand` = '-', `mid_point` = 16471730, `Link` = 'http://genome.ucsc.edu/cgi-bin/hgTracks?db=dm3&position=chr2R:16471695-16471765', `hairpin_seq` = 'ATTTTCTGCTGCGGATGGGGGCAGTACTGTTTTTTTAACATTGAGTATTGCACTTTTCACAGCCCGAAAAT', `mature_seq` = '', `five_p` = '7-28', `three_p` = '46-67' WHERE `loq_interval`.`id` = 96 ; args=(u'chr2R', 16471694, 16471765, u'dme-mir-313', u'chr2R:16471695-16471765', 71, 96, u'((((((.((((.(((.((..((((((((...............)))))))).)).))).))))..))))))', u'', u'', 349, 35.2464, u'-', 16471730, 'http://genome.ucsc.edu/cgi-bin/hgTracks?db=dm3&position=chr2R:16471695-16471765', u'ATTTTCTGCTGCGGATGGGGGCAGTACTGTTTTTTTAACATTGAGTATTGCACTTTTCACAGCCCGAAAAT', u'', u'7-28', u'46-67', 96)\n"
       ]
      },
      {
       "output_type": "stream",
       "stream": "stderr",
       "text": [
        "DEBUG:django.db.backends:(0.000) SELECT (1) AS `a` FROM `loq_interval` WHERE `loq_interval`.`id` = 97  LIMIT 1; args=(97,)\n"
       ]
      },
      {
       "output_type": "stream",
       "stream": "stderr",
       "text": [
        "DEBUG:django.db.backends:(0.000) UPDATE `loq_interval` SET `chr` = 'chr2R', `start` = 16472213, `stop` = 16472325, `mirName` = 'dme-mir-2498', `NeatName` = 'chr2R:16472214-16472325', `IntervalSize` = 112, `IntervalSerialNumber` = 97, `Structure` = '(((.((((..........((.((((((((((.(((.(..(((((...(((((((.....)))))))..)))))..).))))))).)))))).))...........)))))))', `Annotations` = '', `Tags` = '', `sum_read_counts` = 25, `sum_normReads` = 3.0142, `mapped_strand` = '-', `mid_point` = 16472269, `Link` = 'http://genome.ucsc.edu/cgi-bin/hgTracks?db=dm3&position=chr2R:16472214-16472325', `hairpin_seq` = 'CACATTTGCCATAATCTCCTTAAAATAGTAAAGGCTGTTATGCTTATTTTTGTGTTTTTTACAAAACTGGCATTCCCGTCTTACTTATTTTCAGAAAACTTACACCAAAGTG', `mature_seq` = '', `five_p` = '29-52', `three_p` = '64-86' WHERE `loq_interval`.`id` = 97 ; args=(u'chr2R', 16472213, 16472325, u'dme-mir-2498', u'chr2R:16472214-16472325', 112, 97, u'(((.((((..........((.((((((((((.(((.(..(((((...(((((((.....)))))))..)))))..).))))))).)))))).))...........)))))))', u'', u'', 25, 3.0142, u'-', 16472269, 'http://genome.ucsc.edu/cgi-bin/hgTracks?db=dm3&position=chr2R:16472214-16472325', u'CACATTTGCCATAATCTCCTTAAAATAGTAAAGGCTGTTATGCTTATTTTTGTGTTTTTTACAAAACTGGCATTCCCGTCTTACTTATTTTCAGAAAACTTACACCAAAGTG', u'', u'29-52', u'64-86', 97)\n"
       ]
      },
      {
       "output_type": "stream",
       "stream": "stderr",
       "text": [
        "DEBUG:django.db.backends:(0.000) SELECT (1) AS `a` FROM `loq_interval` WHERE `loq_interval`.`id` = 98  LIMIT 1; args=(98,)\n"
       ]
      },
      {
       "output_type": "stream",
       "stream": "stderr",
       "text": [
        "DEBUG:django.db.backends:(0.000) UPDATE `loq_interval` SET `chr` = 'chr2R', `start` = 16472704, `stop` = 16472800, `mirName` = 'dme-mir-991', `NeatName` = 'chr2R:16472705-16472800', `IntervalSize` = 96, `IntervalSerialNumber` = 98, `Structure` = '......(((((..(((((.((((((.(((((((.((.((((((...............)))))))).))))))).)))))).)))))..)))))..', `Annotations` = '', `Tags` = '', `sum_read_counts` = 318, `sum_normReads` = 30.872, `mapped_strand` = '-', `mid_point` = 16472750, `Link` = 'http://genome.ucsc.edu/cgi-bin/hgTracks?db=dm3&position=chr2R:16472705-16472800', `hairpin_seq` = 'TATCACTGCAGTTTCAGGCTTTTCCCAACTACACCTATTAATACATATTTTAACGTCCTATTAAAGTTGTAGTTTGGAAAGTTTTGGTTTTGCATT', `mature_seq` = '', `five_p` = '21-42', `three_p` = '61-82' WHERE `loq_interval`.`id` = 98 ; args=(u'chr2R', 16472704, 16472800, u'dme-mir-991', u'chr2R:16472705-16472800', 96, 98, u'......(((((..(((((.((((((.(((((((.((.((((((...............)))))))).))))))).)))))).)))))..)))))..', u'', u'', 318, 30.872, u'-', 16472750, 'http://genome.ucsc.edu/cgi-bin/hgTracks?db=dm3&position=chr2R:16472705-16472800', u'TATCACTGCAGTTTCAGGCTTTTCCCAACTACACCTATTAATACATATTTTAACGTCCTATTAAAGTTGTAGTTTGGAAAGTTTTGGTTTTGCATT', u'', u'21-42', u'61-82', 98)\n"
       ]
      },
      {
       "output_type": "stream",
       "stream": "stderr",
       "text": [
        "DEBUG:django.db.backends:(0.000) SELECT (1) AS `a` FROM `loq_interval` WHERE `loq_interval`.`id` = 99  LIMIT 1; args=(99,)\n"
       ]
      },
      {
       "output_type": "stream",
       "stream": "stderr",
       "text": [
        "DEBUG:django.db.backends:(0.000) UPDATE `loq_interval` SET `chr` = 'chr2R', `start` = 16472818, `stop` = 16472910, `mirName` = 'dme-mir-992', `NeatName` = 'chr2R:16472819-16472910', `IntervalSize` = 92, `IntervalSerialNumber` = 99, `Structure` = '(((((((.((((((.(((((((((.(((((((.(((((.(((....))).))))))))).)))))))))))).)))))).).))))))....', `Annotations` = '', `Tags` = '', `sum_read_counts` = 11, `sum_normReads` = 1.1647, `mapped_strand` = '-', `mid_point` = 16472867, `Link` = 'http://genome.ucsc.edu/cgi-bin/hgTracks?db=dm3&position=chr2R:16472819-16472910', `hairpin_seq` = 'ATTTTCCCAAGTGCCTGGTATCAGCAAAGTGTTATTTTTTATGTTTATGTAAAGTACACGTTTCTGGTACTAAGTACTTCGAGAAAGTTACC', `mature_seq` = '', `five_p` = '16-37', `three_p` = '53-74' WHERE `loq_interval`.`id` = 99 ; args=(u'chr2R', 16472818, 16472910, u'dme-mir-992', u'chr2R:16472819-16472910', 92, 99, u'(((((((.((((((.(((((((((.(((((((.(((((.(((....))).))))))))).)))))))))))).)))))).).))))))....', u'', u'', 11, 1.1647, u'-', 16472867, 'http://genome.ucsc.edu/cgi-bin/hgTracks?db=dm3&position=chr2R:16472819-16472910', u'ATTTTCCCAAGTGCCTGGTATCAGCAAAGTGTTATTTTTTATGTTTATGTAAAGTACACGTTTCTGGTACTAAGTACTTCGAGAAAGTTACC', u'', u'16-37', u'53-74', 99)\n"
       ]
      },
      {
       "output_type": "stream",
       "stream": "stderr",
       "text": [
        "DEBUG:django.db.backends:(0.000) SELECT (1) AS `a` FROM `loq_interval` WHERE `loq_interval`.`id` = 100  LIMIT 1; args=(100,)\n"
       ]
      },
      {
       "output_type": "stream",
       "stream": "stderr",
       "text": [
        "DEBUG:django.db.backends:(0.000) UPDATE `loq_interval` SET `chr` = 'chr2R', `start` = 16493571, `stop` = 16493659, `mirName` = 'dme-mir-7', `NeatName` = 'chr2R:16493572-16493659', `IntervalSize` = 88, `IntervalSerialNumber` = 100, `Structure` = '((((((((.(((((.(((((((.((.(((((.((((((....(....)....))))))))))).)).)))))))))))).))))))))', `Annotations` = '', `Tags` = '', `sum_read_counts` = 89013, `sum_normReads` = 8734.89909999999, `mapped_strand` = '+', `mid_point` = 16493615, `Link` = 'http://genome.ucsc.edu/cgi-bin/hgTracks?db=dm3&position=chr2R:16493572-16493659', `hairpin_seq` = 'GAGTGCATTCCGTATGGAAGACTAGTGATTTTGTTGTTTGGTCTTTGGTAATAACAATAAATCCCTTGTCTTCTTACGGCGTGCATTT', `mature_seq` = '', `five_p` = '15-37', `three_p` = '55-76' WHERE `loq_interval`.`id` = 100 ; args=(u'chr2R', 16493571, 16493659, u'dme-mir-7', u'chr2R:16493572-16493659', 88, 100, u'((((((((.(((((.(((((((.((.(((((.((((((....(....)....))))))))))).)).)))))))))))).))))))))', u'', u'', 89013, 8734.89909999999, u'+', 16493615, 'http://genome.ucsc.edu/cgi-bin/hgTracks?db=dm3&position=chr2R:16493572-16493659', u'GAGTGCATTCCGTATGGAAGACTAGTGATTTTGTTGTTTGGTCTTTGGTAATAACAATAAATCCCTTGTCTTCTTACGGCGTGCATTT', u'', u'15-37', u'55-76', 100)\n"
       ]
      },
      {
       "output_type": "stream",
       "stream": "stderr",
       "text": [
        "DEBUG:django.db.backends:(0.000) SELECT (1) AS `a` FROM `loq_interval` WHERE `loq_interval`.`id` = 101  LIMIT 1; args=(101,)\n"
       ]
      },
      {
       "output_type": "stream",
       "stream": "stderr",
       "text": [
        "DEBUG:django.db.backends:(0.000) UPDATE `loq_interval` SET `chr` = 'chr2R', `start` = 18872733, `stop` = 18872842, `mirName` = 'dme-mir-4939', `NeatName` = 'chr2R:18872734-18872842', `IntervalSize` = 109, `IntervalSerialNumber` = 101, `Structure` = '(((((....(((..((.(((((.((((((((((((((((((..((((((((...)))).)))).))))))))).))))))).)).))))).))..)))...)).)))..', `Annotations` = '', `Tags` = '', `sum_read_counts` = NULL, `sum_normReads` = NULL, `mapped_strand` = '-', `mid_point` = 18872790, `Link` = 'http://genome.ucsc.edu/cgi-bin/hgTracks?db=dm3&position=chr2R:18872734-18872842', `hairpin_seq` = 'GCATCATGCTTCTGCGATCTCTACCAATTTTCCTTGCACTCTTTGTCCTTTCCAAAAGTGACACGGGTGCAGGTGAAGATTCGGAAGAGGACGACGAAAACGACTGCAA', `mature_seq` = '', `five_p` = '', `three_p` = '' WHERE `loq_interval`.`id` = 101 ; args=(u'chr2R', 18872733, 18872842, u'dme-mir-4939', u'chr2R:18872734-18872842', 109, 101, u'(((((....(((..((.(((((.((((((((((((((((((..((((((((...)))).)))).))))))))).))))))).)).))))).))..)))...)).)))..', u'', u'', u'-', 18872790, 'http://genome.ucsc.edu/cgi-bin/hgTracks?db=dm3&position=chr2R:18872734-18872842', u'GCATCATGCTTCTGCGATCTCTACCAATTTTCCTTGCACTCTTTGTCCTTTCCAAAAGTGACACGGGTGCAGGTGAAGATTCGGAAGAGGACGACGAAAACGACTGCAA', u'', u'', u'', 101)\n"
       ]
      },
      {
       "output_type": "stream",
       "stream": "stderr",
       "text": [
        "DEBUG:django.db.backends:(0.000) SELECT (1) AS `a` FROM `loq_interval` WHERE `loq_interval`.`id` = 102  LIMIT 1; args=(102,)\n"
       ]
      },
      {
       "output_type": "stream",
       "stream": "stderr",
       "text": [
        "DEBUG:django.db.backends:(0.000) UPDATE `loq_interval` SET `chr` = 'chr2R', `start` = 19621555, `stop` = 19621664, `mirName` = 'dme-mir-4979', `NeatName` = 'chr2R:19621556-19621664', `IntervalSize` = 109, `IntervalSerialNumber` = 102, `Structure` = '((.((((((.........(((.(((((((((((..((..((((((((..((.......))..)))))))).))..))))))))))).)))......)))))).))....', `Annotations` = '', `Tags` = '', `sum_read_counts` = 1, `sum_normReads` = 0.0655, `mapped_strand` = '-', `mid_point` = 19621610, `Link` = 'http://genome.ucsc.edu/cgi-bin/hgTracks?db=dm3&position=chr2R:19621556-19621664', `hairpin_seq` = 'CATAGGTGTTATATCTAGGCCAAATATATATACTTGTTCTATGTATTAGTTATTTGCAAAGGAATACATGTGCCTGTATATATATTCGGTAAAATCACATCTTTGAATT', `mature_seq` = '', `five_p` = '26-47', `three_p` = '64-85' WHERE `loq_interval`.`id` = 102 ; args=(u'chr2R', 19621555, 19621664, u'dme-mir-4979', u'chr2R:19621556-19621664', 109, 102, u'((.((((((.........(((.(((((((((((..((..((((((((..((.......))..)))))))).))..))))))))))).)))......)))))).))....', u'', u'', 1, 0.0655, u'-', 19621610, 'http://genome.ucsc.edu/cgi-bin/hgTracks?db=dm3&position=chr2R:19621556-19621664', u'CATAGGTGTTATATCTAGGCCAAATATATATACTTGTTCTATGTATTAGTTATTTGCAAAGGAATACATGTGCCTGTATATATATTCGGTAAAATCACATCTTTGAATT', u'', u'26-47', u'64-85', 102)\n"
       ]
      },
      {
       "output_type": "stream",
       "stream": "stderr",
       "text": [
        "DEBUG:django.db.backends:(0.000) SELECT (1) AS `a` FROM `loq_interval` WHERE `loq_interval`.`id` = 103  LIMIT 1; args=(103,)\n"
       ]
      },
      {
       "output_type": "stream",
       "stream": "stderr",
       "text": [
        "DEBUG:django.db.backends:(0.000) UPDATE `loq_interval` SET `chr` = 'chr2R', `start` = 19880576, `stop` = 19880637, `mirName` = 'dme-mir-1009', `NeatName` = 'chr2R:19880577-19880637', `IntervalSize` = 61, `IntervalSerialNumber` = 103, `Structure` = '..((((((((.(.(((.(((((.(((.(.....).))).)))))))).).))))))))...', `Annotations` = '', `Tags` = '', `sum_read_counts` = 34, `sum_normReads` = 3.9756, `mapped_strand` = '-', `mid_point` = 19880607, `Link` = 'http://genome.ucsc.edu/cgi-bin/hgTracks?db=dm3&position=chr2R:19880577-19880637', `hairpin_seq` = 'GTAAGTGTAAGACTTTCTTGAGTTACCCGCGATGAGTATCTCAAAAATTGTTACATTTCAG', `mature_seq` = '', `five_p` = '', `three_p` = '' WHERE `loq_interval`.`id` = 103 ; args=(u'chr2R', 19880576, 19880637, u'dme-mir-1009', u'chr2R:19880577-19880637', 61, 103, u'..((((((((.(.(((.(((((.(((.(.....).))).)))))))).).))))))))...', u'', u'', 34, 3.9756, u'-', 19880607, 'http://genome.ucsc.edu/cgi-bin/hgTracks?db=dm3&position=chr2R:19880577-19880637', u'GTAAGTGTAAGACTTTCTTGAGTTACCCGCGATGAGTATCTCAAAAATTGTTACATTTCAG', u'', u'', u'', 103)\n"
       ]
      },
      {
       "output_type": "stream",
       "stream": "stderr",
       "text": [
        "DEBUG:django.db.backends:(0.000) SELECT (1) AS `a` FROM `loq_interval` WHERE `loq_interval`.`id` = 104  LIMIT 1; args=(104,)\n"
       ]
      },
      {
       "output_type": "stream",
       "stream": "stderr",
       "text": [
        "DEBUG:django.db.backends:(0.000) UPDATE `loq_interval` SET `chr` = 'chr2R', `start` = 20181753, `stop` = 20181854, `mirName` = 'dme-mir-4985', `NeatName` = 'chr2R:20181754-20181854', `IntervalSize` = 101, `IntervalSerialNumber` = 104, `Structure` = '.(((((((..(((....))).....((((((.((((((.(.(((((((((...........)))))).))).).)))))).)))))).)))..))))....', `Annotations` = '', `Tags` = '', `sum_read_counts` = NULL, `sum_normReads` = NULL, `mapped_strand` = '+', `mid_point` = 20181808, `Link` = 'http://genome.ucsc.edu/cgi-bin/hgTracks?db=dm3&position=chr2R:20181754-20181854', `hairpin_seq` = 'TTGGGGGCGCTGCACTGGCATTGAAAAGTGAATTACATTGATCGTGACATGGGAATGGAAAATGTCGCCGAGCCATGTAAATCGTTTGGCCTACCCGTCTA', `mature_seq` = '', `five_p` = '29-50', `three_p` = '65-86' WHERE `loq_interval`.`id` = 104 ; args=(u'chr2R', 20181753, 20181854, u'dme-mir-4985', u'chr2R:20181754-20181854', 101, 104, u'.(((((((..(((....))).....((((((.((((((.(.(((((((((...........)))))).))).).)))))).)))))).)))..))))....', u'', u'', u'+', 20181808, 'http://genome.ucsc.edu/cgi-bin/hgTracks?db=dm3&position=chr2R:20181754-20181854', u'TTGGGGGCGCTGCACTGGCATTGAAAAGTGAATTACATTGATCGTGACATGGGAATGGAAAATGTCGCCGAGCCATGTAAATCGTTTGGCCTACCCGTCTA', u'', u'29-50', u'65-86', 104)\n"
       ]
      },
      {
       "output_type": "stream",
       "stream": "stderr",
       "text": [
        "DEBUG:django.db.backends:(0.000) SELECT (1) AS `a` FROM `loq_interval` WHERE `loq_interval`.`id` = 105  LIMIT 1; args=(105,)\n"
       ]
      },
      {
       "output_type": "stream",
       "stream": "stderr",
       "text": [
        "DEBUG:django.db.backends:(0.000) UPDATE `loq_interval` SET `chr` = 'chr2RHet', `start` = 1322832, `stop` = 1322945, `mirName` = 'dme-mir-2279', `NeatName` = 'chr2RHet:1322833-1322945', `IntervalSize` = 113, `IntervalSerialNumber` = 105, `Structure` = '(((......((((((...(((((..(((((.(((((((((.((((((((((((.((....)).)))))))))))).))))))))).)))))...)))))..))))))..))).', `Annotations` = '', `Tags` = '', `sum_read_counts` = 980, `sum_normReads` = 48.8434, `mapped_strand` = '-', `mid_point` = 1322888, `Link` = 'http://genome.ucsc.edu/cgi-bin/hgTracks?db=dm3&position=chr2RHet:1322833-1322945', `hairpin_seq` = 'CGGGAGAGGATTATGAAAGACAATTTGAAATTAAATATCTGTGTGTGAAATTATTTAAAAGATTAATTTCACGCGAAGATATTTATTTTTACATTTGTCCCTATAATAACCGG', `mature_seq` = '', `five_p` = '31-52', `three_p` = '67-88' WHERE `loq_interval`.`id` = 105 ; args=(u'chr2RHet', 1322832, 1322945, u'dme-mir-2279', u'chr2RHet:1322833-1322945', 113, 105, u'(((......((((((...(((((..(((((.(((((((((.((((((((((((.((....)).)))))))))))).))))))))).)))))...)))))..))))))..))).', u'', u'', 980, 48.8434, u'-', 1322888, 'http://genome.ucsc.edu/cgi-bin/hgTracks?db=dm3&position=chr2RHet:1322833-1322945', u'CGGGAGAGGATTATGAAAGACAATTTGAAATTAAATATCTGTGTGTGAAATTATTTAAAAGATTAATTTCACGCGAAGATATTTATTTTTACATTTGTCCCTATAATAACCGG', u'', u'31-52', u'67-88', 105)\n"
       ]
      },
      {
       "output_type": "stream",
       "stream": "stderr",
       "text": [
        "DEBUG:django.db.backends:(0.000) SELECT (1) AS `a` FROM `loq_interval` WHERE `loq_interval`.`id` = 106  LIMIT 1; args=(106,)\n"
       ]
      },
      {
       "output_type": "stream",
       "stream": "stderr",
       "text": [
        "DEBUG:django.db.backends:(0.000) UPDATE `loq_interval` SET `chr` = 'chr3L', `start` = 642207, `stop` = 642288, `mirName` = 'dme-bantam', `NeatName` = 'chr3L:642208-642288', `IntervalSize` = 81, `IntervalSerialNumber` = 106, `Structure` = '........((((((.((((((((((..((((((.(((((.......)).))).))))))..)))))))))).))))))...', `Annotations` = '', `Tags` = '', `sum_read_counts` = 14027685, `sum_normReads` = 1276743.098, `mapped_strand` = '+', `mid_point` = 642249, `Link` = 'http://genome.ucsc.edu/cgi-bin/hgTracks?db=dm3&position=chr3L:642208-642288', `hairpin_seq` = 'ATTTGACTACGAAACCGGTTTTCGATTTGGTTTGACTGTTTTTCATACAAGTGAGATCATTTTGAAAGCTGATTTTGTCAA', `mature_seq` = '', `five_p` = '15-37', `three_p` = '52-74' WHERE `loq_interval`.`id` = 106 ; args=(u'chr3L', 642207, 642288, u'dme-bantam', u'chr3L:642208-642288', 81, 106, u'........((((((.((((((((((..((((((.(((((.......)).))).))))))..)))))))))).))))))...', u'', u'', 14027685, 1276743.098, u'+', 642249, 'http://genome.ucsc.edu/cgi-bin/hgTracks?db=dm3&position=chr3L:642208-642288', u'ATTTGACTACGAAACCGGTTTTCGATTTGGTTTGACTGTTTTTCATACAAGTGAGATCATTTTGAAAGCTGATTTTGTCAA', u'', u'15-37', u'52-74', 106)\n"
       ]
      },
      {
       "output_type": "stream",
       "stream": "stderr",
       "text": [
        "DEBUG:django.db.backends:(0.000) SELECT (1) AS `a` FROM `loq_interval` WHERE `loq_interval`.`id` = 107  LIMIT 1; args=(107,)\n"
       ]
      },
      {
       "output_type": "stream",
       "stream": "stderr",
       "text": [
        "DEBUG:django.db.backends:(0.000) UPDATE `loq_interval` SET `chr` = 'chr3L', `start` = 3251021, `stop` = 3251118, `mirName` = 'dme-mir-282', `NeatName` = 'chr3L:3251022-3251118', `IntervalSize` = 97, `IntervalSerialNumber` = 107, `Structure` = '.((((((((....(((((((((((..((((((.((((((..(...........)..)))))).))))))..))))))))))).....)))).)))).', `Annotations` = '', `Tags` = '', `sum_read_counts` = 857787, `sum_normReads` = 80528.7103000002, `mapped_strand` = '+', `mid_point` = 3251068, `Link` = 'http://genome.ucsc.edu/cgi-bin/hgTracks?db=dm3&position=chr3L:3251022-3251118', `hairpin_seq` = 'AGTTTCCTTCTAAATCTAGCCTCTACTAGGCTTTGTCTGTGCATTCGAAAGCCGATCAGACATAGCCTATAAGAGGTTAGGTGTACCAAGGCGAACA', `mature_seq` = '', `five_p` = '17-40', `three_p` = '60-81' WHERE `loq_interval`.`id` = 107 ; args=(u'chr3L', 3251021, 3251118, u'dme-mir-282', u'chr3L:3251022-3251118', 97, 107, u'.((((((((....(((((((((((..((((((.((((((..(...........)..)))))).))))))..))))))))))).....)))).)))).', u'', u'', 857787, 80528.7103000002, u'+', 3251068, 'http://genome.ucsc.edu/cgi-bin/hgTracks?db=dm3&position=chr3L:3251022-3251118', u'AGTTTCCTTCTAAATCTAGCCTCTACTAGGCTTTGTCTGTGCATTCGAAAGCCGATCAGACATAGCCTATAAGAGGTTAGGTGTACCAAGGCGAACA', u'', u'17-40', u'60-81', 107)\n"
       ]
      },
      {
       "output_type": "stream",
       "stream": "stderr",
       "text": [
        "DEBUG:django.db.backends:(0.000) SELECT (1) AS `a` FROM `loq_interval` WHERE `loq_interval`.`id` = 108  LIMIT 1; args=(108,)\n"
       ]
      },
      {
       "output_type": "stream",
       "stream": "stderr",
       "text": [
        "DEBUG:django.db.backends:(0.000) UPDATE `loq_interval` SET `chr` = 'chr3L', `start` = 3299054, `stop` = 3299151, `mirName` = 'dme-mir-955', `NeatName` = 'chr3L:3299055-3299151', `IntervalSize` = 97, `IntervalSerialNumber` = 108, `Structure` = '....(((..((((.(((.(((((.((((((((.((((((..................)))))))))))))).))))).))).))))..)))......', `Annotations` = '', `Tags` = '', `sum_read_counts` = 21, `sum_normReads` = 2.3813, `mapped_strand` = '+', `mid_point` = 3299101, `Link` = 'http://genome.ucsc.edu/cgi-bin/hgTracks?db=dm3&position=chr3L:3299055-3299151', `hairpin_seq` = 'GGCCAGCTAATCAACTCCATCGTGCAGAGGTTTGAGTGTCCTGTGTTTTGCCTAATCGCATTCAATTTCTGAACGGTAGAGATGGTACGCTTAGAAA', `mature_seq` = '', `five_p` = '18-40', `three_p` = '59-80' WHERE `loq_interval`.`id` = 108 ; args=(u'chr3L', 3299054, 3299151, u'dme-mir-955', u'chr3L:3299055-3299151', 97, 108, u'....(((..((((.(((.(((((.((((((((.((((((..................)))))))))))))).))))).))).))))..)))......', u'', u'', 21, 2.3813, u'+', 3299101, 'http://genome.ucsc.edu/cgi-bin/hgTracks?db=dm3&position=chr3L:3299055-3299151', u'GGCCAGCTAATCAACTCCATCGTGCAGAGGTTTGAGTGTCCTGTGTTTTGCCTAATCGCATTCAATTTCTGAACGGTAGAGATGGTACGCTTAGAAA', u'', u'18-40', u'59-80', 108)\n"
       ]
      },
      {
       "output_type": "stream",
       "stream": "stderr",
       "text": [
        "DEBUG:django.db.backends:(0.000) SELECT (1) AS `a` FROM `loq_interval` WHERE `loq_interval`.`id` = 109  LIMIT 1; args=(109,)\n"
       ]
      },
      {
       "output_type": "stream",
       "stream": "stderr",
       "text": [
        "DEBUG:django.db.backends:(0.000) UPDATE `loq_interval` SET `chr` = 'chr3L', `start` = 3412144, `stop` = 3412251, `mirName` = 'dme-mir-2282', `NeatName` = 'chr3L:3412145-3412251', `IntervalSize` = 107, `IntervalSerialNumber` = 109, `Structure` = '.(((.......((.(((((...(((.((((((((((.((((((((.....(.(......).)....)))))))).))))))))))..)))..)))))))....))).', `Annotations` = '', `Tags` = '', `sum_read_counts` = 82, `sum_normReads` = 7.5416, `mapped_strand` = '-', `mid_point` = 3412196, `Link` = 'http://genome.ucsc.edu/cgi-bin/hgTracks?db=dm3&position=chr3L:3412145-3412251', `hairpin_seq` = 'GCCTGCATAACGCTGTGGCTTTCCGCTTCTATTTTTCGTTCACTGCCTTGTGCTTCGTTGGAAAATCGGTGAGCTAAAAATAGAATTCGGTTGCCACGCTTCAAGGG', `mature_seq` = '', `five_p` = '', `three_p` = '' WHERE `loq_interval`.`id` = 109 ; args=(u'chr3L', 3412144, 3412251, u'dme-mir-2282', u'chr3L:3412145-3412251', 107, 109, u'.(((.......((.(((((...(((.((((((((((.((((((((.....(.(......).)....)))))))).))))))))))..)))..)))))))....))).', u'', u'', 82, 7.5416, u'-', 3412196, 'http://genome.ucsc.edu/cgi-bin/hgTracks?db=dm3&position=chr3L:3412145-3412251', u'GCCTGCATAACGCTGTGGCTTTCCGCTTCTATTTTTCGTTCACTGCCTTGTGCTTCGTTGGAAAATCGGTGAGCTAAAAATAGAATTCGGTTGCCACGCTTCAAGGG', u'', u'', u'', 109)\n"
       ]
      },
      {
       "output_type": "stream",
       "stream": "stderr",
       "text": [
        "DEBUG:django.db.backends:(0.000) SELECT (1) AS `a` FROM `loq_interval` WHERE `loq_interval`.`id` = 110  LIMIT 1; args=(110,)\n"
       ]
      },
      {
       "output_type": "stream",
       "stream": "stderr",
       "text": [
        "DEBUG:django.db.backends:(0.000) UPDATE `loq_interval` SET `chr` = 'chr3L', `start` = 8104206, `stop` = 8104277, `mirName` = 'dme-mir-2501', `NeatName` = 'chr3L:8104207-8104277', `IntervalSize` = 71, `IntervalSerialNumber` = 110, `Structure` = '..((((((((..(((..(((.((((...(((......))).)))).)))..))).))))))))........', `Annotations` = '', `Tags` = '', `sum_read_counts` = 47, `sum_normReads` = 5.0196, `mapped_strand` = '+', `mid_point` = 8104239, `Link` = 'http://genome.ucsc.edu/cgi-bin/hgTracks?db=dm3&position=chr3L:8104207-8104277', `hairpin_seq` = 'GTAAGTTTGGAGTGCCTGGGCTAAGAACTTCCATTCTGAAACTTAACTCTTGCAATCAAACTTTCTTTCAG', `mature_seq` = '', `five_p` = '1-23', `three_p` = '46-67' WHERE `loq_interval`.`id` = 110 ; args=(u'chr3L', 8104206, 8104277, u'dme-mir-2501', u'chr3L:8104207-8104277', 71, 110, u'..((((((((..(((..(((.((((...(((......))).)))).)))..))).))))))))........', u'', u'', 47, 5.0196, u'+', 8104239, 'http://genome.ucsc.edu/cgi-bin/hgTracks?db=dm3&position=chr3L:8104207-8104277', u'GTAAGTTTGGAGTGCCTGGGCTAAGAACTTCCATTCTGAAACTTAACTCTTGCAATCAAACTTTCTTTCAG', u'', u'1-23', u'46-67', 110)\n"
       ]
      },
      {
       "output_type": "stream",
       "stream": "stderr",
       "text": [
        "DEBUG:django.db.backends:(0.000) SELECT (1) AS `a` FROM `loq_interval` WHERE `loq_interval`.`id` = 111  LIMIT 1; args=(111,)\n"
       ]
      },
      {
       "output_type": "stream",
       "stream": "stderr",
       "text": [
        "DEBUG:django.db.backends:(0.000) UPDATE `loq_interval` SET `chr` = 'chr3L', `start` = 8347283, `stop` = 8347341, `mirName` = 'dme-mir-4913', `NeatName` = 'chr3L:8347284-8347341', `IntervalSize` = 58, `IntervalSerialNumber` = 111, `Structure` = '.(((((((((((((.....((((((.....))))))....)))).))))...))))).', `Annotations` = '', `Tags` = '', `sum_read_counts` = 1, `sum_normReads` = 0.0655, `mapped_strand` = '-', `mid_point` = 8347314, `Link` = 'http://genome.ucsc.edu/cgi-bin/hgTracks?db=dm3&position=chr3L:8347284-8347341', `hairpin_seq` = 'GTGAGTTCGATTGGAAAATTTAAATTTAATGTTTAATTAACCAATTCGAATTGCTTAG', `mature_seq` = '', `five_p` = '', `three_p` = '' WHERE `loq_interval`.`id` = 111 ; args=(u'chr3L', 8347283, 8347341, u'dme-mir-4913', u'chr3L:8347284-8347341', 58, 111, u'.(((((((((((((.....((((((.....))))))....)))).))))...))))).', u'', u'', 1, 0.0655, u'-', 8347314, 'http://genome.ucsc.edu/cgi-bin/hgTracks?db=dm3&position=chr3L:8347284-8347341', u'GTGAGTTCGATTGGAAAATTTAAATTTAATGTTTAATTAACCAATTCGAATTGCTTAG', u'', u'', u'', 111)\n"
       ]
      },
      {
       "output_type": "stream",
       "stream": "stderr",
       "text": [
        "DEBUG:django.db.backends:(0.000) SELECT (1) AS `a` FROM `loq_interval` WHERE `loq_interval`.`id` = 112  LIMIT 1; args=(112,)\n"
       ]
      },
      {
       "output_type": "stream",
       "stream": "stderr",
       "text": [
        "DEBUG:django.db.backends:(0.000) UPDATE `loq_interval` SET `chr` = 'chr3L', `start` = 8564898, `stop` = 8564998, `mirName` = 'dme-mir-190', `NeatName` = 'chr3L:8564899-8564998', `IntervalSize` = 100, `IntervalSerialNumber` = 112, `Structure` = '.........(((.((((.((((((((((((((((((..((((((.((...............)).)))))))))))))))))).)))))).)))).))).', `Annotations` = '', `Tags` = '', `sum_read_counts` = 47137, `sum_normReads` = 4490.22759999998, `mapped_strand` = '+', `mid_point` = 8564952, `Link` = 'http://genome.ucsc.edu/cgi-bin/hgTracks?db=dm3&position=chr3L:8564899-8564998', `hairpin_seq` = 'CGAACTAATTGATGGTTCCAGTGAGATATGTTTGATATTCTTGGTTGTTTCATTCAAAAGTTCACCCAGGAATCAAACATATTATTACTGTGACCCTCGC', `mature_seq` = '', `five_p` = '24-47', `three_p` = '65-86' WHERE `loq_interval`.`id` = 112 ; args=(u'chr3L', 8564898, 8564998, u'dme-mir-190', u'chr3L:8564899-8564998', 100, 112, u'.........(((.((((.((((((((((((((((((..((((((.((...............)).)))))))))))))))))).)))))).)))).))).', u'', u'', 47137, 4490.22759999998, u'+', 8564952, 'http://genome.ucsc.edu/cgi-bin/hgTracks?db=dm3&position=chr3L:8564899-8564998', u'CGAACTAATTGATGGTTCCAGTGAGATATGTTTGATATTCTTGGTTGTTTCATTCAAAAGTTCACCCAGGAATCAAACATATTATTACTGTGACCCTCGC', u'', u'24-47', u'65-86', 112)\n"
       ]
      },
      {
       "output_type": "stream",
       "stream": "stderr",
       "text": [
        "DEBUG:django.db.backends:(0.000) SELECT (1) AS `a` FROM `loq_interval` WHERE `loq_interval`.`id` = 113  LIMIT 1; args=(113,)\n"
       ]
      },
      {
       "output_type": "stream",
       "stream": "stderr",
       "text": [
        "DEBUG:django.db.backends:(0.000) UPDATE `loq_interval` SET `chr` = 'chr3L', `start` = 9137692, `stop` = 9137797, `mirName` = 'dme-mir-4940', `NeatName` = 'chr3L:9137693-9137797', `IntervalSize` = 105, `IntervalSerialNumber` = 113, `Structure` = '...(((.........(((((((((((.((.(((((((.(((......................)))))))))).)).)))))))))))..........)))....', `Annotations` = '', `Tags` = '', `sum_read_counts` = NULL, `sum_normReads` = NULL, `mapped_strand` = '+', `mid_point` = 9137743, `Link` = 'http://genome.ucsc.edu/cgi-bin/hgTracks?db=dm3&position=chr3L:9137693-9137797', `hairpin_seq` = 'TTATCGCAACTTATCGATCGGGTGGCGGATATAGATCATTGGTTATCCCTTAATTAAAGCAAACAAGATTTGTTTCGGCCGCCCGATTTTACATACAACGACACG', `mature_seq` = '', `five_p` = '23-44', `three_p` = '62-83' WHERE `loq_interval`.`id` = 113 ; args=(u'chr3L', 9137692, 9137797, u'dme-mir-4940', u'chr3L:9137693-9137797', 105, 113, u'...(((.........(((((((((((.((.(((((((.(((......................)))))))))).)).)))))))))))..........)))....', u'', u'', u'+', 9137743, 'http://genome.ucsc.edu/cgi-bin/hgTracks?db=dm3&position=chr3L:9137693-9137797', u'TTATCGCAACTTATCGATCGGGTGGCGGATATAGATCATTGGTTATCCCTTAATTAAAGCAAACAAGATTTGTTTCGGCCGCCCGATTTTACATACAACGACACG', u'', u'23-44', u'62-83', 113)\n"
       ]
      },
      {
       "output_type": "stream",
       "stream": "stderr",
       "text": [
        "DEBUG:django.db.backends:(0.000) SELECT (1) AS `a` FROM `loq_interval` WHERE `loq_interval`.`id` = 114  LIMIT 1; args=(114,)\n"
       ]
      },
      {
       "output_type": "stream",
       "stream": "stderr",
       "text": [
        "DEBUG:django.db.backends:(0.000) UPDATE `loq_interval` SET `chr` = 'chr3L', `start` = 9726758, `stop` = 9726880, `mirName` = 'dme-mir-4986', `NeatName` = 'chr3L:9726759-9726880', `IntervalSize` = 122, `IntervalSerialNumber` = 114, `Structure` = '((((((.((....)).((((((((.((((((((((((((((((.(((.((((.((.(........).))))))))))))).)))).))))).))))).))))))))......))))))....', `Annotations` = '', `Tags` = '', `sum_read_counts` = 2, `sum_normReads` = 0.156, `mapped_strand` = '-', `mid_point` = 9726820, `Link` = 'http://genome.ucsc.edu/cgi-bin/hgTracks?db=dm3&position=chr3L:9726759-9726880', `hairpin_seq` = 'TTCTGCCGCTTTTGCTGTGGCTTCTCTGCATGGGATTCCCCATTCTGCATGGCGCCGATCTCTGCCAGCCCATCGGATGGCGGAACTTCCAGTGCAGCGAGGTCGCTTCTCTGCAGGATCTG', `mature_seq` = '', `five_p` = '31-53', `three_p` = '70-90' WHERE `loq_interval`.`id` = 114 ; args=(u'chr3L', 9726758, 9726880, u'dme-mir-4986', u'chr3L:9726759-9726880', 122, 114, u'((((((.((....)).((((((((.((((((((((((((((((.(((.((((.((.(........).))))))))))))).)))).))))).))))).))))))))......))))))....', u'', u'', 2, 0.156, u'-', 9726820, 'http://genome.ucsc.edu/cgi-bin/hgTracks?db=dm3&position=chr3L:9726759-9726880', u'TTCTGCCGCTTTTGCTGTGGCTTCTCTGCATGGGATTCCCCATTCTGCATGGCGCCGATCTCTGCCAGCCCATCGGATGGCGGAACTTCCAGTGCAGCGAGGTCGCTTCTCTGCAGGATCTG', u'', u'31-53', u'70-90', 114)\n"
       ]
      },
      {
       "output_type": "stream",
       "stream": "stderr",
       "text": [
        "DEBUG:django.db.backends:(0.000) SELECT (1) AS `a` FROM `loq_interval` WHERE `loq_interval`.`id` = 115  LIMIT 1; args=(115,)\n"
       ]
      },
      {
       "output_type": "stream",
       "stream": "stderr",
       "text": [
        "DEBUG:django.db.backends:(0.000) UPDATE `loq_interval` SET `chr` = 'chr3L', `start` = 10312884, `stop` = 10312983, `mirName` = 'dme-mir-276b', `NeatName` = 'chr3L:10312885-10312983', `IntervalSize` = 99, `IntervalSerialNumber` = 115, `Structure` = '.....(((((((((....(((..((((.(((((.(((((((((((..............))))))))))).))))).))))..))))))))).)))...', `Annotations` = '', `Tags` = '', `sum_read_counts` = 15923, `sum_normReads` = 826.5823, `mapped_strand` = '+', `mid_point` = 10312935, `Link` = 'http://genome.ucsc.edu/cgi-bin/hgTracks?db=dm3&position=chr3L:10312885-10312983', `hairpin_seq` = 'AAAACCGAAGTCTTTTTACCATCAGCGAGGTATAGAGTTCCTACGTTCCTATATTCAGTCGTAGGAACTTAATACCGTGCTCTTGGAGGACTGTCGACC', `mature_seq` = '', `five_p` = '23-45', `three_p` = '62-83' WHERE `loq_interval`.`id` = 115 ; args=(u'chr3L', 10312884, 10312983, u'dme-mir-276b', u'chr3L:10312885-10312983', 99, 115, u'.....(((((((((....(((..((((.(((((.(((((((((((..............))))))))))).))))).))))..))))))))).)))...', u'', u'', 15923, 826.5823, u'+', 10312935, 'http://genome.ucsc.edu/cgi-bin/hgTracks?db=dm3&position=chr3L:10312885-10312983', u'AAAACCGAAGTCTTTTTACCATCAGCGAGGTATAGAGTTCCTACGTTCCTATATTCAGTCGTAGGAACTTAATACCGTGCTCTTGGAGGACTGTCGACC', u'', u'23-45', u'62-83', 115)\n"
       ]
      },
      {
       "output_type": "stream",
       "stream": "stderr",
       "text": [
        "DEBUG:django.db.backends:(0.000) SELECT (1) AS `a` FROM `loq_interval` WHERE `loq_interval`.`id` = 116  LIMIT 1; args=(116,)\n"
       ]
      },
      {
       "output_type": "stream",
       "stream": "stderr",
       "text": [
        "DEBUG:django.db.backends:(0.000) UPDATE `loq_interval` SET `chr` = 'chr3L', `start` = 10358327, `stop` = 10358425, `mirName` = 'dme-mir-276a', `NeatName` = 'chr3L:10358328-10358425', `IntervalSize` = 98, `IntervalSerialNumber` = 116, `Structure` = '..(((((((..(((..((((.(((((.(((((((((((.............))))))))))).))))).))))..)))))))))).............', `Annotations` = '', `Tags` = '', `sum_read_counts` = 859365, `sum_normReads` = 79523.1182999999, `mapped_strand` = '+', `mid_point` = 10358371, `Link` = 'http://genome.ucsc.edu/cgi-bin/hgTracks?db=dm3&position=chr3L:10358328-10358425', `hairpin_seq` = 'CCTGGTTTTTGCCATCAGCGAGGTATAGAGTTCCTACGTTCATTATAAACTCGTAGGAACTTCATACCGTGCTCTTGGAAGACCAAAAAACAACCAAG', `mature_seq` = '', `five_p` = '23-45', `three_p` = '54-75' WHERE `loq_interval`.`id` = 116 ; args=(u'chr3L', 10358327, 10358425, u'dme-mir-276a', u'chr3L:10358328-10358425', 98, 116, u'..(((((((..(((..((((.(((((.(((((((((((.............))))))))))).))))).))))..)))))))))).............', u'', u'', 859365, 79523.1182999999, u'+', 10358371, 'http://genome.ucsc.edu/cgi-bin/hgTracks?db=dm3&position=chr3L:10358328-10358425', u'CCTGGTTTTTGCCATCAGCGAGGTATAGAGTTCCTACGTTCATTATAAACTCGTAGGAACTTCATACCGTGCTCTTGGAAGACCAAAAAACAACCAAG', u'', u'23-45', u'54-75', 116)\n"
       ]
      },
      {
       "output_type": "stream",
       "stream": "stderr",
       "text": [
        "DEBUG:django.db.backends:(0.000) SELECT (1) AS `a` FROM `loq_interval` WHERE `loq_interval`.`id` = 117  LIMIT 1; args=(117,)\n"
       ]
      },
      {
       "output_type": "stream",
       "stream": "stderr",
       "text": [
        "DEBUG:django.db.backends:(0.000) UPDATE `loq_interval` SET `chr` = 'chr3L', `start` = 11545638, `stop` = 11545793, `mirName` = 'dme-mir-4968', `NeatName` = 'chr3L:11545639-11545793', `IntervalSize` = 155, `IntervalSerialNumber` = 117, `Structure` = '.....(((..(((.((...((((....(((....(((((((((((..((.(((((..(.(((.((((((.((.((........)).)).))))))))).)..)))))))..))))))))))).....)))....))))...)).)))..)))...', `Annotations` = '', `Tags` = '', `sum_read_counts` = 57, `sum_normReads` = 2.1995, `mapped_strand` = '-', `mid_point` = 11545715, `Link` = 'http://genome.ucsc.edu/cgi-bin/hgTracks?db=dm3&position=chr3L:11545639-11545793', `hairpin_seq` = 'TTTTCCTCAGAGCCGCGACTGCTGGCGTGTTATTGTTGCTGTTGCAGCTAGCTGCCACGGTTTGTTGCTTCACTGATTACGCGCAATGCAGCAACAGCAGCAGCAGCAGAAGCAACAGCAACTAACTGCAGAGGAGCAATAGCAGCTGAGAGTTC', `mature_seq` = '', `five_p` = '', `three_p` = '' WHERE `loq_interval`.`id` = 117 ; args=(u'chr3L', 11545638, 11545793, u'dme-mir-4968', u'chr3L:11545639-11545793', 155, 117, u'.....(((..(((.((...((((....(((....(((((((((((..((.(((((..(.(((.((((((.((.((........)).)).))))))))).)..)))))))..))))))))))).....)))....))))...)).)))..)))...', u'', u'', 57, 2.1995, u'-', 11545715, 'http://genome.ucsc.edu/cgi-bin/hgTracks?db=dm3&position=chr3L:11545639-11545793', u'TTTTCCTCAGAGCCGCGACTGCTGGCGTGTTATTGTTGCTGTTGCAGCTAGCTGCCACGGTTTGTTGCTTCACTGATTACGCGCAATGCAGCAACAGCAGCAGCAGCAGAAGCAACAGCAACTAACTGCAGAGGAGCAATAGCAGCTGAGAGTTC', u'', u'', u'', 117)\n"
       ]
      },
      {
       "output_type": "stream",
       "stream": "stderr",
       "text": [
        "DEBUG:django.db.backends:(0.000) SELECT (1) AS `a` FROM `loq_interval` WHERE `loq_interval`.`id` = 118  LIMIT 1; args=(118,)\n"
       ]
      },
      {
       "output_type": "stream",
       "stream": "stderr",
       "text": [
        "DEBUG:django.db.backends:(0.000) UPDATE `loq_interval` SET `chr` = 'chr3L', `start` = 11622604, `stop` = 11622680, `mirName` = 'dme-mir-3642', `NeatName` = 'chr3L:11622605-11622680', `IntervalSize` = 76, `IntervalSerialNumber` = 118, `Structure` = '..((((((((.(.(((...(((((..(((.....)))....)))))...))).))).)))))).............', `Annotations` = '', `Tags` = '', `sum_read_counts` = 8, `sum_normReads` = 0.5701, `mapped_strand` = '+', `mid_point` = 11622635, `Link` = 'http://genome.ucsc.edu/cgi-bin/hgTracks?db=dm3&position=chr3L:11622605-11622680', `hairpin_seq` = 'GTGAGTGGGTCGCACGGAGCGTCATTTGGAATTCCCATGGCTGACGAAACGTTCACTCTGCTCTTCTCGATTACAG', `mature_seq` = '', `five_p` = '1-22', `three_p` = '46-67' WHERE `loq_interval`.`id` = 118 ; args=(u'chr3L', 11622604, 11622680, u'dme-mir-3642', u'chr3L:11622605-11622680', 76, 118, u'..((((((((.(.(((...(((((..(((.....)))....)))))...))).))).)))))).............', u'', u'', 8, 0.5701, u'+', 11622635, 'http://genome.ucsc.edu/cgi-bin/hgTracks?db=dm3&position=chr3L:11622605-11622680', u'GTGAGTGGGTCGCACGGAGCGTCATTTGGAATTCCCATGGCTGACGAAACGTTCACTCTGCTCTTCTCGATTACAG', u'', u'1-22', u'46-67', 118)\n"
       ]
      },
      {
       "output_type": "stream",
       "stream": "stderr",
       "text": [
        "DEBUG:django.db.backends:(0.000) SELECT (1) AS `a` FROM `loq_interval` WHERE `loq_interval`.`id` = 119  LIMIT 1; args=(119,)\n"
       ]
      },
      {
       "output_type": "stream",
       "stream": "stderr",
       "text": [
        "DEBUG:django.db.backends:(0.000) UPDATE `loq_interval` SET `chr` = 'chr3L', `start` = 11650017, `stop` = 11650117, `mirName` = 'dme-mir-274', `NeatName` = 'chr3L:11650018-11650117', `IntervalSize` = 100, `IntervalSerialNumber` = 119, `Structure` = '.....(((((((((((((((((((((.((.((..(((((((((((..((((...)))))))))))))))..)))).)))))))..)))))))))))))).', `Annotations` = '', `Tags` = '', `sum_read_counts` = 19, `sum_normReads` = 1.7529, `mapped_strand` = '+', `mid_point` = 11650069, `Link` = 'http://genome.ucsc.edu/cgi-bin/hgTracks?db=dm3&position=chr3L:11650018-11650117', `hairpin_seq` = 'TCCTGTGTTGCAGTTTCGTTTTGTGACCGACACTAACGGGTAATTGTTTGGCCGCCAGGATTACTCGTTTTTGCGATCACAAATTATGAAATTGCAGCAA', `mature_seq` = '', `five_p` = '20-42', `three_p` = '64-86' WHERE `loq_interval`.`id` = 119 ; args=(u'chr3L', 11650017, 11650117, u'dme-mir-274', u'chr3L:11650018-11650117', 100, 119, u'.....(((((((((((((((((((((.((.((..(((((((((((..((((...)))))))))))))))..)))).)))))))..)))))))))))))).', u'', u'', 19, 1.7529, u'+', 11650069, 'http://genome.ucsc.edu/cgi-bin/hgTracks?db=dm3&position=chr3L:11650018-11650117', u'TCCTGTGTTGCAGTTTCGTTTTGTGACCGACACTAACGGGTAATTGTTTGGCCGCCAGGATTACTCGTTTTTGCGATCACAAATTATGAAATTGCAGCAA', u'', u'20-42', u'64-86', 119)\n"
       ]
      },
      {
       "output_type": "stream",
       "stream": "stderr",
       "text": [
        "DEBUG:django.db.backends:(0.000) SELECT (1) AS `a` FROM `loq_interval` WHERE `loq_interval`.`id` = 120  LIMIT 1; args=(120,)\n"
       ]
      },
      {
       "output_type": "stream",
       "stream": "stderr",
       "text": [
        "DEBUG:django.db.backends:(0.000) UPDATE `loq_interval` SET `chr` = 'chr3L', `start` = 11766111, `stop` = 11766201, `mirName` = 'dme-mir-314', `NeatName` = 'chr3L:11766112-11766201', `IntervalSize` = 90, `IntervalSerialNumber` = 120, `Structure` = '.((.(((((((.(((((.((((..((((.((.(((.((((..(((......))))))).))).))..)))))))))))))))))))))).', `Annotations` = '', `Tags` = '', `sum_read_counts` = 63, `sum_normReads` = 5.8238, `mapped_strand` = '+', `mid_point` = 11766158, `Link` = 'http://genome.ucsc.edu/cgi-bin/hgTracks?db=dm3&position=chr3L:11766112-11766201', `hairpin_seq` = 'TCGTAACTTGTGTGGCTTCGAACTTACCTAGTTGAGGAAAACTCCCATGTCGGATTTTGTTACCTCTGGTATTCGAGCCAATAAGTTCGG', `mature_seq` = '', `five_p` = '3-28', `three_p` = '70-90' WHERE `loq_interval`.`id` = 120 ; args=(u'chr3L', 11766111, 11766201, u'dme-mir-314', u'chr3L:11766112-11766201', 90, 120, u'.((.(((((((.(((((.((((..((((.((.(((.((((..(((......))))))).))).))..)))))))))))))))))))))).', u'', u'', 63, 5.8238, u'+', 11766158, 'http://genome.ucsc.edu/cgi-bin/hgTracks?db=dm3&position=chr3L:11766112-11766201', u'TCGTAACTTGTGTGGCTTCGAACTTACCTAGTTGAGGAAAACTCCCATGTCGGATTTTGTTACCTCTGGTATTCGAGCCAATAAGTTCGG', u'', u'3-28', u'70-90', 120)\n"
       ]
      },
      {
       "output_type": "stream",
       "stream": "stderr",
       "text": [
        "DEBUG:django.db.backends:(0.000) SELECT (1) AS `a` FROM `loq_interval` WHERE `loq_interval`.`id` = 121  LIMIT 1; args=(121,)\n"
       ]
      },
      {
       "output_type": "stream",
       "stream": "stderr",
       "text": [
        "DEBUG:django.db.backends:(0.000) UPDATE `loq_interval` SET `chr` = 'chr3L', `start` = 11766830, `stop` = 11766978, `mirName` = 'dme-mir-956', `NeatName` = 'chr3L:11766831-11766978', `IntervalSize` = 148, `IntervalSerialNumber` = 121, `Structure` = '....(((...(((.(((((.((((((((..(((((.((.((.....((((((.((...((((((((....(((...)))..))....))))))...)).))))))...)).))))))).)))))))).)))))..)))...)))....', `Annotations` = '', `Tags` = '', `sum_read_counts` = 239, `sum_normReads` = 27.1454, `mapped_strand` = '-', `mid_point` = 11766904, `Link` = 'http://genome.ucsc.edu/cgi-bin/hgTracks?db=dm3&position=chr3L:11766831-11766978', `hairpin_seq` = 'GATCGTTATCGTGTTTGGAATGGTCTCGTTAGCTAACGGATGAGCAAGTGCTCGGCTCACTGGCCCAAATGCAGTTTGCCCGGAGACGCCGGTTAACCCAGCACTGAAATGTGTAGTTTCGAGACCACTCTAATCCATTGCAGCATTT', `mature_seq` = '', `five_p` = '11-34', `three_p` = '117-139' WHERE `loq_interval`.`id` = 121 ; args=(u'chr3L', 11766830, 11766978, u'dme-mir-956', u'chr3L:11766831-11766978', 148, 121, u'....(((...(((.(((((.((((((((..(((((.((.((.....((((((.((...((((((((....(((...)))..))....))))))...)).))))))...)).))))))).)))))))).)))))..)))...)))....', u'', u'', 239, 27.1454, u'-', 11766904, 'http://genome.ucsc.edu/cgi-bin/hgTracks?db=dm3&position=chr3L:11766831-11766978', u'GATCGTTATCGTGTTTGGAATGGTCTCGTTAGCTAACGGATGAGCAAGTGCTCGGCTCACTGGCCCAAATGCAGTTTGCCCGGAGACGCCGGTTAACCCAGCACTGAAATGTGTAGTTTCGAGACCACTCTAATCCATTGCAGCATTT', u'', u'11-34', u'117-139', 121)\n"
       ]
      },
      {
       "output_type": "stream",
       "stream": "stderr",
       "text": [
        "DEBUG:django.db.backends:(0.000) SELECT (1) AS `a` FROM `loq_interval` WHERE `loq_interval`.`id` = 122  LIMIT 1; args=(122,)\n"
       ]
      },
      {
       "output_type": "stream",
       "stream": "stderr",
       "text": [
        "DEBUG:django.db.backends:(0.000) UPDATE `loq_interval` SET `chr` = 'chr3L', `start` = 11939192, `stop` = 11939291, `mirName` = 'dme-mir-285', `NeatName` = 'chr3L:11939193-11939291', `IntervalSize` = 99, `IntervalSerialNumber` = 122, `Structure` = '((..(((((((.(((((..((((.((((((.((((......(((......)))........)))))))))).))))..)))))..)))))))..))...', `Annotations` = '', `Tags` = '', `sum_read_counts` = 1, `sum_normReads` = 0.0655, `mapped_strand` = '-', `mid_point` = 11939245, `Link` = 'http://genome.ucsc.edu/cgi-bin/hgTracks?db=dm3&position=chr3L:11939193-11939291', `hairpin_seq` = 'TCGAATCGAAGAACTGAGATCGATTGGTGCATAGATATCAGGAGAACCCACTCAATTTAACTCTAGCACCATTCGAAATCAGTGCTTTTGATAAGAAAC', `mature_seq` = '', `five_p` = '13-35', `three_p` = '64-85' WHERE `loq_interval`.`id` = 122 ; args=(u'chr3L', 11939192, 11939291, u'dme-mir-285', u'chr3L:11939193-11939291', 99, 122, u'((..(((((((.(((((..((((.((((((.((((......(((......)))........)))))))))).))))..)))))..)))))))..))...', u'', u'', 1, 0.0655, u'-', 11939245, 'http://genome.ucsc.edu/cgi-bin/hgTracks?db=dm3&position=chr3L:11939193-11939291', u'TCGAATCGAAGAACTGAGATCGATTGGTGCATAGATATCAGGAGAACCCACTCAATTTAACTCTAGCACCATTCGAAATCAGTGCTTTTGATAAGAAAC', u'', u'13-35', u'64-85', 122)\n"
       ]
      },
      {
       "output_type": "stream",
       "stream": "stderr",
       "text": [
        "DEBUG:django.db.backends:(0.000) SELECT (1) AS `a` FROM `loq_interval` WHERE `loq_interval`.`id` = 123  LIMIT 1; args=(123,)\n"
       ]
      },
      {
       "output_type": "stream",
       "stream": "stderr",
       "text": [
        "DEBUG:django.db.backends:(0.000) UPDATE `loq_interval` SET `chr` = 'chr3L', `start` = 13613921, `stop` = 13614020, `mirName` = 'dme-mir-289', `NeatName` = 'chr3L:13613922-13614020', `IntervalSize` = 99, `IntervalSerialNumber` = 123, `Structure` = '...(((((.((..(((((((.(((((((((.((((..(...((((((.....)))))))..))))...))))))))).)))))))...)))))))....', `Annotations` = '', `Tags` = '', `sum_read_counts` = NULL, `sum_normReads` = NULL, `mapped_strand` = '+', `mid_point` = 13613970, `Link` = 'http://genome.ucsc.edu/cgi-bin/hgTracks?db=dm3&position=chr3L:13613922-13614020', `hairpin_seq` = 'GAGTTTACAGTAAAATAAATATTTAAGTGGAGCCTGCGACTTCAGTCCCTCTGACTGACTGGGGTAAGTCACTTGAGCGTTTGTTGGCACGTAAAAGAC', `mature_seq` = '', `five_p` = '', `three_p` = '' WHERE `loq_interval`.`id` = 123 ; args=(u'chr3L', 13613921, 13614020, u'dme-mir-289', u'chr3L:13613922-13614020', 99, 123, u'...(((((.((..(((((((.(((((((((.((((..(...((((((.....)))))))..))))...))))))))).)))))))...)))))))....', u'', u'', u'+', 13613970, 'http://genome.ucsc.edu/cgi-bin/hgTracks?db=dm3&position=chr3L:13613922-13614020', u'GAGTTTACAGTAAAATAAATATTTAAGTGGAGCCTGCGACTTCAGTCCCTCTGACTGACTGGGGTAAGTCACTTGAGCGTTTGTTGGCACGTAAAAGAC', u'', u'', u'', 123)\n"
       ]
      },
      {
       "output_type": "stream",
       "stream": "stderr",
       "text": [
        "DEBUG:django.db.backends:(0.000) SELECT (1) AS `a` FROM `loq_interval` WHERE `loq_interval`.`id` = 124  LIMIT 1; args=(124,)\n"
       ]
      },
      {
       "output_type": "stream",
       "stream": "stderr",
       "text": [
        "DEBUG:django.db.backends:(0.000) UPDATE `loq_interval` SET `chr` = 'chr3L', `start` = 15836505, `stop` = 15836595, `mirName` = 'dme-mir-263b', `NeatName` = 'chr3L:15836506-15836595', `IntervalSize` = 90, `IntervalSerialNumber` = 124, `Structure` = '..((((..(((((((.((((((((.(.(((((.(((((..............)))))))))).).)))))))).)))))))...))))..', `Annotations` = '', `Tags` = '', `sum_read_counts` = 3, `sum_normReads` = 0.3535, `mapped_strand` = '-', `mid_point` = 15836551, `Link` = 'http://genome.ucsc.edu/cgi-bin/hgTracks?db=dm3&position=chr3L:15836506-15836595', `hairpin_seq` = 'TTGCTGACTTTGAGTCTTGGCACTGGGAGAATTCACAGTTGACTTTATTATTCTGTGGTTCTGCGGGTGCCAAAACTTAAAAACCGGCTT', `mature_seq` = '', `five_p` = '16-36', `three_p` = '55-76' WHERE `loq_interval`.`id` = 124 ; args=(u'chr3L', 15836505, 15836595, u'dme-mir-263b', u'chr3L:15836506-15836595', 90, 124, u'..((((..(((((((.((((((((.(.(((((.(((((..............)))))))))).).)))))))).)))))))...))))..', u'', u'', 3, 0.3535, u'-', 15836551, 'http://genome.ucsc.edu/cgi-bin/hgTracks?db=dm3&position=chr3L:15836506-15836595', u'TTGCTGACTTTGAGTCTTGGCACTGGGAGAATTCACAGTTGACTTTATTATTCTGTGGTTCTGCGGGTGCCAAAACTTAAAAACCGGCTT', u'', u'16-36', u'55-76', 124)\n"
       ]
      },
      {
       "output_type": "stream",
       "stream": "stderr",
       "text": [
        "DEBUG:django.db.backends:(0.000) SELECT (1) AS `a` FROM `loq_interval` WHERE `loq_interval`.`id` = 125  LIMIT 1; args=(125,)\n"
       ]
      },
      {
       "output_type": "stream",
       "stream": "stderr",
       "text": [
        "DEBUG:django.db.backends:(0.000) UPDATE `loq_interval` SET `chr` = 'chr3L', `start` = 16024288, `stop` = 16024391, `mirName` = 'dme-mir-4941', `NeatName` = 'chr3L:16024289-16024391', `IntervalSize` = 103, `IntervalSerialNumber` = 125, `Structure` = '......((((.(...(((((((((((.((((.((((((((((((((.......))..))))))))))..)).)))).)))))))).)))...).)))).....', `Annotations` = '', `Tags` = '', `sum_read_counts` = 26, `sum_normReads` = 2.7124, `mapped_strand` = '+', `mid_point` = 16024337, `Link` = 'http://genome.ucsc.edu/cgi-bin/hgTracks?db=dm3&position=chr3L:16024289-16024391', `hairpin_seq` = 'ATGACCGGCGAGGAGATGCGATTCCTCGAGCTGCTCACCGCCTTTGGCTTGGACATCGAGGCGGTGGCCGCCGCTCTGGGAGTCGATATGCACACGCTCAACA', `mature_seq` = '', `five_p` = '24-44', `three_p` = '60-83' WHERE `loq_interval`.`id` = 125 ; args=(u'chr3L', 16024288, 16024391, u'dme-mir-4941', u'chr3L:16024289-16024391', 103, 125, u'......((((.(...(((((((((((.((((.((((((((((((((.......))..))))))))))..)).)))).)))))))).)))...).)))).....', u'', u'', 26, 2.7124, u'+', 16024337, 'http://genome.ucsc.edu/cgi-bin/hgTracks?db=dm3&position=chr3L:16024289-16024391', u'ATGACCGGCGAGGAGATGCGATTCCTCGAGCTGCTCACCGCCTTTGGCTTGGACATCGAGGCGGTGGCCGCCGCTCTGGGAGTCGATATGCACACGCTCAACA', u'', u'24-44', u'60-83', 125)\n"
       ]
      },
      {
       "output_type": "stream",
       "stream": "stderr",
       "text": [
        "DEBUG:django.db.backends:(0.000) SELECT (1) AS `a` FROM `loq_interval` WHERE `loq_interval`.`id` = 126  LIMIT 1; args=(126,)\n"
       ]
      },
      {
       "output_type": "stream",
       "stream": "stderr",
       "text": [
        "DEBUG:django.db.backends:(0.000) UPDATE `loq_interval` SET `chr` = 'chr3L', `start` = 16991556, `stop` = 16991624, `mirName` = 'dme-mir-2500', `NeatName` = 'chr3L:16991557-16991624', `IntervalSize` = 68, `IntervalSerialNumber` = 126, `Structure` = '...(((..((((((((...(((.((((((((...)))))).....))))).))))))))..)))....', `Annotations` = '', `Tags` = '', `sum_read_counts` = 9, `sum_normReads` = 0.9762, `mapped_strand` = '-', `mid_point` = 16991592, `Link` = 'http://genome.ucsc.edu/cgi-bin/hgTracks?db=dm3&position=chr3L:16991557-16991624', `hairpin_seq` = 'GTAAGGAACACACATATACAATACCGTTTGAATTTCAAATAATCAGGATTTTGTGTGTGGACCTCAGA', `mature_seq` = '', `five_p` = '1-25', `three_p` = '46-67' WHERE `loq_interval`.`id` = 126 ; args=(u'chr3L', 16991556, 16991624, u'dme-mir-2500', u'chr3L:16991557-16991624', 68, 126, u'...(((..((((((((...(((.((((((((...)))))).....))))).))))))))..)))....', u'', u'', 9, 0.9762, u'-', 16991592, 'http://genome.ucsc.edu/cgi-bin/hgTracks?db=dm3&position=chr3L:16991557-16991624', u'GTAAGGAACACACATATACAATACCGTTTGAATTTCAAATAATCAGGATTTTGTGTGTGGACCTCAGA', u'', u'1-25', u'46-67', 126)\n"
       ]
      },
      {
       "output_type": "stream",
       "stream": "stderr",
       "text": [
        "DEBUG:django.db.backends:(0.000) SELECT (1) AS `a` FROM `loq_interval` WHERE `loq_interval`.`id` = 127  LIMIT 1; args=(127,)\n"
       ]
      },
      {
       "output_type": "stream",
       "stream": "stderr",
       "text": [
        "DEBUG:django.db.backends:(0.001) UPDATE `loq_interval` SET `chr` = 'chr3L', `start` = 17308105, `stop` = 17308205, `mirName` = 'dme-mir-219', `NeatName` = 'chr3L:17308106-17308205', `IntervalSize` = 100, `IntervalSerialNumber` = 127, `Structure` = '..((((.(((((.((((.((((.(((((..(((((((((((..(((((...))))))))))))))))..))))))))).)))).)))))..)))).....', `Annotations` = '', `Tags` = '', `sum_read_counts` = 19, `sum_normReads` = 1.5024, `mapped_strand` = '+', `mid_point` = 17308154, `Link` = 'http://genome.ucsc.edu/cgi-bin/hgTracks?db=dm3&position=chr3L:17308106-17308205', `hairpin_seq` = 'TAATTCGATTTTTAGCTATGATTGTCCAAACGCAATTCTTGTTGATATTCAATATTCAAGGGTTGCGACTGGGCATCGCGGCTCGAAATAAGAATACAAC', `mature_seq` = '', `five_p` = '19-39', `three_p` = '59-80' WHERE `loq_interval`.`id` = 127 ; args=(u'chr3L', 17308105, 17308205, u'dme-mir-219', u'chr3L:17308106-17308205', 100, 127, u'..((((.(((((.((((.((((.(((((..(((((((((((..(((((...))))))))))))))))..))))))))).)))).)))))..)))).....', u'', u'', 19, 1.5024, u'+', 17308154, 'http://genome.ucsc.edu/cgi-bin/hgTracks?db=dm3&position=chr3L:17308106-17308205', u'TAATTCGATTTTTAGCTATGATTGTCCAAACGCAATTCTTGTTGATATTCAATATTCAAGGGTTGCGACTGGGCATCGCGGCTCGAAATAAGAATACAAC', u'', u'19-39', u'59-80', 127)\n"
       ]
      },
      {
       "output_type": "stream",
       "stream": "stderr",
       "text": [
        "DEBUG:django.db.backends:(0.000) SELECT (1) AS `a` FROM `loq_interval` WHERE `loq_interval`.`id` = 128  LIMIT 1; args=(128,)\n"
       ]
      },
      {
       "output_type": "stream",
       "stream": "stderr",
       "text": [
        "DEBUG:django.db.backends:(0.000) UPDATE `loq_interval` SET `chr` = 'chr3L', `start` = 18854070, `stop` = 18854154, `mirName` = 'dme-mir-315', `NeatName` = 'chr3L:18854071-18854154', `IntervalSize` = 84, `IntervalSerialNumber` = 128, `Structure` = '(((((((....(((((((((((((((.(((((((...((((.....)))).))))))))))))))))))))))....)))))))', `Annotations` = '', `Tags` = '', `sum_read_counts` = 3686, `sum_normReads` = 361.4893, `mapped_strand` = '+', `mid_point` = 18854113, `Link` = 'http://genome.ucsc.edu/cgi-bin/hgTracks?db=dm3&position=chr3L:18854071-18854154', `hairpin_seq` = 'CACTTATATAATTTTGATTGTTGCTCAGAAAGCCCTCATTGTTTACCAGTTGGCTTTCGAGCAATAATTGAAACCAGATAAGTG', `mature_seq` = '', `five_p` = '12-33', `three_p` = '54-75' WHERE `loq_interval`.`id` = 128 ; args=(u'chr3L', 18854070, 18854154, u'dme-mir-315', u'chr3L:18854071-18854154', 84, 128, u'(((((((....(((((((((((((((.(((((((...((((.....)))).))))))))))))))))))))))....)))))))', u'', u'', 3686, 361.4893, u'+', 18854113, 'http://genome.ucsc.edu/cgi-bin/hgTracks?db=dm3&position=chr3L:18854071-18854154', u'CACTTATATAATTTTGATTGTTGCTCAGAAAGCCCTCATTGTTTACCAGTTGGCTTTCGAGCAATAATTGAAACCAGATAAGTG', u'', u'12-33', u'54-75', 128)\n"
       ]
      },
      {
       "output_type": "stream",
       "stream": "stderr",
       "text": [
        "DEBUG:django.db.backends:(0.000) SELECT (1) AS `a` FROM `loq_interval` WHERE `loq_interval`.`id` = 129  LIMIT 1; args=(129,)\n"
       ]
      },
      {
       "output_type": "stream",
       "stream": "stderr",
       "text": [
        "DEBUG:django.db.backends:(0.000) UPDATE `loq_interval` SET `chr` = 'chr3L', `start` = 19558230, `stop` = 19558308, `mirName` = 'dme-mir-9a', `NeatName` = 'chr3L:19558231-19558308', `IntervalSize` = 78, `IntervalSerialNumber` = 129, `Structure` = '', `Annotations` = '', `Tags` = '', `sum_read_counts` = 657, `sum_normReads` = 56.7358, `mapped_strand` = '+', `mid_point` = 19558267, `Link` = 'http://genome.ucsc.edu/cgi-bin/hgTracks?db=dm3&position=chr3L:19558231-19558308', `hairpin_seq` = 'GCTATGTTGTCTTTGGTTATCTAGCTGTATGAGTGATAAATAACGTCATAAAGCTAGCTTACCGAAGTTAATATTAGC', `mature_seq` = '', `five_p` = '10-32', `three_p` = '49-70' WHERE `loq_interval`.`id` = 129 ; args=(u'chr3L', 19558230, 19558308, u'dme-mir-9a', u'chr3L:19558231-19558308', 78, 129, u'', u'', u'', 657, 56.7358, u'+', 19558267, 'http://genome.ucsc.edu/cgi-bin/hgTracks?db=dm3&position=chr3L:19558231-19558308', u'GCTATGTTGTCTTTGGTTATCTAGCTGTATGAGTGATAAATAACGTCATAAAGCTAGCTTACCGAAGTTAATATTAGC', u'', u'10-32', u'49-70', 129)\n"
       ]
      },
      {
       "output_type": "stream",
       "stream": "stderr",
       "text": [
        "DEBUG:django.db.backends:(0.000) SELECT (1) AS `a` FROM `loq_interval` WHERE `loq_interval`.`id` = 130  LIMIT 1; args=(130,)\n"
       ]
      },
      {
       "output_type": "stream",
       "stream": "stderr",
       "text": [
        "DEBUG:django.db.backends:(0.000) UPDATE `loq_interval` SET `chr` = 'chr3L', `start` = 19791060, `stop` = 19791159, `mirName` = 'dme-mir-33', `NeatName` = 'chr3L:19791061-19791159', `IntervalSize` = 99, `IntervalSerialNumber` = 130, `Structure` = '...........((((((.((((.((.(((((((.(((.(.((((((((............)))))))).).))).)))))))..)).))))))))))..', `Annotations` = '', `Tags` = '', `sum_read_counts` = 446453, `sum_normReads` = 42184.3916000001, `mapped_strand` = '+', `mid_point` = 19791113, `Link` = 'http://genome.ucsc.edu/cgi-bin/hgTracks?db=dm3&position=chr3L:19791061-19791159', `hairpin_seq` = 'CTCTTCCTCTGGAGATGACACGAAGGTGCATTGTAGTCGCATTGTCTGTCCCAATTGCTTCAGGCAATACAACTTCAGTGCAAGCTCTGTGCATTTCAC', `mature_seq` = '', `five_p` = '26-46', `three_p` = '65-86' WHERE `loq_interval`.`id` = 130 ; args=(u'chr3L', 19791060, 19791159, u'dme-mir-33', u'chr3L:19791061-19791159', 99, 130, u'...........((((((.((((.((.(((((((.(((.(.((((((((............)))))))).).))).)))))))..)).))))))))))..', u'', u'', 446453, 42184.3916000001, u'+', 19791113, 'http://genome.ucsc.edu/cgi-bin/hgTracks?db=dm3&position=chr3L:19791061-19791159', u'CTCTTCCTCTGGAGATGACACGAAGGTGCATTGTAGTCGCATTGTCTGTCCCAATTGCTTCAGGCAATACAACTTCAGTGCAAGCTCTGTGCATTTCAC', u'', u'26-46', u'65-86', 130)\n"
       ]
      },
      {
       "output_type": "stream",
       "stream": "stderr",
       "text": [
        "DEBUG:django.db.backends:(0.000) SELECT (1) AS `a` FROM `loq_interval` WHERE `loq_interval`.`id` = 131  LIMIT 1; args=(131,)\n"
       ]
      },
      {
       "output_type": "stream",
       "stream": "stderr",
       "text": [
        "DEBUG:django.db.backends:(0.000) UPDATE `loq_interval` SET `chr` = 'chr3L', `start` = 21567113, `stop` = 21567221, `mirName` = 'dme-mir-193', `NeatName` = 'chr3L:21567114-21567221', `IntervalSize` = 108, `IntervalSerialNumber` = 131, `Structure` = '....(((.(((((((((.(((((((((..(((...((((.....)))).....((((..................)))))))..)))))))))))))))))).)))..', `Annotations` = '', `Tags` = '', `sum_read_counts` = 442, `sum_normReads` = 39.3743, `mapped_strand` = '+', `mid_point` = 21567178, `Link` = 'http://genome.ucsc.edu/cgi-bin/hgTracks?db=dm3&position=chr3L:21567114-21567221', `hairpin_seq` = 'TGTGTGCCCTTATTATGGTTGGGATTTTTTAGATCAGCAGTTATTGCTATATAGCCATATTTATAAATCTTCTACTGGCCTACTAAGTCCCAACATAATGAGAGTAAA', `mature_seq` = '', `five_p` = '19-40', `three_p` = '73-94' WHERE `loq_interval`.`id` = 131 ; args=(u'chr3L', 21567113, 21567221, u'dme-mir-193', u'chr3L:21567114-21567221', 108, 131, u'....(((.(((((((((.(((((((((..(((...((((.....)))).....((((..................)))))))..)))))))))))))))))).)))..', u'', u'', 442, 39.3743, u'+', 21567178, 'http://genome.ucsc.edu/cgi-bin/hgTracks?db=dm3&position=chr3L:21567114-21567221', u'TGTGTGCCCTTATTATGGTTGGGATTTTTTAGATCAGCAGTTATTGCTATATAGCCATATTTATAAATCTTCTACTGGCCTACTAAGTCCCAACATAATGAGAGTAAA', u'', u'19-40', u'73-94', 131)\n"
       ]
      },
      {
       "output_type": "stream",
       "stream": "stderr",
       "text": [
        "DEBUG:django.db.backends:(0.000) SELECT (1) AS `a` FROM `loq_interval` WHERE `loq_interval`.`id` = 132  LIMIT 1; args=(132,)\n"
       ]
      },
      {
       "output_type": "stream",
       "stream": "stderr",
       "text": [
        "DEBUG:django.db.backends:(0.000) UPDATE `loq_interval` SET `chr` = 'chr3L', `start` = 21661813, `stop` = 21661902, `mirName` = 'dme-mir-316', `NeatName` = 'chr3L:21661814-21661902', `IntervalSize` = 89, `IntervalSerialNumber` = 132, `Structure` = '.(((((((((.(((.(((((((((((.(((.(((.((((..........)))).)))..)))))))))))))).))).)))).))))).', `Annotations` = 'loq', `Tags` = '', `sum_read_counts` = 32, `sum_normReads` = 3.002, `mapped_strand` = '-', `mid_point` = 21661859, `Link` = 'http://genome.ucsc.edu/cgi-bin/hgTracks?db=dm3&position=chr3L:21661814-21661902', `hairpin_seq` = 'AAATTCTAGTCGATTTGTCTTTTTCCGCTTACTGGCGTTTCAATTCCACAACGACAGGAAAGGGAAAAAGGCGTATTTACTATGAGTTT', `mature_seq` = '', `five_p` = '16-37', `three_p` = '54-75' WHERE `loq_interval`.`id` = 132 ; args=(u'chr3L', 21661813, 21661902, u'dme-mir-316', u'chr3L:21661814-21661902', 89, 132, u'.(((((((((.(((.(((((((((((.(((.(((.((((..........)))).)))..)))))))))))))).))).)))).))))).', u'loq', u'', 32, 3.002, u'-', 21661859, 'http://genome.ucsc.edu/cgi-bin/hgTracks?db=dm3&position=chr3L:21661814-21661902', u'AAATTCTAGTCGATTTGTCTTTTTCCGCTTACTGGCGTTTCAATTCCACAACGACAGGAAAGGGAAAAAGGCGTATTTACTATGAGTTT', u'', u'16-37', u'54-75', 132)\n"
       ]
      },
      {
       "output_type": "stream",
       "stream": "stderr",
       "text": [
        "DEBUG:django.db.backends:(0.000) SELECT (1) AS `a` FROM `loq_interval` WHERE `loq_interval`.`id` = 133  LIMIT 1; args=(133,)\n"
       ]
      },
      {
       "output_type": "stream",
       "stream": "stderr",
       "text": [
        "DEBUG:django.db.backends:(0.000) UPDATE `loq_interval` SET `chr` = 'chr3L', `start` = 22511295, `stop` = 22511391, `mirName` = 'dme-mir-957', `NeatName` = 'chr3L:22511296-22511391', `IntervalSize` = 96, `IntervalSerialNumber` = 133, `Structure` = '.(((((((...(.((((((((((.((((.(((((((.....(.((((......)))).)))))))))))).)))))))))).)...)))).)))..', `Annotations` = '', `Tags` = '', `sum_read_counts` = 3, `sum_normReads` = 0.317, `mapped_strand` = '-', `mid_point` = 22511342, `Link` = 'http://genome.ucsc.edu/cgi-bin/hgTracks?db=dm3&position=chr3L:22511296-22511391', `hairpin_seq` = 'TGTCCACAATAGACCTTAGTTTTCGACGTGTTTTGGTGTGCTGGGGAGTTCTATTCCGATTGAAACCGTCCAAAACTGAGGCCAACTGTGAGGCGC', `mature_seq` = '', `five_p` = '15-37', `three_p` = '61-82' WHERE `loq_interval`.`id` = 133 ; args=(u'chr3L', 22511295, 22511391, u'dme-mir-957', u'chr3L:22511296-22511391', 96, 133, u'.(((((((...(.((((((((((.((((.(((((((.....(.((((......)))).)))))))))))).)))))))))).)...)))).)))..', u'', u'', 3, 0.317, u'-', 22511342, 'http://genome.ucsc.edu/cgi-bin/hgTracks?db=dm3&position=chr3L:22511296-22511391', u'TGTCCACAATAGACCTTAGTTTTCGACGTGTTTTGGTGTGCTGGGGAGTTCTATTCCGATTGAAACCGTCCAAAACTGAGGCCAACTGTGAGGCGC', u'', u'15-37', u'61-82', 133)\n"
       ]
      },
      {
       "output_type": "stream",
       "stream": "stderr",
       "text": [
        "DEBUG:django.db.backends:(0.000) SELECT (1) AS `a` FROM `loq_interval` WHERE `loq_interval`.`id` = 134  LIMIT 1; args=(134,)\n"
       ]
      },
      {
       "output_type": "stream",
       "stream": "stderr",
       "text": [
        "DEBUG:django.db.backends:(0.000) UPDATE `loq_interval` SET `chr` = 'chr3L', `start` = 22662388, `stop` = 22662480, `mirName` = 'dme-mir-958', `NeatName` = 'chr3L:22662389-22662480', `IntervalSize` = 92, `IntervalSerialNumber` = 134, `Structure` = '((.((((...(((.(((((((((((.(((....(((((.((............)))))))....)))))))))))))))))...))))))..', `Annotations` = '', `Tags` = '', `sum_read_counts` = 72, `sum_normReads` = 5.7849, `mapped_strand` = '-', `mid_point` = 22662434, `Link` = 'http://genome.ucsc.edu/cgi-bin/hgTracks?db=dm3&position=chr3L:22662389-22662480', `hairpin_seq` = 'GGCGTGTCTATGGCAAGTAGAATAGCAGGCTTATCACATGTTTAATTCAATCTGCTGTGAGATTCTTCTATTCTACTTTCGACAACACCCGT', `mature_seq` = '', `five_p` = '16-38', `three_p` = '58-79' WHERE `loq_interval`.`id` = 134 ; args=(u'chr3L', 22662388, 22662480, u'dme-mir-958', u'chr3L:22662389-22662480', 92, 134, u'((.((((...(((.(((((((((((.(((....(((((.((............)))))))....)))))))))))))))))...))))))..', u'', u'', 72, 5.7849, u'-', 22662434, 'http://genome.ucsc.edu/cgi-bin/hgTracks?db=dm3&position=chr3L:22662389-22662480', u'GGCGTGTCTATGGCAAGTAGAATAGCAGGCTTATCACATGTTTAATTCAATCTGCTGTGAGATTCTTCTATTCTACTTTCGACAACACCCGT', u'', u'16-38', u'58-79', 134)\n"
       ]
      },
      {
       "output_type": "stream",
       "stream": "stderr",
       "text": [
        "DEBUG:django.db.backends:(0.000) SELECT (1) AS `a` FROM `loq_interval` WHERE `loq_interval`.`id` = 135  LIMIT 1; args=(135,)\n"
       ]
      },
      {
       "output_type": "stream",
       "stream": "stderr",
       "text": [
        "DEBUG:django.db.backends:(0.000) UPDATE `loq_interval` SET `chr` = 'chr3L', `start` = 23332327, `stop` = 23332437, `mirName` = 'dme-mir-4942', `NeatName` = 'chr3L:23332328-23332437', `IntervalSize` = 110, `IntervalSerialNumber` = 135, `Structure` = '.......(((((((((..((((((((((((((((.(((((((.((((((((...)))))))).)))).))).))))))).))))).......))))...))))))).)).', `Annotations` = '', `Tags` = '', `sum_read_counts` = 17, `sum_normReads` = 1.5418, `mapped_strand` = '+', `mid_point` = 23332379, `Link` = 'http://genome.ucsc.edu/cgi-bin/hgTracks?db=dm3&position=chr3L:23332328-23332437', `hairpin_seq` = 'TATGAATACATATATTTTTATGTTTGAGTCAACATCGAGTTGCCGATGTTTGGAAAACATCGATGACATCGCTGTTGGCATCGAAATATGTCCATATCTAATATATAGTT', `mature_seq` = '', `five_p` = '', `three_p` = '' WHERE `loq_interval`.`id` = 135 ; args=(u'chr3L', 23332327, 23332437, u'dme-mir-4942', u'chr3L:23332328-23332437', 110, 135, u'.......(((((((((..((((((((((((((((.(((((((.((((((((...)))))))).)))).))).))))))).))))).......))))...))))))).)).', u'', u'', 17, 1.5418, u'+', 23332379, 'http://genome.ucsc.edu/cgi-bin/hgTracks?db=dm3&position=chr3L:23332328-23332437', u'TATGAATACATATATTTTTATGTTTGAGTCAACATCGAGTTGCCGATGTTTGGAAAACATCGATGACATCGCTGTTGGCATCGAAATATGTCCATATCTAATATATAGTT', u'', u'', u'', 135)\n"
       ]
      },
      {
       "output_type": "stream",
       "stream": "stderr",
       "text": [
        "DEBUG:django.db.backends:(0.000) SELECT (1) AS `a` FROM `loq_interval` WHERE `loq_interval`.`id` = 136  LIMIT 1; args=(136,)\n"
       ]
      },
      {
       "output_type": "stream",
       "stream": "stderr",
       "text": [
        "DEBUG:django.db.backends:(0.000) UPDATE `loq_interval` SET `chr` = 'chr3R', `start` = 121090, `stop` = 121178, `mirName` = 'dme-mir-929', `NeatName` = 'chr3R:121091-121178', `IntervalSize` = 88, `IntervalSerialNumber` = 136, `Structure` = '..((((..((.(((((((.((((((((..((((((((((((....))).)))))))))..)))))))).))))))).)).))))....', `Annotations` = '', `Tags` = '', `sum_read_counts` = 49, `sum_normReads` = 4.7704, `mapped_strand` = '+', `mid_point` = 121132, `Link` = 'http://genome.ucsc.edu/cgi-bin/hgTracks?db=dm3&position=chr3R:121091-121178', `hairpin_seq` = 'AGTCCTGGTGGAGCTCAAATTGACTCTAGTAGGGAGTCCTTTAATGAGCGACTCCCTAACGGAGTCAGATTGAGCTGCAAAGGAGCGA', `mature_seq` = '', `five_p` = '17-38', `three_p` = '52-72' WHERE `loq_interval`.`id` = 136 ; args=(u'chr3R', 121090, 121178, u'dme-mir-929', u'chr3R:121091-121178', 88, 136, u'..((((..((.(((((((.((((((((..((((((((((((....))).)))))))))..)))))))).))))))).)).))))....', u'', u'', 49, 4.7704, u'+', 121132, 'http://genome.ucsc.edu/cgi-bin/hgTracks?db=dm3&position=chr3R:121091-121178', u'AGTCCTGGTGGAGCTCAAATTGACTCTAGTAGGGAGTCCTTTAATGAGCGACTCCCTAACGGAGTCAGATTGAGCTGCAAAGGAGCGA', u'', u'17-38', u'52-72', 136)\n"
       ]
      },
      {
       "output_type": "stream",
       "stream": "stderr",
       "text": [
        "DEBUG:django.db.backends:(0.000) SELECT (1) AS `a` FROM `loq_interval` WHERE `loq_interval`.`id` = 137  LIMIT 1; args=(137,)\n"
       ]
      },
      {
       "output_type": "stream",
       "stream": "stderr",
       "text": [
        "DEBUG:django.db.backends:(0.000) UPDATE `loq_interval` SET `chr` = 'chr3R', `start` = 2602054, `stop` = 2602173, `mirName` = 'dme-mir-993', `NeatName` = 'chr3R:2602055-2602173', `IntervalSize` = 119, `IntervalSerialNumber` = 137, `Structure` = '....(((((((((..((((.(((((...((((((((((......((((((((((((...)))))))).))))..........))))))))))...)))))))))..)))).))).))..', `Annotations` = '', `Tags` = '', `sum_read_counts` = 17, `sum_normReads` = 1.3386, `mapped_strand` = '+', `mid_point` = 2602111, `Link` = 'http://genome.ucsc.edu/cgi-bin/hgTracks?db=dm3&position=chr3R:2602055-2602173', `hairpin_seq` = 'AACGCTCCCGTGACCTACCCTGTAGTTCCGGGCTTTTGTTTAAATGGCGTTCGGCACATTGTCGGACTGCTGGCTCGATTATCAGAAGCTCGTCTCTACAGGTATCTCACAGGGTAGAA', `mature_seq` = '', `five_p` = '16-38', `three_p` = '85-107' WHERE `loq_interval`.`id` = 137 ; args=(u'chr3R', 2602054, 2602173, u'dme-mir-993', u'chr3R:2602055-2602173', 119, 137, u'....(((((((((..((((.(((((...((((((((((......((((((((((((...)))))))).))))..........))))))))))...)))))))))..)))).))).))..', u'', u'', 17, 1.3386, u'+', 2602111, 'http://genome.ucsc.edu/cgi-bin/hgTracks?db=dm3&position=chr3R:2602055-2602173', u'AACGCTCCCGTGACCTACCCTGTAGTTCCGGGCTTTTGTTTAAATGGCGTTCGGCACATTGTCGGACTGCTGGCTCGATTATCAGAAGCTCGTCTCTACAGGTATCTCACAGGGTAGAA', u'', u'16-38', u'85-107', 137)\n"
       ]
      },
      {
       "output_type": "stream",
       "stream": "stderr",
       "text": [
        "DEBUG:django.db.backends:(0.000) SELECT (1) AS `a` FROM `loq_interval` WHERE `loq_interval`.`id` = 138  LIMIT 1; args=(138,)\n"
       ]
      },
      {
       "output_type": "stream",
       "stream": "stderr",
       "text": [
        "DEBUG:django.db.backends:(0.000) UPDATE `loq_interval` SET `chr` = 'chr3R', `start` = 2635227, `stop` = 2635304, `mirName` = 'dme-mir-10', `NeatName` = 'chr3R:2635228-2635304', `IntervalSize` = 77, `IntervalSerialNumber` = 138, `Structure` = '(((((...(((((.((((.(((((((((((((............))))))))))))).)))).)).)))...)))))', `Annotations` = '', `Tags` = '', `sum_read_counts` = 38453, `sum_normReads` = 3540.1035, `mapped_strand` = '-', `mid_point` = 2635267, `Link` = 'http://genome.ucsc.edu/cgi-bin/hgTracks?db=dm3&position=chr3R:2635228-2635304', `hairpin_seq` = 'CCACGTCTACCCTGTAGATCCGAATTTGTTTTATACTAGCTTTAAGGACAAATTCGGTTCTAGAGAGGTTTGTGTGG', `mature_seq` = '', `five_p` = '9-30', `three_p` = '49-71' WHERE `loq_interval`.`id` = 138 ; args=(u'chr3R', 2635227, 2635304, u'dme-mir-10', u'chr3R:2635228-2635304', 77, 138, u'(((((...(((((.((((.(((((((((((((............))))))))))))).)))).)).)))...)))))', u'', u'', 38453, 3540.1035, u'-', 2635267, 'http://genome.ucsc.edu/cgi-bin/hgTracks?db=dm3&position=chr3R:2635228-2635304', u'CCACGTCTACCCTGTAGATCCGAATTTGTTTTATACTAGCTTTAAGGACAAATTCGGTTCTAGAGAGGTTTGTGTGG', u'', u'9-30', u'49-71', 138)\n"
       ]
      },
      {
       "output_type": "stream",
       "stream": "stderr",
       "text": [
        "DEBUG:django.db.backends:(0.000) SELECT (1) AS `a` FROM `loq_interval` WHERE `loq_interval`.`id` = 139  LIMIT 1; args=(139,)\n"
       ]
      },
      {
       "output_type": "stream",
       "stream": "stderr",
       "text": [
        "DEBUG:django.db.backends:(0.000) UPDATE `loq_interval` SET `chr` = 'chr3R', `start` = 3277173, `stop` = 3277265, `mirName` = 'dme-mir-4950', `NeatName` = 'chr3R:3277174-3277265', `IntervalSize` = 92, `IntervalSerialNumber` = 139, `Structure` = '...((((((.((((((.(((.(((((.((((.((((((.(((.....))).)))))).)))).)))))..))))))))).)))...)))...', `Annotations` = '', `Tags` = '', `sum_read_counts` = 187, `sum_normReads` = 18.1253, `mapped_strand` = '+', `mid_point` = 3277217, `Link` = 'http://genome.ucsc.edu/cgi-bin/hgTracks?db=dm3&position=chr3R:3277174-3277265', `hairpin_seq` = 'TAATGCACATAATAAATGCCAACCATTCATCATGAAATTATAAATAGTATCATTTCAAGATGCATGGTAAGGCTTTATTTTGTTTTGCAATC', `mature_seq` = '', `five_p` = '14-35', `three_p` = '53-74' WHERE `loq_interval`.`id` = 139 ; args=(u'chr3R', 3277173, 3277265, u'dme-mir-4950', u'chr3R:3277174-3277265', 92, 139, u'...((((((.((((((.(((.(((((.((((.((((((.(((.....))).)))))).)))).)))))..))))))))).)))...)))...', u'', u'', 187, 18.1253, u'+', 3277217, 'http://genome.ucsc.edu/cgi-bin/hgTracks?db=dm3&position=chr3R:3277174-3277265', u'TAATGCACATAATAAATGCCAACCATTCATCATGAAATTATAAATAGTATCATTTCAAGATGCATGGTAAGGCTTTATTTTGTTTTGCAATC', u'', u'14-35', u'53-74', 139)\n"
       ]
      },
      {
       "output_type": "stream",
       "stream": "stderr",
       "text": [
        "DEBUG:django.db.backends:(0.000) SELECT (1) AS `a` FROM `loq_interval` WHERE `loq_interval`.`id` = 140  LIMIT 1; args=(140,)\n"
       ]
      },
      {
       "output_type": "stream",
       "stream": "stderr",
       "text": [
        "DEBUG:django.db.backends:(0.000) UPDATE `loq_interval` SET `chr` = 'chr3R', `start` = 4134152, `stop` = 4134207, `mirName` = 'dme-mir-4918', `NeatName` = 'chr3R:4134153-4134207', `IntervalSize` = 55, `IntervalSerialNumber` = 140, `Structure` = '(((.(((....(((...(((((((((....)))))))))....)))))).)))..', `Annotations` = '', `Tags` = '', `sum_read_counts` = 5, `sum_normReads` = 0.5209, `mapped_strand` = '-', `mid_point` = 4134180, `Link` = 'http://genome.ucsc.edu/cgi-bin/hgTracks?db=dm3&position=chr3R:4134153-4134207', `hairpin_seq` = 'GTGAGCACGATGGCCACATTTATTGGGCAACCAATGAATTCCCGCCTGCCCACAG', `mature_seq` = '', `five_p` = '', `three_p` = '' WHERE `loq_interval`.`id` = 140 ; args=(u'chr3R', 4134152, 4134207, u'dme-mir-4918', u'chr3R:4134153-4134207', 55, 140, u'(((.(((....(((...(((((((((....)))))))))....)))))).)))..', u'', u'', 5, 0.5209, u'-', 4134180, 'http://genome.ucsc.edu/cgi-bin/hgTracks?db=dm3&position=chr3R:4134153-4134207', u'GTGAGCACGATGGCCACATTTATTGGGCAACCAATGAATTCCCGCCTGCCCACAG', u'', u'', u'', 140)\n"
       ]
      },
      {
       "output_type": "stream",
       "stream": "stderr",
       "text": [
        "DEBUG:django.db.backends:(0.000) SELECT (1) AS `a` FROM `loq_interval` WHERE `loq_interval`.`id` = 141  LIMIT 1; args=(141,)\n"
       ]
      },
      {
       "output_type": "stream",
       "stream": "stderr",
       "text": [
        "DEBUG:django.db.backends:(0.000) UPDATE `loq_interval` SET `chr` = 'chr3R', `start` = 5343245, `stop` = 5343321, `mirName` = 'dme-mir-2283', `NeatName` = 'chr3R:5343246-5343321', `IntervalSize` = 76, `IntervalSerialNumber` = 141, `Structure` = '(((((((((.(((((((((((.((((...(((.(((....))).)))..)))).))))))))))).))))))))).', `Annotations` = '', `Tags` = '', `sum_read_counts` = NULL, `sum_normReads` = NULL, `mapped_strand` = '+', `mid_point` = 5343282, `Link` = 'http://genome.ucsc.edu/cgi-bin/hgTracks?db=dm3&position=chr3R:5343246-5343321', `hairpin_seq` = 'AGCTGCTCCGAAAATATCATGAATACGACAATTATGTGCACATCATTTAGTATACGTGATATTTTAGGAGCAGCTA', `mature_seq` = '', `five_p` = '10-32', `three_p` = '48-68' WHERE `loq_interval`.`id` = 141 ; args=(u'chr3R', 5343245, 5343321, u'dme-mir-2283', u'chr3R:5343246-5343321', 76, 141, u'(((((((((.(((((((((((.((((...(((.(((....))).)))..)))).))))))))))).))))))))).', u'', u'', u'+', 5343282, 'http://genome.ucsc.edu/cgi-bin/hgTracks?db=dm3&position=chr3R:5343246-5343321', u'AGCTGCTCCGAAAATATCATGAATACGACAATTATGTGCACATCATTTAGTATACGTGATATTTTAGGAGCAGCTA', u'', u'10-32', u'48-68', 141)\n"
       ]
      },
      {
       "output_type": "stream",
       "stream": "stderr",
       "text": [
        "DEBUG:django.db.backends:(0.000) SELECT (1) AS `a` FROM `loq_interval` WHERE `loq_interval`.`id` = 142  LIMIT 1; args=(142,)\n"
       ]
      },
      {
       "output_type": "stream",
       "stream": "stderr",
       "text": [
        "DEBUG:django.db.backends:(0.000) UPDATE `loq_interval` SET `chr` = 'chr3R', `start` = 5916847, `stop` = 5916939, `mirName` = 'dme-mir-317', `NeatName` = 'chr3R:5916848-5916939', `IntervalSize` = 92, `IntervalSerialNumber` = 142, `Structure` = '(((((((.(((((((((...(((((((((.((((((.(..((.....))..))))))).)))))..))))...))))))))).)))..))))', `Annotations` = '', `Tags` = '', `sum_read_counts` = 2299601, `sum_normReads` = 211143.7383, `mapped_strand` = '+', `mid_point` = 5916891, `Link` = 'http://genome.ucsc.edu/cgi-bin/hgTracks?db=dm3&position=chr3R:5916848-5916939', `hairpin_seq` = 'ATGCAACTGCCATTGGGATACACCCTGTGCTCGCTTTGAATGAAATGCAAGCAAGTGAACACAGCTGGTGGTATCCAGTGGCCGTTTGGCAT', `mature_seq` = '', `five_p` = '14-35', `three_p` = '56-79' WHERE `loq_interval`.`id` = 142 ; args=(u'chr3R', 5916847, 5916939, u'dme-mir-317', u'chr3R:5916848-5916939', 92, 142, u'(((((((.(((((((((...(((((((((.((((((.(..((.....))..))))))).)))))..))))...))))))))).)))..))))', u'', u'', 2299601, 211143.7383, u'+', 5916891, 'http://genome.ucsc.edu/cgi-bin/hgTracks?db=dm3&position=chr3R:5916848-5916939', u'ATGCAACTGCCATTGGGATACACCCTGTGCTCGCTTTGAATGAAATGCAAGCAAGTGAACACAGCTGGTGGTATCCAGTGGCCGTTTGGCAT', u'', u'14-35', u'56-79', 142)\n"
       ]
      },
      {
       "output_type": "stream",
       "stream": "stderr",
       "text": [
        "DEBUG:django.db.backends:(0.000) SELECT (1) AS `a` FROM `loq_interval` WHERE `loq_interval`.`id` = 143  LIMIT 1; args=(143,)\n"
       ]
      },
      {
       "output_type": "stream",
       "stream": "stderr",
       "text": [
        "DEBUG:django.db.backends:(0.000) UPDATE `loq_interval` SET `chr` = 'chr3R', `start` = 5925743, `stop` = 5925843, `mirName` = 'dme-mir-277', `NeatName` = 'chr3R:5925744-5925843', `IntervalSize` = 100, `IntervalSerialNumber` = 143, `Structure` = '(((.(.((((((((.(((((((((((((((((((((((.((...(.....)...)))))))))))))).))))))))).)).)))))))).).)))....', `Annotations` = '', `Tags` = '', `sum_read_counts` = 181828, `sum_normReads` = 16571.2402, `mapped_strand` = '+', `mid_point` = 5925790, `Link` = 'http://genome.ucsc.edu/cgi-bin/hgTracks?db=dm3&position=chr3R:5925744-5925843', `hairpin_seq` = 'TTGAAGGTTTTGGGCTGCGTGTCAGGAGTGCATTTGCACTGAAACTATCTGAAGCATGTAAATGCACTATCTGGTACGACATTCCAGAACGTACAATCTT', `mature_seq` = '', `five_p` = '18-38', `three_p` = '59-81' WHERE `loq_interval`.`id` = 143 ; args=(u'chr3R', 5925743, 5925843, u'dme-mir-277', u'chr3R:5925744-5925843', 100, 143, u'(((.(.((((((((.(((((((((((((((((((((((.((...(.....)...)))))))))))))).))))))))).)).)))))))).).)))....', u'', u'', 181828, 16571.2402, u'+', 5925790, 'http://genome.ucsc.edu/cgi-bin/hgTracks?db=dm3&position=chr3R:5925744-5925843', u'TTGAAGGTTTTGGGCTGCGTGTCAGGAGTGCATTTGCACTGAAACTATCTGAAGCATGTAAATGCACTATCTGGTACGACATTCCAGAACGTACAATCTT', u'', u'18-38', u'59-81', 143)\n"
       ]
      },
      {
       "output_type": "stream",
       "stream": "stderr",
       "text": [
        "DEBUG:django.db.backends:(0.000) SELECT (1) AS `a` FROM `loq_interval` WHERE `loq_interval`.`id` = 144  LIMIT 1; args=(144,)\n"
       ]
      },
      {
       "output_type": "stream",
       "stream": "stderr",
       "text": [
        "DEBUG:django.db.backends:(0.000) UPDATE `loq_interval` SET `chr` = 'chr3R', `start` = 5926657, `stop` = 5926756, `mirName` = 'dme-mir-34', `NeatName` = 'chr3R:5926658-5926756', `IntervalSize` = 99, `IntervalSerialNumber` = 144, `Structure` = '.....(((.(((((..((((((((.((.(((.((((((((..(.((((.......)))).)....))))))))))).)).))))))))..))).)))))', `Annotations` = '', `Tags` = '', `sum_read_counts` = 1728996, `sum_normReads` = 158306.508999999, `mapped_strand` = '+', `mid_point` = 5926708, `Link` = 'http://genome.ucsc.edu/cgi-bin/hgTracks?db=dm3&position=chr3R:5926658-5926756', `hairpin_seq` = 'AATTGGCTATGCGCTTTGGCAGTGTGGTTAGCTGGTTGTGTAGCCAATTATTGCCGTTGACAATTCACAGCCACTATCTTCACTGCCGCCGCGACAAGC', `mature_seq` = '', `five_p` = '17-40', `three_p` = '68-90' WHERE `loq_interval`.`id` = 144 ; args=(u'chr3R', 5926657, 5926756, u'dme-mir-34', u'chr3R:5926658-5926756', 99, 144, u'.....(((.(((((..((((((((.((.(((.((((((((..(.((((.......)))).)....))))))))))).)).))))))))..))).)))))', u'', u'', 1728996, 158306.508999999, u'+', 5926708, 'http://genome.ucsc.edu/cgi-bin/hgTracks?db=dm3&position=chr3R:5926658-5926756', u'AATTGGCTATGCGCTTTGGCAGTGTGGTTAGCTGGTTGTGTAGCCAATTATTGCCGTTGACAATTCACAGCCACTATCTTCACTGCCGCCGCGACAAGC', u'', u'17-40', u'68-90', 144)\n"
       ]
      },
      {
       "output_type": "stream",
       "stream": "stderr",
       "text": [
        "DEBUG:django.db.backends:(0.000) SELECT (1) AS `a` FROM `loq_interval` WHERE `loq_interval`.`id` = 145  LIMIT 1; args=(145,)\n"
       ]
      },
      {
       "output_type": "stream",
       "stream": "stderr",
       "text": [
        "DEBUG:django.db.backends:(0.000) UPDATE `loq_interval` SET `chr` = 'chr3R', `start` = 6233858, `stop` = 6233949, `mirName` = 'dme-mir-994', `NeatName` = 'chr3R:6233859-6233949', `IntervalSize` = 91, `IntervalSerialNumber` = 145, `Structure` = '....(((((((((((((((((((((((.(((((......................))))).))))))))))).))))))))))))......', `Annotations` = '', `Tags` = '', `sum_read_counts` = 88, `sum_normReads` = 7.856, `mapped_strand` = '+', `mid_point` = 6233901, `Link` = 'http://genome.ucsc.edu/cgi-bin/hgTracks?db=dm3&position=chr3R:6233859-6233949', `hairpin_seq` = 'TATCGAGTTATCTAAGGAAATAGTAGCCGTGATTTTACCCAAGAATTTTTCACATATCACAGTTGCTGTTTCTTTTAGATAGCTCTTTTGT', `mature_seq` = '', `five_p` = '12-33', `three_p` = '58-80' WHERE `loq_interval`.`id` = 145 ; args=(u'chr3R', 6233858, 6233949, u'dme-mir-994', u'chr3R:6233859-6233949', 91, 145, u'....(((((((((((((((((((((((.(((((......................))))).))))))))))).))))))))))))......', u'', u'', 88, 7.856, u'+', 6233901, 'http://genome.ucsc.edu/cgi-bin/hgTracks?db=dm3&position=chr3R:6233859-6233949', u'TATCGAGTTATCTAAGGAAATAGTAGCCGTGATTTTACCCAAGAATTTTTCACATATCACAGTTGCTGTTTCTTTTAGATAGCTCTTTTGT', u'', u'12-33', u'58-80', 145)\n"
       ]
      },
      {
       "output_type": "stream",
       "stream": "stderr",
       "text": [
        "DEBUG:django.db.backends:(0.000) SELECT (1) AS `a` FROM `loq_interval` WHERE `loq_interval`.`id` = 146  LIMIT 1; args=(146,)\n"
       ]
      },
      {
       "output_type": "stream",
       "stream": "stderr",
       "text": [
        "DEBUG:django.db.backends:(0.000) UPDATE `loq_interval` SET `chr` = 'chr3R', `start` = 6234023, `stop` = 6234091, `mirName` = 'dme-mir-318', `NeatName` = 'chr3R:6234024-6234091', `IntervalSize` = 68, `IntervalSerialNumber` = 146, `Structure` = '.((((((((((.(((.((((((((..(((..........)))..)))))))).))).)))))))))).', `Annotations` = 'loq', `Tags` = 'lit: reduced abundance in loqs mutants?', `sum_read_counts` = 204, `sum_normReads` = 19.2044, `mapped_strand` = '+', `mid_point` = 6234056, `Link` = 'http://genome.ucsc.edu/cgi-bin/hgTracks?db=dm3&position=chr3R:6234024-6234091', `hairpin_seq` = 'TTTATGGGATACACACAGTTCAGTTTTGTCACACTTCAAGCATCACTGGGCTTTGTTTATCTCATGAG', `mature_seq` = '', `five_p` = '7-28', `three_p` = '43-64' WHERE `loq_interval`.`id` = 146 ; args=(u'chr3R', 6234023, 6234091, u'dme-mir-318', u'chr3R:6234024-6234091', 68, 146, u'.((((((((((.(((.((((((((..(((..........)))..)))))))).))).)))))))))).', u'loq', u'lit: reduced abundance in loqs mutants?', 204, 19.2044, u'+', 6234056, 'http://genome.ucsc.edu/cgi-bin/hgTracks?db=dm3&position=chr3R:6234024-6234091', u'TTTATGGGATACACACAGTTCAGTTTTGTCACACTTCAAGCATCACTGGGCTTTGTTTATCTCATGAG', u'', u'7-28', u'43-64', 146)\n"
       ]
      },
      {
       "output_type": "stream",
       "stream": "stderr",
       "text": [
        "DEBUG:django.db.backends:(0.000) SELECT (1) AS `a` FROM `loq_interval` WHERE `loq_interval`.`id` = 147  LIMIT 1; args=(147,)\n"
       ]
      },
      {
       "output_type": "stream",
       "stream": "stderr",
       "text": [
        "DEBUG:django.db.backends:(0.000) UPDATE `loq_interval` SET `chr` = 'chr3R', `start` = 6338726, `stop` = 6338855, `mirName` = 'dme-mir-4944', `NeatName` = 'chr3R:6338727-6338855', `IntervalSize` = 129, `IntervalSerialNumber` = 147, `Structure` = '......((((((((....)))..)))))..((((((((((((((..(((..(((((((.................)))))))..)))..)))))))))))))).....(((((.........)))))..', `Annotations` = '', `Tags` = '', `sum_read_counts` = 23, `sum_normReads` = 1.9452, `mapped_strand` = '-', `mid_point` = 6338789, `Link` = 'http://genome.ucsc.edu/cgi-bin/hgTracks?db=dm3&position=chr3R:6338727-6338855', `hairpin_seq` = 'AAAAGTAACTTTCGTAATCGAAAAAGTTTCGCTTTTTTTTCTGCTTCTGCCGCTGAGCAAGTTTTAAATATTACCGCTTAGTTACAGCTGCAGGAAGAAAAGTTATAATTATGGACTACGTACATAAAT', `mature_seq` = '', `five_p` = '38-59', `three_p` = '78-99' WHERE `loq_interval`.`id` = 147 ; args=(u'chr3R', 6338726, 6338855, u'dme-mir-4944', u'chr3R:6338727-6338855', 129, 147, u'......((((((((....)))..)))))..((((((((((((((..(((..(((((((.................)))))))..)))..)))))))))))))).....(((((.........)))))..', u'', u'', 23, 1.9452, u'-', 6338789, 'http://genome.ucsc.edu/cgi-bin/hgTracks?db=dm3&position=chr3R:6338727-6338855', u'AAAAGTAACTTTCGTAATCGAAAAAGTTTCGCTTTTTTTTCTGCTTCTGCCGCTGAGCAAGTTTTAAATATTACCGCTTAGTTACAGCTGCAGGAAGAAAAGTTATAATTATGGACTACGTACATAAAT', u'', u'38-59', u'78-99', 147)\n"
       ]
      },
      {
       "output_type": "stream",
       "stream": "stderr",
       "text": [
        "DEBUG:django.db.backends:(0.000) SELECT (1) AS `a` FROM `loq_interval` WHERE `loq_interval`.`id` = 148  LIMIT 1; args=(148,)\n"
       ]
      },
      {
       "output_type": "stream",
       "stream": "stderr",
       "text": [
        "DEBUG:django.db.backends:(0.000) UPDATE `loq_interval` SET `chr` = 'chr3R', `start` = 7267913, `stop` = 7268028, `mirName` = 'dme-mir-4945', `NeatName` = 'chr3R:7267914-7268028', `IntervalSize` = 115, `IntervalSerialNumber` = 148, `Structure` = '.....((((((....(((...(((((((..(((((((.(((..((((((((((((...........))))))))))))..))).)))))))..)))))))..)))..))))))..', `Annotations` = '', `Tags` = '', `sum_read_counts` = 5, `sum_normReads` = 0.1111, `mapped_strand` = '-', `mid_point` = 7267968, `Link` = 'http://genome.ucsc.edu/cgi-bin/hgTracks?db=dm3&position=chr3R:7267914-7268028', `hairpin_seq` = 'GTGATGGTGCTGGTGGTGGTGCCTTCATTGTTTTTCTCTTCTTTTTGTTGTTTGACTTTTACACTTTTGAACAACAAGCCGAAAGGAAAAAGCATGAAGGAATGCAAAGTATTCG', `mature_seq` = '', `five_p` = '', `three_p` = '' WHERE `loq_interval`.`id` = 148 ; args=(u'chr3R', 7267913, 7268028, u'dme-mir-4945', u'chr3R:7267914-7268028', 115, 148, u'.....((((((....(((...(((((((..(((((((.(((..((((((((((((...........))))))))))))..))).)))))))..)))))))..)))..))))))..', u'', u'', 5, 0.1111, u'-', 7267968, 'http://genome.ucsc.edu/cgi-bin/hgTracks?db=dm3&position=chr3R:7267914-7268028', u'GTGATGGTGCTGGTGGTGGTGCCTTCATTGTTTTTCTCTTCTTTTTGTTGTTTGACTTTTACACTTTTGAACAACAAGCCGAAAGGAAAAAGCATGAAGGAATGCAAAGTATTCG', u'', u'', u'', 148)\n"
       ]
      },
      {
       "output_type": "stream",
       "stream": "stderr",
       "text": [
        "DEBUG:django.db.backends:(0.000) SELECT (1) AS `a` FROM `loq_interval` WHERE `loq_interval`.`id` = 149  LIMIT 1; args=(149,)\n"
       ]
      },
      {
       "output_type": "stream",
       "stream": "stderr",
       "text": [
        "DEBUG:django.db.backends:(0.000) UPDATE `loq_interval` SET `chr` = 'chr3R', `start` = 8377236, `stop` = 8377336, `mirName` = 'dme-mir-284', `NeatName` = 'chr3R:8377237-8377336', `IntervalSize` = 100, `IntervalSerialNumber` = 149, `Structure` = '(((((((((.((((((((((((((.(((....((((....))))..(((.........)))........))))))))))))))))).)))))))))....', `Annotations` = '', `Tags` = '', `sum_read_counts` = 92, `sum_normReads` = 9.6225, `mapped_strand` = '-', `mid_point` = 8377283, `Link` = 'http://genome.ucsc.edu/cgi-bin/hgTracks?db=dm3&position=chr3R:8377237-8377336', `hairpin_seq` = 'GTTGCAGTTCCTGGAATTAAGTTGACTGTGTAGCCTGTGAGGGCAAGGCTTGAATAATGCTCCTGAAGTCAGCAACTTGATTCCAGCAATTGCGGCCCGA', `mature_seq` = '', `five_p` = '10-35', `three_p` = '68-88' WHERE `loq_interval`.`id` = 149 ; args=(u'chr3R', 8377236, 8377336, u'dme-mir-284', u'chr3R:8377237-8377336', 100, 149, u'(((((((((.((((((((((((((.(((....((((....))))..(((.........)))........))))))))))))))))).)))))))))....', u'', u'', 92, 9.6225, u'-', 8377283, 'http://genome.ucsc.edu/cgi-bin/hgTracks?db=dm3&position=chr3R:8377237-8377336', u'GTTGCAGTTCCTGGAATTAAGTTGACTGTGTAGCCTGTGAGGGCAAGGCTTGAATAATGCTCCTGAAGTCAGCAACTTGATTCCAGCAATTGCGGCCCGA', u'', u'10-35', u'68-88', 149)\n"
       ]
      },
      {
       "output_type": "stream",
       "stream": "stderr",
       "text": [
        "DEBUG:django.db.backends:(0.000) SELECT (1) AS `a` FROM `loq_interval` WHERE `loq_interval`.`id` = 150  LIMIT 1; args=(150,)\n"
       ]
      },
      {
       "output_type": "stream",
       "stream": "stderr",
       "text": [
        "DEBUG:django.db.backends:(0.000) UPDATE `loq_interval` SET `chr` = 'chr3R', `start` = 9289940, `stop` = 9290033, `mirName` = 'dme-mir-252', `NeatName` = 'chr3R:9289941-9290033', `IntervalSize` = 93, `IntervalSerialNumber` = 150, `Structure` = '.......(((((((..((((((((.(.((.(((((((....(((((....)).)))..))))))).)).).))))))))..))))))).....', `Annotations` = '', `Tags` = '', `sum_read_counts` = 274, `sum_normReads` = 26.5985, `mapped_strand` = '-', `mid_point` = 9289986, `Link` = 'http://genome.ucsc.edu/cgi-bin/hgTracks?db=dm3&position=chr3R:9289941-9290033', `hairpin_seq` = 'ACCAAGTTCGCTTTCCTAAGTACTAGTGCCGCAGGAGTTAGGTTCGTGTCCGCAATACCTCCTGCTGCCCAAGTGCTTATTAAAGCGGCGAGT', `mature_seq` = '', `five_p` = '16-37', `three_p` = '60-81' WHERE `loq_interval`.`id` = 150 ; args=(u'chr3R', 9289940, 9290033, u'dme-mir-252', u'chr3R:9289941-9290033', 93, 150, u'.......(((((((..((((((((.(.((.(((((((....(((((....)).)))..))))))).)).).))))))))..))))))).....', u'', u'', 274, 26.5985, u'-', 9289986, 'http://genome.ucsc.edu/cgi-bin/hgTracks?db=dm3&position=chr3R:9289941-9290033', u'ACCAAGTTCGCTTTCCTAAGTACTAGTGCCGCAGGAGTTAGGTTCGTGTCCGCAATACCTCCTGCTGCCCAAGTGCTTATTAAAGCGGCGAGT', u'', u'16-37', u'60-81', 150)\n"
       ]
      },
      {
       "output_type": "stream",
       "stream": "stderr",
       "text": [
        "DEBUG:django.db.backends:(0.000) SELECT (1) AS `a` FROM `loq_interval` WHERE `loq_interval`.`id` = 151  LIMIT 1; args=(151,)\n"
       ]
      },
      {
       "output_type": "stream",
       "stream": "stderr",
       "text": [
        "DEBUG:django.db.backends:(0.000) UPDATE `loq_interval` SET `chr` = 'chr3R', `start` = 10222120, `stop` = 10222223, `mirName` = 'dme-mir-2281', `NeatName` = 'chr3R:10222121-10222223', `IntervalSize` = 103, `IntervalSerialNumber` = 151, `Structure` = '((((((.(((((((..(((((.((.((((((.((((((((((.(((......))).)))))))))).)))))))).))).))...))))))).....))))))', `Annotations` = '', `Tags` = '', `sum_read_counts` = 3, `sum_normReads` = 0.0863, `mapped_strand` = '-', `mid_point` = 10222175, `Link` = 'http://genome.ucsc.edu/cgi-bin/hgTracks?db=dm3&position=chr3R:10222121-10222223', `hairpin_seq` = 'GGATGTCGAGCAGTACACGTATTATCTGCAGCTGCAGATGCAAATGTATATGTATCTGTATCTGTATCTGCAGTATTGCAGTATCGCTGCTTTATTCATATCC', `mature_seq` = '', `five_p` = '21-43', `three_p` = '59-79' WHERE `loq_interval`.`id` = 151 ; args=(u'chr3R', 10222120, 10222223, u'dme-mir-2281', u'chr3R:10222121-10222223', 103, 151, u'((((((.(((((((..(((((.((.((((((.((((((((((.(((......))).)))))))))).)))))))).))).))...))))))).....))))))', u'', u'', 3, 0.0863, u'-', 10222175, 'http://genome.ucsc.edu/cgi-bin/hgTracks?db=dm3&position=chr3R:10222121-10222223', u'GGATGTCGAGCAGTACACGTATTATCTGCAGCTGCAGATGCAAATGTATATGTATCTGTATCTGTATCTGCAGTATTGCAGTATCGCTGCTTTATTCATATCC', u'', u'21-43', u'59-79', 151)\n"
       ]
      },
      {
       "output_type": "stream",
       "stream": "stderr",
       "text": [
        "DEBUG:django.db.backends:(0.000) SELECT (1) AS `a` FROM `loq_interval` WHERE `loq_interval`.`id` = 152  LIMIT 1; args=(152,)\n"
       ]
      },
      {
       "output_type": "stream",
       "stream": "stderr",
       "text": [
        "DEBUG:django.db.backends:(0.000) UPDATE `loq_interval` SET `chr` = 'chr3R', `start` = 10956475, `stop` = 10956581, `mirName` = 'dme-mir-2493', `NeatName` = 'chr3R:10956476-10956581', `IntervalSize` = 106, `IntervalSerialNumber` = 152, `Structure` = '.(((....(((.(((..(((((((((.((((.((((((.(((((((((.....)))......)))))).))))))...)))).)).))))))).))).)))..)))', `Annotations` = '', `Tags` = '', `sum_read_counts` = 36, `sum_normReads` = 3.367, `mapped_strand` = '-', `mid_point` = 10956531, `Link` = 'http://genome.ucsc.edu/cgi-bin/hgTracks?db=dm3&position=chr3R:10956476-10956581', `hairpin_seq` = 'CGCTATTATTAAAACCCCCAACGCTCACACACACACACAGCCATGTGCATGGAGCAAAAAACTATGGCCGTGTGTATTTGTGCGAGGCGTTGGCGTTCTGACCAGC', `mature_seq` = '', `five_p` = '23-43', `three_p` = '68-90' WHERE `loq_interval`.`id` = 152 ; args=(u'chr3R', 10956475, 10956581, u'dme-mir-2493', u'chr3R:10956476-10956581', 106, 152, u'.(((....(((.(((..(((((((((.((((.((((((.(((((((((.....)))......)))))).))))))...)))).)).))))))).))).)))..)))', u'', u'', 36, 3.367, u'-', 10956531, 'http://genome.ucsc.edu/cgi-bin/hgTracks?db=dm3&position=chr3R:10956476-10956581', u'CGCTATTATTAAAACCCCCAACGCTCACACACACACACAGCCATGTGCATGGAGCAAAAAACTATGGCCGTGTGTATTTGTGCGAGGCGTTGGCGTTCTGACCAGC', u'', u'23-43', u'68-90', 152)\n"
       ]
      },
      {
       "output_type": "stream",
       "stream": "stderr",
       "text": [
        "DEBUG:django.db.backends:(0.000) SELECT (1) AS `a` FROM `loq_interval` WHERE `loq_interval`.`id` = 153  LIMIT 1; args=(153,)\n"
       ]
      },
      {
       "output_type": "stream",
       "stream": "stderr",
       "text": [
        "DEBUG:django.db.backends:(0.000) UPDATE `loq_interval` SET `chr` = 'chr3R', `start` = 11018018, `stop` = 11018079, `mirName` = 'dme-mir-3644', `NeatName` = 'chr3R:11018019-11018079', `IntervalSize` = 61, `IntervalSerialNumber` = 153, `Structure` = '(((..(((.(((((((((.(((((....))))).))))))))).)))..))).........', `Annotations` = '', `Tags` = '', `sum_read_counts` = 6, `sum_normReads` = 0.66, `mapped_strand` = '-', `mid_point` = 11018054, `Link` = 'http://genome.ucsc.edu/cgi-bin/hgTracks?db=dm3&position=chr3R:11018019-11018079', `hairpin_seq` = 'GTGAGTGATTATGGTTTAAGTAATACGAATTACATAAACTATATTTAACCACTATTCTTAG', `mature_seq` = '', `five_p` = '1-22', `three_p` = '33-55' WHERE `loq_interval`.`id` = 153 ; args=(u'chr3R', 11018018, 11018079, u'dme-mir-3644', u'chr3R:11018019-11018079', 61, 153, u'(((..(((.(((((((((.(((((....))))).))))))))).)))..))).........', u'', u'', 6, 0.66, u'-', 11018054, 'http://genome.ucsc.edu/cgi-bin/hgTracks?db=dm3&position=chr3R:11018019-11018079', u'GTGAGTGATTATGGTTTAAGTAATACGAATTACATAAACTATATTTAACCACTATTCTTAG', u'', u'1-22', u'33-55', 153)\n"
       ]
      },
      {
       "output_type": "stream",
       "stream": "stderr",
       "text": [
        "DEBUG:django.db.backends:(0.000) SELECT (1) AS `a` FROM `loq_interval` WHERE `loq_interval`.`id` = 154  LIMIT 1; args=(154,)\n"
       ]
      },
      {
       "output_type": "stream",
       "stream": "stderr",
       "text": [
        "DEBUG:django.db.backends:(0.000) UPDATE `loq_interval` SET `chr` = 'chr3R', `start` = 11243129, `stop` = 11243197, `mirName` = 'dme-mir-13b-1', `NeatName` = 'chr3R:11243130-11243197', `IntervalSize` = 68, `IntervalSerialNumber` = 154, `Structure` = '(((..(((((((((((.((((((...((((..........)))))))))).)))))))))))...)))', `Annotations` = '', `Tags` = '', `sum_read_counts` = 1802330, `sum_normReads` = 82184.2999, `mapped_strand` = '-', `mid_point` = 11243163, `Link` = 'http://genome.ucsc.edu/cgi-bin/hgTracks?db=dm3&position=chr3R:11243130-11243197', `hairpin_seq` = 'CCATGTCGTTAAAATGTTTGTGAACTTATGTATTCACAATCATATCACAGCCATTTTGACGAGTTTGG', `mature_seq` = '', `five_p` = '', `three_p` = '' WHERE `loq_interval`.`id` = 154 ; args=(u'chr3R', 11243129, 11243197, u'dme-mir-13b-1', u'chr3R:11243130-11243197', 68, 154, u'(((..(((((((((((.((((((...((((..........)))))))))).)))))))))))...)))', u'', u'', 1802330, 82184.2999, u'-', 11243163, 'http://genome.ucsc.edu/cgi-bin/hgTracks?db=dm3&position=chr3R:11243130-11243197', u'CCATGTCGTTAAAATGTTTGTGAACTTATGTATTCACAATCATATCACAGCCATTTTGACGAGTTTGG', u'', u'', u'', 154)\n"
       ]
      },
      {
       "output_type": "stream",
       "stream": "stderr",
       "text": [
        "DEBUG:django.db.backends:(0.000) SELECT (1) AS `a` FROM `loq_interval` WHERE `loq_interval`.`id` = 155  LIMIT 1; args=(155,)\n"
       ]
      },
      {
       "output_type": "stream",
       "stream": "stderr",
       "text": [
        "DEBUG:django.db.backends:(0.000) UPDATE `loq_interval` SET `chr` = 'chr3R', `start` = 11243263, `stop` = 11243338, `mirName` = 'dme-mir-13a', `NeatName` = 'chr3R:11243264-11243338', `IntervalSize` = 75, `IntervalSerialNumber` = 155, `Structure` = '((((.(((((.((((((((((((((.(((................))).)))))))).)))))).))))).))))', `Annotations` = '', `Tags` = '', `sum_read_counts` = 3271, `sum_normReads` = 306.2587, `mapped_strand` = '-', `mid_point` = 11243302, `Link` = 'http://genome.ucsc.edu/cgi-bin/hgTracks?db=dm3&position=chr3R:11243264-11243338', `hairpin_seq` = 'TACGTAACTCCTCAAAGGGTTGTGAAATGTCGACTATTATCTACTCATATCACAGCCATTTTGATGAGTTTCGTG', `mature_seq` = '', `five_p` = '8-29', `three_p` = '48-69' WHERE `loq_interval`.`id` = 155 ; args=(u'chr3R', 11243263, 11243338, u'dme-mir-13a', u'chr3R:11243264-11243338', 75, 155, u'((((.(((((.((((((((((((((.(((................))).)))))))).)))))).))))).))))', u'', u'', 3271, 306.2587, u'-', 11243302, 'http://genome.ucsc.edu/cgi-bin/hgTracks?db=dm3&position=chr3R:11243264-11243338', u'TACGTAACTCCTCAAAGGGTTGTGAAATGTCGACTATTATCTACTCATATCACAGCCATTTTGATGAGTTTCGTG', u'', u'8-29', u'48-69', 155)\n"
       ]
      },
      {
       "output_type": "stream",
       "stream": "stderr",
       "text": [
        "DEBUG:django.db.backends:(0.000) SELECT (1) AS `a` FROM `loq_interval` WHERE `loq_interval`.`id` = 156  LIMIT 1; args=(156,)\n"
       ]
      },
      {
       "output_type": "stream",
       "stream": "stderr",
       "text": [
        "DEBUG:django.db.backends:(0.000) UPDATE `loq_interval` SET `chr` = 'chr3R', `start` = 11243465, `stop` = 11243567, `mirName` = 'dme-mir-2c', `NeatName` = 'chr3R:11243466-11243567', `IntervalSize` = 102, `IntervalSerialNumber` = 156, `Structure` = '((((..((((.((.(((((((((((((...(((((......((((((((.......)))..))))).)))))...)))))).))))))).))))))..))))', `Annotations` = '', `Tags` = '', `sum_read_counts` = 39074, `sum_normReads` = 1294.3434, `mapped_strand` = '-', `mid_point` = 11243515, `Link` = 'http://genome.ucsc.edu/cgi-bin/hgTracks?db=dm3&position=chr3R:11243466-11243567', `hairpin_seq` = 'TCGTATCTTACTTTCAATGTCATCAAAAAGGGCTGAAGAAAGATATTTCTGCATTTGAATCGTATCACAGCCAGCTTTGATGGGCATTGCAATGAGCAGCGA', `mature_seq` = '', `five_p` = '20-44', `three_p` = '63-85' WHERE `loq_interval`.`id` = 156 ; args=(u'chr3R', 11243465, 11243567, u'dme-mir-2c', u'chr3R:11243466-11243567', 102, 156, u'((((..((((.((.(((((((((((((...(((((......((((((((.......)))..))))).)))))...)))))).))))))).))))))..))))', u'', u'', 39074, 1294.3434, u'-', 11243515, 'http://genome.ucsc.edu/cgi-bin/hgTracks?db=dm3&position=chr3R:11243466-11243567', u'TCGTATCTTACTTTCAATGTCATCAAAAAGGGCTGAAGAAAGATATTTCTGCATTTGAATCGTATCACAGCCAGCTTTGATGGGCATTGCAATGAGCAGCGA', u'', u'20-44', u'63-85', 156)\n"
       ]
      },
      {
       "output_type": "stream",
       "stream": "stderr",
       "text": [
        "DEBUG:django.db.backends:(0.000) SELECT (1) AS `a` FROM `loq_interval` WHERE `loq_interval`.`id` = 157  LIMIT 1; args=(157,)\n"
       ]
      },
      {
       "output_type": "stream",
       "stream": "stderr",
       "text": [
        "DEBUG:django.db.backends:(0.000) UPDATE `loq_interval` SET `chr` = 'chr3R', `start` = 11662008, `stop` = 11662076, `mirName` = 'dme-mir-4911', `NeatName` = 'chr3R:11662009-11662076', `IntervalSize` = 68, `IntervalSerialNumber` = 157, `Structure` = '(((.((.((.((((((.((.((......................)).)).)))))).)))))))....', `Annotations` = '', `Tags` = '', `sum_read_counts` = NULL, `sum_normReads` = NULL, `mapped_strand` = '-', `mid_point` = 11662044, `Link` = 'http://genome.ucsc.edu/cgi-bin/hgTracks?db=dm3&position=chr3R:11662009-11662076', `hairpin_seq` = 'GTGAGGAGGAGCAAAGTGGCGCCACAATTTACTAGAAACTAATTGCATCTTTTTGTCCCCCCGCGTAG', `mature_seq` = '', `five_p` = '', `three_p` = '' WHERE `loq_interval`.`id` = 157 ; args=(u'chr3R', 11662008, 11662076, u'dme-mir-4911', u'chr3R:11662009-11662076', 68, 157, u'(((.((.((.((((((.((.((......................)).)).)))))).)))))))....', u'', u'', u'-', 11662044, 'http://genome.ucsc.edu/cgi-bin/hgTracks?db=dm3&position=chr3R:11662009-11662076', u'GTGAGGAGGAGCAAAGTGGCGCCACAATTTACTAGAAACTAATTGCATCTTTTTGTCCCCCCGCGTAG', u'', u'', u'', 157)\n"
       ]
      },
      {
       "output_type": "stream",
       "stream": "stderr",
       "text": [
        "DEBUG:django.db.backends:(0.000) SELECT (1) AS `a` FROM `loq_interval` WHERE `loq_interval`.`id` = 158  LIMIT 1; args=(158,)\n"
       ]
      },
      {
       "output_type": "stream",
       "stream": "stderr",
       "text": [
        "DEBUG:django.db.backends:(0.000) UPDATE `loq_interval` SET `chr` = 'chr3R', `start` = 12444487, `stop` = 12444604, `mirName` = 'dme-mir-2494', `NeatName` = 'chr3R:12444488-12444604', `IntervalSize` = 117, `IntervalSerialNumber` = 158, `Structure` = '(((((((((((((((((.....(((((((.((...((((((((((.......................))))))))))...)).))))))).....)))...))))))).)))))))', `Annotations` = '', `Tags` = '', `sum_read_counts` = 1, `sum_normReads` = 0.0655, `mapped_strand` = '+', `mid_point` = 12444543, `Link` = 'http://genome.ucsc.edu/cgi-bin/hgTracks?db=dm3&position=chr3R:12444488-12444604', `hairpin_seq` = 'TCCATCTTCCGACCGGCGATCAGTAAGTGCACCAGATTGGGAATAACCTTCAAAAGCTGCAACTTAAATATTCCCAGTAATGTCCACTTACAAGGAGCCCCTGGTTGGATGGGTGGA', `mature_seq` = '', `five_p` = '23-43', `three_p` = '71-94' WHERE `loq_interval`.`id` = 158 ; args=(u'chr3R', 12444487, 12444604, u'dme-mir-2494', u'chr3R:12444488-12444604', 117, 158, u'(((((((((((((((((.....(((((((.((...((((((((((.......................))))))))))...)).))))))).....)))...))))))).)))))))', u'', u'', 1, 0.0655, u'+', 12444543, 'http://genome.ucsc.edu/cgi-bin/hgTracks?db=dm3&position=chr3R:12444488-12444604', u'TCCATCTTCCGACCGGCGATCAGTAAGTGCACCAGATTGGGAATAACCTTCAAAAGCTGCAACTTAAATATTCCCAGTAATGTCCACTTACAAGGAGCCCCTGGTTGGATGGGTGGA', u'', u'23-43', u'71-94', 158)\n"
       ]
      },
      {
       "output_type": "stream",
       "stream": "stderr",
       "text": [
        "DEBUG:django.db.backends:(0.000) SELECT (1) AS `a` FROM `loq_interval` WHERE `loq_interval`.`id` = 159  LIMIT 1; args=(159,)\n"
       ]
      },
      {
       "output_type": "stream",
       "stream": "stderr",
       "text": [
        "DEBUG:django.db.backends:(0.000) UPDATE `loq_interval` SET `chr` = 'chr3R', `start` = 12681996, `stop` = 12682064, `mirName` = 'dme-mir-iab-4', `NeatName` = 'chr3R:12681997-12682064', `IntervalSize` = 68, `IntervalSerialNumber` = 159, `Structure` = '', `Annotations` = '', `Tags` = '', `sum_read_counts` = 0, `sum_normReads` = 0, `mapped_strand` = '+', `mid_point` = 12682028, `Link` = 'http://genome.ucsc.edu/cgi-bin/hgTracks?db=dm3&position=chr3R:12681997-12682064', `hairpin_seq` = 'TCGTAAACGTATACTGAATGTATCCTGAGTGTATCCTATCCGGTATACCTTCAGTATACGTAACACGA', `mature_seq` = '', `five_p` = '7-28', `three_p` = '41-64' WHERE `loq_interval`.`id` = 159 ; args=(u'chr3R', 12681996, 12682064, u'dme-mir-iab-4', u'chr3R:12681997-12682064', 68, 159, u'', u'', u'', 0, 0.0, u'+', 12682028, 'http://genome.ucsc.edu/cgi-bin/hgTracks?db=dm3&position=chr3R:12681997-12682064', u'TCGTAAACGTATACTGAATGTATCCTGAGTGTATCCTATCCGGTATACCTTCAGTATACGTAACACGA', u'', u'7-28', u'41-64', 159)\n"
       ]
      },
      {
       "output_type": "stream",
       "stream": "stderr",
       "text": [
        "DEBUG:django.db.backends:(0.000) SELECT (1) AS `a` FROM `loq_interval` WHERE `loq_interval`.`id` = 161  LIMIT 1; args=(161,)\n"
       ]
      },
      {
       "output_type": "stream",
       "stream": "stderr",
       "text": [
        "DEBUG:django.db.backends:(0.000) UPDATE `loq_interval` SET `chr` = 'chr3R', `start` = 15152675, `stop` = 15152890, `mirName` = 'dme-mir-997', `NeatName` = 'chr3R:15152676-15152890', `IntervalSize` = 215, `IntervalSerialNumber` = 161, `Structure` = '...(.(((((...(((((((...((((((((..((((.(((((.(((((((((.((..((((((((((....(((((((.(((.((((((.....(((((.(((......))).)))))....)))))).))).))))))).....))))))))))..)).))))))))).))))).))))..))))))))...))))))', `Annotations` = '', `Tags` = '', `sum_read_counts` = NULL, `sum_normReads` = NULL, `mapped_strand` = '-', `mid_point` = 15152781, `Link` = 'http://genome.ucsc.edu/cgi-bin/hgTracks?db=dm3&position=chr3R:15152676-15152890', `hairpin_seq` = 'TTATGGATCCTCTTTCAATGAATTTAGTATGCCCAAACTCGAAGGAGTTTCACCTCCATAAGAGCGACAGTCCTGGAGAAGTTATCAGAGCCAAAAAAATTCATATGATGATGCATTTTCCGTCTCTGAAAACGTCTTCAGCAGAAGTTGTTTTTAGCGAAGTGAAACTCATTCGATTTTGATCATACTAACGACATTGGATGCTTGGATCGGCA', `mature_seq` = '', `five_p` = '32-52', `three_p` = '165-185' WHERE `loq_interval`.`id` = 161 ; args=(u'chr3R', 15152675, 15152890, u'dme-mir-997', u'chr3R:15152676-15152890', 215, 161, u'...(.(((((...(((((((...((((((((..((((.(((((.(((((((((.((..((((((((((....(((((((.(((.((((((.....(((((.(((......))).)))))....)))))).))).))))))).....))))))))))..)).))))))))).))))).))))..))))))))...))))))', u'', u'', u'-', 15152781, 'http://genome.ucsc.edu/cgi-bin/hgTracks?db=dm3&position=chr3R:15152676-15152890', u'TTATGGATCCTCTTTCAATGAATTTAGTATGCCCAAACTCGAAGGAGTTTCACCTCCATAAGAGCGACAGTCCTGGAGAAGTTATCAGAGCCAAAAAAATTCATATGATGATGCATTTTCCGTCTCTGAAAACGTCTTCAGCAGAAGTTGTTTTTAGCGAAGTGAAACTCATTCGATTTTGATCATACTAACGACATTGGATGCTTGGATCGGCA', u'', u'32-52', u'165-185', 161)\n"
       ]
      },
      {
       "output_type": "stream",
       "stream": "stderr",
       "text": [
        "DEBUG:django.db.backends:(0.000) SELECT (1) AS `a` FROM `loq_interval` WHERE `loq_interval`.`id` = 162  LIMIT 1; args=(162,)\n"
       ]
      },
      {
       "output_type": "stream",
       "stream": "stderr",
       "text": [
        "DEBUG:django.db.backends:(0.000) UPDATE `loq_interval` SET `chr` = 'chr3R', `start` = 16561644, `stop` = 16561734, `mirName` = 'dme-mir-995', `NeatName` = 'chr3R:16561645-16561734', `IntervalSize` = 90, `IntervalSerialNumber` = 162, `Structure` = '..((((.(((.((.((((.(((((((((((..((((((..(((.....))).)))))).))))))))))))))).)).))).))))....', `Annotations` = '', `Tags` = '', `sum_read_counts` = 705421, `sum_normReads` = 68490.2937, `mapped_strand` = '+', `mid_point` = 16561689, `Link` = 'http://genome.ucsc.edu/cgi-bin/hgTracks?db=dm3&position=chr3R:16561645-16561734', `hairpin_seq` = 'CACCTGCACCCCGCAGCCCGAATTATGTGGGAGCTGCGCCGTTTCCGTAATCCGTAGCACCACATGATTCGGCTTCGTGGTACAGGATAT', `mature_seq` = '', `five_p` = '17-38', `three_p` = '55-75' WHERE `loq_interval`.`id` = 162 ; args=(u'chr3R', 16561644, 16561734, u'dme-mir-995', u'chr3R:16561645-16561734', 90, 162, u'..((((.(((.((.((((.(((((((((((..((((((..(((.....))).)))))).))))))))))))))).)).))).))))....', u'', u'', 705421, 68490.2937, u'+', 16561689, 'http://genome.ucsc.edu/cgi-bin/hgTracks?db=dm3&position=chr3R:16561645-16561734', u'CACCTGCACCCCGCAGCCCGAATTATGTGGGAGCTGCGCCGTTTCCGTAATCCGTAGCACCACATGATTCGGCTTCGTGGTACAGGATAT', u'', u'17-38', u'55-75', 162)\n"
       ]
      },
      {
       "output_type": "stream",
       "stream": "stderr",
       "text": [
        "DEBUG:django.db.backends:(0.000) SELECT (1) AS `a` FROM `loq_interval` WHERE `loq_interval`.`id` = 163  LIMIT 1; args=(163,)\n"
       ]
      },
      {
       "output_type": "stream",
       "stream": "stderr",
       "text": [
        "DEBUG:django.db.backends:(0.000) UPDATE `loq_interval` SET `chr` = 'chr3R', `start` = 16679026, `stop` = 16679080, `mirName` = 'dme-mir-1011', `NeatName` = 'chr3R:16679027-16679080', `IntervalSize` = 54, `IntervalSerialNumber` = 163, `Structure` = '((((((.((((((((((.((((.......)))).))))))))))..))))))..', `Annotations` = '', `Tags` = '', `sum_read_counts` = 7, `sum_normReads` = 0.5361, `mapped_strand` = '-', `mid_point` = 16679051, `Link` = 'http://genome.ucsc.edu/cgi-bin/hgTracks?db=dm3&position=chr3R:16679027-16679080', `hairpin_seq` = 'GTGAGTTTTTGAGCCAGGAATATAGTTCTTATTATTGGTTCAAATCGCTCGCAG', `mature_seq` = '', `five_p` = '', `three_p` = '' WHERE `loq_interval`.`id` = 163 ; args=(u'chr3R', 16679026, 16679080, u'dme-mir-1011', u'chr3R:16679027-16679080', 54, 163, u'((((((.((((((((((.((((.......)))).))))))))))..))))))..', u'', u'', 7, 0.5361, u'-', 16679051, 'http://genome.ucsc.edu/cgi-bin/hgTracks?db=dm3&position=chr3R:16679027-16679080', u'GTGAGTTTTTGAGCCAGGAATATAGTTCTTATTATTGGTTCAAATCGCTCGCAG', u'', u'', u'', 163)\n"
       ]
      },
      {
       "output_type": "stream",
       "stream": "stderr",
       "text": [
        "DEBUG:django.db.backends:(0.000) SELECT (1) AS `a` FROM `loq_interval` WHERE `loq_interval`.`id` = 164  LIMIT 1; args=(164,)\n"
       ]
      },
      {
       "output_type": "stream",
       "stream": "stderr",
       "text": [
        "DEBUG:django.db.backends:(0.000) UPDATE `loq_interval` SET `chr` = 'chr3R', `start` = 17142437, `stop` = 17142587, `mirName` = 'dme-mir-4951', `NeatName` = 'chr3R:17142438-17142587', `IntervalSize` = 150, `IntervalSerialNumber` = 164, `Structure` = '(((((...((((((..(((((.....))))).(((((((((((.(((((.(((((.......(((......)))......(((.......)))...)))))...)))))..)))))))))))......))))))....))))).......', `Annotations` = '', `Tags` = '', `sum_read_counts` = 16, `sum_normReads` = 1.9785, `mapped_strand` = '+', `mid_point` = 17142523, `Link` = 'http://genome.ucsc.edu/cgi-bin/hgTracks?db=dm3&position=chr3R:17142438-17142587', `hairpin_seq` = 'TTTTCGTACGTACAAAAAAGCATCAGGTTTTCGGGTGAGGTTTCTGATGCTTTGTCTCTTAAGTTTTTCCTAACAATTAAACCCTATGTCGGTATTACGAATACCATCAAAAAACCTCACCCACCAAATGTATGACCAGAGAGATAAAAA', `mature_seq` = '', `five_p` = '31-51', `three_p` = '104-126' WHERE `loq_interval`.`id` = 164 ; args=(u'chr3R', 17142437, 17142587, u'dme-mir-4951', u'chr3R:17142438-17142587', 150, 164, u'(((((...((((((..(((((.....))))).(((((((((((.(((((.(((((.......(((......)))......(((.......)))...)))))...)))))..)))))))))))......))))))....))))).......', u'', u'', 16, 1.9785, u'+', 17142523, 'http://genome.ucsc.edu/cgi-bin/hgTracks?db=dm3&position=chr3R:17142438-17142587', u'TTTTCGTACGTACAAAAAAGCATCAGGTTTTCGGGTGAGGTTTCTGATGCTTTGTCTCTTAAGTTTTTCCTAACAATTAAACCCTATGTCGGTATTACGAATACCATCAAAAAACCTCACCCACCAAATGTATGACCAGAGAGATAAAAA', u'', u'31-51', u'104-126', 164)\n"
       ]
      },
      {
       "output_type": "stream",
       "stream": "stderr",
       "text": [
        "DEBUG:django.db.backends:(0.000) SELECT (1) AS `a` FROM `loq_interval` WHERE `loq_interval`.`id` = 165  LIMIT 1; args=(165,)\n"
       ]
      },
      {
       "output_type": "stream",
       "stream": "stderr",
       "text": [
        "DEBUG:django.db.backends:(0.000) UPDATE `loq_interval` SET `chr` = 'chr3R', `start` = 17447600, `stop` = 17447743, `mirName` = 'dme-mir-998', `NeatName` = 'chr3R:17447601-17447743', `IntervalSize` = 143, `IntervalSerialNumber` = 165, `Structure` = '', `Annotations` = '', `Tags` = '', `sum_read_counts` = 116995, `sum_normReads` = 10941.6628, `mapped_strand` = '-', `mid_point` = 17447681, `Link` = 'http://genome.ucsc.edu/cgi-bin/hgTracks?db=dm3&position=chr3R:17447601-17447743', `hairpin_seq` = 'CCTCGTGTCAAATTCATTTTGGAACTGAATTCTCGTGGGTCTGCACTGACAACACTGACCGCTCCAGGGCAAATTGTTCATTTTGAAATTGAAATTCTGTAGCACCATGAGATTCAGCTCTGGCGTGAATTTCAAACATGCAT', `mature_seq` = '', `five_p` = '24-45', `three_p` = '100-120' WHERE `loq_interval`.`id` = 165 ; args=(u'chr3R', 17447600, 17447743, u'dme-mir-998', u'chr3R:17447601-17447743', 143, 165, u'', u'', u'', 116995, 10941.6628, u'-', 17447681, 'http://genome.ucsc.edu/cgi-bin/hgTracks?db=dm3&position=chr3R:17447601-17447743', u'CCTCGTGTCAAATTCATTTTGGAACTGAATTCTCGTGGGTCTGCACTGACAACACTGACCGCTCCAGGGCAAATTGTTCATTTTGAAATTGAAATTCTGTAGCACCATGAGATTCAGCTCTGGCGTGAATTTCAAACATGCAT', u'', u'24-45', u'100-120', 165)\n"
       ]
      },
      {
       "output_type": "stream",
       "stream": "stderr",
       "text": [
        "DEBUG:django.db.backends:(0.000) SELECT (1) AS `a` FROM `loq_interval` WHERE `loq_interval`.`id` = 166  LIMIT 1; args=(166,)\n"
       ]
      },
      {
       "output_type": "stream",
       "stream": "stderr",
       "text": [
        "DEBUG:django.db.backends:(0.000) UPDATE `loq_interval` SET `chr` = 'chr3R', `start` = 17448218, `stop` = 17448293, `mirName` = 'dme-mir-11', `NeatName` = 'chr3R:17448219-17448293', `IntervalSize` = 75, `IntervalSerialNumber` = 166, `Structure` = '(((((((.(((((((((...((((((...(((.((........))))).))))))...))))))))).)))))))', `Annotations` = '', `Tags` = '', `sum_read_counts` = 832708, `sum_normReads` = 79490.3894, `mapped_strand` = '-', `mid_point` = 17448256, `Link` = 'http://genome.ucsc.edu/cgi-bin/hgTracks?db=dm3&position=chr3R:17448219-17448293', `hairpin_seq` = 'GCACTTGTCAAGAACTTTCTCTGTGACCCGCGTGTACTTAAAAGCCGCATCACAGTCTGAGTTCTTGCTGAGTGC', `mature_seq` = '', `five_p` = '9-30', `three_p` = '48-68' WHERE `loq_interval`.`id` = 166 ; args=(u'chr3R', 17448218, 17448293, u'dme-mir-11', u'chr3R:17448219-17448293', 75, 166, u'(((((((.(((((((((...((((((...(((.((........))))).))))))...))))))))).)))))))', u'', u'', 832708, 79490.3894, u'-', 17448256, 'http://genome.ucsc.edu/cgi-bin/hgTracks?db=dm3&position=chr3R:17448219-17448293', u'GCACTTGTCAAGAACTTTCTCTGTGACCCGCGTGTACTTAAAAGCCGCATCACAGTCTGAGTTCTTGCTGAGTGC', u'', u'9-30', u'48-68', 166)\n"
       ]
      },
      {
       "output_type": "stream",
       "stream": "stderr",
       "text": [
        "DEBUG:django.db.backends:(0.000) SELECT (1) AS `a` FROM `loq_interval` WHERE `loq_interval`.`id` = 167  LIMIT 1; args=(167,)\n"
       ]
      },
      {
       "output_type": "stream",
       "stream": "stderr",
       "text": [
        "DEBUG:django.db.backends:(0.000) UPDATE `loq_interval` SET `chr` = 'chr3R', `start` = 17623948, `stop` = 17624053, `mirName` = 'dme-mir-999', `NeatName` = 'chr3R:17623949-17624053', `IntervalSize` = 105, `IntervalSerialNumber` = 167, `Structure` = '', `Annotations` = '', `Tags` = '', `sum_read_counts` = 25407, `sum_normReads` = 2640.3292, `mapped_strand` = '-', `mid_point` = 17624000, `Link` = 'http://genome.ucsc.edu/cgi-bin/hgTracks?db=dm3&position=chr3R:17623949-17624053', `hairpin_seq` = 'AAGGATGCCGCTCAATTACCCCGACATAGTCATACGGTGAATGTTGTGTATTGGAGACCAATGTTAACTGTAAGACTGTGTCTCGGTGGTTGCCAGCCCAGCCAC', `mature_seq` = '', `five_p` = '24-45', `three_p` = '62-83' WHERE `loq_interval`.`id` = 167 ; args=(u'chr3R', 17623948, 17624053, u'dme-mir-999', u'chr3R:17623949-17624053', 105, 167, u'', u'', u'', 25407, 2640.3292, u'-', 17624000, 'http://genome.ucsc.edu/cgi-bin/hgTracks?db=dm3&position=chr3R:17623949-17624053', u'AAGGATGCCGCTCAATTACCCCGACATAGTCATACGGTGAATGTTGTGTATTGGAGACCAATGTTAACTGTAAGACTGTGTCTCGGTGGTTGCCAGCCCAGCCAC', u'', u'24-45', u'62-83', 167)\n"
       ]
      },
      {
       "output_type": "stream",
       "stream": "stderr",
       "text": [
        "DEBUG:django.db.backends:(0.000) SELECT (1) AS `a` FROM `loq_interval` WHERE `loq_interval`.`id` = 168  LIMIT 1; args=(168,)\n"
       ]
      },
      {
       "output_type": "stream",
       "stream": "stderr",
       "text": [
        "DEBUG:django.db.backends:(0.000) UPDATE `loq_interval` SET `chr` = 'chr3R', `start` = 17624235, `stop` = 17624393, `mirName` = 'dme-mir-4969', `NeatName` = 'chr3R:17624236-17624393', `IntervalSize` = 158, `IntervalSerialNumber` = 168, `Structure` = '..(((......((((((.((.((((..((((.(((((.(((((....(((((..((((.....)))))))))((((((((.((..........)).))))))))..........))))).))))).)))))))).)).)))))).....)))......', `Annotations` = '', `Tags` = '', `sum_read_counts` = 46, `sum_normReads` = 5.8271, `mapped_strand` = '-', `mid_point` = 17624322, `Link` = 'http://genome.ucsc.edu/cgi-bin/hgTracks?db=dm3&position=chr3R:17624236-17624393', `hairpin_seq` = 'GTATGGATTTTTCGGCGTGGCGGTAAATTGAATGATGAGTGGGAGGATGTCGCTGCCATTGTTTGGTTGATAAGGGAGCCTGGCGCACTATTACCTGGCTCTCTGAAACGAGAGCCCACCTGTCAATCAATACCACCCCGCCGATGCGACATCATCAT', `mature_seq` = '', `five_p` = '21-44', `three_p` = '116-137' WHERE `loq_interval`.`id` = 168 ; args=(u'chr3R', 17624235, 17624393, u'dme-mir-4969', u'chr3R:17624236-17624393', 158, 168, u'..(((......((((((.((.((((..((((.(((((.(((((....(((((..((((.....)))))))))((((((((.((..........)).))))))))..........))))).))))).)))))))).)).)))))).....)))......', u'', u'', 46, 5.8271, u'-', 17624322, 'http://genome.ucsc.edu/cgi-bin/hgTracks?db=dm3&position=chr3R:17624236-17624393', u'GTATGGATTTTTCGGCGTGGCGGTAAATTGAATGATGAGTGGGAGGATGTCGCTGCCATTGTTTGGTTGATAAGGGAGCCTGGCGCACTATTACCTGGCTCTCTGAAACGAGAGCCCACCTGTCAATCAATACCACCCCGCCGATGCGACATCATCAT', u'', u'21-44', u'116-137', 168)\n"
       ]
      },
      {
       "output_type": "stream",
       "stream": "stderr",
       "text": [
        "DEBUG:django.db.backends:(0.000) SELECT (1) AS `a` FROM `loq_interval` WHERE `loq_interval`.`id` = 169  LIMIT 1; args=(169,)\n"
       ]
      },
      {
       "output_type": "stream",
       "stream": "stderr",
       "text": [
        "DEBUG:django.db.backends:(0.000) UPDATE `loq_interval` SET `chr` = 'chr3R', `start` = 18118600, `stop` = 18118671, `mirName` = 'dme-mir-1010', `NeatName` = 'chr3R:18118601-18118671', `IntervalSize` = 71, `IntervalSerialNumber` = 169, `Structure` = '((((((((.((((.((((((((.....((((((....)))))).)))))))).))))....))))))))..', `Annotations` = '', `Tags` = '', `sum_read_counts` = 74740, `sum_normReads` = 6893.19269999999, `mapped_strand` = '+', `mid_point` = 18118634, `Link` = 'http://genome.ucsc.edu/cgi-bin/hgTracks?db=dm3&position=chr3R:18118601-18118671', `hairpin_seq` = 'GTAAGTGGTGTAGATGAAACAAATTTACCAACAATTTTGTTGGATTGTTTCACCTATCGTTCCATTTGCAG', `mature_seq` = '', `five_p` = '2-21', `three_p` = '48-71' WHERE `loq_interval`.`id` = 169 ; args=(u'chr3R', 18118600, 18118671, u'dme-mir-1010', u'chr3R:18118601-18118671', 71, 169, u'((((((((.((((.((((((((.....((((((....)))))).)))))))).))))....))))))))..', u'', u'', 74740, 6893.19269999999, u'+', 18118634, 'http://genome.ucsc.edu/cgi-bin/hgTracks?db=dm3&position=chr3R:18118601-18118671', u'GTAAGTGGTGTAGATGAAACAAATTTACCAACAATTTTGTTGGATTGTTTCACCTATCGTTCCATTTGCAG', u'', u'2-21', u'48-71', 169)\n"
       ]
      },
      {
       "output_type": "stream",
       "stream": "stderr",
       "text": [
        "DEBUG:django.db.backends:(0.000) SELECT (1) AS `a` FROM `loq_interval` WHERE `loq_interval`.`id` = 170  LIMIT 1; args=(170,)\n"
       ]
      },
      {
       "output_type": "stream",
       "stream": "stderr",
       "text": [
        "DEBUG:django.db.backends:(0.000) UPDATE `loq_interval` SET `chr` = 'chr3R', `start` = 18306534, `stop` = 18306660, `mirName` = 'dme-mir-4952', `NeatName` = 'chr3R:18306535-18306660', `IntervalSize` = 126, `IntervalSerialNumber` = 170, `Structure` = '.....(((.(((((...((..((((.((((.(..(((.(((.((((((..((((((...((........))...)))))))))))).))).)))..).)))).))))..))....))))).)))..', `Annotations` = '', `Tags` = '', `sum_read_counts` = 10, `sum_normReads` = 0.7806, `mapped_strand` = '+', `mid_point` = 18306598, `Link` = 'http://genome.ucsc.edu/cgi-bin/hgTracks?db=dm3&position=chr3R:18306535-18306660', `hairpin_seq` = 'TCCGGGTGCGCTGGACGATCTGATCTTCTCGGGAGCCGGATCCGGATGTCGCGGCGACGACGAGGACGAGTGCACGCCGCCATTCGAATCGGGTAGCGGGGATGATCTCATAACACCGGTCTACGT', `mature_seq` = '', `five_p` = '35-57', `three_p` = '76-96' WHERE `loq_interval`.`id` = 170 ; args=(u'chr3R', 18306534, 18306660, u'dme-mir-4952', u'chr3R:18306535-18306660', 126, 170, u'.....(((.(((((...((..((((.((((.(..(((.(((.((((((..((((((...((........))...)))))))))))).))).)))..).)))).))))..))....))))).)))..', u'', u'', 10, 0.7806, u'+', 18306598, 'http://genome.ucsc.edu/cgi-bin/hgTracks?db=dm3&position=chr3R:18306535-18306660', u'TCCGGGTGCGCTGGACGATCTGATCTTCTCGGGAGCCGGATCCGGATGTCGCGGCGACGACGAGGACGAGTGCACGCCGCCATTCGAATCGGGTAGCGGGGATGATCTCATAACACCGGTCTACGT', u'', u'35-57', u'76-96', 170)\n"
       ]
      },
      {
       "output_type": "stream",
       "stream": "stderr",
       "text": [
        "DEBUG:django.db.backends:(0.000) SELECT (1) AS `a` FROM `loq_interval` WHERE `loq_interval`.`id` = 171  LIMIT 1; args=(171,)\n"
       ]
      },
      {
       "output_type": "stream",
       "stream": "stderr",
       "text": [
        "DEBUG:django.db.backends:(0.000) UPDATE `loq_interval` SET `chr` = 'chr3R', `start` = 18599861, `stop` = 18599954, `mirName` = 'dme-mir-4953', `NeatName` = 'chr3R:18599862-18599954', `IntervalSize` = 93, `IntervalSerialNumber` = 171, `Structure` = '....(((((.(((...((((((...(((((((((((((................)))))))))))))...))))))....)))))))).....', `Annotations` = '', `Tags` = '', `sum_read_counts` = 5, `sum_normReads` = 0.3322, `mapped_strand` = '+', `mid_point` = 18599906, `Link` = 'http://genome.ucsc.edu/cgi-bin/hgTracks?db=dm3&position=chr3R:18599862-18599954', `hairpin_seq` = 'TAAAGTTCACAGGCGACCATGAATGTTAATAAAGAATATTTACCAATAAAGTTTTATTTTTTATTGAAGGTCATGGACATCCTTGAACCGATT', `mature_seq` = '', `five_p` = '', `three_p` = '' WHERE `loq_interval`.`id` = 171 ; args=(u'chr3R', 18599861, 18599954, u'dme-mir-4953', u'chr3R:18599862-18599954', 93, 171, u'....(((((.(((...((((((...(((((((((((((................)))))))))))))...))))))....)))))))).....', u'', u'', 5, 0.3322, u'+', 18599906, 'http://genome.ucsc.edu/cgi-bin/hgTracks?db=dm3&position=chr3R:18599862-18599954', u'TAAAGTTCACAGGCGACCATGAATGTTAATAAAGAATATTTACCAATAAAGTTTTATTTTTTATTGAAGGTCATGGACATCCTTGAACCGATT', u'', u'', u'', 171)\n"
       ]
      },
      {
       "output_type": "stream",
       "stream": "stderr",
       "text": [
        "DEBUG:django.db.backends:(0.000) SELECT (1) AS `a` FROM `loq_interval` WHERE `loq_interval`.`id` = 172  LIMIT 1; args=(172,)\n"
       ]
      },
      {
       "output_type": "stream",
       "stream": "stderr",
       "text": [
        "DEBUG:django.db.backends:(0.000) UPDATE `loq_interval` SET `chr` = 'chr3R', `start` = 20164953, `stop` = 20165017, `mirName` = 'dme-mir-1015', `NeatName` = 'chr3R:20164954-20165017', `IntervalSize` = 64, `IntervalSerialNumber` = 172, `Structure` = '..(((.(((((((((.(((((...))))).))(((((....)))))))).)))).)))......', `Annotations` = '', `Tags` = '', `sum_read_counts` = 10, `sum_normReads` = 1.1737, `mapped_strand` = '+', `mid_point` = 20164991, `Link` = 'http://genome.ucsc.edu/cgi-bin/hgTracks?db=dm3&position=chr3R:20164954-20165017', `hairpin_seq` = 'GTGAGTGATGCTCCAGTTAGCTTGGCTGAGTGAGGATTTAAGTCCTGGGACATCTCTCTTGCAG', `mature_seq` = '', `five_p` = '', `three_p` = '' WHERE `loq_interval`.`id` = 172 ; args=(u'chr3R', 20164953, 20165017, u'dme-mir-1015', u'chr3R:20164954-20165017', 64, 172, u'..(((.(((((((((.(((((...))))).))(((((....)))))))).)))).)))......', u'', u'', 10, 1.1737, u'+', 20164991, 'http://genome.ucsc.edu/cgi-bin/hgTracks?db=dm3&position=chr3R:20164954-20165017', u'GTGAGTGATGCTCCAGTTAGCTTGGCTGAGTGAGGATTTAAGTCCTGGGACATCTCTCTTGCAG', u'', u'', u'', 172)\n"
       ]
      },
      {
       "output_type": "stream",
       "stream": "stderr",
       "text": [
        "DEBUG:django.db.backends:(0.000) SELECT (1) AS `a` FROM `loq_interval` WHERE `loq_interval`.`id` = 173  LIMIT 1; args=(173,)\n"
       ]
      },
      {
       "output_type": "stream",
       "stream": "stderr",
       "text": [
        "DEBUG:django.db.backends:(0.000) UPDATE `loq_interval` SET `chr` = 'chr3R', `start` = 20314333, `stop` = 20314404, `mirName` = 'dme-mir-1017', `NeatName` = 'chr3R:20314334-20314404', `IntervalSize` = 71, `IntervalSerialNumber` = 173, `Structure` = '((((((((.(((((((((...........((((..........)))))))))))))..)))))))).....', `Annotations` = '', `Tags` = '', `sum_read_counts` = 1, `sum_normReads` = 0.1861, `mapped_strand` = '+', `mid_point` = 20314370, `Link` = 'http://genome.ucsc.edu/cgi-bin/hgTracks?db=dm3&position=chr3R:20314334-20314404', `hairpin_seq` = 'GTGAGTTTAGTGGAGTTTAAAGCTTCCCATCGCCAGCAATTACGCGAAAGCTCTACCCAAACTCATCCCCC', `mature_seq` = '', `five_p` = '', `three_p` = '' WHERE `loq_interval`.`id` = 173 ; args=(u'chr3R', 20314333, 20314404, u'dme-mir-1017', u'chr3R:20314334-20314404', 71, 173, u'((((((((.(((((((((...........((((..........)))))))))))))..)))))))).....', u'', u'', 1, 0.1861, u'+', 20314370, 'http://genome.ucsc.edu/cgi-bin/hgTracks?db=dm3&position=chr3R:20314334-20314404', u'GTGAGTTTAGTGGAGTTTAAAGCTTCCCATCGCCAGCAATTACGCGAAAGCTCTACCCAAACTCATCCCCC', u'', u'', u'', 173)\n"
       ]
      },
      {
       "output_type": "stream",
       "stream": "stderr",
       "text": [
        "DEBUG:django.db.backends:(0.000) SELECT (1) AS `a` FROM `loq_interval` WHERE `loq_interval`.`id` = 174  LIMIT 1; args=(174,)\n"
       ]
      },
      {
       "output_type": "stream",
       "stream": "stderr",
       "text": [
        "DEBUG:django.db.backends:(0.000) UPDATE `loq_interval` SET `chr` = 'chr3R', `start` = 20484326, `stop` = 20484382, `mirName` = 'dme-mir-1003', `NeatName` = 'chr3R:20484327-20484382', `IntervalSize` = 56, `IntervalSerialNumber` = 174, `Structure` = '((((((((.(((((((((..((((.....))))..).)))))))).))))))))..', `Annotations` = '', `Tags` = '', `sum_read_counts` = 3961, `sum_normReads` = 380.2617, `mapped_strand` = '+', `mid_point` = 20484352, `Link` = 'http://genome.ucsc.edu/cgi-bin/hgTracks?db=dm3&position=chr3R:20484327-20484382', `hairpin_seq` = 'GTGGGTATCTGGATGTGGTTGGCTCTGGCGGTCCTCTCACATTTACATATTCACAG', `mature_seq` = '', `five_p` = '2-22', `three_p` = '35-56' WHERE `loq_interval`.`id` = 174 ; args=(u'chr3R', 20484326, 20484382, u'dme-mir-1003', u'chr3R:20484327-20484382', 56, 174, u'((((((((.(((((((((..((((.....))))..).)))))))).))))))))..', u'', u'', 3961, 380.2617, u'+', 20484352, 'http://genome.ucsc.edu/cgi-bin/hgTracks?db=dm3&position=chr3R:20484327-20484382', u'GTGGGTATCTGGATGTGGTTGGCTCTGGCGGTCCTCTCACATTTACATATTCACAG', u'', u'2-22', u'35-56', 174)\n"
       ]
      },
      {
       "output_type": "stream",
       "stream": "stderr",
       "text": [
        "DEBUG:django.db.backends:(0.000) SELECT (1) AS `a` FROM `loq_interval` WHERE `loq_interval`.`id` = 175  LIMIT 1; args=(175,)\n"
       ]
      },
      {
       "output_type": "stream",
       "stream": "stderr",
       "text": [
        "DEBUG:django.db.backends:(0.000) UPDATE `loq_interval` SET `chr` = 'chr3R', `start` = 21414580, `stop` = 21414680, `mirName` = 'dme-mir-1000', `NeatName` = 'chr3R:21414581-21414680', `IntervalSize` = 100, `IntervalSerialNumber` = 175, `Structure` = '((((((((.((.((.((.(((((((.(.((((((((((((((.......)))))))..))))))).).))))))).)).)).)).)))))))).......', `Annotations` = '', `Tags` = '', `sum_read_counts` = 215, `sum_normReads` = 20.1975, `mapped_strand` = '-', `mid_point` = 21414625, `Link` = 'http://genome.ucsc.edu/cgi-bin/hgTracks?db=dm3&position=chr3R:21414581-21414680', `hairpin_seq` = 'GACGCTTGCCATTGATATTGTCCTGTCACAGCAGTATTGTAACACTATATTATAGTTTACTGCTGGGTCGGGGCATTAACATTGTTGAGCGTCATTAGCA', `mature_seq` = '', `five_p` = '15-35', `three_p` = '60-81' WHERE `loq_interval`.`id` = 175 ; args=(u'chr3R', 21414580, 21414680, u'dme-mir-1000', u'chr3R:21414581-21414680', 100, 175, u'((((((((.((.((.((.(((((((.(.((((((((((((((.......)))))))..))))))).).))))))).)).)).)).)))))))).......', u'', u'', 215, 20.1975, u'-', 21414625, 'http://genome.ucsc.edu/cgi-bin/hgTracks?db=dm3&position=chr3R:21414581-21414680', u'GACGCTTGCCATTGATATTGTCCTGTCACAGCAGTATTGTAACACTATATTATAGTTTACTGCTGGGTCGGGGCATTAACATTGTTGAGCGTCATTAGCA', u'', u'15-35', u'60-81', 175)\n"
       ]
      },
      {
       "output_type": "stream",
       "stream": "stderr",
       "text": [
        "DEBUG:django.db.backends:(0.000) SELECT (1) AS `a` FROM `loq_interval` WHERE `loq_interval`.`id` = 176  LIMIT 1; args=(176,)\n"
       ]
      },
      {
       "output_type": "stream",
       "stream": "stderr",
       "text": [
        "DEBUG:django.db.backends:(0.000) UPDATE `loq_interval` SET `chr` = 'chr3R', `start` = 21472227, `stop` = 21472322, `mirName` = 'dme-mir-92a', `NeatName` = 'chr3R:21472228-21472322', `IntervalSize` = 95, `IntervalSerialNumber` = 176, `Structure` = '..((((((((.((((((((.((((((((((.(((.((((............)))).)))))))).))))).)))))))).)))))))).......', `Annotations` = '', `Tags` = '', `sum_read_counts` = 833340, `sum_normReads` = 75063.5395, `mapped_strand` = '+', `mid_point` = 21472271, `Link` = 'http://genome.ucsc.edu/cgi-bin/hgTracks?db=dm3&position=chr3R:21472228-21472322', `hairpin_seq` = 'AATATGAATTTCCCGTAGGACGGGAAGGTGTCAACGTTTTGCATTTCGAATAAACATTGCACTTGTCCCGGCCTATGGGCGGTTTGTAATAAACA', `mature_seq` = '', `five_p` = '17-38', `three_p` = '55-76' WHERE `loq_interval`.`id` = 176 ; args=(u'chr3R', 21472227, 21472322, u'dme-mir-92a', u'chr3R:21472228-21472322', 95, 176, u'..((((((((.((((((((.((((((((((.(((.((((............)))).)))))))).))))).)))))))).)))))))).......', u'', u'', 833340, 75063.5395, u'+', 21472271, 'http://genome.ucsc.edu/cgi-bin/hgTracks?db=dm3&position=chr3R:21472228-21472322', u'AATATGAATTTCCCGTAGGACGGGAAGGTGTCAACGTTTTGCATTTCGAATAAACATTGCACTTGTCCCGGCCTATGGGCGGTTTGTAATAAACA', u'', u'17-38', u'55-76', 176)\n"
       ]
      },
      {
       "output_type": "stream",
       "stream": "stderr",
       "text": [
        "DEBUG:django.db.backends:(0.000) SELECT (1) AS `a` FROM `loq_interval` WHERE `loq_interval`.`id` = 177  LIMIT 1; args=(177,)\n"
       ]
      },
      {
       "output_type": "stream",
       "stream": "stderr",
       "text": [
        "DEBUG:django.db.backends:(0.000) UPDATE `loq_interval` SET `chr` = 'chr3R', `start` = 21477119, `stop` = 21477219, `mirName` = 'dme-mir-92b', `NeatName` = 'chr3R:21477120-21477219', `IntervalSize` = 100, `IntervalSerialNumber` = 177, `Structure` = '.....((.(((....(((((((((.(.(.(((((..((((((..............)))))).))))).).).)))))))))....))).))........', `Annotations` = '', `Tags` = '', `sum_read_counts` = 482647, `sum_normReads` = 44539.5619, `mapped_strand` = '+', `mid_point` = 21477167, `Link` = 'http://genome.ucsc.edu/cgi-bin/hgTracks?db=dm3&position=chr3R:21477120-21477219', `hairpin_seq` = 'TAAAACGTCACCTGATGTAGGCCGTGCCCAGTGCTTATTTGTTGCATTTTCGAAATACAAATTGCACTAGTCCCGGCCTGCAATGAGTGTCGCAGTCGAC', `mature_seq` = '', `five_p` = '19-41', `three_p` = '60-81' WHERE `loq_interval`.`id` = 177 ; args=(u'chr3R', 21477119, 21477219, u'dme-mir-92b', u'chr3R:21477120-21477219', 100, 177, u'.....((.(((....(((((((((.(.(.(((((..((((((..............)))))).))))).).).)))))))))....))).))........', u'', u'', 482647, 44539.5619, u'+', 21477167, 'http://genome.ucsc.edu/cgi-bin/hgTracks?db=dm3&position=chr3R:21477120-21477219', u'TAAAACGTCACCTGATGTAGGCCGTGCCCAGTGCTTATTTGTTGCATTTTCGAAATACAAATTGCACTAGTCCCGGCCTGCAATGAGTGTCGCAGTCGAC', u'', u'19-41', u'60-81', 177)\n"
       ]
      },
      {
       "output_type": "stream",
       "stream": "stderr",
       "text": [
        "DEBUG:django.db.backends:(0.000) SELECT (1) AS `a` FROM `loq_interval` WHERE `loq_interval`.`id` = 178  LIMIT 1; args=(178,)\n"
       ]
      },
      {
       "output_type": "stream",
       "stream": "stderr",
       "text": [
        "DEBUG:django.db.backends:(0.000) UPDATE `loq_interval` SET `chr` = 'chr3R', `start` = 22687070, `stop` = 22687129, `mirName` = 'dme-mir-1012', `NeatName` = 'chr3R:22687071-22687129', `IntervalSize` = 59, `IntervalSerialNumber` = 178, `Structure` = '(((((.((((((((((((((((((........)))))))))))))).)))).)))))..', `Annotations` = '', `Tags` = '', `sum_read_counts` = 7038, `sum_normReads` = 607.7534, `mapped_strand` = '-', `mid_point` = 22687097, `Link` = 'http://genome.ucsc.edu/cgi-bin/hgTracks?db=dm3&position=chr3R:22687071-22687129', `hairpin_seq` = 'GTGGGTAGAACTTTGATTAATATTGCTTGAAAAATATTAGTCAAAGATTTTCCCCATAG', `mature_seq` = '', `five_p` = '2-22', `three_p` = '37-59' WHERE `loq_interval`.`id` = 178 ; args=(u'chr3R', 22687070, 22687129, u'dme-mir-1012', u'chr3R:22687071-22687129', 59, 178, u'(((((.((((((((((((((((((........)))))))))))))).)))).)))))..', u'', u'', 7038, 607.7534, u'-', 22687097, 'http://genome.ucsc.edu/cgi-bin/hgTracks?db=dm3&position=chr3R:22687071-22687129', u'GTGGGTAGAACTTTGATTAATATTGCTTGAAAAATATTAGTCAAAGATTTTCCCCATAG', u'', u'2-22', u'37-59', 178)\n"
       ]
      },
      {
       "output_type": "stream",
       "stream": "stderr",
       "text": [
        "DEBUG:django.db.backends:(0.000) SELECT (1) AS `a` FROM `loq_interval` WHERE `loq_interval`.`id` = 179  LIMIT 1; args=(179,)\n"
       ]
      },
      {
       "output_type": "stream",
       "stream": "stderr",
       "text": [
        "DEBUG:django.db.backends:(0.000) UPDATE `loq_interval` SET `chr` = 'chr3R', `start` = 23468187, `stop` = 23468277, `mirName` = 'dme-mir-1001', `NeatName` = 'chr3R:23468188-23468277', `IntervalSize` = 90, `IntervalSerialNumber` = 179, `Structure` = '..((((((((((((..(((((....((((((((((.((............)).))))))))))....)))))..)))).))))))))...', `Annotations` = '', `Tags` = '', `sum_read_counts` = 10, `sum_normReads` = 0.8937, `mapped_strand` = '-', `mid_point` = 23468230, `Link` = 'http://genome.ucsc.edu/cgi-bin/hgTracks?db=dm3&position=chr3R:23468188-23468277', `hairpin_seq` = 'AAGCTGGCCTGTCCCTGGGTAAACTCCCAAGGATCAGGTGGAGATTGAATCCCGATCCTTGGGTTTCTGCTCTCGGGCAAGGTCAGTAGT', `mature_seq` = '', `five_p` = '16-36', `three_p` = '55-76' WHERE `loq_interval`.`id` = 179 ; args=(u'chr3R', 23468187, 23468277, u'dme-mir-1001', u'chr3R:23468188-23468277', 90, 179, u'..((((((((((((..(((((....((((((((((.((............)).))))))))))....)))))..)))).))))))))...', u'', u'', 10, 0.8937, u'-', 23468230, 'http://genome.ucsc.edu/cgi-bin/hgTracks?db=dm3&position=chr3R:23468188-23468277', u'AAGCTGGCCTGTCCCTGGGTAAACTCCCAAGGATCAGGTGGAGATTGAATCCCGATCCTTGGGTTTCTGCTCTCGGGCAAGGTCAGTAGT', u'', u'16-36', u'55-76', 179)\n"
       ]
      },
      {
       "output_type": "stream",
       "stream": "stderr",
       "text": [
        "DEBUG:django.db.backends:(0.000) SELECT (1) AS `a` FROM `loq_interval` WHERE `loq_interval`.`id` = 180  LIMIT 1; args=(180,)\n"
       ]
      },
      {
       "output_type": "stream",
       "stream": "stderr",
       "text": [
        "DEBUG:django.db.backends:(0.000) UPDATE `loq_interval` SET `chr` = 'chr3R', `start` = 24834474, `stop` = 24834574, `mirName` = 'dme-mir-4947', `NeatName` = 'chr3R:24834475-24834574', `IntervalSize` = 100, `IntervalSerialNumber` = 180, `Structure` = '...((.((((.((((((((..((((((((((.(..(((((.((.............)).)))))..).))))))))))...)))))..))))).)).)).', `Annotations` = '', `Tags` = '', `sum_read_counts` = NULL, `sum_normReads` = NULL, `mapped_strand` = '-', `mid_point` = 24834523, `Link` = 'http://genome.ucsc.edu/cgi-bin/hgTracks?db=dm3&position=chr3R:24834475-24834574', `hairpin_seq` = 'AAAGCGACCCACCCATTCCCCTTCCGCCCATATTTATCCTTCGTCTACTGTTTCATCGCAGGATTTAAGTGGGCGGAGCACGGAATTCGGGGGCGTGGCG', `mature_seq` = '', `five_p` = '', `three_p` = '' WHERE `loq_interval`.`id` = 180 ; args=(u'chr3R', 24834474, 24834574, u'dme-mir-4947', u'chr3R:24834475-24834574', 100, 180, u'...((.((((.((((((((..((((((((((.(..(((((.((.............)).)))))..).))))))))))...)))))..))))).)).)).', u'', u'', u'-', 24834523, 'http://genome.ucsc.edu/cgi-bin/hgTracks?db=dm3&position=chr3R:24834475-24834574', u'AAAGCGACCCACCCATTCCCCTTCCGCCCATATTTATCCTTCGTCTACTGTTTCATCGCAGGATTTAAGTGGGCGGAGCACGGAATTCGGGGGCGTGGCG', u'', u'', u'', 180)\n"
       ]
      },
      {
       "output_type": "stream",
       "stream": "stderr",
       "text": [
        "DEBUG:django.db.backends:(0.000) SELECT (1) AS `a` FROM `loq_interval` WHERE `loq_interval`.`id` = 181  LIMIT 1; args=(181,)\n"
       ]
      },
      {
       "output_type": "stream",
       "stream": "stderr",
       "text": [
        "DEBUG:django.db.backends:(0.000) UPDATE `loq_interval` SET `chr` = 'chr3R', `start` = 25041306, `stop` = 25041406, `mirName` = 'dme-mir-279', `NeatName` = 'chr3R:25041307-25041406', `IntervalSize` = 100, `IntervalSerialNumber` = 181, `Structure` = '.........(((((((((.((((((((((.(((((.((....(((((...(((.....)))...))))))).))))).)))))))))).)))))))))..', `Annotations` = '', `Tags` = '', `sum_read_counts` = 467927, `sum_normReads` = 44726.0070000001, `mapped_strand` = '+', `mid_point` = 25041361, `Link` = 'http://genome.ucsc.edu/cgi-bin/hgTracks?db=dm3&position=chr3R:25041307-25041406', `hairpin_seq` = 'GGAATTCATACTACTGTTTTTAGTGGGTGGGGGTCCAGTGTTTCACATTGATTTTCTTAGTATTTGTGACTAGATCCACACTCATTAATAACGGTAGTTC', `mature_seq` = '', `five_p` = '22-47', `three_p` = '67-88' WHERE `loq_interval`.`id` = 181 ; args=(u'chr3R', 25041306, 25041406, u'dme-mir-279', u'chr3R:25041307-25041406', 100, 181, u'.........(((((((((.((((((((((.(((((.((....(((((...(((.....)))...))))))).))))).)))))))))).)))))))))..', u'', u'', 467927, 44726.0070000001, u'+', 25041361, 'http://genome.ucsc.edu/cgi-bin/hgTracks?db=dm3&position=chr3R:25041307-25041406', u'GGAATTCATACTACTGTTTTTAGTGGGTGGGGGTCCAGTGTTTCACATTGATTTTCTTAGTATTTGTGACTAGATCCACACTCATTAATAACGGTAGTTC', u'', u'22-47', u'67-88', 181)\n"
       ]
      },
      {
       "output_type": "stream",
       "stream": "stderr",
       "text": [
        "DEBUG:django.db.backends:(0.000) SELECT (1) AS `a` FROM `loq_interval` WHERE `loq_interval`.`id` = 182  LIMIT 1; args=(182,)\n"
       ]
      },
      {
       "output_type": "stream",
       "stream": "stderr",
       "text": [
        "DEBUG:django.db.backends:(0.000) UPDATE `loq_interval` SET `chr` = 'chr3R', `start` = 25042905, `stop` = 25043002, `mirName` = 'dme-mir-996', `NeatName` = 'chr3R:25042906-25043002', `IntervalSize` = 97, `IntervalSerialNumber` = 182, `Structure` = '.(((((((.((((.((.(((((.((((((((((((.((((((((((...)))))...))))))))))).)))))).))))).)).)))).)))))))', `Annotations` = '', `Tags` = '', `sum_read_counts` = 289486, `sum_normReads` = 24925.7701, `mapped_strand` = '+', `mid_point` = 25042952, `Link` = 'http://genome.ucsc.edu/cgi-bin/hgTracks?db=dm3&position=chr3R:25042906-25043002', `hairpin_seq` = 'TCTGACTCTATTTTGTCGGCGAACATGGATCTAGTGCACGGTGGTTCATGATTAAGTTCGTGACTAGATTTCATGCTCGTCTATTAAGTTGGGTCAG', `mature_seq` = '', `five_p` = '19-40', `three_p` = '61-82' WHERE `loq_interval`.`id` = 182 ; args=(u'chr3R', 25042905, 25043002, u'dme-mir-996', u'chr3R:25042906-25043002', 97, 182, u'.(((((((.((((.((.(((((.((((((((((((.((((((((((...)))))...))))))))))).)))))).))))).)).)))).)))))))', u'', u'', 289486, 24925.7701, u'+', 25042952, 'http://genome.ucsc.edu/cgi-bin/hgTracks?db=dm3&position=chr3R:25042906-25043002', u'TCTGACTCTATTTTGTCGGCGAACATGGATCTAGTGCACGGTGGTTCATGATTAAGTTCGTGACTAGATTTCATGCTCGTCTATTAAGTTGGGTCAG', u'', u'19-40', u'61-82', 182)\n"
       ]
      },
      {
       "output_type": "stream",
       "stream": "stderr",
       "text": [
        "DEBUG:django.db.backends:(0.000) SELECT (1) AS `a` FROM `loq_interval` WHERE `loq_interval`.`id` = 183  LIMIT 1; args=(183,)\n"
       ]
      },
      {
       "output_type": "stream",
       "stream": "stderr",
       "text": [
        "DEBUG:django.db.backends:(0.000) UPDATE `loq_interval` SET `chr` = 'chr3R', `start` = 26332550, `stop` = 26332609, `mirName` = 'dme-mir-4908', `NeatName` = 'chr3R:26332551-26332609', `IntervalSize` = 59, `IntervalSerialNumber` = 183, `Structure` = '((((((((((((((((..((((.............)))))))))..)))))))))))..', `Annotations` = '', `Tags` = '', `sum_read_counts` = NULL, `sum_normReads` = NULL, `mapped_strand` = '+', `mid_point` = 26332578, `Link` = 'http://genome.ucsc.edu/cgi-bin/hgTracks?db=dm3&position=chr3R:26332551-26332609', `hairpin_seq` = 'GTAGGATTTTAAGCATTAAGCATGTATATAGTTTTTGCTGTGCTCATAAAGTTCTATAG', `mature_seq` = '', `five_p` = '', `three_p` = '' WHERE `loq_interval`.`id` = 183 ; args=(u'chr3R', 26332550, 26332609, u'dme-mir-4908', u'chr3R:26332551-26332609', 59, 183, u'((((((((((((((((..((((.............)))))))))..)))))))))))..', u'', u'', u'+', 26332578, 'http://genome.ucsc.edu/cgi-bin/hgTracks?db=dm3&position=chr3R:26332551-26332609', u'GTAGGATTTTAAGCATTAAGCATGTATATAGTTTTTGCTGTGCTCATAAAGTTCTATAG', u'', u'', u'', 183)\n"
       ]
      },
      {
       "output_type": "stream",
       "stream": "stderr",
       "text": [
        "DEBUG:django.db.backends:(0.000) SELECT (1) AS `a` FROM `loq_interval` WHERE `loq_interval`.`id` = 184  LIMIT 1; args=(184,)\n"
       ]
      },
      {
       "output_type": "stream",
       "stream": "stderr",
       "text": [
        "DEBUG:django.db.backends:(0.000) UPDATE `loq_interval` SET `chr` = 'chr3R', `start` = 26617357, `stop` = 26617418, `mirName` = 'dme-mir-1013', `NeatName` = 'chr3R:26617358-26617418', `IntervalSize` = 61, `IntervalSerialNumber` = 184, `Structure` = '((((((((.(((.((((.((((((.((.....))))))))..)))).))).))))))))..', `Annotations` = '', `Tags` = '', `sum_read_counts` = 250, `sum_normReads` = 25.1058, `mapped_strand` = '-', `mid_point` = 26617386, `Link` = 'http://genome.ucsc.edu/cgi-bin/hgTracks?db=dm3&position=chr3R:26617358-26617418', `hairpin_seq` = 'GTGAGTTTCGTACACTTAATTAATAGGATCGGCCGTTAATAAAAGTATGCCGAACTCGCAG', `mature_seq` = '', `five_p` = '', `three_p` = '' WHERE `loq_interval`.`id` = 184 ; args=(u'chr3R', 26617357, 26617418, u'dme-mir-1013', u'chr3R:26617358-26617418', 61, 184, u'((((((((.(((.((((.((((((.((.....))))))))..)))).))).))))))))..', u'', u'', 250, 25.1058, u'-', 26617386, 'http://genome.ucsc.edu/cgi-bin/hgTracks?db=dm3&position=chr3R:26617358-26617418', u'GTGAGTTTCGTACACTTAATTAATAGGATCGGCCGTTAATAAAAGTATGCCGAACTCGCAG', u'', u'', u'', 184)\n"
       ]
      },
      {
       "output_type": "stream",
       "stream": "stderr",
       "text": [
        "DEBUG:django.db.backends:(0.000) SELECT (1) AS `a` FROM `loq_interval` WHERE `loq_interval`.`id` = 185  LIMIT 1; args=(185,)\n"
       ]
      },
      {
       "output_type": "stream",
       "stream": "stderr",
       "text": [
        "DEBUG:django.db.backends:(0.000) UPDATE `loq_interval` SET `chr` = 'chr3R', `start` = 26876819, `stop` = 26876925, `mirName` = 'dme-mir-4948', `NeatName` = 'chr3R:26876820-26876925', `IntervalSize` = 106, `IntervalSerialNumber` = 185, `Structure` = '(((((.((.((((((.((((.((.((((((((((.((.(((((.(((((....))).)).))))))).))))))))))..)).)))).)))))))).)))))....', `Annotations` = '', `Tags` = '', `sum_read_counts` = 65, `sum_normReads` = 5.8194, `mapped_strand` = '-', `mid_point` = 26876869, `Link` = 'http://genome.ucsc.edu/cgi-bin/hgTracks?db=dm3&position=chr3R:26876820-26876925', `hairpin_seq` = 'GTCGTAGATGTGGGCGTAGGTGGCGGCGGGCGTGGCGTGCGTGATCCTGGTTGTGGTGACCACGCCGGTGCGCTTGCCCTCCTTCTGGGCCCACTCCATGACGCTC', `mature_seq` = '', `five_p` = '24-45', `three_p` = '60-81' WHERE `loq_interval`.`id` = 185 ; args=(u'chr3R', 26876819, 26876925, u'dme-mir-4948', u'chr3R:26876820-26876925', 106, 185, u'(((((.((.((((((.((((.((.((((((((((.((.(((((.(((((....))).)).))))))).))))))))))..)).)))).)))))))).)))))....', u'', u'', 65, 5.8194, u'-', 26876869, 'http://genome.ucsc.edu/cgi-bin/hgTracks?db=dm3&position=chr3R:26876820-26876925', u'GTCGTAGATGTGGGCGTAGGTGGCGGCGGGCGTGGCGTGCGTGATCCTGGTTGTGGTGACCACGCCGGTGCGCTTGCCCTCCTTCTGGGCCCACTCCATGACGCTC', u'', u'24-45', u'60-81', 185)\n"
       ]
      },
      {
       "output_type": "stream",
       "stream": "stderr",
       "text": [
        "DEBUG:django.db.backends:(0.000) SELECT (1) AS `a` FROM `loq_interval` WHERE `loq_interval`.`id` = 186  LIMIT 1; args=(186,)\n"
       ]
      },
      {
       "output_type": "stream",
       "stream": "stderr",
       "text": [
        "DEBUG:django.db.backends:(0.000) UPDATE `loq_interval` SET `chr` = 'chr3R', `start` = 27044995, `stop` = 27045094, `mirName` = 'dme-mir-4949', `NeatName` = 'chr3R:27044996-27045094', `IntervalSize` = 99, `IntervalSerialNumber` = 186, `Structure` = '.....((((.((...((((.(((((((.(((((((.(((......((((...))))......)))))))))).))))))).))))..)).)))).....', `Annotations` = '', `Tags` = '', `sum_read_counts` = 23, `sum_normReads` = 2.5839, `mapped_strand` = '-', `mid_point` = 27045045, `Link` = 'http://genome.ucsc.edu/cgi-bin/hgTracks?db=dm3&position=chr3R:27044996-27045094', `hairpin_seq` = 'ATAATGCGCCGCCATCTTGCGGCACACTCGCACACACACACGTGTGCCATTCTGGTTTTGCAGTGGTGTGCGTGTGTGCCTCGAGTCGTTGCGTCACTG', `mature_seq` = '', `five_p` = '20-40', `three_p` = '62-83' WHERE `loq_interval`.`id` = 186 ; args=(u'chr3R', 27044995, 27045094, u'dme-mir-4949', u'chr3R:27044996-27045094', 99, 186, u'.....((((.((...((((.(((((((.(((((((.(((......((((...))))......)))))))))).))))))).))))..)).)))).....', u'', u'', 23, 2.5839, u'-', 27045045, 'http://genome.ucsc.edu/cgi-bin/hgTracks?db=dm3&position=chr3R:27044996-27045094', u'ATAATGCGCCGCCATCTTGCGGCACACTCGCACACACACACGTGTGCCATTCTGGTTTTGCAGTGGTGTGCGTGTGTGCCTCGAGTCGTTGCGTCACTG', u'', u'20-40', u'62-83', 186)\n"
       ]
      },
      {
       "output_type": "stream",
       "stream": "stderr",
       "text": [
        "DEBUG:django.db.backends:(0.000) SELECT (1) AS `a` FROM `loq_interval` WHERE `loq_interval`.`id` = 187  LIMIT 1; args=(187,)\n"
       ]
      },
      {
       "output_type": "stream",
       "stream": "stderr",
       "text": [
        "DEBUG:django.db.backends:(0.000) UPDATE `loq_interval` SET `chr` = 'chr3R', `start` = 27579245, `stop` = 27579313, `mirName` = 'dme-mir-1014', `NeatName` = 'chr3R:27579246-27579313', `IntervalSize` = 68, `IntervalSerialNumber` = 187, `Structure` = '(((.(((((((((.(((((((((..(((.(((....))).))).))))))))).))))))))))))..', `Annotations` = '', `Tags` = '', `sum_read_counts` = 4, `sum_normReads` = 0.3154, `mapped_strand` = '-', `mid_point` = 27579278, `Link` = 'http://genome.ucsc.edu/cgi-bin/hgTracks?db=dm3&position=chr3R:27579246-27579313', `hairpin_seq` = 'GTATAATGGAAATAGATTTTAATCGCAGGCGCGTCAGTGGTTGAATTAAAATTCATTTTCATTTGCAG', `mature_seq` = '', `five_p` = '2-23', `three_p` = '48-68' WHERE `loq_interval`.`id` = 187 ; args=(u'chr3R', 27579245, 27579313, u'dme-mir-1014', u'chr3R:27579246-27579313', 68, 187, u'(((.(((((((((.(((((((((..(((.(((....))).))).))))))))).))))))))))))..', u'', u'', 4, 0.3154, u'-', 27579278, 'http://genome.ucsc.edu/cgi-bin/hgTracks?db=dm3&position=chr3R:27579246-27579313', u'GTATAATGGAAATAGATTTTAATCGCAGGCGCGTCAGTGGTTGAATTAAAATTCATTTTCATTTGCAG', u'', u'2-23', u'48-68', 187)\n"
       ]
      },
      {
       "output_type": "stream",
       "stream": "stderr",
       "text": [
        "DEBUG:django.db.backends:(0.000) SELECT (1) AS `a` FROM `loq_interval` WHERE `loq_interval`.`id` = 188  LIMIT 1; args=(188,)\n"
       ]
      },
      {
       "output_type": "stream",
       "stream": "stderr",
       "text": [
        "DEBUG:django.db.backends:(0.000) UPDATE `loq_interval` SET `chr` = 'chr4', `start` = 646751, `stop` = 646838, `mirName` = 'dme-mir-954', `NeatName` = 'chr4:646752-646838', `IntervalSize` = 87, `IntervalSerialNumber` = 188, `Structure` = '........((((((.....(((((((((((.(((.(((((((....))))..))).)))))))))))))).....))))))......', `Annotations` = '', `Tags` = '', `sum_read_counts` = 54, `sum_normReads` = 5.7137, `mapped_strand` = '+', `mid_point` = 646794, `Link` = 'http://genome.ucsc.edu/cgi-bin/hgTracks?db=dm3&position=chr4:646752-646838', `hairpin_seq` = 'TACAAACACAAGATTTTCTGGGTGTTGCGTTGTGTGTACCTGTGTACAGGCGTATTCACATGCAACATCCCTTACATCTTGCTTGAT', `mature_seq` = '', `five_p` = '17-37', `three_p` = '55-75' WHERE `loq_interval`.`id` = 188 ; args=(u'chr4', 646751, 646838, u'dme-mir-954', u'chr4:646752-646838', 87, 188, u'........((((((.....(((((((((((.(((.(((((((....))))..))).)))))))))))))).....))))))......', u'', u'', 54, 5.7137, u'+', 646794, 'http://genome.ucsc.edu/cgi-bin/hgTracks?db=dm3&position=chr4:646752-646838', u'TACAAACACAAGATTTTCTGGGTGTTGCGTTGTGTGTACCTGTGTACAGGCGTATTCACATGCAACATCCCTTACATCTTGCTTGAT', u'', u'17-37', u'55-75', 188)\n"
       ]
      },
      {
       "output_type": "stream",
       "stream": "stderr",
       "text": [
        "DEBUG:django.db.backends:(0.000) SELECT (1) AS `a` FROM `loq_interval` WHERE `loq_interval`.`id` = 189  LIMIT 1; args=(189,)\n"
       ]
      },
      {
       "output_type": "stream",
       "stream": "stderr",
       "text": [
        "DEBUG:django.db.backends:(0.000) UPDATE `loq_interval` SET `chr` = 'chrX', `start` = 29771, `stop` = 29889, `mirName` = 'dme-mir-4915', `NeatName` = 'chrX:29772-29889', `IntervalSize` = 118, `IntervalSerialNumber` = 189, `Structure` = '.((((((((((.(((((.....(((((.......((((......((.(((.....((((((.........))))))...))).))))))...)))))...)))))))..)))))))).', `Annotations` = '', `Tags` = '', `sum_read_counts` = NULL, `sum_normReads` = NULL, `mapped_strand` = '+', `mid_point` = 29836, `Link` = 'http://genome.ucsc.edu/cgi-bin/hgTracks?db=dm3&position=chrX:29772-29889', `hairpin_seq` = 'GTGAGAAAAAGTAGTAAATTAAGCATATCACGCAAGGACAAACATTAAGTTAAGGCCTAGTTCCTATTATACTAGGAATACTCAATCCTACTTATGCCTCTTATTCTTCTTTTCTCAG', `mature_seq` = '', `five_p` = '', `three_p` = '' WHERE `loq_interval`.`id` = 189 ; args=(u'chrX', 29771, 29889, u'dme-mir-4915', u'chrX:29772-29889', 118, 189, u'.((((((((((.(((((.....(((((.......((((......((.(((.....((((((.........))))))...))).))))))...)))))...)))))))..)))))))).', u'', u'', u'+', 29836, 'http://genome.ucsc.edu/cgi-bin/hgTracks?db=dm3&position=chrX:29772-29889', u'GTGAGAAAAAGTAGTAAATTAAGCATATCACGCAAGGACAAACATTAAGTTAAGGCCTAGTTCCTATTATACTAGGAATACTCAATCCTACTTATGCCTCTTATTCTTCTTTTCTCAG', u'', u'', u'', 189)\n"
       ]
      },
      {
       "output_type": "stream",
       "stream": "stderr",
       "text": [
        "DEBUG:django.db.backends:(0.000) SELECT (1) AS `a` FROM `loq_interval` WHERE `loq_interval`.`id` = 190  LIMIT 1; args=(190,)\n"
       ]
      },
      {
       "output_type": "stream",
       "stream": "stderr",
       "text": [
        "DEBUG:django.db.backends:(0.000) UPDATE `loq_interval` SET `chr` = 'chrX', `start` = 174204, `stop` = 174302, `mirName` = 'dme-mir-980', `NeatName` = 'chrX:174205-174302', `IntervalSize` = 98, `IntervalSerialNumber` = 190, `Structure` = '....((((((((((.((((((((((..(((..(((((((...................))))))))))..)))))))))).)))))))))).......', `Annotations` = '', `Tags` = '', `sum_read_counts` = 11, `sum_normReads` = 0.864, `mapped_strand` = '-', `mid_point` = 174252, `Link` = 'http://genome.ucsc.edu/cgi-bin/hgTracks?db=dm3&position=chrX:174205-174302', `hairpin_seq` = 'AGTTGATTGTATGTCAGTTTTTCATTTGGCCTGGCTAGCTTACTCCTTTTTAAATATTGCTAGCTGCCTTGTGAAGGGCTTACGTGTAATTGCAGTTC', `mature_seq` = '', `five_p` = '16-39', `three_p` = '61-82' WHERE `loq_interval`.`id` = 190 ; args=(u'chrX', 174204, 174302, u'dme-mir-980', u'chrX:174205-174302', 98, 190, u'....((((((((((.((((((((((..(((..(((((((...................))))))))))..)))))))))).)))))))))).......', u'', u'', 11, 0.864, u'-', 174252, 'http://genome.ucsc.edu/cgi-bin/hgTracks?db=dm3&position=chrX:174205-174302', u'AGTTGATTGTATGTCAGTTTTTCATTTGGCCTGGCTAGCTTACTCCTTTTTAAATATTGCTAGCTGCCTTGTGAAGGGCTTACGTGTAATTGCAGTTC', u'', u'16-39', u'61-82', 190)\n"
       ]
      },
      {
       "output_type": "stream",
       "stream": "stderr",
       "text": [
        "DEBUG:django.db.backends:(0.000) SELECT (1) AS `a` FROM `loq_interval` WHERE `loq_interval`.`id` = 191  LIMIT 1; args=(191,)\n"
       ]
      },
      {
       "output_type": "stream",
       "stream": "stderr",
       "text": [
        "DEBUG:django.db.backends:(0.000) UPDATE `loq_interval` SET `chr` = 'chrX', `start` = 463935, `stop` = 464036, `mirName` = 'dme-mir-4960', `NeatName` = 'chrX:463936-464036', `IntervalSize` = 101, `IntervalSerialNumber` = 191, `Structure` = '.....(((((....((...(((..((.((((((((..((((..(((((.............))))))))).)))))))).))..)))..))..)))))...', `Annotations` = '', `Tags` = '', `sum_read_counts` = NULL, `sum_normReads` = NULL, `mapped_strand` = '+', `mid_point` = 463989, `Link` = 'http://genome.ucsc.edu/cgi-bin/hgTracks?db=dm3&position=chrX:463936-464036', `hairpin_seq` = 'ACACAAGGCCTGCCGCCCAAGAAACGCAAGCCCAGAAGTCCGGCAGTCGAGAATCACGAGGGACTGGGACCTTGGGCTTACGGTTCTCAGTTTGGCTTGAC', `mature_seq` = '', `five_p` = '', `three_p` = '' WHERE `loq_interval`.`id` = 191 ; args=(u'chrX', 463935, 464036, u'dme-mir-4960', u'chrX:463936-464036', 101, 191, u'.....(((((....((...(((..((.((((((((..((((..(((((.............))))))))).)))))))).))..)))..))..)))))...', u'', u'', u'+', 463989, 'http://genome.ucsc.edu/cgi-bin/hgTracks?db=dm3&position=chrX:463936-464036', u'ACACAAGGCCTGCCGCCCAAGAAACGCAAGCCCAGAAGTCCGGCAGTCGAGAATCACGAGGGACTGGGACCTTGGGCTTACGGTTCTCAGTTTGGCTTGAC', u'', u'', u'', 191)\n"
       ]
      },
      {
       "output_type": "stream",
       "stream": "stderr",
       "text": [
        "DEBUG:django.db.backends:(0.000) SELECT (1) AS `a` FROM `loq_interval` WHERE `loq_interval`.`id` = 192  LIMIT 1; args=(192,)\n"
       ]
      },
      {
       "output_type": "stream",
       "stream": "stderr",
       "text": [
        "DEBUG:django.db.backends:(0.000) UPDATE `loq_interval` SET `chr` = 'chrX', `start` = 1267655, `stop` = 1267788, `mirName` = 'dme-mir-4961', `NeatName` = 'chrX:1267656-1267788', `IntervalSize` = 133, `IntervalSerialNumber` = 192, `Structure` = '..(((((......(((((((.((.((.((((((((((((.((((((((((..((.....)).)))))))))).))))).))))))).))))))))))).........))))).........(((...)))...', `Annotations` = '', `Tags` = '', `sum_read_counts` = 77, `sum_normReads` = 6.7572, `mapped_strand` = '+', `mid_point` = 1267711, `Link` = 'http://genome.ucsc.edu/cgi-bin/hgTracks?db=dm3&position=chrX:1267656-1267788', `hairpin_seq` = 'CGATATCCAATAGTAGCCAACTCTCTCGCTCTCTATGTGTATGTATGTATCTTGCTATCCATATATGTATATCCATATCAGAGAGCCAGGATTGGTTGAGACCATACGATATAACCCGAAACCACACTGGCCA', `mature_seq` = '', `five_p` = '30-51', `three_p` = '64-86' WHERE `loq_interval`.`id` = 192 ; args=(u'chrX', 1267655, 1267788, u'dme-mir-4961', u'chrX:1267656-1267788', 133, 192, u'..(((((......(((((((.((.((.((((((((((((.((((((((((..((.....)).)))))))))).))))).))))))).))))))))))).........))))).........(((...)))...', u'', u'', 77, 6.7572, u'+', 1267711, 'http://genome.ucsc.edu/cgi-bin/hgTracks?db=dm3&position=chrX:1267656-1267788', u'CGATATCCAATAGTAGCCAACTCTCTCGCTCTCTATGTGTATGTATGTATCTTGCTATCCATATATGTATATCCATATCAGAGAGCCAGGATTGGTTGAGACCATACGATATAACCCGAAACCACACTGGCCA', u'', u'30-51', u'64-86', 192)\n"
       ]
      },
      {
       "output_type": "stream",
       "stream": "stderr",
       "text": [
        "DEBUG:django.db.backends:(0.000) SELECT (1) AS `a` FROM `loq_interval` WHERE `loq_interval`.`id` = 193  LIMIT 1; args=(193,)\n"
       ]
      },
      {
       "output_type": "stream",
       "stream": "stderr",
       "text": [
        "DEBUG:django.db.backends:(0.000) UPDATE `loq_interval` SET `chr` = 'chrX', `start` = 1682893, `stop` = 1682990, `mirName` = 'dme-mir-981', `NeatName` = 'chrX:1682894-1682990', `IntervalSize` = 97, `IntervalSerialNumber` = 193, `Structure` = '.....(((.(((....(((((((((((((.(((((((((((((...........))).)))))))))).))))))))))).))...))).)))....', `Annotations` = '', `Tags` = '', `sum_read_counts` = 973, `sum_normReads` = 96.1604, `mapped_strand` = '-', `mid_point` = 1682941, `Link` = 'http://genome.ucsc.edu/cgi-bin/hgTracks?db=dm3&position=chrX:1682894-1682990', `hairpin_seq` = 'AAACATCCTCACTGAAGTCGGGTTTCGTTAGCAGCGGGCTGTTTTAATAAATTCAACAAGTTCGTTGTCGACGAAACCTGCATGCTGTGTGGAAAAT', `mature_seq` = '', `five_p` = '19-40', `three_p` = '61-82' WHERE `loq_interval`.`id` = 193 ; args=(u'chrX', 1682893, 1682990, u'dme-mir-981', u'chrX:1682894-1682990', 97, 193, u'.....(((.(((....(((((((((((((.(((((((((((((...........))).)))))))))).))))))))))).))...))).)))....', u'', u'', 973, 96.1604, u'-', 1682941, 'http://genome.ucsc.edu/cgi-bin/hgTracks?db=dm3&position=chrX:1682894-1682990', u'AAACATCCTCACTGAAGTCGGGTTTCGTTAGCAGCGGGCTGTTTTAATAAATTCAACAAGTTCGTTGTCGACGAAACCTGCATGCTGTGTGGAAAAT', u'', u'19-40', u'61-82', 193)\n"
       ]
      },
      {
       "output_type": "stream",
       "stream": "stderr",
       "text": [
        "DEBUG:django.db.backends:(0.000) SELECT (1) AS `a` FROM `loq_interval` WHERE `loq_interval`.`id` = 194  LIMIT 1; args=(194,)\n"
       ]
      },
      {
       "output_type": "stream",
       "stream": "stderr",
       "text": [
        "DEBUG:django.db.backends:(0.000) UPDATE `loq_interval` SET `chr` = 'chrX', `start` = 1904332, `stop` = 1904450, `mirName` = 'dme-mir-2496', `NeatName` = 'chrX:1904333-1904450', `IntervalSize` = 118, `IntervalSerialNumber` = 194, `Structure` = '((((((.((((((((((((((((..(((.((((((.....((((..(((.((((((..........))).))))))..)))).))))))))).))))))))))))))))..).)))))', `Annotations` = '', `Tags` = '', `sum_read_counts` = NULL, `sum_normReads` = NULL, `mapped_strand` = '+', `mid_point` = 1904392, `Link` = 'http://genome.ucsc.edu/cgi-bin/hgTracks?db=dm3&position=chrX:1904333-1904450', `hairpin_seq` = 'GTGCGCCGGTGTGCGTGTGTGAGAGGCCATCGTAAAAGCCTTGTTTGCGTGCGGAATTTAACTGTTTTCTCGCCGTCTGCGAATTGCGGGGCACTCACACACGCATATTCAGCCGCAC', `mature_seq` = '', `five_p` = '11-34', `three_p` = '86-107' WHERE `loq_interval`.`id` = 194 ; args=(u'chrX', 1904332, 1904450, u'dme-mir-2496', u'chrX:1904333-1904450', 118, 194, u'((((((.((((((((((((((((..(((.((((((.....((((..(((.((((((..........))).))))))..)))).))))))))).))))))))))))))))..).)))))', u'', u'', u'+', 1904392, 'http://genome.ucsc.edu/cgi-bin/hgTracks?db=dm3&position=chrX:1904333-1904450', u'GTGCGCCGGTGTGCGTGTGTGAGAGGCCATCGTAAAAGCCTTGTTTGCGTGCGGAATTTAACTGTTTTCTCGCCGTCTGCGAATTGCGGGGCACTCACACACGCATATTCAGCCGCAC', u'', u'11-34', u'86-107', 194)\n"
       ]
      },
      {
       "output_type": "stream",
       "stream": "stderr",
       "text": [
        "DEBUG:django.db.backends:(0.000) SELECT (1) AS `a` FROM `loq_interval` WHERE `loq_interval`.`id` = 195  LIMIT 1; args=(195,)\n"
       ]
      },
      {
       "output_type": "stream",
       "stream": "stderr",
       "text": [
        "DEBUG:django.db.backends:(0.000) UPDATE `loq_interval` SET `chr` = 'chrX', `start` = 1923036, `stop` = 1923127, `mirName` = 'dme-mir-4954', `NeatName` = 'chrX:1923037-1923127', `IntervalSize` = 91, `IntervalSerialNumber` = 195, `Structure` = '.((((((..(((.(((((((.((((((.((((.(((((.........))))).)))).)))))).))).)))).)))...)))))).....', `Annotations` = '', `Tags` = '', `sum_read_counts` = 2, `sum_normReads` = 0.1358, `mapped_strand` = '-', `mid_point` = 1923078, `Link` = 'http://genome.ucsc.edu/cgi-bin/hgTracks?db=dm3&position=chrX:1923037-1923127', `hairpin_seq` = 'TTGGCGCTTGGAATCGATACCCGAGCCATGATAGATTGAAGTCAACCCAATCGATCGCGGTTCGAGTGCTCGAGTCTTGTGCGCCGGCATG', `mature_seq` = '', `five_p` = '17-38', `three_p` = '51-71' WHERE `loq_interval`.`id` = 195 ; args=(u'chrX', 1923036, 1923127, u'dme-mir-4954', u'chrX:1923037-1923127', 91, 195, u'.((((((..(((.(((((((.((((((.((((.(((((.........))))).)))).)))))).))).)))).)))...)))))).....', u'', u'', 2, 0.1358, u'-', 1923078, 'http://genome.ucsc.edu/cgi-bin/hgTracks?db=dm3&position=chrX:1923037-1923127', u'TTGGCGCTTGGAATCGATACCCGAGCCATGATAGATTGAAGTCAACCCAATCGATCGCGGTTCGAGTGCTCGAGTCTTGTGCGCCGGCATG', u'', u'17-38', u'51-71', 195)\n"
       ]
      },
      {
       "output_type": "stream",
       "stream": "stderr",
       "text": [
        "DEBUG:django.db.backends:(0.000) SELECT (1) AS `a` FROM `loq_interval` WHERE `loq_interval`.`id` = 196  LIMIT 1; args=(196,)\n"
       ]
      },
      {
       "output_type": "stream",
       "stream": "stderr",
       "text": [
        "DEBUG:django.db.backends:(0.000) UPDATE `loq_interval` SET `chr` = 'chrX', `start` = 2065118, `stop` = 2065187, `mirName` = 'dme-mir-3641', `NeatName` = 'chrX:2065119-2065187', `IntervalSize` = 69, `IntervalSerialNumber` = 196, `Structure` = '..(((((.((.(((((.((..(((..............))))).))))).)).)))))...........', `Annotations` = '', `Tags` = '', `sum_read_counts` = 3, `sum_normReads` = 0.4276, `mapped_strand` = '+', `mid_point` = 2065148, `Link` = 'http://genome.ucsc.edu/cgi-bin/hgTracks?db=dm3&position=chrX:2065119-2065187', `hairpin_seq` = 'GTGAGTGTCCTGTTTACAGCTGGTATATTTTTCGAAAAGCCCTCTAAACTGGTCACTTCCACTCTACAG', `mature_seq` = '', `five_p` = '1-20', `three_p` = '43-64' WHERE `loq_interval`.`id` = 196 ; args=(u'chrX', 2065118, 2065187, u'dme-mir-3641', u'chrX:2065119-2065187', 69, 196, u'..(((((.((.(((((.((..(((..............))))).))))).)).)))))...........', u'', u'', 3, 0.4276, u'+', 2065148, 'http://genome.ucsc.edu/cgi-bin/hgTracks?db=dm3&position=chrX:2065119-2065187', u'GTGAGTGTCCTGTTTACAGCTGGTATATTTTTCGAAAAGCCCTCTAAACTGGTCACTTCCACTCTACAG', u'', u'1-20', u'43-64', 196)\n"
       ]
      },
      {
       "output_type": "stream",
       "stream": "stderr",
       "text": [
        "DEBUG:django.db.backends:(0.000) SELECT (1) AS `a` FROM `loq_interval` WHERE `loq_interval`.`id` = 197  LIMIT 1; args=(197,)\n"
       ]
      },
      {
       "output_type": "stream",
       "stream": "stderr",
       "text": [
        "DEBUG:django.db.backends:(0.000) UPDATE `loq_interval` SET `chr` = 'chrX', `start` = 2438772, `stop` = 2438941, `mirName` = 'dme-mir-4955', `NeatName` = 'chrX:2438773-2438941', `IntervalSize` = 169, `IntervalSerialNumber` = 197, `Structure` = '......................(..((((((((((((((((.(((((((..........(((((((.....)))).)))...........(((..(((((.....))))))))........))))))).))))))))))))))))..).....................', `Annotations` = '', `Tags` = '', `sum_read_counts` = 43, `sum_normReads` = 4.1839, `mapped_strand` = '-', `mid_point` = 2438874, `Link` = 'http://genome.ucsc.edu/cgi-bin/hgTracks?db=dm3&position=chrX:2438773-2438941', `hairpin_seq` = 'CACCGATTTGCTTCCCCTTTTTCCGTGCGCGGAGAAAAAAATCCCCAGAAACATAATATCAGGATGCTCTCTATCTCTGTCTCTGTCTAACGCTTAATTGTTGCTCAATTGCGAATTAATGTCTGGGGCTTTTTTTCTCCGTGCAGTGCCATAGCCGTAACCACAACCT', `mature_seq` = '', `five_p` = '28-49', `three_p` = '124-145' WHERE `loq_interval`.`id` = 197 ; args=(u'chrX', 2438772, 2438941, u'dme-mir-4955', u'chrX:2438773-2438941', 169, 197, u'......................(..((((((((((((((((.(((((((..........(((((((.....)))).)))...........(((..(((((.....))))))))........))))))).))))))))))))))))..).....................', u'', u'', 43, 4.1839, u'-', 2438874, 'http://genome.ucsc.edu/cgi-bin/hgTracks?db=dm3&position=chrX:2438773-2438941', u'CACCGATTTGCTTCCCCTTTTTCCGTGCGCGGAGAAAAAAATCCCCAGAAACATAATATCAGGATGCTCTCTATCTCTGTCTCTGTCTAACGCTTAATTGTTGCTCAATTGCGAATTAATGTCTGGGGCTTTTTTTCTCCGTGCAGTGCCATAGCCGTAACCACAACCT', u'', u'28-49', u'124-145', 197)\n"
       ]
      },
      {
       "output_type": "stream",
       "stream": "stderr",
       "text": [
        "DEBUG:django.db.backends:(0.000) SELECT (1) AS `a` FROM `loq_interval` WHERE `loq_interval`.`id` = 198  LIMIT 1; args=(198,)\n"
       ]
      },
      {
       "output_type": "stream",
       "stream": "stderr",
       "text": [
        "DEBUG:django.db.backends:(0.000) UPDATE `loq_interval` SET `chr` = 'chrX', `start` = 3671414, `stop` = 3671538, `mirName` = 'dme-mir-4962', `NeatName` = 'chrX:3671415-3671538', `IntervalSize` = 124, `IntervalSerialNumber` = 198, `Structure` = '....................((.(((((((((((.((((..((((((((((((((...........))).)))...)))))))))))).))))))))))).)).....................', `Annotations` = '', `Tags` = '', `sum_read_counts` = 7, `sum_normReads` = 0.7422, `mapped_strand` = '+', `mid_point` = 3671474, `Link` = 'http://genome.ucsc.edu/cgi-bin/hgTracks?db=dm3&position=chrX:3671415-3671538', `hairpin_seq` = 'TCCTTTCTTTTCTCTCCGTCTCTCTCTTTCCCTCTCTCTGTTTACATTGAGCTGTTTTGTCCGTGCACGTGCTAGACGATGTAGAGAGTGAGGGAGAGAGCGAATAGAATAACAGCTCATTGTG', `mature_seq` = '', `five_p` = '27-50', `three_p` = '75-97' WHERE `loq_interval`.`id` = 198 ; args=(u'chrX', 3671414, 3671538, u'dme-mir-4962', u'chrX:3671415-3671538', 124, 198, u'....................((.(((((((((((.((((..((((((((((((((...........))).)))...)))))))))))).))))))))))).)).....................', u'', u'', 7, 0.7422, u'+', 3671474, 'http://genome.ucsc.edu/cgi-bin/hgTracks?db=dm3&position=chrX:3671415-3671538', u'TCCTTTCTTTTCTCTCCGTCTCTCTCTTTCCCTCTCTCTGTTTACATTGAGCTGTTTTGTCCGTGCACGTGCTAGACGATGTAGAGAGTGAGGGAGAGAGCGAATAGAATAACAGCTCATTGTG', u'', u'27-50', u'75-97', 198)\n"
       ]
      },
      {
       "output_type": "stream",
       "stream": "stderr",
       "text": [
        "DEBUG:django.db.backends:(0.000) SELECT (1) AS `a` FROM `loq_interval` WHERE `loq_interval`.`id` = 199  LIMIT 1; args=(199,)\n"
       ]
      },
      {
       "output_type": "stream",
       "stream": "stderr",
       "text": [
        "DEBUG:django.db.backends:(0.000) UPDATE `loq_interval` SET `chr` = 'chrX', `start` = 4259838, `stop` = 4259931, `mirName` = 'dme-mir-982', `NeatName` = 'chrX:4259839-4259931', `IntervalSize` = 93, `IntervalSerialNumber` = 199, `Structure` = '.((((((((.((((.((..(((..(((((.((((((..(((......)))....)))))).)))))..)))..)).)))))))))))).....', `Annotations` = '', `Tags` = '', `sum_read_counts` = 3644, `sum_normReads` = 348.6414, `mapped_strand` = '-', `mid_point` = 4259881, `Link` = 'http://genome.ucsc.edu/cgi-bin/hgTracks?db=dm3&position=chrX:4259839-4259931', `hairpin_seq` = 'CGAAATCATGTTAGATCCTGGACAAATATGAAGTAAATTGTTTTTATGCATCAATTACTTGATATTCATCCTTGAACTAAATGGTTTTAGAGC', `mature_seq` = '', `five_p` = '16-38', `three_p` = '55-76' WHERE `loq_interval`.`id` = 199 ; args=(u'chrX', 4259838, 4259931, u'dme-mir-982', u'chrX:4259839-4259931', 93, 199, u'.((((((((.((((.((..(((..(((((.((((((..(((......)))....)))))).)))))..)))..)).)))))))))))).....', u'', u'', 3644, 348.6414, u'-', 4259881, 'http://genome.ucsc.edu/cgi-bin/hgTracks?db=dm3&position=chrX:4259839-4259931', u'CGAAATCATGTTAGATCCTGGACAAATATGAAGTAAATTGTTTTTATGCATCAATTACTTGATATTCATCCTTGAACTAAATGGTTTTAGAGC', u'', u'16-38', u'55-76', 199)\n"
       ]
      },
      {
       "output_type": "stream",
       "stream": "stderr",
       "text": [
        "DEBUG:django.db.backends:(0.000) SELECT (1) AS `a` FROM `loq_interval` WHERE `loq_interval`.`id` = 200  LIMIT 1; args=(200,)\n"
       ]
      },
      {
       "output_type": "stream",
       "stream": "stderr",
       "text": [
        "DEBUG:django.db.backends:(0.000) UPDATE `loq_interval` SET `chr` = 'chrX', `start` = 4260211, `stop` = 4260281, `mirName` = 'dme-mir-303', `NeatName` = 'chrX:4260212-4260281', `IntervalSize` = 70, `IntervalSerialNumber` = 200, `Structure` = '((((((((..(((((...(((((((((((((........)))))))))))))...)))))..))))))))', `Annotations` = '', `Tags` = '', `sum_read_counts` = 770, `sum_normReads` = 75.0821, `mapped_strand` = '-', `mid_point` = 4260245, `Link` = 'http://genome.ucsc.edu/cgi-bin/hgTracks?db=dm3&position=chrX:4260212-4260281', `hairpin_seq` = 'TCTTGGTTTAGGTTTCACAGGAAACTGGTTTAATAACGAAAACTAGTTTCCTCTAAAATCCTAATCAAGA', `mature_seq` = '', `five_p` = '7-29', `three_p` = '43-64' WHERE `loq_interval`.`id` = 200 ; args=(u'chrX', 4260211, 4260281, u'dme-mir-303', u'chrX:4260212-4260281', 70, 200, u'((((((((..(((((...(((((((((((((........)))))))))))))...)))))..))))))))', u'', u'', 770, 75.0821, u'-', 4260245, 'http://genome.ucsc.edu/cgi-bin/hgTracks?db=dm3&position=chrX:4260212-4260281', u'TCTTGGTTTAGGTTTCACAGGAAACTGGTTTAATAACGAAAACTAGTTTCCTCTAAAATCCTAATCAAGA', u'', u'7-29', u'43-64', 200)\n"
       ]
      },
      {
       "output_type": "stream",
       "stream": "stderr",
       "text": [
        "DEBUG:django.db.backends:(0.000) SELECT (1) AS `a` FROM `loq_interval` WHERE `loq_interval`.`id` = 201  LIMIT 1; args=(201,)\n"
       ]
      },
      {
       "output_type": "stream",
       "stream": "stderr",
       "text": [
        "DEBUG:django.db.backends:(0.000) UPDATE `loq_interval` SET `chr` = 'chrX', `start` = 4262341, `stop` = 4262432, `mirName` = 'dme-mir-983-1', `NeatName` = 'chrX:4262342-4262432', `IntervalSize` = 91, `IntervalSerialNumber` = 201, `Structure` = '....((((((((((((.(((((.(((..(...(((((((............)))))))...)..))).))))).)))))))))))).....', `Annotations` = '', `Tags` = '', `sum_read_counts` = 15172, `sum_normReads` = 733.2462, `mapped_strand` = '-', `mid_point` = 4262385, `Link` = 'http://genome.ucsc.edu/cgi-bin/hgTracks?db=dm3&position=chrX:4262342-4262432', `hairpin_seq` = 'TATATTGCAATAATTAAATAATACGTTTCGAACTAATGATTTTCAGTTCATTCATTAGGTAGTTACGCATTATCTAGTTGTTGTAAACATT', `mature_seq` = '', `five_p` = '', `three_p` = '' WHERE `loq_interval`.`id` = 201 ; args=(u'chrX', 4262341, 4262432, u'dme-mir-983-1', u'chrX:4262342-4262432', 91, 201, u'....((((((((((((.(((((.(((..(...(((((((............)))))))...)..))).))))).)))))))))))).....', u'', u'', 15172, 733.2462, u'-', 4262385, 'http://genome.ucsc.edu/cgi-bin/hgTracks?db=dm3&position=chrX:4262342-4262432', u'TATATTGCAATAATTAAATAATACGTTTCGAACTAATGATTTTCAGTTCATTCATTAGGTAGTTACGCATTATCTAGTTGTTGTAAACATT', u'', u'', u'', 201)\n"
       ]
      },
      {
       "output_type": "stream",
       "stream": "stderr",
       "text": [
        "DEBUG:django.db.backends:(0.000) SELECT (1) AS `a` FROM `loq_interval` WHERE `loq_interval`.`id` = 202  LIMIT 1; args=(202,)\n"
       ]
      },
      {
       "output_type": "stream",
       "stream": "stderr",
       "text": [
        "DEBUG:django.db.backends:(0.001) UPDATE `loq_interval` SET `chr` = 'chrX', `start` = 4262515, `stop` = 4262614, `mirName` = 'dme-mir-983-2', `NeatName` = 'chrX:4262516-4262614', `IntervalSize` = 99, `IntervalSerialNumber` = 202, `Structure` = '.......((((((((((((.(((((.(((..(...(((((((............)))))))...)..))).))))).))))))))))))..........', `Annotations` = '', `Tags` = '', `sum_read_counts` = 15172, `sum_normReads` = 733.2462, `mapped_strand` = '-', `mid_point` = 4262562, `Link` = 'http://genome.ucsc.edu/cgi-bin/hgTracks?db=dm3&position=chrX:4262516-4262614', `hairpin_seq` = 'TATTATATTGCAATAATTAAATAATACGTTTCGAACTAATGATTTTCAGTTCATTCATTAGGTAGTTACGCATTATCTAGTTGTTGTAAACATTCAACT', `mature_seq` = '', `five_p` = '', `three_p` = '' WHERE `loq_interval`.`id` = 202 ; args=(u'chrX', 4262515, 4262614, u'dme-mir-983-2', u'chrX:4262516-4262614', 99, 202, u'.......((((((((((((.(((((.(((..(...(((((((............)))))))...)..))).))))).))))))))))))..........', u'', u'', 15172, 733.2462, u'-', 4262562, 'http://genome.ucsc.edu/cgi-bin/hgTracks?db=dm3&position=chrX:4262516-4262614', u'TATTATATTGCAATAATTAAATAATACGTTTCGAACTAATGATTTTCAGTTCATTCATTAGGTAGTTACGCATTATCTAGTTGTTGTAAACATTCAACT', u'', u'', u'', 202)\n"
       ]
      },
      {
       "output_type": "stream",
       "stream": "stderr",
       "text": [
        "DEBUG:django.db.backends:(0.000) SELECT (1) AS `a` FROM `loq_interval` WHERE `loq_interval`.`id` = 203  LIMIT 1; args=(203,)\n"
       ]
      },
      {
       "output_type": "stream",
       "stream": "stderr",
       "text": [
        "DEBUG:django.db.backends:(0.000) UPDATE `loq_interval` SET `chr` = 'chrX', `start` = 4262678, `stop` = 4262768, `mirName` = 'dme-mir-984', `NeatName` = 'chrX:4262679-4262768', `IntervalSize` = 90, `IntervalSerialNumber` = 203, `Structure` = '.((((..((((((.(((((.(((((.((((((((..(((((.........))))))))))))).))))).))))).))))))))))....', `Annotations` = '', `Tags` = '', `sum_read_counts` = 8664, `sum_normReads` = 832.7776, `mapped_strand` = '-', `mid_point` = 4262723, `Link` = 'http://genome.ucsc.edu/cgi-bin/hgTracks?db=dm3&position=chrX:4262679-4262768', `hairpin_seq` = 'AGAAACAAATTTCATTGAGGTAAATACGGTTGGAATTTTGTCTTTTAACTATAAATCCAACCGAATTTGGCTCGGCGAAATTTTTCAGTT', `mature_seq` = '', `five_p` = '16-38', `three_p` = '55-74' WHERE `loq_interval`.`id` = 203 ; args=(u'chrX', 4262678, 4262768, u'dme-mir-984', u'chrX:4262679-4262768', 90, 203, u'.((((..((((((.(((((.(((((.((((((((..(((((.........))))))))))))).))))).))))).))))))))))....', u'', u'', 8664, 832.7776, u'-', 4262723, 'http://genome.ucsc.edu/cgi-bin/hgTracks?db=dm3&position=chrX:4262679-4262768', u'AGAAACAAATTTCATTGAGGTAAATACGGTTGGAATTTTGTCTTTTAACTATAAATCCAACCGAATTTGGCTCGGCGAAATTTTTCAGTT', u'', u'16-38', u'55-74', 203)\n"
       ]
      },
      {
       "output_type": "stream",
       "stream": "stderr",
       "text": [
        "DEBUG:django.db.backends:(0.000) SELECT (1) AS `a` FROM `loq_interval` WHERE `loq_interval`.`id` = 204  LIMIT 1; args=(204,)\n"
       ]
      },
      {
       "output_type": "stream",
       "stream": "stderr",
       "text": [
        "DEBUG:django.db.backends:(0.000) UPDATE `loq_interval` SET `chr` = 'chrX', `start` = 5516312, `stop` = 5516449, `mirName` = 'dme-mir-3645', `NeatName` = 'chrX:5516313-5516449', `IntervalSize` = 137, `IntervalSerialNumber` = 204, `Structure` = '.(((((((.((((.((((....(((((((............((.((((((...))))))...)))))))))..)))))))).)))))))................................................', `Annotations` = '', `Tags` = '', `sum_read_counts` = 4, `sum_normReads` = 0.4278, `mapped_strand` = '-', `mid_point` = 5516363, `Link` = 'http://genome.ucsc.edu/cgi-bin/hgTracks?db=dm3&position=chrX:5516313-5516449', `hairpin_seq` = 'GTGAGTGCAGGCTGTTTATTGCGGCGCTGTTTACTGTTTACGATCGCACTGGAAGTGCGCTTTCCGGCGCCTTTGGAAGCCAGCACTCAAGTTTCCTTCATTGTTTTCCTTTCTTTCCCCTCTCTCTCTCCCCGCAG', `mature_seq` = '', `five_p` = '1-21', `three_p` = '72-92' WHERE `loq_interval`.`id` = 204 ; args=(u'chrX', 5516312, 5516449, u'dme-mir-3645', u'chrX:5516313-5516449', 137, 204, u'.(((((((.((((.((((....(((((((............((.((((((...))))))...)))))))))..)))))))).)))))))................................................', u'', u'', 4, 0.4278, u'-', 5516363, 'http://genome.ucsc.edu/cgi-bin/hgTracks?db=dm3&position=chrX:5516313-5516449', u'GTGAGTGCAGGCTGTTTATTGCGGCGCTGTTTACTGTTTACGATCGCACTGGAAGTGCGCTTTCCGGCGCCTTTGGAAGCCAGCACTCAAGTTTCCTTCATTGTTTTCCTTTCTTTCCCCTCTCTCTCTCCCCGCAG', u'', u'1-21', u'72-92', 204)\n"
       ]
      },
      {
       "output_type": "stream",
       "stream": "stderr",
       "text": [
        "DEBUG:django.db.backends:(0.000) SELECT (1) AS `a` FROM `loq_interval` WHERE `loq_interval`.`id` = 205  LIMIT 1; args=(205,)\n"
       ]
      },
      {
       "output_type": "stream",
       "stream": "stderr",
       "text": [
        "DEBUG:django.db.backends:(0.000) UPDATE `loq_interval` SET `chr` = 'chrX', `start` = 5684785, `stop` = 5684894, `mirName` = 'dme-mir-4963', `NeatName` = 'chrX:5684786-5684894', `IntervalSize` = 109, `IntervalSerialNumber` = 205, `Structure` = '....(((((....((((.((.(((((((((((((...(((((((((((((...(......).)))))))))))))...))))))))))))).)).))))..)))))...', `Annotations` = '', `Tags` = '', `sum_read_counts` = 134, `sum_normReads` = 11.7262, `mapped_strand` = '+', `mid_point` = 5684841, `Link` = 'http://genome.ucsc.edu/cgi-bin/hgTracks?db=dm3&position=chrX:5684786-5684894', `hairpin_seq` = 'CTGTAGGAAATTTTTTGGGGTACTTCTGGTTTCATAACGCAGAGAATCATCAGCGTGAAGGAATGATTCTCTGCGGGCTGGAACCAGAAGTCCTGCAAATGTTCTTTTA', `mature_seq` = '', `five_p` = '28-48', `three_p` = '66-87' WHERE `loq_interval`.`id` = 205 ; args=(u'chrX', 5684785, 5684894, u'dme-mir-4963', u'chrX:5684786-5684894', 109, 205, u'....(((((....((((.((.(((((((((((((...(((((((((((((...(......).)))))))))))))...))))))))))))).)).))))..)))))...', u'', u'', 134, 11.7262, u'+', 5684841, 'http://genome.ucsc.edu/cgi-bin/hgTracks?db=dm3&position=chrX:5684786-5684894', u'CTGTAGGAAATTTTTTGGGGTACTTCTGGTTTCATAACGCAGAGAATCATCAGCGTGAAGGAATGATTCTCTGCGGGCTGGAACCAGAAGTCCTGCAAATGTTCTTTTA', u'', u'28-48', u'66-87', 205)\n"
       ]
      },
      {
       "output_type": "stream",
       "stream": "stderr",
       "text": [
        "DEBUG:django.db.backends:(0.000) SELECT (1) AS `a` FROM `loq_interval` WHERE `loq_interval`.`id` = 206  LIMIT 1; args=(206,)\n"
       ]
      },
      {
       "output_type": "stream",
       "stream": "stderr",
       "text": [
        "DEBUG:django.db.backends:(0.000) UPDATE `loq_interval` SET `chr` = 'chrX', `start` = 6979769, `stop` = 6979886, `mirName` = 'dme-mir-4956', `NeatName` = 'chrX:6979770-6979886', `IntervalSize` = 117, `IntervalSerialNumber` = 206, `Structure` = '.(((((((....((((...((((((((((((.((.(((((.((((.((((.((......)).)))).)))).))))).)).))))))))).).))....))))..)).)))))....', `Annotations` = '', `Tags` = '', `sum_read_counts` = 42, `sum_normReads` = 4.4763, `mapped_strand` = '-', `mid_point` = 6979824, `Link` = 'http://genome.ucsc.edu/cgi-bin/hgTracks?db=dm3&position=chrX:6979770-6979886', `hairpin_seq` = 'AGGGGGCGGCAACATGTGCCACCTGCCGCCGATGGCCAGCAACAACTCGCTGAATAATCTCTGCGGATTGTCGCTGGGCAGCGGTGGTAGTGATGATCTCATGAACGATCCTCGGGC', `mature_seq` = '', `five_p` = '30-51', `three_p` = '63-84' WHERE `loq_interval`.`id` = 206 ; args=(u'chrX', 6979769, 6979886, u'dme-mir-4956', u'chrX:6979770-6979886', 117, 206, u'.(((((((....((((...((((((((((((.((.(((((.((((.((((.((......)).)))).)))).))))).)).))))))))).).))....))))..)).)))))....', u'', u'', 42, 4.4763, u'-', 6979824, 'http://genome.ucsc.edu/cgi-bin/hgTracks?db=dm3&position=chrX:6979770-6979886', u'AGGGGGCGGCAACATGTGCCACCTGCCGCCGATGGCCAGCAACAACTCGCTGAATAATCTCTGCGGATTGTCGCTGGGCAGCGGTGGTAGTGATGATCTCATGAACGATCCTCGGGC', u'', u'30-51', u'63-84', 206)\n"
       ]
      },
      {
       "output_type": "stream",
       "stream": "stderr",
       "text": [
        "DEBUG:django.db.backends:(0.000) SELECT (1) AS `a` FROM `loq_interval` WHERE `loq_interval`.`id` = 207  LIMIT 1; args=(207,)\n"
       ]
      },
      {
       "output_type": "stream",
       "stream": "stderr",
       "text": [
        "DEBUG:django.db.backends:(0.000) UPDATE `loq_interval` SET `chr` = 'chrX', `start` = 8859833, `stop` = 8859945, `mirName` = 'dme-mir-4964', `NeatName` = 'chrX:8859834-8859945', `IntervalSize` = 112, `IntervalSerialNumber` = 207, `Structure` = '..........(.(((((..((.(((..(((((((((((((((((((.(((((........))))))))))))))))))))))))......)))))..))))).)........', `Annotations` = '', `Tags` = '', `sum_read_counts` = 25, `sum_normReads` = 2.222, `mapped_strand` = '+', `mid_point` = 8859888, `Link` = 'http://genome.ucsc.edu/cgi-bin/hgTracks?db=dm3&position=chrX:8859834-8859945', `hairpin_seq` = 'ATTTTTGAATGGTCCTTTTCATGCCCAAGGCGAATAAATATGTATTTATGTATATTTTTTTATATGGTACGTATTTATTTGTCTGCAAATGGCTGCCAAGGAGTGCTACATA', `mature_seq` = '', `five_p` = '', `three_p` = '' WHERE `loq_interval`.`id` = 207 ; args=(u'chrX', 8859833, 8859945, u'dme-mir-4964', u'chrX:8859834-8859945', 112, 207, u'..........(.(((((..((.(((..(((((((((((((((((((.(((((........))))))))))))))))))))))))......)))))..))))).)........', u'', u'', 25, 2.222, u'+', 8859888, 'http://genome.ucsc.edu/cgi-bin/hgTracks?db=dm3&position=chrX:8859834-8859945', u'ATTTTTGAATGGTCCTTTTCATGCCCAAGGCGAATAAATATGTATTTATGTATATTTTTTTATATGGTACGTATTTATTTGTCTGCAAATGGCTGCCAAGGAGTGCTACATA', u'', u'', u'', 207)\n"
       ]
      },
      {
       "output_type": "stream",
       "stream": "stderr",
       "text": [
        "DEBUG:django.db.backends:(0.000) SELECT (1) AS `a` FROM `loq_interval` WHERE `loq_interval`.`id` = 208  LIMIT 1; args=(208,)\n"
       ]
      },
      {
       "output_type": "stream",
       "stream": "stderr",
       "text": [
        "DEBUG:django.db.backends:(0.000) UPDATE `loq_interval` SET `chr` = 'chrX', `start` = 8887337, `stop` = 8887464, `mirName` = 'dme-mir-31b', `NeatName` = 'chrX:8887338-8887464', `IntervalSize` = 127, `IntervalSerialNumber` = 208, `Structure` = '(((((((((...(((((.(((((..((.(((((((.........((((.(((........))))))).(((((((....)))))))......))))))).)).))))).)))))...))))).))))', `Annotations` = '', `Tags` = '', `sum_read_counts` = 236, `sum_normReads` = 22.0215, `mapped_strand` = '-', `mid_point` = 8887413, `Link` = 'http://genome.ucsc.edu/cgi-bin/hgTracks?db=dm3&position=chrX:8887338-8887464', `hairpin_seq` = 'CAAATAATGAATTTGGCAAGATGTCGGAATAGCTGAGAGCACAGCGGATCGAACATTTTATCGTCCGAAAAAATGTGATTATTTTTGAAAAGCGGCTATGCCTCATCTAGTCAATTGCATTACTTTG', `mature_seq` = '', `five_p` = '14-35', `three_p` = '94-115' WHERE `loq_interval`.`id` = 208 ; args=(u'chrX', 8887337, 8887464, u'dme-mir-31b', u'chrX:8887338-8887464', 127, 208, u'(((((((((...(((((.(((((..((.(((((((.........((((.(((........))))))).(((((((....)))))))......))))))).)).))))).)))))...))))).))))', u'', u'', 236, 22.0215, u'-', 8887413, 'http://genome.ucsc.edu/cgi-bin/hgTracks?db=dm3&position=chrX:8887338-8887464', u'CAAATAATGAATTTGGCAAGATGTCGGAATAGCTGAGAGCACAGCGGATCGAACATTTTATCGTCCGAAAAAATGTGATTATTTTTGAAAAGCGGCTATGCCTCATCTAGTCAATTGCATTACTTTG', u'', u'14-35', u'94-115', 208)\n"
       ]
      },
      {
       "output_type": "stream",
       "stream": "stderr",
       "text": [
        "DEBUG:django.db.backends:(0.000) SELECT (1) AS `a` FROM `loq_interval` WHERE `loq_interval`.`id` = 209  LIMIT 1; args=(209,)\n"
       ]
      },
      {
       "output_type": "stream",
       "stream": "stderr",
       "text": [
        "DEBUG:django.db.backends:(0.000) UPDATE `loq_interval` SET `chr` = 'chrX', `start` = 8985262, `stop` = 8985332, `mirName` = 'dme-mir-13b-2', `NeatName` = 'chrX:8985263-8985332', `IntervalSize` = 70, `IntervalSerialNumber` = 209, `Structure` = '....(((.((((((((((.((((((..((((.((......)).)))))))))).)))))))))).)))..', `Annotations` = '', `Tags` = '', `sum_read_counts` = 1862673, `sum_normReads` = 87909.4721, `mapped_strand` = '+', `mid_point` = 8985298, `Link` = 'http://genome.ucsc.edu/cgi-bin/hgTracks?db=dm3&position=chrX:8985263-8985332', `hairpin_seq` = 'TATTAACGCGTCAAAATGACTGTGAGCTATGTGGATTTGACTTCATATCACAGCCATTTTGACGAGTTTG', `mature_seq` = '', `five_p` = '', `three_p` = '' WHERE `loq_interval`.`id` = 209 ; args=(u'chrX', 8985262, 8985332, u'dme-mir-13b-2', u'chrX:8985263-8985332', 70, 209, u'....(((.((((((((((.((((((..((((.((......)).)))))))))).)))))))))).)))..', u'', u'', 1862673, 87909.4721, u'+', 8985298, 'http://genome.ucsc.edu/cgi-bin/hgTracks?db=dm3&position=chrX:8985263-8985332', u'TATTAACGCGTCAAAATGACTGTGAGCTATGTGGATTTGACTTCATATCACAGCCATTTTGACGAGTTTG', u'', u'', u'', 209)\n"
       ]
      },
      {
       "output_type": "stream",
       "stream": "stderr",
       "text": [
        "DEBUG:django.db.backends:(0.000) SELECT (1) AS `a` FROM `loq_interval` WHERE `loq_interval`.`id` = 210  LIMIT 1; args=(210,)\n"
       ]
      },
      {
       "output_type": "stream",
       "stream": "stderr",
       "text": [
        "DEBUG:django.db.backends:(0.000) UPDATE `loq_interval` SET `chr` = 'chrX', `start` = 9130492, `stop` = 9130551, `mirName` = 'dme-mir-4916', `NeatName` = 'chrX:9130493-9130551', `IntervalSize` = 59, `IntervalSerialNumber` = 210, `Structure` = '.((((.((..(((((((((.((..(.....)..))..)))))))))..)).))))....', `Annotations` = '', `Tags` = '', `sum_read_counts` = NULL, `sum_normReads` = NULL, `mapped_strand` = '-', `mid_point` = 9130519, `Link` = 'http://genome.ucsc.edu/cgi-bin/hgTracks?db=dm3&position=chrX:9130493-9130551', `hairpin_seq` = 'GTGGGTGTTCTTGGAAATTCGCCTCGATCGGTAGCTAAATTTCTGATTACTCCTAAAAG', `mature_seq` = '', `five_p` = '', `three_p` = '' WHERE `loq_interval`.`id` = 210 ; args=(u'chrX', 9130492, 9130551, u'dme-mir-4916', u'chrX:9130493-9130551', 59, 210, u'.((((.((..(((((((((.((..(.....)..))..)))))))))..)).))))....', u'', u'', u'-', 9130519, 'http://genome.ucsc.edu/cgi-bin/hgTracks?db=dm3&position=chrX:9130493-9130551', u'GTGGGTGTTCTTGGAAATTCGCCTCGATCGGTAGCTAAATTTCTGATTACTCCTAAAAG', u'', u'', u'', 210)\n"
       ]
      },
      {
       "output_type": "stream",
       "stream": "stderr",
       "text": [
        "DEBUG:django.db.backends:(0.000) SELECT (1) AS `a` FROM `loq_interval` WHERE `loq_interval`.`id` = 211  LIMIT 1; args=(211,)\n"
       ]
      },
      {
       "output_type": "stream",
       "stream": "stderr",
       "text": [
        "DEBUG:django.db.backends:(0.000) UPDATE `loq_interval` SET `chr` = 'chrX', `start` = 11441454, `stop` = 11441530, `mirName` = 'dme-mir-2492', `NeatName` = 'chrX:11441455-11441530', `IntervalSize` = 76, `IntervalSerialNumber` = 211, `Structure` = '(((((((((.((((.(((((.(((((((((................))))))))).))))).))))))))))))).', `Annotations` = '', `Tags` = '', `sum_read_counts` = 1, `sum_normReads` = 0.1861, `mapped_strand` = '+', `mid_point` = 11441491, `Link` = 'http://genome.ucsc.edu/cgi-bin/hgTracks?db=dm3&position=chrX:11441455-11441530', `hairpin_seq` = 'GAATTTTTTTGGGATCTCTTTATAAAGCGTTTATTATTTATTTATTATGTTTTGTCGAGAGCTTTCAAAAAATTCA', `mature_seq` = '', `five_p` = '9-30', `three_p` = '47-69' WHERE `loq_interval`.`id` = 211 ; args=(u'chrX', 11441454, 11441530, u'dme-mir-2492', u'chrX:11441455-11441530', 76, 211, u'(((((((((.((((.(((((.(((((((((................))))))))).))))).))))))))))))).', u'', u'', 1, 0.1861, u'+', 11441491, 'http://genome.ucsc.edu/cgi-bin/hgTracks?db=dm3&position=chrX:11441455-11441530', u'GAATTTTTTTGGGATCTCTTTATAAAGCGTTTATTATTTATTTATTATGTTTTGTCGAGAGCTTTCAAAAAATTCA', u'', u'9-30', u'47-69', 211)\n"
       ]
      },
      {
       "output_type": "stream",
       "stream": "stderr",
       "text": [
        "DEBUG:django.db.backends:(0.000) SELECT (1) AS `a` FROM `loq_interval` WHERE `loq_interval`.`id` = 212  LIMIT 1; args=(212,)\n"
       ]
      },
      {
       "output_type": "stream",
       "stream": "stderr",
       "text": [
        "DEBUG:django.db.backends:(0.000) UPDATE `loq_interval` SET `chr` = 'chrX', `start` = 12530368, `stop` = 12530463, `mirName` = 'dme-mir-970', `NeatName` = 'chrX:12530369-12530463', `IntervalSize` = 95, `IntervalSerialNumber` = 212, `Structure` = '...(((((.(.((((.((((.(((.((((((((..((((((...(((....)))...)))))))))))))).))))))).)))).).)))))...', `Annotations` = '', `Tags` = '', `sum_read_counts` = 3703, `sum_normReads` = 401.1387, `mapped_strand` = '+', `mid_point` = 12530416, `Link` = 'http://genome.ucsc.edu/cgi-bin/hgTracks?db=dm3&position=chrX:12530369-12530463', `hairpin_seq` = 'GAAAGGCATCTGTTGCAGCTAGCGGGTGTTTTATTTGGTAGCTGTAATGATTTGAATCTATCATAAGACACACGCGGCTATAACCGTTGTCTAAG', `mature_seq` = '', `five_p` = '17-40', `three_p` = '61-81' WHERE `loq_interval`.`id` = 212 ; args=(u'chrX', 12530368, 12530463, u'dme-mir-970', u'chrX:12530369-12530463', 95, 212, u'...(((((.(.((((.((((.(((.((((((((..((((((...(((....)))...)))))))))))))).))))))).)))).).)))))...', u'', u'', 3703, 401.1387, u'+', 12530416, 'http://genome.ucsc.edu/cgi-bin/hgTracks?db=dm3&position=chrX:12530369-12530463', u'GAAAGGCATCTGTTGCAGCTAGCGGGTGTTTTATTTGGTAGCTGTAATGATTTGAATCTATCATAAGACACACGCGGCTATAACCGTTGTCTAAG', u'', u'17-40', u'61-81', 212)\n"
       ]
      },
      {
       "output_type": "stream",
       "stream": "stderr",
       "text": [
        "DEBUG:django.db.backends:(0.000) SELECT (1) AS `a` FROM `loq_interval` WHERE `loq_interval`.`id` = 213  LIMIT 1; args=(213,)\n"
       ]
      },
      {
       "output_type": "stream",
       "stream": "stderr",
       "text": [
        "DEBUG:django.db.backends:(0.000) UPDATE `loq_interval` SET `chr` = 'chrX', `start` = 12956104, `stop` = 12956200, `mirName` = 'dme-mir-971', `NeatName` = 'chrX:12956105-12956200', `IntervalSize` = 96, `IntervalSerialNumber` = 213, `Structure` = '..((.((((((((.((((((((((((...((((.((((((.(((((((...)))).)))))))))))))...))))))))))))))))))))))..', `Annotations` = '', `Tags` = '', `sum_read_counts` = 22, `sum_normReads` = 1.8317, `mapped_strand` = '+', `mid_point` = 12956153, `Link` = 'http://genome.ucsc.edu/cgi-bin/hgTracks?db=dm3&position=chrX:12956105-12956200', `hairpin_seq` = 'TCCGTGGCTGGCATCGCTCGCTGTAAATTGTAATCATCAAAGCGTTTTCTCAGAGCCGCTTGGTGTTACTTCTTACAGTGAGTGTGCCAGTCCGTA', `mature_seq` = '', `five_p` = '20-43', `three_p` = '60-81' WHERE `loq_interval`.`id` = 213 ; args=(u'chrX', 12956104, 12956200, u'dme-mir-971', u'chrX:12956105-12956200', 96, 213, u'..((.((((((((.((((((((((((...((((.((((((.(((((((...)))).)))))))))))))...))))))))))))))))))))))..', u'', u'', 22, 1.8317, u'+', 12956153, 'http://genome.ucsc.edu/cgi-bin/hgTracks?db=dm3&position=chrX:12956105-12956200', u'TCCGTGGCTGGCATCGCTCGCTGTAAATTGTAATCATCAAAGCGTTTTCTCAGAGCCGCTTGGTGTTACTTCTTACAGTGAGTGTGCCAGTCCGTA', u'', u'20-43', u'60-81', 213)\n"
       ]
      },
      {
       "output_type": "stream",
       "stream": "stderr",
       "text": [
        "DEBUG:django.db.backends:(0.000) SELECT (1) AS `a` FROM `loq_interval` WHERE `loq_interval`.`id` = 214  LIMIT 1; args=(214,)\n"
       ]
      },
      {
       "output_type": "stream",
       "stream": "stderr",
       "text": [
        "DEBUG:django.db.backends:(0.000) UPDATE `loq_interval` SET `chr` = 'chrX', `start` = 14093577, `stop` = 14093654, `mirName` = 'dme-mir-4917', `NeatName` = 'chrX:14093578-14093654', `IntervalSize` = 77, `IntervalSerialNumber` = 214, `Structure` = '.(((((((((((((.(((.((..((((((.(........).)))...)))..)).))).)))))).)))))))....', `Annotations` = '', `Tags` = '', `sum_read_counts` = NULL, `sum_normReads` = NULL, `mapped_strand` = '+', `mid_point` = 14093611, `Link` = 'http://genome.ucsc.edu/cgi-bin/hgTracks?db=dm3&position=chrX:14093578-14093654', `hairpin_seq` = 'GTGAGTAGCGATGGGGGTCAGATGGCCGTGGAAGATATGTGACGATTGCCCCCTTACTACTATCGTCTGCTCAACAG', `mature_seq` = '', `five_p` = '', `three_p` = '' WHERE `loq_interval`.`id` = 214 ; args=(u'chrX', 14093577, 14093654, u'dme-mir-4917', u'chrX:14093578-14093654', 77, 214, u'.(((((((((((((.(((.((..((((((.(........).)))...)))..)).))).)))))).)))))))....', u'', u'', u'+', 14093611, 'http://genome.ucsc.edu/cgi-bin/hgTracks?db=dm3&position=chrX:14093578-14093654', u'GTGAGTAGCGATGGGGGTCAGATGGCCGTGGAAGATATGTGACGATTGCCCCCTTACTACTATCGTCTGCTCAACAG', u'', u'', u'', 214)\n"
       ]
      },
      {
       "output_type": "stream",
       "stream": "stderr",
       "text": [
        "DEBUG:django.db.backends:(0.000) SELECT (1) AS `a` FROM `loq_interval` WHERE `loq_interval`.`id` = 215  LIMIT 1; args=(215,)\n"
       ]
      },
      {
       "output_type": "stream",
       "stream": "stderr",
       "text": [
        "DEBUG:django.db.backends:(0.000) UPDATE `loq_interval` SET `chr` = 'chrX', `start` = 15213986, `stop` = 15214070, `mirName` = 'dme-mir-4957', `NeatName` = 'chrX:15213987-15214070', `IntervalSize` = 84, `IntervalSerialNumber` = 215, `Structure` = '..((((((.....(((.(.(((((((((((..((.((((...)))).))))))))))))).).))).......)))))).....', `Annotations` = '', `Tags` = '', `sum_read_counts` = 4, `sum_normReads` = 0.2821, `mapped_strand` = '-', `mid_point` = 15214026, `Link` = 'http://genome.ucsc.edu/cgi-bin/hgTracks?db=dm3&position=chrX:15213987-15214070', `hairpin_seq` = 'TCGTTGTATTTTACGCACTCTGCTGGCAGCGCTGTCGGCGTCGCTGCCAGCTGCCAGCAGCGAGCGGTACACTTGCAACTATCC', `mature_seq` = '', `five_p` = '12-33', `three_p` = '47-67' WHERE `loq_interval`.`id` = 215 ; args=(u'chrX', 15213986, 15214070, u'dme-mir-4957', u'chrX:15213987-15214070', 84, 215, u'..((((((.....(((.(.(((((((((((..((.((((...)))).))))))))))))).).))).......)))))).....', u'', u'', 4, 0.2821, u'-', 15214026, 'http://genome.ucsc.edu/cgi-bin/hgTracks?db=dm3&position=chrX:15213987-15214070', u'TCGTTGTATTTTACGCACTCTGCTGGCAGCGCTGTCGGCGTCGCTGCCAGCTGCCAGCAGCGAGCGGTACACTTGCAACTATCC', u'', u'12-33', u'47-67', 215)\n"
       ]
      },
      {
       "output_type": "stream",
       "stream": "stderr",
       "text": [
        "DEBUG:django.db.backends:(0.000) SELECT (1) AS `a` FROM `loq_interval` WHERE `loq_interval`.`id` = 216  LIMIT 1; args=(216,)\n"
       ]
      },
      {
       "output_type": "stream",
       "stream": "stderr",
       "text": [
        "DEBUG:django.db.backends:(0.000) UPDATE `loq_interval` SET `chr` = 'chrX', `start` = 15401988, `stop` = 15402088, `mirName` = 'dme-mir-283', `NeatName` = 'chrX:15401989-15402088', `IntervalSize` = 100, `IntervalSerialNumber` = 216, `Structure` = '.......(((((..((((((..(((((((((((.(((((((((......................))))))))))))))))))))..))))))..)))))', `Annotations` = 'loq', `Tags` = 'lit: reduced abundance in loqs mutants?', `sum_read_counts` = 26919, `sum_normReads` = 2697.3092, `mapped_strand` = '+', `mid_point` = 15402041, `Link` = 'http://genome.ucsc.edu/cgi-bin/hgTracks?db=dm3&position=chrX:15401989-15402088', `hairpin_seq` = 'CTCACACGATTCTCAAAGGTAAATATCAGCTGGTAATTCTGGGAGCTAAGCCTAAATATGAAACACTCGGAATTTCAGTTGGTATCGACTTTTTTGAATT', `mature_seq` = '', `five_p` = '21-42', `three_p` = '68-88' WHERE `loq_interval`.`id` = 216 ; args=(u'chrX', 15401988, 15402088, u'dme-mir-283', u'chrX:15401989-15402088', 100, 216, u'.......(((((..((((((..(((((((((((.(((((((((......................))))))))))))))))))))..))))))..)))))', u'loq', u'lit: reduced abundance in loqs mutants?', 26919, 2697.3092, u'+', 15402041, 'http://genome.ucsc.edu/cgi-bin/hgTracks?db=dm3&position=chrX:15401989-15402088', u'CTCACACGATTCTCAAAGGTAAATATCAGCTGGTAATTCTGGGAGCTAAGCCTAAATATGAAACACTCGGAATTTCAGTTGGTATCGACTTTTTTGAATT', u'', u'21-42', u'68-88', 216)\n"
       ]
      },
      {
       "output_type": "stream",
       "stream": "stderr",
       "text": [
        "DEBUG:django.db.backends:(0.000) SELECT (1) AS `a` FROM `loq_interval` WHERE `loq_interval`.`id` = 217  LIMIT 1; args=(217,)\n"
       ]
      },
      {
       "output_type": "stream",
       "stream": "stderr",
       "text": [
        "DEBUG:django.db.backends:(0.000) UPDATE `loq_interval` SET `chr` = 'chrX', `start` = 15402991, `stop` = 15403079, `mirName` = 'dme-mir-304', `NeatName` = 'chrX:15402992-15403079', `IntervalSize` = 88, `IntervalSerialNumber` = 217, `Structure` = '((((..((((.(((((((...(((((((.(((((.(..((((.....))))..).))))))))))))...))))))).))))..))))', `Annotations` = '', `Tags` = '', `sum_read_counts` = 27829, `sum_normReads` = 2500.7178, `mapped_strand` = '+', `mid_point` = 15403035, `Link` = 'http://genome.ucsc.edu/cgi-bin/hgTracks?db=dm3&position=chrX:15402992-15403079', `hairpin_seq` = 'GCAGCATTGAATAATCTCAATTTGTAAATGTGAGCGGTTTAAGCCATTTGACGCACTCACTTTGCAATTGGAGATTGCTCGAGACTGC', `mature_seq` = '', `five_p` = '12-34', `three_p` = '58-79' WHERE `loq_interval`.`id` = 217 ; args=(u'chrX', 15402991, 15403079, u'dme-mir-304', u'chrX:15402992-15403079', 88, 217, u'((((..((((.(((((((...(((((((.(((((.(..((((.....))))..).))))))))))))...))))))).))))..))))', u'', u'', 27829, 2500.7178, u'+', 15403035, 'http://genome.ucsc.edu/cgi-bin/hgTracks?db=dm3&position=chrX:15402992-15403079', u'GCAGCATTGAATAATCTCAATTTGTAAATGTGAGCGGTTTAAGCCATTTGACGCACTCACTTTGCAATTGGAGATTGCTCGAGACTGC', u'', u'12-34', u'58-79', 217)\n"
       ]
      },
      {
       "output_type": "stream",
       "stream": "stderr",
       "text": [
        "DEBUG:django.db.backends:(0.000) SELECT (1) AS `a` FROM `loq_interval` WHERE `loq_interval`.`id` = 218  LIMIT 1; args=(218,)\n"
       ]
      },
      {
       "output_type": "stream",
       "stream": "stderr",
       "text": [
        "DEBUG:django.db.backends:(0.000) UPDATE `loq_interval` SET `chr` = 'chrX', `start` = 15403505, `stop` = 15403579, `mirName` = 'dme-mir-12', `NeatName` = 'chrX:15403506-15403579', `IntervalSize` = 74, `IntervalSerialNumber` = 218, `Structure` = '((((((..(((((.((((.((((((((((((............)).)))))))))))))).)))))..))))))', `Annotations` = '', `Tags` = '', `sum_read_counts` = 18856, `sum_normReads` = 1839.7515, `mapped_strand` = '+', `mid_point` = 15403541, `Link` = 'http://genome.ucsc.edu/cgi-bin/hgTracks?db=dm3&position=chrX:15403506-15403579', `hairpin_seq` = 'TACGGTTGAGTATTACATCAGGTACTGGTGTGCCTTAAATCCAACAACCAGTACTTATGTCATACTACGCCGTG', `mature_seq` = '', `five_p` = '7-29', `three_p` = '49-70' WHERE `loq_interval`.`id` = 218 ; args=(u'chrX', 15403505, 15403579, u'dme-mir-12', u'chrX:15403506-15403579', 74, 218, u'((((((..(((((.((((.((((((((((((............)).)))))))))))))).)))))..))))))', u'', u'', 18856, 1839.7515, u'+', 15403541, 'http://genome.ucsc.edu/cgi-bin/hgTracks?db=dm3&position=chrX:15403506-15403579', u'TACGGTTGAGTATTACATCAGGTACTGGTGTGCCTTAAATCCAACAACCAGTACTTATGTCATACTACGCCGTG', u'', u'7-29', u'49-70', 218)\n"
       ]
      },
      {
       "output_type": "stream",
       "stream": "stderr",
       "text": [
        "DEBUG:django.db.backends:(0.000) SELECT (1) AS `a` FROM `loq_interval` WHERE `loq_interval`.`id` = 219  LIMIT 1; args=(219,)\n"
       ]
      },
      {
       "output_type": "stream",
       "stream": "stderr",
       "text": [
        "DEBUG:django.db.backends:(0.000) UPDATE `loq_interval` SET `chr` = 'chrX', `start` = 15859979, `stop` = 15860071, `mirName` = 'dme-mir-927', `NeatName` = 'chrX:15859980-15860071', `IntervalSize` = 92, `IntervalSerialNumber` = 219, `Structure` = '.(((((..((((.((((((((((((..(((((((.(((..............))).)))))))..)))))))))))).))))))))).....', `Annotations` = '', `Tags` = '', `sum_read_counts` = 1022, `sum_normReads` = 96.1002, `mapped_strand` = '-', `mid_point` = 15860023, `Link` = 'http://genome.ucsc.edu/cgi-bin/hgTracks?db=dm3&position=chrX:15859980-15860071', `hairpin_seq` = 'TGGTTGCTGTAGAGTTTTAGAATTCCTACGCTTTACCGTGGCATACGAAATTCGGCAAAGCGTTTGGATTCTGAAACCCTACCGATCCATTA', `mature_seq` = '', `five_p` = '16-37', `three_p` = '56-77' WHERE `loq_interval`.`id` = 219 ; args=(u'chrX', 15859979, 15860071, u'dme-mir-927', u'chrX:15859980-15860071', 92, 219, u'.(((((..((((.((((((((((((..(((((((.(((..............))).)))))))..)))))))))))).))))))))).....', u'', u'', 1022, 96.1002, u'-', 15860023, 'http://genome.ucsc.edu/cgi-bin/hgTracks?db=dm3&position=chrX:15859980-15860071', u'TGGTTGCTGTAGAGTTTTAGAATTCCTACGCTTTACCGTGGCATACGAAATTCGGCAAAGCGTTTGGATTCTGAAACCCTACCGATCCATTA', u'', u'16-37', u'56-77', 219)\n"
       ]
      },
      {
       "output_type": "stream",
       "stream": "stderr",
       "text": [
        "DEBUG:django.db.backends:(0.000) SELECT (1) AS `a` FROM `loq_interval` WHERE `loq_interval`.`id` = 220  LIMIT 1; args=(220,)\n"
       ]
      },
      {
       "output_type": "stream",
       "stream": "stderr",
       "text": [
        "DEBUG:django.db.backends:(0.000) UPDATE `loq_interval` SET `chr` = 'chrX', `start` = 15974955, `stop` = 15975089, `mirName` = 'dme-mir-4958', `NeatName` = 'chrX:15974956-15975089', `IntervalSize` = 134, `IntervalSerialNumber` = 220, `Structure` = '.(..((((.(..(((...(((((((((((((((((((((((.(((..(((((........((.(((...))).))........)))))..))).))))))))))))).)))))))))))))..).))))..)..', `Annotations` = '', `Tags` = '', `sum_read_counts` = 2, `sum_normReads` = 0.1358, `mapped_strand` = '-', `mid_point` = 15975022, `Link` = 'http://genome.ucsc.edu/cgi-bin/hgTracks?db=dm3&position=chrX:15974956-15975089', `hairpin_seq` = 'TCTCTGGCAGCTGCAGTTCCGTTTCCGGAGCGGGATCTGGAACGGGCTCTGGTTCTAGATCAGGATCCAATCATGCACCCGGTCCAGGTACCGCTCCAGGTCCCGTTCCCGGAAACGGTGCCACCGCCAATGCA', `mature_seq` = '', `five_p` = '32-53', `three_p` = '85-106' WHERE `loq_interval`.`id` = 220 ; args=(u'chrX', 15974955, 15975089, u'dme-mir-4958', u'chrX:15974956-15975089', 134, 220, u'.(..((((.(..(((...(((((((((((((((((((((((.(((..(((((........((.(((...))).))........)))))..))).))))))))))))).)))))))))))))..).))))..)..', u'', u'', 2, 0.1358, u'-', 15975022, 'http://genome.ucsc.edu/cgi-bin/hgTracks?db=dm3&position=chrX:15974956-15975089', u'TCTCTGGCAGCTGCAGTTCCGTTTCCGGAGCGGGATCTGGAACGGGCTCTGGTTCTAGATCAGGATCCAATCATGCACCCGGTCCAGGTACCGCTCCAGGTCCCGTTCCCGGAAACGGTGCCACCGCCAATGCA', u'', u'32-53', u'85-106', 220)\n"
       ]
      },
      {
       "output_type": "stream",
       "stream": "stderr",
       "text": [
        "DEBUG:django.db.backends:(0.000) SELECT (1) AS `a` FROM `loq_interval` WHERE `loq_interval`.`id` = 221  LIMIT 1; args=(221,)\n"
       ]
      },
      {
       "output_type": "stream",
       "stream": "stderr",
       "text": [
        "DEBUG:django.db.backends:(0.000) UPDATE `loq_interval` SET `chr` = 'chrX', `start` = 16085286, `stop` = 16085372, `mirName` = 'dme-mir-985', `NeatName` = 'chrX:16085287-16085372', `IntervalSize` = 86, `IntervalSerialNumber` = 221, `Structure` = '...((((((((.(((((.(.(((((((.((((((.(((((...))))).)))))).))))))).).))))).))))))))......', `Annotations` = '', `Tags` = '', `sum_read_counts` = NULL, `sum_normReads` = NULL, `mapped_strand` = '-', `mid_point` = 16085327, `Link` = 'http://genome.ucsc.edu/cgi-bin/hgTracks?db=dm3&position=chrX:16085287-16085372', `hairpin_seq` = 'TATATAATAGCACTGCTGGCTCATTGGTACATTTCATAAGTACCTTATCAAATGTTCCAATGGTCGGGCAGAGCTATTATTTGTCC', `mature_seq` = '', `five_p` = '16-37', `three_p` = '49-70' WHERE `loq_interval`.`id` = 221 ; args=(u'chrX', 16085286, 16085372, u'dme-mir-985', u'chrX:16085287-16085372', 86, 221, u'...((((((((.(((((.(.(((((((.((((((.(((((...))))).)))))).))))))).).))))).))))))))......', u'', u'', u'-', 16085327, 'http://genome.ucsc.edu/cgi-bin/hgTracks?db=dm3&position=chrX:16085287-16085372', u'TATATAATAGCACTGCTGGCTCATTGGTACATTTCATAAGTACCTTATCAAATGTTCCAATGGTCGGGCAGAGCTATTATTTGTCC', u'', u'16-37', u'49-70', 221)\n"
       ]
      },
      {
       "output_type": "stream",
       "stream": "stderr",
       "text": [
        "DEBUG:django.db.backends:(0.000) SELECT (1) AS `a` FROM `loq_interval` WHERE `loq_interval`.`id` = 222  LIMIT 1; args=(222,)\n"
       ]
      },
      {
       "output_type": "stream",
       "stream": "stderr",
       "text": [
        "DEBUG:django.db.backends:(0.000) UPDATE `loq_interval` SET `chr` = 'chrX', `start` = 16500140, `stop` = 16500227, `mirName` = 'dme-mir-4965', `NeatName` = 'chrX:16500141-16500227', `IntervalSize` = 87, `IntervalSerialNumber` = 222, `Structure` = '.....(((((....((((.((((((.(..((.(((((((((.......))).)))))).))..).)))).)).))))....))))).', `Annotations` = '', `Tags` = '', `sum_read_counts` = NULL, `sum_normReads` = NULL, `mapped_strand` = '+', `mid_point` = 16500184, `Link` = 'http://genome.ucsc.edu/cgi-bin/hgTracks?db=dm3&position=chrX:16500141-16500227', `hairpin_seq` = 'CACAAGGTGATCGATGGGAGATGAGCGCCTGATGTGATGATGAAGTAGATCGATCACACCACACACTCACTCACCCAGGTTTCATCC', `mature_seq` = '', `five_p` = '18-38', `three_p` = '54-75' WHERE `loq_interval`.`id` = 222 ; args=(u'chrX', 16500140, 16500227, u'dme-mir-4965', u'chrX:16500141-16500227', 87, 222, u'.....(((((....((((.((((((.(..((.(((((((((.......))).)))))).))..).)))).)).))))....))))).', u'', u'', u'+', 16500184, 'http://genome.ucsc.edu/cgi-bin/hgTracks?db=dm3&position=chrX:16500141-16500227', u'CACAAGGTGATCGATGGGAGATGAGCGCCTGATGTGATGATGAAGTAGATCGATCACACCACACACTCACTCACCCAGGTTTCATCC', u'', u'18-38', u'54-75', 222)\n"
       ]
      },
      {
       "output_type": "stream",
       "stream": "stderr",
       "text": [
        "DEBUG:django.db.backends:(0.000) SELECT (1) AS `a` FROM `loq_interval` WHERE `loq_interval`.`id` = 223  LIMIT 1; args=(223,)\n"
       ]
      },
      {
       "output_type": "stream",
       "stream": "stderr",
       "text": [
        "DEBUG:django.db.backends:(0.000) UPDATE `loq_interval` SET `chr` = 'chrX', `start` = 18018389, `stop` = 18018483, `mirName` = 'dme-mir-969', `NeatName` = 'chrX:18018390-18018483', `IntervalSize` = 94, `IntervalSerialNumber` = 223, `Structure` = '(((((..((((((((..(((((((.((....((((((((..................))))))))....)).)))))))..)))))))))))))', `Annotations` = '', `Tags` = '', `sum_read_counts` = 7, `sum_normReads` = 0.7246, `mapped_strand` = '+', `mid_point` = 18018436, `Link` = 'http://genome.ucsc.edu/cgi-bin/hgTracks?db=dm3&position=chrX:18018390-18018483', `hairpin_seq` = 'AGTCTCTGTCCTACGTCCGAGTTCCACTAAGCAAGTTTTGAGATCGTTTTAAAAACAAAAACTTGACACGTTGAGCTCGTTCGTGGGATGGACT', `mature_seq` = '', `five_p` = '19-39', `three_p` = '60-80' WHERE `loq_interval`.`id` = 223 ; args=(u'chrX', 18018389, 18018483, u'dme-mir-969', u'chrX:18018390-18018483', 94, 223, u'(((((..((((((((..(((((((.((....((((((((..................))))))))....)).)))))))..)))))))))))))', u'', u'', 7, 0.7246, u'+', 18018436, 'http://genome.ucsc.edu/cgi-bin/hgTracks?db=dm3&position=chrX:18018390-18018483', u'AGTCTCTGTCCTACGTCCGAGTTCCACTAAGCAAGTTTTGAGATCGTTTTAAAAACAAAAACTTGACACGTTGAGCTCGTTCGTGGGATGGACT', u'', u'19-39', u'60-80', 223)\n"
       ]
      },
      {
       "output_type": "stream",
       "stream": "stderr",
       "text": [
        "DEBUG:django.db.backends:(0.000) SELECT (1) AS `a` FROM `loq_interval` WHERE `loq_interval`.`id` = 224  LIMIT 1; args=(224,)\n"
       ]
      },
      {
       "output_type": "stream",
       "stream": "stderr",
       "text": [
        "DEBUG:django.db.backends:(0.000) UPDATE `loq_interval` SET `chr` = 'chrX', `start` = 18022251, `stop` = 18022351, `mirName` = 'dme-mir-210', `NeatName` = 'chrX:18022252-18022351', `IntervalSize` = 100, `IntervalSerialNumber` = 224, `Structure` = '...(((.(((((...((((((((..((((((((((((((........)).))))))))).))).))))))))...)))))..)))......((....)).', `Annotations` = '', `Tags` = '', `sum_read_counts` = 82, `sum_normReads` = 7.5001, `mapped_strand` = '+', `mid_point` = 18022293, `Link` = 'http://genome.ucsc.edu/cgi-bin/hgTracks?db=dm3&position=chrX:18022252-18022351', `hairpin_seq` = 'AAAGGTGCTTATTGCAGCTGCTGGCCACTGCACAAGATTAGACTTAAGACTCTTGTGCGTGTGACAGCGGCTATTGTAAGAGGCCATAGAAGCAACAGCC', `mature_seq` = '', `five_p` = '16-38', `three_p` = '52-74' WHERE `loq_interval`.`id` = 224 ; args=(u'chrX', 18022251, 18022351, u'dme-mir-210', u'chrX:18022252-18022351', 100, 224, u'...(((.(((((...((((((((..((((((((((((((........)).))))))))).))).))))))))...)))))..)))......((....)).', u'', u'', 82, 7.5001, u'+', 18022293, 'http://genome.ucsc.edu/cgi-bin/hgTracks?db=dm3&position=chrX:18022252-18022351', u'AAAGGTGCTTATTGCAGCTGCTGGCCACTGCACAAGATTAGACTTAAGACTCTTGTGCGTGTGACAGCGGCTATTGTAAGAGGCCATAGAAGCAACAGCC', u'', u'16-38', u'52-74', 224)\n"
       ]
      },
      {
       "output_type": "stream",
       "stream": "stderr",
       "text": [
        "DEBUG:django.db.backends:(0.000) SELECT (1) AS `a` FROM `loq_interval` WHERE `loq_interval`.`id` = 225  LIMIT 1; args=(225,)\n"
       ]
      },
      {
       "output_type": "stream",
       "stream": "stderr",
       "text": [
        "DEBUG:django.db.backends:(0.000) UPDATE `loq_interval` SET `chr` = 'chrX', `start` = 19063163, `stop` = 19063281, `mirName` = 'dme-mir-4959', `NeatName` = 'chrX:19063164-19063281', `IntervalSize` = 118, `IntervalSerialNumber` = 225, `Structure` = '.((..(((....(((((((((((((..(((.(((((..((((((.(((((((.(....).))))........))).))))))..))))).)))..))))))).)))).)))))..)).', `Annotations` = '', `Tags` = '', `sum_read_counts` = 27, `sum_normReads` = 2.5547, `mapped_strand` = '-', `mid_point` = 19063218, `Link` = 'http://genome.ucsc.edu/cgi-bin/hgTracks?db=dm3&position=chrX:19063164-19063281', `hairpin_seq` = 'TGTCCGGTTTGAACCTTCTGTGCCGGCTGGCCATGATTTGCAGCAGGTATCTCCGAGAGCAGATGATACGCAGCCAGTTGCGTTTCATGACCAAACGGCATGTGAAGCGTGCCCTGCG', `mature_seq` = '', `five_p` = '', `three_p` = '' WHERE `loq_interval`.`id` = 225 ; args=(u'chrX', 19063163, 19063281, u'dme-mir-4959', u'chrX:19063164-19063281', 118, 225, u'.((..(((....(((((((((((((..(((.(((((..((((((.(((((((.(....).))))........))).))))))..))))).)))..))))))).)))).)))))..)).', u'', u'', 27, 2.5547, u'-', 19063218, 'http://genome.ucsc.edu/cgi-bin/hgTracks?db=dm3&position=chrX:19063164-19063281', u'TGTCCGGTTTGAACCTTCTGTGCCGGCTGGCCATGATTTGCAGCAGGTATCTCCGAGAGCAGATGATACGCAGCCAGTTGCGTTTCATGACCAAACGGCATGTGAAGCGTGCCCTGCG', u'', u'', u'', 225)\n"
       ]
      },
      {
       "output_type": "stream",
       "stream": "stderr",
       "text": [
        "DEBUG:django.db.backends:(0.000) SELECT (1) AS `a` FROM `loq_interval` WHERE `loq_interval`.`id` = 226  LIMIT 1; args=(226,)\n"
       ]
      },
      {
       "output_type": "stream",
       "stream": "stderr",
       "text": [
        "DEBUG:django.db.backends:(0.000) UPDATE `loq_interval` SET `chr` = 'chrX', `start` = 19445184, `stop` = 19445275, `mirName` = 'dme-mir-972', `NeatName` = 'chrX:19445185-19445275', `IntervalSize` = 91, `IntervalSerialNumber` = 226, `Structure` = '....((((.(((((((..((((((((((...(((((((((............)))))))))...))))))))))..)))))))..))))..', `Annotations` = '', `Tags` = '', `sum_read_counts` = 2, `sum_normReads` = 0.1512, `mapped_strand` = '+', `mid_point` = 19445229, `Link` = 'http://genome.ucsc.edu/cgi-bin/hgTracks?db=dm3&position=chrX:19445185-19445275', `hairpin_seq` = 'AGAATGATAGGGAAATTGCTAAATATTTTTTTTGTATAAATAACTTTTAACTTTTGTACAATACGAATATTTAGGCATTTCTCAAATCAAA', `mature_seq` = '', `five_p` = '20-40', `three_p` = '55-76' WHERE `loq_interval`.`id` = 226 ; args=(u'chrX', 19445184, 19445275, u'dme-mir-972', u'chrX:19445185-19445275', 91, 226, u'....((((.(((((((..((((((((((...(((((((((............)))))))))...))))))))))..)))))))..))))..', u'', u'', 2, 0.1512, u'+', 19445229, 'http://genome.ucsc.edu/cgi-bin/hgTracks?db=dm3&position=chrX:19445185-19445275', u'AGAATGATAGGGAAATTGCTAAATATTTTTTTTGTATAAATAACTTTTAACTTTTGTACAATACGAATATTTAGGCATTTCTCAAATCAAA', u'', u'20-40', u'55-76', 226)\n"
       ]
      },
      {
       "output_type": "stream",
       "stream": "stderr",
       "text": [
        "DEBUG:django.db.backends:(0.000) SELECT (1) AS `a` FROM `loq_interval` WHERE `loq_interval`.`id` = 227  LIMIT 1; args=(227,)\n"
       ]
      },
      {
       "output_type": "stream",
       "stream": "stderr",
       "text": [
        "DEBUG:django.db.backends:(0.000) UPDATE `loq_interval` SET `chr` = 'chrX', `start` = 19445560, `stop` = 19445661, `mirName` = 'dme-mir-973', `NeatName` = 'chrX:19445561-19445661', `IntervalSize` = 101, `IntervalSerialNumber` = 227, `Structure` = '.....(((.(((((((.(((.((((.((.(((((...(((((((...............))))))).))))).)).))))))).))))))).)))......', `Annotations` = '', `Tags` = '', `sum_read_counts` = 4, `sum_normReads` = 0.3821, `mapped_strand` = '+', `mid_point` = 19445611, `Link` = 'http://genome.ucsc.edu/cgi-bin/hgTracks?db=dm3&position=chrX:19445561-19445661', `hairpin_seq` = 'ACCGTCGTCGACTTTTCGTGGTTGGTGGTTGAACTTCGATTTTAAGTATTTAAATAAAATGAAATCTGTTCATTCTCCGACACAAGAAGTTCACGCAAAGG', `mature_seq` = '', `five_p` = '19-43', `three_p` = '65-86' WHERE `loq_interval`.`id` = 227 ; args=(u'chrX', 19445560, 19445661, u'dme-mir-973', u'chrX:19445561-19445661', 101, 227, u'.....(((.(((((((.(((.((((.((.(((((...(((((((...............))))))).))))).)).))))))).))))))).)))......', u'', u'', 4, 0.3821, u'+', 19445611, 'http://genome.ucsc.edu/cgi-bin/hgTracks?db=dm3&position=chrX:19445561-19445661', u'ACCGTCGTCGACTTTTCGTGGTTGGTGGTTGAACTTCGATTTTAAGTATTTAAATAAAATGAAATCTGTTCATTCTCCGACACAAGAAGTTCACGCAAAGG', u'', u'19-43', u'65-86', 227)\n"
       ]
      },
      {
       "output_type": "stream",
       "stream": "stderr",
       "text": [
        "DEBUG:django.db.backends:(0.000) SELECT (1) AS `a` FROM `loq_interval` WHERE `loq_interval`.`id` = 228  LIMIT 1; args=(228,)\n"
       ]
      },
      {
       "output_type": "stream",
       "stream": "stderr",
       "text": [
        "DEBUG:django.db.backends:(0.000) UPDATE `loq_interval` SET `chr` = 'chrX', `start` = 19445710, `stop` = 19445811, `mirName` = 'dme-mir-974', `NeatName` = 'chrX:19445711-19445811', `IntervalSize` = 101, `IntervalSerialNumber` = 228, `Structure` = '...........((.((.((((.(..(((...(((.(((((.((((((((..........)))))))).))))).)))...)))..).)))).)).))....', `Annotations` = '', `Tags` = '', `sum_read_counts` = 5, `sum_normReads` = 0.5176, `mapped_strand` = '+', `mid_point` = 19445763, `Link` = 'http://genome.ucsc.edu/cgi-bin/hgTracks?db=dm3&position=chrX:19445711-19445811', `hairpin_seq` = 'CAATTGTCACCGGTCATGTCCTCCAAGCGAGCAAAGAAGTAGTATTTGTGTTTCCAAGAGCAAATATAACTTCATTGGAAGCTAAGTGGATTTGCCCAAAT', `mature_seq` = '', `five_p` = '25-46', `three_p` = '65-86' WHERE `loq_interval`.`id` = 228 ; args=(u'chrX', 19445710, 19445811, u'dme-mir-974', u'chrX:19445711-19445811', 101, 228, u'...........((.((.((((.(..(((...(((.(((((.((((((((..........)))))))).))))).)))...)))..).)))).)).))....', u'', u'', 5, 0.5176, u'+', 19445763, 'http://genome.ucsc.edu/cgi-bin/hgTracks?db=dm3&position=chrX:19445711-19445811', u'CAATTGTCACCGGTCATGTCCTCCAAGCGAGCAAAGAAGTAGTATTTGTGTTTCCAAGAGCAAATATAACTTCATTGGAAGCTAAGTGGATTTGCCCAAAT', u'', u'25-46', u'65-86', 228)\n"
       ]
      },
      {
       "output_type": "stream",
       "stream": "stderr",
       "text": [
        "DEBUG:django.db.backends:(0.000) SELECT (1) AS `a` FROM `loq_interval` WHERE `loq_interval`.`id` = 229  LIMIT 1; args=(229,)\n"
       ]
      },
      {
       "output_type": "stream",
       "stream": "stderr",
       "text": [
        "DEBUG:django.db.backends:(0.000) UPDATE `loq_interval` SET `chr` = 'chrX', `start` = 19451040, `stop` = 19451136, `mirName` = 'dme-mir-2499', `NeatName` = 'chrX:19451041-19451136', `IntervalSize` = 96, `IntervalSerialNumber` = 229, `Structure` = '.......((((.((((((.((((.((((.((.((((.((((.((((..........))))))))..)))).)).)))).)))).)))))).)))).', `Annotations` = '', `Tags` = '', `sum_read_counts` = 14, `sum_normReads` = 1.1653, `mapped_strand` = '+', `mid_point` = 19451090, `Link` = 'http://genome.ucsc.edu/cgi-bin/hgTracks?db=dm3&position=chrX:19451041-19451136', `hairpin_seq` = 'TCCTTGCTGTGGGTGTGGTTGCGTGCGTAGACGTCAGCGCAATGCCTTTGTTTGGCGGCATGCGGATGACATTCACGTCCGTATCCGCACACACAT', `mature_seq` = '', `five_p` = '22-45', `three_p` = '60-83' WHERE `loq_interval`.`id` = 229 ; args=(u'chrX', 19451040, 19451136, u'dme-mir-2499', u'chrX:19451041-19451136', 96, 229, u'.......((((.((((((.((((.((((.((.((((.((((.((((..........))))))))..)))).)).)))).)))).)))))).)))).', u'', u'', 14, 1.1653, u'+', 19451090, 'http://genome.ucsc.edu/cgi-bin/hgTracks?db=dm3&position=chrX:19451041-19451136', u'TCCTTGCTGTGGGTGTGGTTGCGTGCGTAGACGTCAGCGCAATGCCTTTGTTTGGCGGCATGCGGATGACATTCACGTCCGTATCCGCACACACAT', u'', u'22-45', u'60-83', 229)\n"
       ]
      },
      {
       "output_type": "stream",
       "stream": "stderr",
       "text": [
        "DEBUG:django.db.backends:(0.000) SELECT (1) AS `a` FROM `loq_interval` WHERE `loq_interval`.`id` = 230  LIMIT 1; args=(230,)\n"
       ]
      },
      {
       "output_type": "stream",
       "stream": "stderr",
       "text": [
        "DEBUG:django.db.backends:(0.000) UPDATE `loq_interval` SET `chr` = 'chrX', `start` = 19452402, `stop` = 19452529, `mirName` = 'dme-mir-4966', `NeatName` = 'chrX:19452403-19452529', `IntervalSize` = 127, `IntervalSerialNumber` = 230, `Structure` = '....(((....)))......((((.(((.((((.((((((((.(((.((((((....)))))).))).)))))))).)))).))).)))).....................................', `Annotations` = '', `Tags` = '', `sum_read_counts` = 104, `sum_normReads` = 5.271, `mapped_strand` = '+', `mid_point` = 19452456, `Link` = 'http://genome.ucsc.edu/cgi-bin/hgTracks?db=dm3&position=chrX:19452403-19452529', `hairpin_seq` = 'GCTGTGTGACAACAAACTTGTCGGCACTGGAGTACTAAATATATTGCACATGTTCATGCATGTTCAACATATTTAGCACTCAAGTACCGAAAAATGAACAACGAAACGAAAAATAACACGAACATCA', `mature_seq` = '', `five_p` = '33-54', `three_p` = '61-82' WHERE `loq_interval`.`id` = 230 ; args=(u'chrX', 19452402, 19452529, u'dme-mir-4966', u'chrX:19452403-19452529', 127, 230, u'....(((....)))......((((.(((.((((.((((((((.(((.((((((....)))))).))).)))))))).)))).))).)))).....................................', u'', u'', 104, 5.271, u'+', 19452456, 'http://genome.ucsc.edu/cgi-bin/hgTracks?db=dm3&position=chrX:19452403-19452529', u'GCTGTGTGACAACAAACTTGTCGGCACTGGAGTACTAAATATATTGCACATGTTCATGCATGTTCAACATATTTAGCACTCAAGTACCGAAAAATGAACAACGAAACGAAAAATAACACGAACATCA', u'', u'33-54', u'61-82', 230)\n"
       ]
      },
      {
       "output_type": "stream",
       "stream": "stderr",
       "text": [
        "DEBUG:django.db.backends:(0.006) SELECT (1) AS `a` FROM `loq_interval` WHERE `loq_interval`.`id` = 231  LIMIT 1; args=(231,)\n"
       ]
      },
      {
       "output_type": "stream",
       "stream": "stderr",
       "text": [
        "DEBUG:django.db.backends:(0.000) UPDATE `loq_interval` SET `chr` = 'chrX', `start` = 19452785, `stop` = 19452876, `mirName` = 'dme-mir-975', `NeatName` = 'chrX:19452786-19452876', `IntervalSize` = 91, `IntervalSerialNumber` = 231, `Structure` = '..((((((((((...((((((((.((((((((.(((((((((...))))...)))))))))))))))).)))))...))))))))))....', `Annotations` = '', `Tags` = '', `sum_read_counts` = 15, `sum_normReads` = 1.2259, `mapped_strand` = '+', `mid_point` = 19452828, `Link` = 'http://genome.ucsc.edu/cgi-bin/hgTracks?db=dm3&position=chrX:19452786-19452876', `hairpin_seq` = 'TTGAATTTTTGATTTTAAACACTTCCTACATCCTGTATGTGTTTTGCATCCGGTACAGATGTGGGAGTCGTTTGCACTCAGAGATTTCACA', `mature_seq` = '', `five_p` = '16-38', `three_p` = '55-76' WHERE `loq_interval`.`id` = 231 ; args=(u'chrX', 19452785, 19452876, u'dme-mir-975', u'chrX:19452786-19452876', 91, 231, u'..((((((((((...((((((((.((((((((.(((((((((...))))...)))))))))))))))).)))))...))))))))))....', u'', u'', 15, 1.2259, u'+', 19452828, 'http://genome.ucsc.edu/cgi-bin/hgTracks?db=dm3&position=chrX:19452786-19452876', u'TTGAATTTTTGATTTTAAACACTTCCTACATCCTGTATGTGTTTTGCATCCGGTACAGATGTGGGAGTCGTTTGCACTCAGAGATTTCACA', u'', u'16-38', u'55-76', 231)\n"
       ]
      },
      {
       "output_type": "stream",
       "stream": "stderr",
       "text": [
        "DEBUG:django.db.backends:(0.000) SELECT (1) AS `a` FROM `loq_interval` WHERE `loq_interval`.`id` = 232  LIMIT 1; args=(232,)\n"
       ]
      },
      {
       "output_type": "stream",
       "stream": "stderr",
       "text": [
        "DEBUG:django.db.backends:(0.000) UPDATE `loq_interval` SET `chr` = 'chrX', `start` = 19452927, `stop` = 19453024, `mirName` = 'dme-mir-976', `NeatName` = 'chrX:19452928-19453024', `IntervalSize` = 97, `IntervalSerialNumber` = 232, `Structure` = '........((((((((..((((((((((((.......(((((((.............))))))).......))))))))))))..))))))))....', `Annotations` = '', `Tags` = '', `sum_read_counts` = 357, `sum_normReads` = 34.597, `mapped_strand` = '+', `mid_point` = 19452977, `Link` = 'http://genome.ucsc.edu/cgi-bin/hgTracks?db=dm3&position=chrX:19452928-19453024', `hairpin_seq` = 'CATCGCCATGCAGTGCCGCGGCATTGGTGAGGCCATCTCCAATGGATTAGTTCTCAACATTGGATTAGTTATCATCAATGCCGGTGCACTGCACCTA', `mature_seq` = '', `five_p` = '23-44', `three_p` = '60-81' WHERE `loq_interval`.`id` = 232 ; args=(u'chrX', 19452927, 19453024, u'dme-mir-976', u'chrX:19452928-19453024', 97, 232, u'........((((((((..((((((((((((.......(((((((.............))))))).......))))))))))))..))))))))....', u'', u'', 357, 34.597, u'+', 19452977, 'http://genome.ucsc.edu/cgi-bin/hgTracks?db=dm3&position=chrX:19452928-19453024', u'CATCGCCATGCAGTGCCGCGGCATTGGTGAGGCCATCTCCAATGGATTAGTTCTCAACATTGGATTAGTTATCATCAATGCCGGTGCACTGCACCTA', u'', u'23-44', u'60-81', 232)\n"
       ]
      },
      {
       "output_type": "stream",
       "stream": "stderr",
       "text": [
        "DEBUG:django.db.backends:(0.000) SELECT (1) AS `a` FROM `loq_interval` WHERE `loq_interval`.`id` = 233  LIMIT 1; args=(233,)\n"
       ]
      },
      {
       "output_type": "stream",
       "stream": "stderr",
       "text": [
        "DEBUG:django.db.backends:(0.000) UPDATE `loq_interval` SET `chr` = 'chrX', `start` = 19453054, `stop` = 19453153, `mirName` = 'dme-mir-977', `NeatName` = 'chrX:19453055-19453153', `IntervalSize` = 99, `IntervalSerialNumber` = 233, `Structure` = '...........((((((((((.((((((((((..(((((((.((((.................)))).)))))))..)))))))))).)))))))))).', `Annotations` = '', `Tags` = '', `sum_read_counts` = 229, `sum_normReads` = 23.5843, `mapped_strand` = '+', `mid_point` = 19453108, `Link` = 'http://genome.ucsc.edu/cgi-bin/hgTracks?db=dm3&position=chrX:19453055-19453153', `hairpin_seq` = 'CGAATCAACAAACAAGGTATGCTTTAGATAACTCGAATATCACATCTTCAGTGTTCGAAATCTGATGAGATATTCACGTTGTCTAAATCATGTTTTGTA', `mature_seq` = '', `five_p` = '25-46', `three_p` = '66-86' WHERE `loq_interval`.`id` = 233 ; args=(u'chrX', 19453054, 19453153, u'dme-mir-977', u'chrX:19453055-19453153', 99, 233, u'...........((((((((((.((((((((((..(((((((.((((.................)))).)))))))..)))))))))).)))))))))).', u'', u'', 229, 23.5843, u'+', 19453108, 'http://genome.ucsc.edu/cgi-bin/hgTracks?db=dm3&position=chrX:19453055-19453153', u'CGAATCAACAAACAAGGTATGCTTTAGATAACTCGAATATCACATCTTCAGTGTTCGAAATCTGATGAGATATTCACGTTGTCTAAATCATGTTTTGTA', u'', u'25-46', u'66-86', 233)\n"
       ]
      },
      {
       "output_type": "stream",
       "stream": "stderr",
       "text": [
        "DEBUG:django.db.backends:(0.000) SELECT (1) AS `a` FROM `loq_interval` WHERE `loq_interval`.`id` = 234  LIMIT 1; args=(234,)\n"
       ]
      },
      {
       "output_type": "stream",
       "stream": "stderr",
       "text": [
        "DEBUG:django.db.backends:(0.000) UPDATE `loq_interval` SET `chr` = 'chrX', `start` = 19455268, `stop` = 19455360, `mirName` = 'dme-mir-978', `NeatName` = 'chrX:19455269-19455360', `IntervalSize` = 92, `IntervalSerialNumber` = 234, `Structure` = '....(((((((((.(((((((.((((.((((((..((((..............)))).)))))).)))).)))))))))))))...)))...', `Annotations` = '', `Tags` = '', `sum_read_counts` = 265, `sum_normReads` = 24.1595, `mapped_strand` = '+', `mid_point` = 19455313, `Link` = 'http://genome.ucsc.edu/cgi-bin/hgTracks?db=dm3&position=chrX:19455269-19455360', `hairpin_seq` = 'GTTGGCGGCACAATCTGCAATCTACGCCACTGGCTTACGTTGCAATCGAAAATCGTGTCCAGTGCCGTAAATTGCAGTTGTGTGAACGCAAA', `mature_seq` = '', `five_p` = '16-39', `three_p` = '56-77' WHERE `loq_interval`.`id` = 234 ; args=(u'chrX', 19455268, 19455360, u'dme-mir-978', u'chrX:19455269-19455360', 92, 234, u'....(((((((((.(((((((.((((.((((((..((((..............)))).)))))).)))).)))))))))))))...)))...', u'', u'', 265, 24.1595, u'+', 19455313, 'http://genome.ucsc.edu/cgi-bin/hgTracks?db=dm3&position=chrX:19455269-19455360', u'GTTGGCGGCACAATCTGCAATCTACGCCACTGGCTTACGTTGCAATCGAAAATCGTGTCCAGTGCCGTAAATTGCAGTTGTGTGAACGCAAA', u'', u'16-39', u'56-77', 234)\n"
       ]
      },
      {
       "output_type": "stream",
       "stream": "stderr",
       "text": [
        "DEBUG:django.db.backends:(0.000) SELECT (1) AS `a` FROM `loq_interval` WHERE `loq_interval`.`id` = 235  LIMIT 1; args=(235,)\n"
       ]
      },
      {
       "output_type": "stream",
       "stream": "stderr",
       "text": [
        "DEBUG:django.db.backends:(0.000) UPDATE `loq_interval` SET `chr` = 'chrX', `start` = 19455869, `stop` = 19455964, `mirName` = 'dme-mir-979', `NeatName` = 'chrX:19455870-19455964', `IntervalSize` = 95, `IntervalSerialNumber` = 235, `Structure` = '.........((((((((((((....((((.(((((((((((((..(((....)))..))))))))))))).))))......))))))))))))..', `Annotations` = '', `Tags` = '', `sum_read_counts` = 28, `sum_normReads` = 2.4362, `mapped_strand` = '+', `mid_point` = 19455918, `Link` = 'http://genome.ucsc.edu/cgi-bin/hgTracks?db=dm3&position=chrX:19455870-19455964', `hairpin_seq` = 'TACATGTGAGGATGTCACAAATACACTGAATTTGGGGGGAATTCTTATGTATATACAAATTCTTCCCGAACTCAGGCTAATTTTGTGGCATCCGT', `mature_seq` = '', `five_p` = '23-45', `three_p` = '60-80' WHERE `loq_interval`.`id` = 235 ; args=(u'chrX', 19455869, 19455964, u'dme-mir-979', u'chrX:19455870-19455964', 95, 235, u'.........((((((((((((....((((.(((((((((((((..(((....)))..))))))))))))).))))......))))))))))))..', u'', u'', 28, 2.4362, u'+', 19455918, 'http://genome.ucsc.edu/cgi-bin/hgTracks?db=dm3&position=chrX:19455870-19455964', u'TACATGTGAGGATGTCACAAATACACTGAATTTGGGGGGAATTCTTATGTATATACAAATTCTTCCCGAACTCAGGCTAATTTTGTGGCATCCGT', u'', u'23-45', u'60-80', 235)\n"
       ]
      },
      {
       "output_type": "stream",
       "stream": "stderr",
       "text": [
        "DEBUG:django.db.backends:(0.000) SELECT (1) AS `a` FROM `loq_interval` WHERE `loq_interval`.`id` = 236  LIMIT 1; args=(236,)\n"
       ]
      },
      {
       "output_type": "stream",
       "stream": "stderr",
       "text": [
        "DEBUG:django.db.backends:(0.000) UPDATE `loq_interval` SET `chr` = 'chrX', `start` = 21167411, `stop` = 21167476, `mirName` = 'dme-mir-1007', `NeatName` = 'chrX:21167412-21167476', `IntervalSize` = 65, `IntervalSerialNumber` = 236, `Structure` = '(((((((((..((((.((..(((..((((....))).)..))).)).))))...)))))))))..', `Annotations` = '', `Tags` = '', `sum_read_counts` = 117, `sum_normReads` = 11.7394, `mapped_strand` = '-', `mid_point` = 21167441, `Link` = 'http://genome.ucsc.edu/cgi-bin/hgTracks?db=dm3&position=chrX:21167412-21167476', `hairpin_seq` = 'GTAAGCAGTGTTTGAACTCGATCTTGGTTCTTGGACTCTTGATAAGCTCAATTAACTGTTTGCAG', `mature_seq` = '', `five_p` = '5-27', `three_p` = '43-64' WHERE `loq_interval`.`id` = 236 ; args=(u'chrX', 21167411, 21167476, u'dme-mir-1007', u'chrX:21167412-21167476', 65, 236, u'(((((((((..((((.((..(((..((((....))).)..))).)).))))...)))))))))..', u'', u'', 117, 11.7394, u'-', 21167441, 'http://genome.ucsc.edu/cgi-bin/hgTracks?db=dm3&position=chrX:21167412-21167476', u'GTAAGCAGTGTTTGAACTCGATCTTGGTTCTTGGACTCTTGATAAGCTCAATTAACTGTTTGCAG', u'', u'5-27', u'43-64', 236)\n"
       ]
      },
      {
       "output_type": "stream",
       "stream": "stderr",
       "text": [
        "DEBUG:django.db.backends:(0.000) SELECT (1) AS `a` FROM `loq_interval` WHERE `loq_interval`.`id` = 237  LIMIT 1; args=(237,)\n"
       ]
      },
      {
       "output_type": "stream",
       "stream": "stderr",
       "text": [
        "DEBUG:django.db.backends:(0.000) UPDATE `loq_interval` SET `chr` = 'chrX', `start` = 21169301, `stop` = 21169372, `mirName` = 'dme-mir-2535b', `NeatName` = 'chrX:21169302-21169372', `IntervalSize` = 71, `IntervalSerialNumber` = 237, `Structure` = '((((((((..((((((.((..((((..................)))))).)))))).....))))))))..', `Annotations` = '', `Tags` = '', `sum_read_counts` = 233, `sum_normReads` = 24.0816, `mapped_strand` = '-', `mid_point` = 21169334, `Link` = 'http://genome.ucsc.edu/cgi-bin/hgTracks?db=dm3&position=chrX:21169302-21169372', `hairpin_seq` = 'GTAAGTGACTATGCCGGGATTGTGGTTATTGAACTTAGCGTCTCCACTCACGGCATTTCATTCACTTGCAG', `mature_seq` = '', `five_p` = '', `three_p` = '' WHERE `loq_interval`.`id` = 237 ; args=(u'chrX', 21169301, 21169372, u'dme-mir-2535b', u'chrX:21169302-21169372', 71, 237, u'((((((((..((((((.((..((((..................)))))).)))))).....))))))))..', u'', u'', 233, 24.0816, u'-', 21169334, 'http://genome.ucsc.edu/cgi-bin/hgTracks?db=dm3&position=chrX:21169302-21169372', u'GTAAGTGACTATGCCGGGATTGTGGTTATTGAACTTAGCGTCTCCACTCACGGCATTTCATTCACTTGCAG', u'', u'', u'', 237)\n"
       ]
      },
      {
       "output_type": "stream",
       "stream": "stderr",
       "text": [
        "DEBUG:django.db.backends:(0.000) SELECT (1) AS `a` FROM `loq_interval` WHERE `loq_interval`.`id` = 238  LIMIT 1; args=(238,)\n"
       ]
      },
      {
       "output_type": "stream",
       "stream": "stderr",
       "text": [
        "DEBUG:django.db.backends:(0.000) UPDATE `loq_interval` SET `chr` = 'chrX', `start` = 22235275, `stop` = 22235419, `mirName` = 'dme-mir-2491', `NeatName` = 'chrX:22235276-22235419', `IntervalSize` = 144, `IntervalSerialNumber` = 238, `Structure` = '(((((........((((.((((((((..((((.(((((((((....((((((((..((((...........))))..)))))))).............))))))))).))))..)))))))).)))))))))............', `Annotations` = '', `Tags` = '', `sum_read_counts` = 2, `sum_normReads` = 0.034, `mapped_strand` = '-', `mid_point` = 22235340, `Link` = 'http://genome.ucsc.edu/cgi-bin/hgTracks?db=dm3&position=chrX:22235276-22235419', `hairpin_seq` = 'CGCGAACCACTTTGTGCCGCTGTTGCCTTTGCAGTTGCTGTTTTCCATGTTGCTACTGCGGCCAATTGTTGCGCATCAGCAACATCAACAACATCAACAACAGCAGCAGCAACTGCAGTAGCAGCACTCGTGATTCACTTTCGA', `mature_seq` = '', `five_p` = '18-39', `three_p` = '95-112' WHERE `loq_interval`.`id` = 238 ; args=(u'chrX', 22235275, 22235419, u'dme-mir-2491', u'chrX:22235276-22235419', 144, 238, u'(((((........((((.((((((((..((((.(((((((((....((((((((..((((...........))))..)))))))).............))))))))).))))..)))))))).)))))))))............', u'', u'', 2, 0.034, u'-', 22235340, 'http://genome.ucsc.edu/cgi-bin/hgTracks?db=dm3&position=chrX:22235276-22235419', u'CGCGAACCACTTTGTGCCGCTGTTGCCTTTGCAGTTGCTGTTTTCCATGTTGCTACTGCGGCCAATTGTTGCGCATCAGCAACATCAACAACATCAACAACAGCAGCAGCAACTGCAGTAGCAGCACTCGTGATTCACTTTCGA', u'', u'18-39', u'95-112', 238)\n"
       ]
      },
      {
       "output_type": "stream",
       "stream": "stderr",
       "text": [
        "DEBUG:django.db.backends:(0.000) SELECT (1) AS `a` FROM `loq_interval` WHERE `loq_interval`.`id` = 239  LIMIT 1; args=(239,)\n"
       ]
      },
      {
       "output_type": "stream",
       "stream": "stderr",
       "text": [
        "DEBUG:django.db.backends:(0.000) UPDATE `loq_interval` SET `chr` = 'chr3R', `start` = 12681995, `stop` = 12682064, `mirName` = 'dme-mir-iab-8', `NeatName` = 'chr3R:12681996-12682064', `IntervalSize` = 68, `IntervalSerialNumber` = 160, `Structure` = '(((((..((((((((((((.((((.((....((......))..)))))).)))))))))))).)))))', `Annotations` = '', `Tags` = '', `sum_read_counts` = 24, `sum_normReads` = 2.1355, `mapped_strand` = '-', `mid_point` = 12682030, `Link` = 'http://genome.ucsc.edu/cgi-bin/hgTracks?db=dm3&position=chr3R:12681996-12682064', `hairpin_seq` = 'TCGTGTTACGTATACTGAAGGTATACCGGATAGGATACACTCAGGATACATTCAGTATACGTTTACGAG', `mature_seq` = '', `five_p` = '6-28', `three_p` = '44-65' WHERE `loq_interval`.`id` = 239 ; args=(u'chr3R', 12681995, 12682064, u'dme-mir-iab-8', u'chr3R:12681996-12682064', 68, 160, u'(((((..((((((((((((.((((.((....((......))..)))))).)))))))))))).)))))', u'', u'', 24, 2.1355, u'-', 12682030, 'http://genome.ucsc.edu/cgi-bin/hgTracks?db=dm3&position=chr3R:12681996-12682064', u'TCGTGTTACGTATACTGAAGGTATACCGGATAGGATACACTCAGGATACATTCAGTATACGTTTACGAG', u'', u'6-28', u'44-65', 239)\n"
       ]
      },
      {
       "output_type": "stream",
       "stream": "stderr",
       "text": [
        "DEBUG:django.db.backends:(0.000) SELECT (1) AS `a` FROM `loq_interval` WHERE `loq_interval`.`id` = 240  LIMIT 1; args=(240,)\n"
       ]
      },
      {
       "output_type": "stream",
       "stream": "stderr",
       "text": [
        "DEBUG:django.db.backends:(0.000) UPDATE `loq_interval` SET `chr` = 'chrXHet', `start` = 183976, `stop` = 184045, `mirName` = 'dme-mir-ITS1', `NeatName` = 'chrXHet:183,977-184,045', `IntervalSize` = 68, `IntervalSerialNumber` = 240, `Structure` = '.....(((((((((((((((((.((((((((......))))))))..)))).)))))))))))))....', `Annotations` = '', `Tags` = '', `sum_read_counts` = 5421, `sum_normReads` = 43.42, `mapped_strand` = '+', `mid_point` = 184010, `Link` = 'http://genome.ucsc.edu/cgi-bin/hgTracks?db=dm3&position=chrXHet:183,977-184,045', `hairpin_seq` = 'ATACATTTATTGAAGGAATTGATATATGCCAGTAAAATGGTGTATTTTTAATTTCTTTCAATAAAAACA', `mature_seq` = '', `five_p` = '', `three_p` = '' WHERE `loq_interval`.`id` = 240 ; args=(u'chrXHet', 183976, 184045, u'dme-mir-ITS1', u'chrXHet:183,977-184,045', 68, 240, u'.....(((((((((((((((((.((((((((......))))))))..)))).)))))))))))))....', u'', u'', 5421, 43.42, u'+', 184010, 'http://genome.ucsc.edu/cgi-bin/hgTracks?db=dm3&position=chrXHet:183,977-184,045', u'ATACATTTATTGAAGGAATTGATATATGCCAGTAAAATGGTGTATTTTTAATTTCTTTCAATAAAAACA', u'', u'', u'', 240)\n"
       ]
      },
      {
       "output_type": "stream",
       "stream": "stderr",
       "text": [
        "DEBUG:django.db.backends:(0.000) SELECT (1) AS `a` FROM `loq_interval` WHERE `loq_interval`.`id` = 241  LIMIT 1; args=(241,)\n"
       ]
      },
      {
       "output_type": "stream",
       "stream": "stderr",
       "text": [
        "DEBUG:django.db.backends:(0.000) UPDATE `loq_interval` SET `chr` = 'chr2RHet', `start` = 1322832, `stop` = 1322945, `mirName` = 'dme-mir-2279-as', `NeatName` = 'chr2RHet:1322833-1322945', `IntervalSize` = 113, `IntervalSerialNumber` = 241, `Structure` = '(((......((((((...(((((..(((((.(((((((((.((((((((((((.((....)).)))))))))))).))))))))).)))))...)))))..))))))..))).', `Annotations` = '', `Tags` = '', `sum_read_counts` = 240, `sum_normReads` = 23.1692, `mapped_strand` = '+', `mid_point` = 1322888, `Link` = 'http://genome.ucsc.edu/cgi-bin/hgTracks?db=dm3&position=chr2RHet:1322833-1322945', `hairpin_seq` = 'CGGGAGAGGATTATGAAAGACAATTTGAAATTAAATATCTGTGTGTGAAATTATTTAAAAGATTAATTTCACGCGAAGATATTTATTTTTACATTTGTCCCTATAATAACCGG', `mature_seq` = '', `five_p` = '31-52', `three_p` = '67-88' WHERE `loq_interval`.`id` = 241 ; args=(u'chr2RHet', 1322832, 1322945, u'dme-mir-2279-as', u'chr2RHet:1322833-1322945', 113, 241, u'(((......((((((...(((((..(((((.(((((((((.((((((((((((.((....)).)))))))))))).))))))))).)))))...)))))..))))))..))).', u'', u'', 240, 23.1692, u'+', 1322888, 'http://genome.ucsc.edu/cgi-bin/hgTracks?db=dm3&position=chr2RHet:1322833-1322945', u'CGGGAGAGGATTATGAAAGACAATTTGAAATTAAATATCTGTGTGTGAAATTATTTAAAAGATTAATTTCACGCGAAGATATTTATTTTTACATTTGTCCCTATAATAACCGG', u'', u'31-52', u'67-88', 241)\n"
       ]
      }
     ],
     "prompt_number": 6
    },
    {
     "cell_type": "code",
     "collapsed": false,
     "input": [
      "print a[0].Link"
     ],
     "language": "python",
     "metadata": {},
     "outputs": [
      {
       "output_type": "stream",
       "stream": "stdout",
       "text": [
        "http://genome.ucsc.edu/cgi-bin/hgTracks?db=dm3&position=chr2L:243035-243141\n"
       ]
      }
     ],
     "prompt_number": 5
    },
    {
     "cell_type": "code",
     "collapsed": false,
     "input": [
      "a = Interval.objects.get(mirName__icontains='iab-4')\n",
      "b = Interval.objects.get(mirName__icontains='iab-8')\n",
      "reads = a.read_alignment_set.all()\n",
      "print b.id\n",
      "#for i in reads:http://genome.ucsc.edu/cgi-bin/hgTracks?db=dm3&position=chr2L:243035-243141\n",
      "#    i.intervalName = b\n",
      "#    i.save()\n",
      "#b = Interval.objects.get(id=240)\n",
      "#wrong = b.read_alignment_set.filter(start__gte=a.start, stop__lte=a.stop)\n",
      "#c = Interval.objects.get(id=241)\n",
      "#for i in wrong:\n",
      "#    i.intervalName=c\n",
      "    #i.save()\n",
      "#    print i.intervalName"
     ],
     "language": "python",
     "metadata": {},
     "outputs": [
      {
       "output_type": "stream",
       "stream": "stdout",
       "text": [
        "239\n"
       ]
      }
     ],
     "prompt_number": 12
    },
    {
     "cell_type": "code",
     "collapsed": false,
     "input": [
      "### mapping lib -- obtained from csvimport to library table\n",
      "a = Read_alignment.objects.all()\n",
      "for i in a:\n",
      "    b = Library.objects.get(library_id=i.lib)\n",
      "    i.library = b\n",
      "        \n",
      "    i.save()\n",
      "    #print i.library\n"
     ],
     "language": "python",
     "metadata": {},
     "outputs": [
      {
       "output_type": "stream",
       "stream": "stderr",
       "text": [
        "DEBUG:django.db.backends:(0.722) SELECT `loq_read_alignment`.`id`, `loq_read_alignment`.`lib`, `loq_read_alignment`.`library_id`, `loq_read_alignment`.`sequence`, `loq_read_alignment`.`rev_sequence`, `loq_read_alignment`.`read_counts`, `loq_read_alignment`.`genomic_hits`, `loq_read_alignment`.`chr`, `loq_read_alignment`.`start`, `loq_read_alignment`.`stop`, `loq_read_alignment`.`strand`, `loq_read_alignment`.`normReads`, `loq_read_alignment`.`intervalName_id`, `loq_read_alignment`.`structure`, `loq_read_alignment`.`read_length` FROM `loq_read_alignment`; args=()\n"
       ]
      },
      {
       "output_type": "stream",
       "stream": "stderr",
       "text": [
        "DEBUG:django.db.backends:(0.058) SELECT `loq_library`.`library_id`, `loq_library`.`rescue`, `loq_library`.`description`, `loq_library`.`organism`, `loq_library`.`strain`, `loq_library`.`allele`, `loq_library`.`tissue`, `loq_library`.`target`, `loq_library`.`type`, `loq_library`.`total_mapped`, `loq_library`.`resolution`, `loq_library`.`source_org`, `loq_library`.`source_person`, `loq_library`.`five_prime_adapter_sequence`, `loq_library`.`three_prime_adapter_sequence`, `loq_library`.`multiplex_barcode_sequence`, `loq_library`.`notes` FROM `loq_library` WHERE `loq_library`.`library_id` = 'D005' ; args=(u'D005',)\n"
       ]
      },
      {
       "output_type": "stream",
       "stream": "stderr",
       "text": [
        "DEBUG:django.db.backends:(0.017) SELECT (1) AS `a` FROM `loq_read_alignment` WHERE `loq_read_alignment`.`id` = 1  LIMIT 1; args=(1,)\n"
       ]
      },
      {
       "output_type": "stream",
       "stream": "stderr",
       "text": [
        "DEBUG:django.db.backends:(0.088) UPDATE `loq_read_alignment` SET `lib` = 'D005', `library_id` = 'D005', `sequence` = 'AAAAGTTAGAGCTATTGCAAC', `rev_sequence` = 'GTTGCAATAGCTCTAACTTTT', `read_counts` = 1, `genomic_hits` = 1, `chr` = 'chr2L', `start` = 243034, `stop` = 243054, `strand` = '-', `normReads` = 0.0703, `intervalName_id` = 1, `structure` = '', `read_length` = 21 WHERE `loq_read_alignment`.`id` = 1 ; args=(u'D005', u'D005', u'AAAAGTTAGAGCTATTGCAAC', u'GTTGCAATAGCTCTAACTTTT', 1, 1, u'chr2L', 243034, 243054, u'-', 0.0703, 1, u'', 21, 1)\n"
       ]
      },
      {
       "output_type": "stream",
       "stream": "stderr",
       "text": [
        "DEBUG:django.db.backends:(0.001) SELECT `loq_library`.`library_id`, `loq_library`.`rescue`, `loq_library`.`description`, `loq_library`.`organism`, `loq_library`.`strain`, `loq_library`.`allele`, `loq_library`.`tissue`, `loq_library`.`target`, `loq_library`.`type`, `loq_library`.`total_mapped`, `loq_library`.`resolution`, `loq_library`.`source_org`, `loq_library`.`source_person`, `loq_library`.`five_prime_adapter_sequence`, `loq_library`.`three_prime_adapter_sequence`, `loq_library`.`multiplex_barcode_sequence`, `loq_library`.`notes` FROM `loq_library` WHERE `loq_library`.`library_id` = 'D005' ; args=(u'D005',)\n"
       ]
      },
      {
       "output_type": "stream",
       "stream": "stderr",
       "text": [
        "DEBUG:django.db.backends:(0.022) SELECT (1) AS `a` FROM `loq_read_alignment` WHERE `loq_read_alignment`.`id` = 2  LIMIT 1; args=(2,)\n"
       ]
      },
      {
       "output_type": "stream",
       "stream": "stderr",
       "text": [
        "DEBUG:django.db.backends:(0.002) UPDATE `loq_read_alignment` SET `lib` = 'D005', `library_id` = 'D005', `sequence` = 'TAAGCGTATAGCTTTTCCCCTTA', `rev_sequence` = 'TAAGGGGAAAAGCTATACGCTTA', `read_counts` = 18, `genomic_hits` = 1, `chr` = 'chr2L', `start` = 243053, `stop` = 243076, `strand` = '-', `normReads` = 1.2663, `intervalName_id` = 1, `structure` = '', `read_length` = 23 WHERE `loq_read_alignment`.`id` = 2 ; args=(u'D005', u'D005', u'TAAGCGTATAGCTTTTCCCCTTA', u'TAAGGGGAAAAGCTATACGCTTA', 18, 1, u'chr2L', 243053, 243076, u'-', 1.2663, 1, u'', 23, 2)\n"
       ]
      },
      {
       "output_type": "stream",
       "stream": "stderr",
       "text": [
        "DEBUG:django.db.backends:(0.001) SELECT `loq_library`.`library_id`, `loq_library`.`rescue`, `loq_library`.`description`, `loq_library`.`organism`, `loq_library`.`strain`, `loq_library`.`allele`, `loq_library`.`tissue`, `loq_library`.`target`, `loq_library`.`type`, `loq_library`.`total_mapped`, `loq_library`.`resolution`, `loq_library`.`source_org`, `loq_library`.`source_person`, `loq_library`.`five_prime_adapter_sequence`, `loq_library`.`three_prime_adapter_sequence`, `loq_library`.`multiplex_barcode_sequence`, `loq_library`.`notes` FROM `loq_library` WHERE `loq_library`.`library_id` = 'D005' ; args=(u'D005',)\n"
       ]
      },
      {
       "output_type": "stream",
       "stream": "stderr",
       "text": [
        "DEBUG:django.db.backends:(0.001) SELECT (1) AS `a` FROM `loq_read_alignment` WHERE `loq_read_alignment`.`id` = 3  LIMIT 1; args=(3,)\n"
       ]
      },
      {
       "output_type": "stream",
       "stream": "stderr",
       "text": [
        "DEBUG:django.db.backends:(0.000) UPDATE `loq_read_alignment` SET `lib` = 'D005', `library_id` = 'D005', `sequence` = 'CGTATAGCTTTTCCCCTT', `rev_sequence` = 'AAGGGGAAAAGCTATACG', `read_counts` = 6, `genomic_hits` = 1, `chr` = 'chr2L', `start` = 243054, `stop` = 243072, `strand` = '-', `normReads` = 0.4221, `intervalName_id` = 1, `structure` = '', `read_length` = 18 WHERE `loq_read_alignment`.`id` = 3 ; args=(u'D005', u'D005', u'CGTATAGCTTTTCCCCTT', u'AAGGGGAAAAGCTATACG', 6, 1, u'chr2L', 243054, 243072, u'-', 0.4221, 1, u'', 18, 3)\n"
       ]
      },
      {
       "output_type": "stream",
       "stream": "stderr",
       "text": [
        "DEBUG:django.db.backends:(0.000) SELECT `loq_library`.`library_id`, `loq_library`.`rescue`, `loq_library`.`description`, `loq_library`.`organism`, `loq_library`.`strain`, `loq_library`.`allele`, `loq_library`.`tissue`, `loq_library`.`target`, `loq_library`.`type`, `loq_library`.`total_mapped`, `loq_library`.`resolution`, `loq_library`.`source_org`, `loq_library`.`source_person`, `loq_library`.`five_prime_adapter_sequence`, `loq_library`.`three_prime_adapter_sequence`, `loq_library`.`multiplex_barcode_sequence`, `loq_library`.`notes` FROM `loq_library` WHERE `loq_library`.`library_id` = 'D005' ; args=(u'D005',)\n"
       ]
      },
      {
       "output_type": "stream",
       "stream": "stderr",
       "text": [
        "DEBUG:django.db.backends:(0.018) SELECT (1) AS `a` FROM `loq_read_alignment` WHERE `loq_read_alignment`.`id` = 4  LIMIT 1; args=(4,)\n"
       ]
      },
      {
       "output_type": "stream",
       "stream": "stderr",
       "text": [
        "DEBUG:django.db.backends:(0.000) UPDATE `loq_read_alignment` SET `lib` = 'D005', `library_id` = 'D005', `sequence` = 'GCGTATAGCTTTTCCCCTT', `rev_sequence` = 'AAGGGGAAAAGCTATACGC', `read_counts` = 3, `genomic_hits` = 1, `chr` = 'chr2L', `start` = 243054, `stop` = 243073, `strand` = '-', `normReads` = 0.211, `intervalName_id` = 1, `structure` = '', `read_length` = 19 WHERE `loq_read_alignment`.`id` = 4 ; args=(u'D005', u'D005', u'GCGTATAGCTTTTCCCCTT', u'AAGGGGAAAAGCTATACGC', 3, 1, u'chr2L', 243054, 243073, u'-', 0.211, 1, u'', 19, 4)\n"
       ]
      },
      {
       "output_type": "stream",
       "stream": "stderr",
       "text": [
        "DEBUG:django.db.backends:(0.001) SELECT `loq_library`.`library_id`, `loq_library`.`rescue`, `loq_library`.`description`, `loq_library`.`organism`, `loq_library`.`strain`, `loq_library`.`allele`, `loq_library`.`tissue`, `loq_library`.`target`, `loq_library`.`type`, `loq_library`.`total_mapped`, `loq_library`.`resolution`, `loq_library`.`source_org`, `loq_library`.`source_person`, `loq_library`.`five_prime_adapter_sequence`, `loq_library`.`three_prime_adapter_sequence`, `loq_library`.`multiplex_barcode_sequence`, `loq_library`.`notes` FROM `loq_library` WHERE `loq_library`.`library_id` = 'D005' ; args=(u'D005',)\n"
       ]
      },
      {
       "output_type": "stream",
       "stream": "stderr",
       "text": [
        "DEBUG:django.db.backends:(0.001) SELECT (1) AS `a` FROM `loq_read_alignment` WHERE `loq_read_alignment`.`id` = 5  LIMIT 1; args=(5,)\n"
       ]
      },
      {
       "output_type": "stream",
       "stream": "stderr",
       "text": [
        "DEBUG:django.db.backends:(0.014) UPDATE `loq_read_alignment` SET `lib` = 'D005', `library_id` = 'D005', `sequence` = 'AGCGTATAGCTTTTCCCCTT', `rev_sequence` = 'AAGGGGAAAAGCTATACGCT', `read_counts` = 9, `genomic_hits` = 1, `chr` = 'chr2L', `start` = 243054, `stop` = 243074, `strand` = '-', `normReads` = 0.6331, `intervalName_id` = 1, `structure` = '', `read_length` = 20 WHERE `loq_read_alignment`.`id` = 5 ; args=(u'D005', u'D005', u'AGCGTATAGCTTTTCCCCTT', u'AAGGGGAAAAGCTATACGCT', 9, 1, u'chr2L', 243054, 243074, u'-', 0.6331, 1, u'', 20, 5)\n"
       ]
      },
      {
       "output_type": "stream",
       "stream": "stderr",
       "text": [
        "DEBUG:django.db.backends:(0.001) SELECT `loq_library`.`library_id`, `loq_library`.`rescue`, `loq_library`.`description`, `loq_library`.`organism`, `loq_library`.`strain`, `loq_library`.`allele`, `loq_library`.`tissue`, `loq_library`.`target`, `loq_library`.`type`, `loq_library`.`total_mapped`, `loq_library`.`resolution`, `loq_library`.`source_org`, `loq_library`.`source_person`, `loq_library`.`five_prime_adapter_sequence`, `loq_library`.`three_prime_adapter_sequence`, `loq_library`.`multiplex_barcode_sequence`, `loq_library`.`notes` FROM `loq_library` WHERE `loq_library`.`library_id` = 'D005' ; args=(u'D005',)\n"
       ]
      },
      {
       "output_type": "stream",
       "stream": "stderr",
       "text": [
        "DEBUG:django.db.backends:(0.001) SELECT (1) AS `a` FROM `loq_read_alignment` WHERE `loq_read_alignment`.`id` = 6  LIMIT 1; args=(6,)\n"
       ]
      },
      {
       "output_type": "stream",
       "stream": "stderr",
       "text": [
        "DEBUG:django.db.backends:(0.000) UPDATE `loq_read_alignment` SET `lib` = 'D005', `library_id` = 'D005', `sequence` = 'AAGCGTATAGCTTTTCCCCTT', `rev_sequence` = 'AAGGGGAAAAGCTATACGCTT', `read_counts` = 59, `genomic_hits` = 1, `chr` = 'chr2L', `start` = 243054, `stop` = 243075, `strand` = '-', `normReads` = 4.1505, `intervalName_id` = 1, `structure` = '', `read_length` = 21 WHERE `loq_read_alignment`.`id` = 6 ; args=(u'D005', u'D005', u'AAGCGTATAGCTTTTCCCCTT', u'AAGGGGAAAAGCTATACGCTT', 59, 1, u'chr2L', 243054, 243075, u'-', 4.1505, 1, u'', 21, 6)\n"
       ]
      },
      {
       "output_type": "stream",
       "stream": "stderr",
       "text": [
        "DEBUG:django.db.backends:(0.001) SELECT `loq_library`.`library_id`, `loq_library`.`rescue`, `loq_library`.`description`, `loq_library`.`organism`, `loq_library`.`strain`, `loq_library`.`allele`, `loq_library`.`tissue`, `loq_library`.`target`, `loq_library`.`type`, `loq_library`.`total_mapped`, `loq_library`.`resolution`, `loq_library`.`source_org`, `loq_library`.`source_person`, `loq_library`.`five_prime_adapter_sequence`, `loq_library`.`three_prime_adapter_sequence`, `loq_library`.`multiplex_barcode_sequence`, `loq_library`.`notes` FROM `loq_library` WHERE `loq_library`.`library_id` = 'D005' ; args=(u'D005',)\n"
       ]
      },
      {
       "output_type": "stream",
       "stream": "stderr",
       "text": [
        "DEBUG:django.db.backends:(0.001) SELECT (1) AS `a` FROM `loq_read_alignment` WHERE `loq_read_alignment`.`id` = 7  LIMIT 1; args=(7,)\n"
       ]
      },
      {
       "output_type": "stream",
       "stream": "stderr",
       "text": [
        "DEBUG:django.db.backends:(0.001) UPDATE `loq_read_alignment` SET `lib` = 'D005', `library_id` = 'D005', `sequence` = 'TAAGCGTATAGCTTTTCCCCTT', `rev_sequence` = 'AAGGGGAAAAGCTATACGCTTA', `read_counts` = 11990, `genomic_hits` = 1, `chr` = 'chr2L', `start` = 243054, `stop` = 243076, `strand` = '-', `normReads` = 843.467, `intervalName_id` = 1, `structure` = '', `read_length` = 22 WHERE `loq_read_alignment`.`id` = 7 ; args=(u'D005', u'D005', u'TAAGCGTATAGCTTTTCCCCTT', u'AAGGGGAAAAGCTATACGCTTA', 11990, 1, u'chr2L', 243054, 243076, u'-', 843.467, 1, u'', 22, 7)\n"
       ]
      },
      {
       "output_type": "stream",
       "stream": "stderr",
       "text": [
        "DEBUG:django.db.backends:(0.001) SELECT `loq_library`.`library_id`, `loq_library`.`rescue`, `loq_library`.`description`, `loq_library`.`organism`, `loq_library`.`strain`, `loq_library`.`allele`, `loq_library`.`tissue`, `loq_library`.`target`, `loq_library`.`type`, `loq_library`.`total_mapped`, `loq_library`.`resolution`, `loq_library`.`source_org`, `loq_library`.`source_person`, `loq_library`.`five_prime_adapter_sequence`, `loq_library`.`three_prime_adapter_sequence`, `loq_library`.`multiplex_barcode_sequence`, `loq_library`.`notes` FROM `loq_library` WHERE `loq_library`.`library_id` = 'D005' ; args=(u'D005',)\n"
       ]
      },
      {
       "output_type": "stream",
       "stream": "stderr",
       "text": [
        "DEBUG:django.db.backends:(0.001) SELECT (1) AS `a` FROM `loq_read_alignment` WHERE `loq_read_alignment`.`id` = 8  LIMIT 1; args=(8,)\n"
       ]
      },
      {
       "output_type": "stream",
       "stream": "stderr",
       "text": [
        "DEBUG:django.db.backends:(0.000) UPDATE `loq_read_alignment` SET `lib` = 'D005', `library_id` = 'D005', `sequence` = 'ATAAGCGTATAGCTTTTCCCCTT', `rev_sequence` = 'AAGGGGAAAAGCTATACGCTTAT', `read_counts` = 16, `genomic_hits` = 1, `chr` = 'chr2L', `start` = 243054, `stop` = 243077, `strand` = '-', `normReads` = 1.1256, `intervalName_id` = 1, `structure` = '', `read_length` = 23 WHERE `loq_read_alignment`.`id` = 8 ; args=(u'D005', u'D005', u'ATAAGCGTATAGCTTTTCCCCTT', u'AAGGGGAAAAGCTATACGCTTAT', 16, 1, u'chr2L', 243054, 243077, u'-', 1.1256, 1, u'', 23, 8)\n"
       ]
      },
      {
       "output_type": "stream",
       "stream": "stderr",
       "text": [
        "DEBUG:django.db.backends:(0.000) SELECT `loq_library`.`library_id`, `loq_library`.`rescue`, `loq_library`.`description`, `loq_library`.`organism`, `loq_library`.`strain`, `loq_library`.`allele`, `loq_library`.`tissue`, `loq_library`.`target`, `loq_library`.`type`, `loq_library`.`total_mapped`, `loq_library`.`resolution`, `loq_library`.`source_org`, `loq_library`.`source_person`, `loq_library`.`five_prime_adapter_sequence`, `loq_library`.`three_prime_adapter_sequence`, `loq_library`.`multiplex_barcode_sequence`, `loq_library`.`notes` FROM `loq_library` WHERE `loq_library`.`library_id` = 'D005' ; args=(u'D005',)\n"
       ]
      },
      {
       "output_type": "stream",
       "stream": "stderr",
       "text": [
        "DEBUG:django.db.backends:(0.001) SELECT (1) AS `a` FROM `loq_read_alignment` WHERE `loq_read_alignment`.`id` = 9  LIMIT 1; args=(9,)\n"
       ]
      },
      {
       "output_type": "stream",
       "stream": "stderr",
       "text": [
        "DEBUG:django.db.backends:(0.001) UPDATE `loq_read_alignment` SET `lib` = 'D005', `library_id` = 'D005', `sequence` = 'CATAAGCGTATAGCTTTTCCCCTT', `rev_sequence` = 'AAGGGGAAAAGCTATACGCTTATG', `read_counts` = 1, `genomic_hits` = 1, `chr` = 'chr2L', `start` = 243054, `stop` = 243078, `strand` = '-', `normReads` = 0.0703, `intervalName_id` = 1, `structure` = '', `read_length` = 24 WHERE `loq_read_alignment`.`id` = 9 ; args=(u'D005', u'D005', u'CATAAGCGTATAGCTTTTCCCCTT', u'AAGGGGAAAAGCTATACGCTTATG', 1, 1, u'chr2L', 243054, 243078, u'-', 0.0703, 1, u'', 24, 9)\n"
       ]
      },
      {
       "output_type": "stream",
       "stream": "stderr",
       "text": [
        "DEBUG:django.db.backends:(0.001) SELECT `loq_library`.`library_id`, `loq_library`.`rescue`, `loq_library`.`description`, `loq_library`.`organism`, `loq_library`.`strain`, `loq_library`.`allele`, `loq_library`.`tissue`, `loq_library`.`target`, `loq_library`.`type`, `loq_library`.`total_mapped`, `loq_library`.`resolution`, `loq_library`.`source_org`, `loq_library`.`source_person`, `loq_library`.`five_prime_adapter_sequence`, `loq_library`.`three_prime_adapter_sequence`, `loq_library`.`multiplex_barcode_sequence`, `loq_library`.`notes` FROM `loq_library` WHERE `loq_library`.`library_id` = 'D005' ; args=(u'D005',)\n"
       ]
      },
      {
       "output_type": "stream",
       "stream": "stderr",
       "text": [
        "DEBUG:django.db.backends:(0.000) SELECT (1) AS `a` FROM `loq_read_alignment` WHERE `loq_read_alignment`.`id` = 10  LIMIT 1; args=(10,)\n"
       ]
      },
      {
       "output_type": "stream",
       "stream": "stderr",
       "text": [
        "DEBUG:django.db.backends:(0.001) UPDATE `loq_read_alignment` SET `lib` = 'D005', `library_id` = 'D005', `sequence` = 'GCGTATAGCTTTTCCCCT', `rev_sequence` = 'AGGGGAAAAGCTATACGC', `read_counts` = 2, `genomic_hits` = 1, `chr` = 'chr2L', `start` = 243055, `stop` = 243073, `strand` = '-', `normReads` = 0.1407, `intervalName_id` = 1, `structure` = '', `read_length` = 18 WHERE `loq_read_alignment`.`id` = 10 ; args=(u'D005', u'D005', u'GCGTATAGCTTTTCCCCT', u'AGGGGAAAAGCTATACGC', 2, 1, u'chr2L', 243055, 243073, u'-', 0.1407, 1, u'', 18, 10)\n"
       ]
      },
      {
       "output_type": "stream",
       "stream": "stderr",
       "text": [
        "DEBUG:django.db.backends:(0.001) SELECT `loq_library`.`library_id`, `loq_library`.`rescue`, `loq_library`.`description`, `loq_library`.`organism`, `loq_library`.`strain`, `loq_library`.`allele`, `loq_library`.`tissue`, `loq_library`.`target`, `loq_library`.`type`, `loq_library`.`total_mapped`, `loq_library`.`resolution`, `loq_library`.`source_org`, `loq_library`.`source_person`, `loq_library`.`five_prime_adapter_sequence`, `loq_library`.`three_prime_adapter_sequence`, `loq_library`.`multiplex_barcode_sequence`, `loq_library`.`notes` FROM `loq_library` WHERE `loq_library`.`library_id` = 'D005' ; args=(u'D005',)\n"
       ]
      },
      {
       "output_type": "stream",
       "stream": "stderr",
       "text": [
        "DEBUG:django.db.backends:(0.001) SELECT (1) AS `a` FROM `loq_read_alignment` WHERE `loq_read_alignment`.`id` = 11  LIMIT 1; args=(11,)\n"
       ]
      },
      {
       "output_type": "stream",
       "stream": "stderr",
       "text": [
        "DEBUG:django.db.backends:(0.001) UPDATE `loq_read_alignment` SET `lib` = 'D005', `library_id` = 'D005', `sequence` = 'AGCGTATAGCTTTTCCCCT', `rev_sequence` = 'AGGGGAAAAGCTATACGCT', `read_counts` = 1, `genomic_hits` = 1, `chr` = 'chr2L', `start` = 243055, `stop` = 243074, `strand` = '-', `normReads` = 0.0703, `intervalName_id` = 1, `structure` = '', `read_length` = 19 WHERE `loq_read_alignment`.`id` = 11 ; args=(u'D005', u'D005', u'AGCGTATAGCTTTTCCCCT', u'AGGGGAAAAGCTATACGCT', 1, 1, u'chr2L', 243055, 243074, u'-', 0.0703, 1, u'', 19, 11)\n"
       ]
      },
      {
       "output_type": "stream",
       "stream": "stderr",
       "text": [
        "DEBUG:django.db.backends:(0.001) SELECT `loq_library`.`library_id`, `loq_library`.`rescue`, `loq_library`.`description`, `loq_library`.`organism`, `loq_library`.`strain`, `loq_library`.`allele`, `loq_library`.`tissue`, `loq_library`.`target`, `loq_library`.`type`, `loq_library`.`total_mapped`, `loq_library`.`resolution`, `loq_library`.`source_org`, `loq_library`.`source_person`, `loq_library`.`five_prime_adapter_sequence`, `loq_library`.`three_prime_adapter_sequence`, `loq_library`.`multiplex_barcode_sequence`, `loq_library`.`notes` FROM `loq_library` WHERE `loq_library`.`library_id` = 'D005' ; args=(u'D005',)\n"
       ]
      },
      {
       "output_type": "stream",
       "stream": "stderr",
       "text": [
        "DEBUG:django.db.backends:(0.000) SELECT (1) AS `a` FROM `loq_read_alignment` WHERE `loq_read_alignment`.`id` = 12  LIMIT 1; args=(12,)\n"
       ]
      },
      {
       "output_type": "stream",
       "stream": "stderr",
       "text": [
        "DEBUG:django.db.backends:(0.000) UPDATE `loq_read_alignment` SET `lib` = 'D005', `library_id` = 'D005', `sequence` = 'AAGCGTATAGCTTTTCCCCT', `rev_sequence` = 'AGGGGAAAAGCTATACGCTT', `read_counts` = 34, `genomic_hits` = 1, `chr` = 'chr2L', `start` = 243055, `stop` = 243075, `strand` = '-', `normReads` = 2.3918, `intervalName_id` = 1, `structure` = '', `read_length` = 20 WHERE `loq_read_alignment`.`id` = 12 ; args=(u'D005', u'D005', u'AAGCGTATAGCTTTTCCCCT', u'AGGGGAAAAGCTATACGCTT', 34, 1, u'chr2L', 243055, 243075, u'-', 2.3918, 1, u'', 20, 12)\n"
       ]
      },
      {
       "output_type": "stream",
       "stream": "stderr",
       "text": [
        "DEBUG:django.db.backends:(0.001) SELECT `loq_library`.`library_id`, `loq_library`.`rescue`, `loq_library`.`description`, `loq_library`.`organism`, `loq_library`.`strain`, `loq_library`.`allele`, `loq_library`.`tissue`, `loq_library`.`target`, `loq_library`.`type`, `loq_library`.`total_mapped`, `loq_library`.`resolution`, `loq_library`.`source_org`, `loq_library`.`source_person`, `loq_library`.`five_prime_adapter_sequence`, `loq_library`.`three_prime_adapter_sequence`, `loq_library`.`multiplex_barcode_sequence`, `loq_library`.`notes` FROM `loq_library` WHERE `loq_library`.`library_id` = 'D005' ; args=(u'D005',)\n"
       ]
      },
      {
       "output_type": "stream",
       "stream": "stderr",
       "text": [
        "DEBUG:django.db.backends:(0.001) SELECT (1) AS `a` FROM `loq_read_alignment` WHERE `loq_read_alignment`.`id` = 13  LIMIT 1; args=(13,)\n"
       ]
      },
      {
       "output_type": "stream",
       "stream": "stderr",
       "text": [
        "DEBUG:django.db.backends:(0.001) UPDATE `loq_read_alignment` SET `lib` = 'D005', `library_id` = 'D005', `sequence` = 'TAAGCGTATAGCTTTTCCCCT', `rev_sequence` = 'AGGGGAAAAGCTATACGCTTA', `read_counts` = 10676, `genomic_hits` = 1, `chr` = 'chr2L', `start` = 243055, `stop` = 243076, `strand` = '-', `normReads` = 751.03, `intervalName_id` = 1, `structure` = '', `read_length` = 21 WHERE `loq_read_alignment`.`id` = 13 ; args=(u'D005', u'D005', u'TAAGCGTATAGCTTTTCCCCT', u'AGGGGAAAAGCTATACGCTTA', 10676, 1, u'chr2L', 243055, 243076, u'-', 751.03, 1, u'', 21, 13)\n"
       ]
      },
      {
       "output_type": "stream",
       "stream": "stderr",
       "text": [
        "DEBUG:django.db.backends:(0.001) SELECT `loq_library`.`library_id`, `loq_library`.`rescue`, `loq_library`.`description`, `loq_library`.`organism`, `loq_library`.`strain`, `loq_library`.`allele`, `loq_library`.`tissue`, `loq_library`.`target`, `loq_library`.`type`, `loq_library`.`total_mapped`, `loq_library`.`resolution`, `loq_library`.`source_org`, `loq_library`.`source_person`, `loq_library`.`five_prime_adapter_sequence`, `loq_library`.`three_prime_adapter_sequence`, `loq_library`.`multiplex_barcode_sequence`, `loq_library`.`notes` FROM `loq_library` WHERE `loq_library`.`library_id` = 'D005' ; args=(u'D005',)\n"
       ]
      },
      {
       "output_type": "stream",
       "stream": "stderr",
       "text": [
        "DEBUG:django.db.backends:(0.001) SELECT (1) AS `a` FROM `loq_read_alignment` WHERE `loq_read_alignment`.`id` = 14  LIMIT 1; args=(14,)\n"
       ]
      },
      {
       "output_type": "stream",
       "stream": "stderr",
       "text": [
        "DEBUG:django.db.backends:(0.001) UPDATE `loq_read_alignment` SET `lib` = 'D005', `library_id` = 'D005', `sequence` = 'ATAAGCGTATAGCTTTTCCCCT', `rev_sequence` = 'AGGGGAAAAGCTATACGCTTAT', `read_counts` = 13, `genomic_hits` = 1, `chr` = 'chr2L', `start` = 243055, `stop` = 243077, `strand` = '-', `normReads` = 0.9145, `intervalName_id` = 1, `structure` = '', `read_length` = 22 WHERE `loq_read_alignment`.`id` = 14 ; args=(u'D005', u'D005', u'ATAAGCGTATAGCTTTTCCCCT', u'AGGGGAAAAGCTATACGCTTAT', 13, 1, u'chr2L', 243055, 243077, u'-', 0.9145, 1, u'', 22, 14)\n"
       ]
      },
      {
       "output_type": "stream",
       "stream": "stderr",
       "text": [
        "DEBUG:django.db.backends:(0.000) SELECT `loq_library`.`library_id`, `loq_library`.`rescue`, `loq_library`.`description`, `loq_library`.`organism`, `loq_library`.`strain`, `loq_library`.`allele`, `loq_library`.`tissue`, `loq_library`.`target`, `loq_library`.`type`, `loq_library`.`total_mapped`, `loq_library`.`resolution`, `loq_library`.`source_org`, `loq_library`.`source_person`, `loq_library`.`five_prime_adapter_sequence`, `loq_library`.`three_prime_adapter_sequence`, `loq_library`.`multiplex_barcode_sequence`, `loq_library`.`notes` FROM `loq_library` WHERE `loq_library`.`library_id` = 'D005' ; args=(u'D005',)\n"
       ]
      },
      {
       "output_type": "stream",
       "stream": "stderr",
       "text": [
        "DEBUG:django.db.backends:(0.001) SELECT (1) AS `a` FROM `loq_read_alignment` WHERE `loq_read_alignment`.`id` = 15  LIMIT 1; args=(15,)\n"
       ]
      },
      {
       "output_type": "stream",
       "stream": "stderr",
       "text": [
        "DEBUG:django.db.backends:(0.000) UPDATE `loq_read_alignment` SET `lib` = 'D005', `library_id` = 'D005', `sequence` = 'TAAGCGTATAGCTTTTCCCC', `rev_sequence` = 'GGGGAAAAGCTATACGCTTA', `read_counts` = 274, `genomic_hits` = 1, `chr` = 'chr2L', `start` = 243056, `stop` = 243076, `strand` = '-', `normReads` = 19.2752, `intervalName_id` = 1, `structure` = '', `read_length` = 20 WHERE `loq_read_alignment`.`id` = 15 ; args=(u'D005', u'D005', u'TAAGCGTATAGCTTTTCCCC', u'GGGGAAAAGCTATACGCTTA', 274, 1, u'chr2L', 243056, 243076, u'-', 19.2752, 1, u'', 20, 15)\n"
       ]
      },
      {
       "output_type": "stream",
       "stream": "stderr",
       "text": [
        "DEBUG:django.db.backends:(0.000) SELECT `loq_library`.`library_id`, `loq_library`.`rescue`, `loq_library`.`description`, `loq_library`.`organism`, `loq_library`.`strain`, `loq_library`.`allele`, `loq_library`.`tissue`, `loq_library`.`target`, `loq_library`.`type`, `loq_library`.`total_mapped`, `loq_library`.`resolution`, `loq_library`.`source_org`, `loq_library`.`source_person`, `loq_library`.`five_prime_adapter_sequence`, `loq_library`.`three_prime_adapter_sequence`, `loq_library`.`multiplex_barcode_sequence`, `loq_library`.`notes` FROM `loq_library` WHERE `loq_library`.`library_id` = 'D005' ; args=(u'D005',)\n"
       ]
      },
      {
       "output_type": "stream",
       "stream": "stderr",
       "text": [
        "DEBUG:django.db.backends:(0.001) SELECT (1) AS `a` FROM `loq_read_alignment` WHERE `loq_read_alignment`.`id` = 16  LIMIT 1; args=(16,)\n"
       ]
      },
      {
       "output_type": "stream",
       "stream": "stderr",
       "text": [
        "DEBUG:django.db.backends:(0.001) UPDATE `loq_read_alignment` SET `lib` = 'D005', `library_id` = 'D005', `sequence` = 'TAAGCGTATAGCTTTTCCC', `rev_sequence` = 'GGGAAAAGCTATACGCTTA', `read_counts` = 16, `genomic_hits` = 1, `chr` = 'chr2L', `start` = 243057, `stop` = 243076, `strand` = '-', `normReads` = 1.1256, `intervalName_id` = 1, `structure` = '', `read_length` = 19 WHERE `loq_read_alignment`.`id` = 16 ; args=(u'D005', u'D005', u'TAAGCGTATAGCTTTTCCC', u'GGGAAAAGCTATACGCTTA', 16, 1, u'chr2L', 243057, 243076, u'-', 1.1256, 1, u'', 19, 16)\n"
       ]
      },
      {
       "output_type": "stream",
       "stream": "stderr",
       "text": [
        "DEBUG:django.db.backends:(0.000) SELECT `loq_library`.`library_id`, `loq_library`.`rescue`, `loq_library`.`description`, `loq_library`.`organism`, `loq_library`.`strain`, `loq_library`.`allele`, `loq_library`.`tissue`, `loq_library`.`target`, `loq_library`.`type`, `loq_library`.`total_mapped`, `loq_library`.`resolution`, `loq_library`.`source_org`, `loq_library`.`source_person`, `loq_library`.`five_prime_adapter_sequence`, `loq_library`.`three_prime_adapter_sequence`, `loq_library`.`multiplex_barcode_sequence`, `loq_library`.`notes` FROM `loq_library` WHERE `loq_library`.`library_id` = 'D005' ; args=(u'D005',)\n"
       ]
      },
      {
       "output_type": "stream",
       "stream": "stderr",
       "text": [
        "DEBUG:django.db.backends:(0.001) SELECT (1) AS `a` FROM `loq_read_alignment` WHERE `loq_read_alignment`.`id` = 17  LIMIT 1; args=(17,)\n"
       ]
      },
      {
       "output_type": "stream",
       "stream": "stderr",
       "text": [
        "DEBUG:django.db.backends:(0.000) UPDATE `loq_read_alignment` SET `lib` = 'D005', `library_id` = 'D005', `sequence` = 'TGCCCTTCTGTGATATTCA', `rev_sequence` = 'TGAATATCACAGAAGGGCA', `read_counts` = 98, `genomic_hits` = 1, `chr` = 'chr2L', `start` = 243076, `stop` = 243095, `strand` = '-', `normReads` = 6.8941, `intervalName_id` = 1, `structure` = '', `read_length` = 19 WHERE `loq_read_alignment`.`id` = 17 ; args=(u'D005', u'D005', u'TGCCCTTCTGTGATATTCA', u'TGAATATCACAGAAGGGCA', 98, 1, u'chr2L', 243076, 243095, u'-', 6.8941, 1, u'', 19, 17)\n"
       ]
      },
      {
       "output_type": "stream",
       "stream": "stderr",
       "text": [
        "DEBUG:django.db.backends:(0.001) SELECT `loq_library`.`library_id`, `loq_library`.`rescue`, `loq_library`.`description`, `loq_library`.`organism`, `loq_library`.`strain`, `loq_library`.`allele`, `loq_library`.`tissue`, `loq_library`.`target`, `loq_library`.`type`, `loq_library`.`total_mapped`, `loq_library`.`resolution`, `loq_library`.`source_org`, `loq_library`.`source_person`, `loq_library`.`five_prime_adapter_sequence`, `loq_library`.`three_prime_adapter_sequence`, `loq_library`.`multiplex_barcode_sequence`, `loq_library`.`notes` FROM `loq_library` WHERE `loq_library`.`library_id` = 'D005' ; args=(u'D005',)\n"
       ]
      },
      {
       "output_type": "stream",
       "stream": "stderr",
       "text": [
        "DEBUG:django.db.backends:(0.001) SELECT (1) AS `a` FROM `loq_read_alignment` WHERE `loq_read_alignment`.`id` = 18  LIMIT 1; args=(18,)\n"
       ]
      },
      {
       "output_type": "stream",
       "stream": "stderr",
       "text": [
        "DEBUG:django.db.backends:(0.000) UPDATE `loq_read_alignment` SET `lib` = 'D005', `library_id` = 'D005', `sequence` = 'TGCCCTTCTGTGATATTC', `rev_sequence` = 'GAATATCACAGAAGGGCA', `read_counts` = 12, `genomic_hits` = 1, `chr` = 'chr2L', `start` = 243077, `stop` = 243095, `strand` = '-', `normReads` = 0.8442, `intervalName_id` = 1, `structure` = '', `read_length` = 18 WHERE `loq_read_alignment`.`id` = 18 ; args=(u'D005', u'D005', u'TGCCCTTCTGTGATATTC', u'GAATATCACAGAAGGGCA', 12, 1, u'chr2L', 243077, 243095, u'-', 0.8442, 1, u'', 18, 18)\n"
       ]
      },
      {
       "output_type": "stream",
       "stream": "stderr",
       "text": [
        "DEBUG:django.db.backends:(0.000) SELECT `loq_library`.`library_id`, `loq_library`.`rescue`, `loq_library`.`description`, `loq_library`.`organism`, `loq_library`.`strain`, `loq_library`.`allele`, `loq_library`.`tissue`, `loq_library`.`target`, `loq_library`.`type`, `loq_library`.`total_mapped`, `loq_library`.`resolution`, `loq_library`.`source_org`, `loq_library`.`source_person`, `loq_library`.`five_prime_adapter_sequence`, `loq_library`.`three_prime_adapter_sequence`, `loq_library`.`multiplex_barcode_sequence`, `loq_library`.`notes` FROM `loq_library` WHERE `loq_library`.`library_id` = 'D005' ; args=(u'D005',)\n"
       ]
      },
      {
       "output_type": "stream",
       "stream": "stderr",
       "text": [
        "DEBUG:django.db.backends:(0.001) SELECT (1) AS `a` FROM `loq_read_alignment` WHERE `loq_read_alignment`.`id` = 19  LIMIT 1; args=(19,)\n"
       ]
      },
      {
       "output_type": "stream",
       "stream": "stderr",
       "text": [
        "DEBUG:django.db.backends:(0.001) UPDATE `loq_read_alignment` SET `lib` = 'D005', `library_id` = 'D005', `sequence` = 'GGGGTAAAACTGTACGTTATATGTG', `rev_sequence` = 'CACATATAACGTACAGTTTTACCCC', `read_counts` = 1, `genomic_hits` = 1, `chr` = 'chr2L', `start` = 243093, `stop` = 243118, `strand` = '-', `normReads` = 0.0703, `intervalName_id` = 1, `structure` = '', `read_length` = 25 WHERE `loq_read_alignment`.`id` = 19 ; args=(u'D005', u'D005', u'GGGGTAAAACTGTACGTTATATGTG', u'CACATATAACGTACAGTTTTACCCC', 1, 1, u'chr2L', 243093, 243118, u'-', 0.0703, 1, u'', 25, 19)\n"
       ]
      },
      {
       "output_type": "stream",
       "stream": "stderr",
       "text": [
        "DEBUG:django.db.backends:(0.000) SELECT `loq_library`.`library_id`, `loq_library`.`rescue`, `loq_library`.`description`, `loq_library`.`organism`, `loq_library`.`strain`, `loq_library`.`allele`, `loq_library`.`tissue`, `loq_library`.`target`, `loq_library`.`type`, `loq_library`.`total_mapped`, `loq_library`.`resolution`, `loq_library`.`source_org`, `loq_library`.`source_person`, `loq_library`.`five_prime_adapter_sequence`, `loq_library`.`three_prime_adapter_sequence`, `loq_library`.`multiplex_barcode_sequence`, `loq_library`.`notes` FROM `loq_library` WHERE `loq_library`.`library_id` = 'D005' ; args=(u'D005',)\n"
       ]
      },
      {
       "output_type": "stream",
       "stream": "stderr",
       "text": [
        "DEBUG:django.db.backends:(0.001) SELECT (1) AS `a` FROM `loq_read_alignment` WHERE `loq_read_alignment`.`id` = 20  LIMIT 1; args=(20,)\n"
       ]
      },
      {
       "output_type": "stream",
       "stream": "stderr",
       "text": [
        "DEBUG:django.db.backends:(0.000) UPDATE `loq_read_alignment` SET `lib` = 'D005', `library_id` = 'D005', `sequence` = 'GGGGTAAAACTGTACGTTATATGT', `rev_sequence` = 'ACATATAACGTACAGTTTTACCCC', `read_counts` = 16, `genomic_hits` = 1, `chr` = 'chr2L', `start` = 243094, `stop` = 243118, `strand` = '-', `normReads` = 1.1256, `intervalName_id` = 1, `structure` = '', `read_length` = 24 WHERE `loq_read_alignment`.`id` = 20 ; args=(u'D005', u'D005', u'GGGGTAAAACTGTACGTTATATGT', u'ACATATAACGTACAGTTTTACCCC', 16, 1, u'chr2L', 243094, 243118, u'-', 1.1256, 1, u'', 24, 20)\n"
       ]
      },
      {
       "output_type": "stream",
       "stream": "stderr",
       "text": [
        "DEBUG:django.db.backends:(0.000) SELECT `loq_library`.`library_id`, `loq_library`.`rescue`, `loq_library`.`description`, `loq_library`.`organism`, `loq_library`.`strain`, `loq_library`.`allele`, `loq_library`.`tissue`, `loq_library`.`target`, `loq_library`.`type`, `loq_library`.`total_mapped`, `loq_library`.`resolution`, `loq_library`.`source_org`, `loq_library`.`source_person`, `loq_library`.`five_prime_adapter_sequence`, `loq_library`.`three_prime_adapter_sequence`, `loq_library`.`multiplex_barcode_sequence`, `loq_library`.`notes` FROM `loq_library` WHERE `loq_library`.`library_id` = 'D005' ; args=(u'D005',)\n"
       ]
      },
      {
       "output_type": "stream",
       "stream": "stderr",
       "text": [
        "DEBUG:django.db.backends:(0.001) SELECT (1) AS `a` FROM `loq_read_alignment` WHERE `loq_read_alignment`.`id` = 21  LIMIT 1; args=(21,)\n"
       ]
      },
      {
       "output_type": "stream",
       "stream": "stderr",
       "text": [
        "DEBUG:django.db.backends:(0.015) UPDATE `loq_read_alignment` SET `lib` = 'D005', `library_id` = 'D005', `sequence` = 'GGGGGTAAAACTGTACGTTATATGT', `rev_sequence` = 'ACATATAACGTACAGTTTTACCCCC', `read_counts` = 1, `genomic_hits` = 1, `chr` = 'chr2L', `start` = 243094, `stop` = 243119, `strand` = '-', `normReads` = 0.0703, `intervalName_id` = 1, `structure` = '', `read_length` = 25 WHERE `loq_read_alignment`.`id` = 21 ; args=(u'D005', u'D005', u'GGGGGTAAAACTGTACGTTATATGT', u'ACATATAACGTACAGTTTTACCCCC', 1, 1, u'chr2L', 243094, 243119, u'-', 0.0703, 1, u'', 25, 21)\n"
       ]
      },
      {
       "output_type": "stream",
       "stream": "stderr",
       "text": [
        "DEBUG:django.db.backends:(0.000) SELECT `loq_library`.`library_id`, `loq_library`.`rescue`, `loq_library`.`description`, `loq_library`.`organism`, `loq_library`.`strain`, `loq_library`.`allele`, `loq_library`.`tissue`, `loq_library`.`target`, `loq_library`.`type`, `loq_library`.`total_mapped`, `loq_library`.`resolution`, `loq_library`.`source_org`, `loq_library`.`source_person`, `loq_library`.`five_prime_adapter_sequence`, `loq_library`.`three_prime_adapter_sequence`, `loq_library`.`multiplex_barcode_sequence`, `loq_library`.`notes` FROM `loq_library` WHERE `loq_library`.`library_id` = 'D005' ; args=(u'D005',)\n"
       ]
      },
      {
       "output_type": "stream",
       "stream": "stderr",
       "text": [
        "DEBUG:django.db.backends:(0.001) SELECT (1) AS `a` FROM `loq_read_alignment` WHERE `loq_read_alignment`.`id` = 22  LIMIT 1; args=(22,)\n"
       ]
      },
      {
       "output_type": "stream",
       "stream": "stderr",
       "text": [
        "DEBUG:django.db.backends:(0.000) UPDATE `loq_read_alignment` SET `lib` = 'D005', `library_id` = 'D005', `sequence` = 'TAAAACTGTACGTTATATG', `rev_sequence` = 'CATATAACGTACAGTTTTA', `read_counts` = 1, `genomic_hits` = 1, `chr` = 'chr2L', `start` = 243095, `stop` = 243114, `strand` = '-', `normReads` = 0.0703, `intervalName_id` = 1, `structure` = '', `read_length` = 19 WHERE `loq_read_alignment`.`id` = 22 ; args=(u'D005', u'D005', u'TAAAACTGTACGTTATATG', u'CATATAACGTACAGTTTTA', 1, 1, u'chr2L', 243095, 243114, u'-', 0.0703, 1, u'', 19, 22)\n"
       ]
      },
      {
       "output_type": "stream",
       "stream": "stderr",
       "text": [
        "DEBUG:django.db.backends:(0.000) SELECT `loq_library`.`library_id`, `loq_library`.`rescue`, `loq_library`.`description`, `loq_library`.`organism`, `loq_library`.`strain`, `loq_library`.`allele`, `loq_library`.`tissue`, `loq_library`.`target`, `loq_library`.`type`, `loq_library`.`total_mapped`, `loq_library`.`resolution`, `loq_library`.`source_org`, `loq_library`.`source_person`, `loq_library`.`five_prime_adapter_sequence`, `loq_library`.`three_prime_adapter_sequence`, `loq_library`.`multiplex_barcode_sequence`, `loq_library`.`notes` FROM `loq_library` WHERE `loq_library`.`library_id` = 'D005' ; args=(u'D005',)\n"
       ]
      },
      {
       "output_type": "stream",
       "stream": "stderr",
       "text": [
        "DEBUG:django.db.backends:(0.001) SELECT (1) AS `a` FROM `loq_read_alignment` WHERE `loq_read_alignment`.`id` = 23  LIMIT 1; args=(23,)\n"
       ]
      },
      {
       "output_type": "stream",
       "stream": "stderr",
       "text": [
        "DEBUG:django.db.backends:(0.001) UPDATE `loq_read_alignment` SET `lib` = 'D005', `library_id` = 'D005', `sequence` = 'GGTAAAACTGTACGTTATATG', `rev_sequence` = 'CATATAACGTACAGTTTTACC', `read_counts` = 3, `genomic_hits` = 1, `chr` = 'chr2L', `start` = 243095, `stop` = 243116, `strand` = '-', `normReads` = 0.211, `intervalName_id` = 1, `structure` = '', `read_length` = 21 WHERE `loq_read_alignment`.`id` = 23 ; args=(u'D005', u'D005', u'GGTAAAACTGTACGTTATATG', u'CATATAACGTACAGTTTTACC', 3, 1, u'chr2L', 243095, 243116, u'-', 0.211, 1, u'', 21, 23)\n"
       ]
      },
      {
       "output_type": "stream",
       "stream": "stderr",
       "text": [
        "DEBUG:django.db.backends:(0.000) SELECT `loq_library`.`library_id`, `loq_library`.`rescue`, `loq_library`.`description`, `loq_library`.`organism`, `loq_library`.`strain`, `loq_library`.`allele`, `loq_library`.`tissue`, `loq_library`.`target`, `loq_library`.`type`, `loq_library`.`total_mapped`, `loq_library`.`resolution`, `loq_library`.`source_org`, `loq_library`.`source_person`, `loq_library`.`five_prime_adapter_sequence`, `loq_library`.`three_prime_adapter_sequence`, `loq_library`.`multiplex_barcode_sequence`, `loq_library`.`notes` FROM `loq_library` WHERE `loq_library`.`library_id` = 'D005' ; args=(u'D005',)\n"
       ]
      },
      {
       "output_type": "stream",
       "stream": "stderr",
       "text": [
        "DEBUG:django.db.backends:(0.001) SELECT (1) AS `a` FROM `loq_read_alignment` WHERE `loq_read_alignment`.`id` = 24  LIMIT 1; args=(24,)\n"
       ]
      },
      {
       "output_type": "stream",
       "stream": "stderr",
       "text": [
        "DEBUG:django.db.backends:(0.000) UPDATE `loq_read_alignment` SET `lib` = 'D005', `library_id` = 'D005', `sequence` = 'GGGTAAAACTGTACGTTATATG', `rev_sequence` = 'CATATAACGTACAGTTTTACCC', `read_counts` = 3, `genomic_hits` = 1, `chr` = 'chr2L', `start` = 243095, `stop` = 243117, `strand` = '-', `normReads` = 0.211, `intervalName_id` = 1, `structure` = '', `read_length` = 22 WHERE `loq_read_alignment`.`id` = 24 ; args=(u'D005', u'D005', u'GGGTAAAACTGTACGTTATATG', u'CATATAACGTACAGTTTTACCC', 3, 1, u'chr2L', 243095, 243117, u'-', 0.211, 1, u'', 22, 24)\n"
       ]
      },
      {
       "output_type": "stream",
       "stream": "stderr",
       "text": [
        "DEBUG:django.db.backends:(0.000) SELECT `loq_library`.`library_id`, `loq_library`.`rescue`, `loq_library`.`description`, `loq_library`.`organism`, `loq_library`.`strain`, `loq_library`.`allele`, `loq_library`.`tissue`, `loq_library`.`target`, `loq_library`.`type`, `loq_library`.`total_mapped`, `loq_library`.`resolution`, `loq_library`.`source_org`, `loq_library`.`source_person`, `loq_library`.`five_prime_adapter_sequence`, `loq_library`.`three_prime_adapter_sequence`, `loq_library`.`multiplex_barcode_sequence`, `loq_library`.`notes` FROM `loq_library` WHERE `loq_library`.`library_id` = 'D005' ; args=(u'D005',)\n"
       ]
      },
      {
       "output_type": "stream",
       "stream": "stderr",
       "text": [
        "DEBUG:django.db.backends:(0.001) SELECT (1) AS `a` FROM `loq_read_alignment` WHERE `loq_read_alignment`.`id` = 25  LIMIT 1; args=(25,)\n"
       ]
      },
      {
       "output_type": "stream",
       "stream": "stderr",
       "text": [
        "DEBUG:django.db.backends:(0.000) UPDATE `loq_read_alignment` SET `lib` = 'D005', `library_id` = 'D005', `sequence` = 'GGGGTAAAACTGTACGTTATATG', `rev_sequence` = 'CATATAACGTACAGTTTTACCCC', `read_counts` = 1419, `genomic_hits` = 1, `chr` = 'chr2L', `start` = 243095, `stop` = 243118, `strand` = '-', `normReads` = 99.8232, `intervalName_id` = 1, `structure` = '', `read_length` = 23 WHERE `loq_read_alignment`.`id` = 25 ; args=(u'D005', u'D005', u'GGGGTAAAACTGTACGTTATATG', u'CATATAACGTACAGTTTTACCCC', 1419, 1, u'chr2L', 243095, 243118, u'-', 99.8232, 1, u'', 23, 25)\n"
       ]
      },
      {
       "output_type": "stream",
       "stream": "stderr",
       "text": [
        "DEBUG:django.db.backends:(0.000) SELECT `loq_library`.`library_id`, `loq_library`.`rescue`, `loq_library`.`description`, `loq_library`.`organism`, `loq_library`.`strain`, `loq_library`.`allele`, `loq_library`.`tissue`, `loq_library`.`target`, `loq_library`.`type`, `loq_library`.`total_mapped`, `loq_library`.`resolution`, `loq_library`.`source_org`, `loq_library`.`source_person`, `loq_library`.`five_prime_adapter_sequence`, `loq_library`.`three_prime_adapter_sequence`, `loq_library`.`multiplex_barcode_sequence`, `loq_library`.`notes` FROM `loq_library` WHERE `loq_library`.`library_id` = 'D005' ; args=(u'D005',)\n"
       ]
      },
      {
       "output_type": "stream",
       "stream": "stderr",
       "text": [
        "DEBUG:django.db.backends:(0.001) SELECT (1) AS `a` FROM `loq_read_alignment` WHERE `loq_read_alignment`.`id` = 26  LIMIT 1; args=(26,)\n"
       ]
      },
      {
       "output_type": "stream",
       "stream": "stderr",
       "text": [
        "DEBUG:django.db.backends:(0.001) UPDATE `loq_read_alignment` SET `lib` = 'D005', `library_id` = 'D005', `sequence` = 'GGGGGTAAAACTGTACGTTATATG', `rev_sequence` = 'CATATAACGTACAGTTTTACCCCC', `read_counts` = 44, `genomic_hits` = 1, `chr` = 'chr2L', `start` = 243095, `stop` = 243119, `strand` = '-', `normReads` = 3.0953, `intervalName_id` = 1, `structure` = '', `read_length` = 24 WHERE `loq_read_alignment`.`id` = 26 ; args=(u'D005', u'D005', u'GGGGGTAAAACTGTACGTTATATG', u'CATATAACGTACAGTTTTACCCCC', 44, 1, u'chr2L', 243095, 243119, u'-', 3.0953, 1, u'', 24, 26)\n"
       ]
      },
      {
       "output_type": "stream",
       "stream": "stderr",
       "text": [
        "DEBUG:django.db.backends:(0.000) SELECT `loq_library`.`library_id`, `loq_library`.`rescue`, `loq_library`.`description`, `loq_library`.`organism`, `loq_library`.`strain`, `loq_library`.`allele`, `loq_library`.`tissue`, `loq_library`.`target`, `loq_library`.`type`, `loq_library`.`total_mapped`, `loq_library`.`resolution`, `loq_library`.`source_org`, `loq_library`.`source_person`, `loq_library`.`five_prime_adapter_sequence`, `loq_library`.`three_prime_adapter_sequence`, `loq_library`.`multiplex_barcode_sequence`, `loq_library`.`notes` FROM `loq_library` WHERE `loq_library`.`library_id` = 'D005' ; args=(u'D005',)\n"
       ]
      },
      {
       "output_type": "stream",
       "stream": "stderr",
       "text": [
        "DEBUG:django.db.backends:(0.015) SELECT (1) AS `a` FROM `loq_read_alignment` WHERE `loq_read_alignment`.`id` = 27  LIMIT 1; args=(27,)\n"
       ]
      },
      {
       "output_type": "stream",
       "stream": "stderr",
       "text": [
        "DEBUG:django.db.backends:(0.000) UPDATE `loq_read_alignment` SET `lib` = 'D005', `library_id` = 'D005', `sequence` = 'GGGTAAAACTGTACGTTATAT', `rev_sequence` = 'ATATAACGTACAGTTTTACCC', `read_counts` = 1, `genomic_hits` = 1, `chr` = 'chr2L', `start` = 243096, `stop` = 243117, `strand` = '-', `normReads` = 0.0703, `intervalName_id` = 1, `structure` = '', `read_length` = 21 WHERE `loq_read_alignment`.`id` = 27 ; args=(u'D005', u'D005', u'GGGTAAAACTGTACGTTATAT', u'ATATAACGTACAGTTTTACCC', 1, 1, u'chr2L', 243096, 243117, u'-', 0.0703, 1, u'', 21, 27)\n"
       ]
      },
      {
       "output_type": "stream",
       "stream": "stderr",
       "text": [
        "DEBUG:django.db.backends:(0.000) SELECT `loq_library`.`library_id`, `loq_library`.`rescue`, `loq_library`.`description`, `loq_library`.`organism`, `loq_library`.`strain`, `loq_library`.`allele`, `loq_library`.`tissue`, `loq_library`.`target`, `loq_library`.`type`, `loq_library`.`total_mapped`, `loq_library`.`resolution`, `loq_library`.`source_org`, `loq_library`.`source_person`, `loq_library`.`five_prime_adapter_sequence`, `loq_library`.`three_prime_adapter_sequence`, `loq_library`.`multiplex_barcode_sequence`, `loq_library`.`notes` FROM `loq_library` WHERE `loq_library`.`library_id` = 'D005' ; args=(u'D005',)\n"
       ]
      },
      {
       "output_type": "stream",
       "stream": "stderr",
       "text": [
        "DEBUG:django.db.backends:(0.000) SELECT (1) AS `a` FROM `loq_read_alignment` WHERE `loq_read_alignment`.`id` = 28  LIMIT 1; args=(28,)\n"
       ]
      },
      {
       "output_type": "stream",
       "stream": "stderr",
       "text": [
        "DEBUG:django.db.backends:(0.001) UPDATE `loq_read_alignment` SET `lib` = 'D005', `library_id` = 'D005', `sequence` = 'GGGGTAAAACTGTACGTTATAT', `rev_sequence` = 'ATATAACGTACAGTTTTACCCC', `read_counts` = 452, `genomic_hits` = 1, `chr` = 'chr2L', `start` = 243096, `stop` = 243118, `strand` = '-', `normReads` = 31.7971, `intervalName_id` = 1, `structure` = '', `read_length` = 22 WHERE `loq_read_alignment`.`id` = 28 ; args=(u'D005', u'D005', u'GGGGTAAAACTGTACGTTATAT', u'ATATAACGTACAGTTTTACCCC', 452, 1, u'chr2L', 243096, 243118, u'-', 31.7971, 1, u'', 22, 28)\n"
       ]
      },
      {
       "output_type": "stream",
       "stream": "stderr",
       "text": [
        "DEBUG:django.db.backends:(0.000) SELECT `loq_library`.`library_id`, `loq_library`.`rescue`, `loq_library`.`description`, `loq_library`.`organism`, `loq_library`.`strain`, `loq_library`.`allele`, `loq_library`.`tissue`, `loq_library`.`target`, `loq_library`.`type`, `loq_library`.`total_mapped`, `loq_library`.`resolution`, `loq_library`.`source_org`, `loq_library`.`source_person`, `loq_library`.`five_prime_adapter_sequence`, `loq_library`.`three_prime_adapter_sequence`, `loq_library`.`multiplex_barcode_sequence`, `loq_library`.`notes` FROM `loq_library` WHERE `loq_library`.`library_id` = 'D005' ; args=(u'D005',)\n"
       ]
      },
      {
       "output_type": "stream",
       "stream": "stderr",
       "text": [
        "DEBUG:django.db.backends:(0.000) SELECT (1) AS `a` FROM `loq_read_alignment` WHERE `loq_read_alignment`.`id` = 29  LIMIT 1; args=(29,)\n"
       ]
      },
      {
       "output_type": "stream",
       "stream": "stderr",
       "text": [
        "DEBUG:django.db.backends:(0.000) UPDATE `loq_read_alignment` SET `lib` = 'D005', `library_id` = 'D005', `sequence` = 'GGGGGTAAAACTGTACGTTATAT', `rev_sequence` = 'ATATAACGTACAGTTTTACCCCC', `read_counts` = 25, `genomic_hits` = 1, `chr` = 'chr2L', `start` = 243096, `stop` = 243119, `strand` = '-', `normReads` = 1.7587, `intervalName_id` = 1, `structure` = '', `read_length` = 23 WHERE `loq_read_alignment`.`id` = 29 ; args=(u'D005', u'D005', u'GGGGGTAAAACTGTACGTTATAT', u'ATATAACGTACAGTTTTACCCCC', 25, 1, u'chr2L', 243096, 243119, u'-', 1.7587, 1, u'', 23, 29)\n"
       ]
      },
      {
       "output_type": "stream",
       "stream": "stderr",
       "text": [
        "DEBUG:django.db.backends:(0.000) SELECT `loq_library`.`library_id`, `loq_library`.`rescue`, `loq_library`.`description`, `loq_library`.`organism`, `loq_library`.`strain`, `loq_library`.`allele`, `loq_library`.`tissue`, `loq_library`.`target`, `loq_library`.`type`, `loq_library`.`total_mapped`, `loq_library`.`resolution`, `loq_library`.`source_org`, `loq_library`.`source_person`, `loq_library`.`five_prime_adapter_sequence`, `loq_library`.`three_prime_adapter_sequence`, `loq_library`.`multiplex_barcode_sequence`, `loq_library`.`notes` FROM `loq_library` WHERE `loq_library`.`library_id` = 'D005' ; args=(u'D005',)\n"
       ]
      },
      {
       "output_type": "stream",
       "stream": "stderr",
       "text": [
        "DEBUG:django.db.backends:(0.000) SELECT (1) AS `a` FROM `loq_read_alignment` WHERE `loq_read_alignment`.`id` = 30  LIMIT 1; args=(30,)\n"
       ]
      },
      {
       "output_type": "stream",
       "stream": "stderr",
       "text": [
        "DEBUG:django.db.backends:(0.000) UPDATE `loq_read_alignment` SET `lib` = 'D005', `library_id` = 'D005', `sequence` = 'GTAAAACTGTACGTTATA', `rev_sequence` = 'TATAACGTACAGTTTTAC', `read_counts` = 1, `genomic_hits` = 1, `chr` = 'chr2L', `start` = 243097, `stop` = 243115, `strand` = '-', `normReads` = 0.0703, `intervalName_id` = 1, `structure` = '', `read_length` = 18 WHERE `loq_read_alignment`.`id` = 30 ; args=(u'D005', u'D005', u'GTAAAACTGTACGTTATA', u'TATAACGTACAGTTTTAC', 1, 1, u'chr2L', 243097, 243115, u'-', 0.0703, 1, u'', 18, 30)\n"
       ]
      },
      {
       "output_type": "stream",
       "stream": "stderr",
       "text": [
        "DEBUG:django.db.backends:(0.000) SELECT `loq_library`.`library_id`, `loq_library`.`rescue`, `loq_library`.`description`, `loq_library`.`organism`, `loq_library`.`strain`, `loq_library`.`allele`, `loq_library`.`tissue`, `loq_library`.`target`, `loq_library`.`type`, `loq_library`.`total_mapped`, `loq_library`.`resolution`, `loq_library`.`source_org`, `loq_library`.`source_person`, `loq_library`.`five_prime_adapter_sequence`, `loq_library`.`three_prime_adapter_sequence`, `loq_library`.`multiplex_barcode_sequence`, `loq_library`.`notes` FROM `loq_library` WHERE `loq_library`.`library_id` = 'D005' ; args=(u'D005',)\n"
       ]
      },
      {
       "output_type": "stream",
       "stream": "stderr",
       "text": [
        "DEBUG:django.db.backends:(0.000) SELECT (1) AS `a` FROM `loq_read_alignment` WHERE `loq_read_alignment`.`id` = 31  LIMIT 1; args=(31,)\n"
       ]
      },
      {
       "output_type": "stream",
       "stream": "stderr",
       "text": [
        "DEBUG:django.db.backends:(0.001) UPDATE `loq_read_alignment` SET `lib` = 'D005', `library_id` = 'D005', `sequence` = 'GGTAAAACTGTACGTTATA', `rev_sequence` = 'TATAACGTACAGTTTTACC', `read_counts` = 1, `genomic_hits` = 1, `chr` = 'chr2L', `start` = 243097, `stop` = 243116, `strand` = '-', `normReads` = 0.0703, `intervalName_id` = 1, `structure` = '', `read_length` = 19 WHERE `loq_read_alignment`.`id` = 31 ; args=(u'D005', u'D005', u'GGTAAAACTGTACGTTATA', u'TATAACGTACAGTTTTACC', 1, 1, u'chr2L', 243097, 243116, u'-', 0.0703, 1, u'', 19, 31)\n"
       ]
      },
      {
       "output_type": "stream",
       "stream": "stderr",
       "text": [
        "DEBUG:django.db.backends:(0.000) SELECT `loq_library`.`library_id`, `loq_library`.`rescue`, `loq_library`.`description`, `loq_library`.`organism`, `loq_library`.`strain`, `loq_library`.`allele`, `loq_library`.`tissue`, `loq_library`.`target`, `loq_library`.`type`, `loq_library`.`total_mapped`, `loq_library`.`resolution`, `loq_library`.`source_org`, `loq_library`.`source_person`, `loq_library`.`five_prime_adapter_sequence`, `loq_library`.`three_prime_adapter_sequence`, `loq_library`.`multiplex_barcode_sequence`, `loq_library`.`notes` FROM `loq_library` WHERE `loq_library`.`library_id` = 'D005' ; args=(u'D005',)\n"
       ]
      },
      {
       "output_type": "stream",
       "stream": "stderr",
       "text": [
        "DEBUG:django.db.backends:(0.001) SELECT (1) AS `a` FROM `loq_read_alignment` WHERE `loq_read_alignment`.`id` = 32  LIMIT 1; args=(32,)\n"
       ]
      },
      {
       "output_type": "stream",
       "stream": "stderr",
       "text": [
        "DEBUG:django.db.backends:(0.000) UPDATE `loq_read_alignment` SET `lib` = 'D005', `library_id` = 'D005', `sequence` = 'GGGTAAAACTGTACGTTATA', `rev_sequence` = 'TATAACGTACAGTTTTACCC', `read_counts` = 2, `genomic_hits` = 1, `chr` = 'chr2L', `start` = 243097, `stop` = 243117, `strand` = '-', `normReads` = 0.1407, `intervalName_id` = 1, `structure` = '', `read_length` = 20 WHERE `loq_read_alignment`.`id` = 32 ; args=(u'D005', u'D005', u'GGGTAAAACTGTACGTTATA', u'TATAACGTACAGTTTTACCC', 2, 1, u'chr2L', 243097, 243117, u'-', 0.1407, 1, u'', 20, 32)\n"
       ]
      },
      {
       "output_type": "stream",
       "stream": "stderr",
       "text": [
        "DEBUG:django.db.backends:(0.000) SELECT `loq_library`.`library_id`, `loq_library`.`rescue`, `loq_library`.`description`, `loq_library`.`organism`, `loq_library`.`strain`, `loq_library`.`allele`, `loq_library`.`tissue`, `loq_library`.`target`, `loq_library`.`type`, `loq_library`.`total_mapped`, `loq_library`.`resolution`, `loq_library`.`source_org`, `loq_library`.`source_person`, `loq_library`.`five_prime_adapter_sequence`, `loq_library`.`three_prime_adapter_sequence`, `loq_library`.`multiplex_barcode_sequence`, `loq_library`.`notes` FROM `loq_library` WHERE `loq_library`.`library_id` = 'D005' ; args=(u'D005',)\n"
       ]
      },
      {
       "output_type": "stream",
       "stream": "stderr",
       "text": [
        "DEBUG:django.db.backends:(0.000) SELECT (1) AS `a` FROM `loq_read_alignment` WHERE `loq_read_alignment`.`id` = 33  LIMIT 1; args=(33,)\n"
       ]
      },
      {
       "output_type": "stream",
       "stream": "stderr",
       "text": [
        "DEBUG:django.db.backends:(0.001) UPDATE `loq_read_alignment` SET `lib` = 'D005', `library_id` = 'D005', `sequence` = 'GGGGTAAAACTGTACGTTATA', `rev_sequence` = 'TATAACGTACAGTTTTACCCC', `read_counts` = 937, `genomic_hits` = 1, `chr` = 'chr2L', `start` = 243097, `stop` = 243118, `strand` = '-', `normReads` = 65.9157, `intervalName_id` = 1, `structure` = '', `read_length` = 21 WHERE `loq_read_alignment`.`id` = 33 ; args=(u'D005', u'D005', u'GGGGTAAAACTGTACGTTATA', u'TATAACGTACAGTTTTACCCC', 937, 1, u'chr2L', 243097, 243118, u'-', 65.9157, 1, u'', 21, 33)\n"
       ]
      },
      {
       "output_type": "stream",
       "stream": "stderr",
       "text": [
        "DEBUG:django.db.backends:(0.000) SELECT `loq_library`.`library_id`, `loq_library`.`rescue`, `loq_library`.`description`, `loq_library`.`organism`, `loq_library`.`strain`, `loq_library`.`allele`, `loq_library`.`tissue`, `loq_library`.`target`, `loq_library`.`type`, `loq_library`.`total_mapped`, `loq_library`.`resolution`, `loq_library`.`source_org`, `loq_library`.`source_person`, `loq_library`.`five_prime_adapter_sequence`, `loq_library`.`three_prime_adapter_sequence`, `loq_library`.`multiplex_barcode_sequence`, `loq_library`.`notes` FROM `loq_library` WHERE `loq_library`.`library_id` = 'D005' ; args=(u'D005',)\n"
       ]
      },
      {
       "output_type": "stream",
       "stream": "stderr",
       "text": [
        "DEBUG:django.db.backends:(0.001) SELECT (1) AS `a` FROM `loq_read_alignment` WHERE `loq_read_alignment`.`id` = 34  LIMIT 1; args=(34,)\n"
       ]
      },
      {
       "output_type": "stream",
       "stream": "stderr",
       "text": [
        "DEBUG:django.db.backends:(0.001) UPDATE `loq_read_alignment` SET `lib` = 'D005', `library_id` = 'D005', `sequence` = 'GGGGGTAAAACTGTACGTTATA', `rev_sequence` = 'TATAACGTACAGTTTTACCCCC', `read_counts` = 40, `genomic_hits` = 1, `chr` = 'chr2L', `start` = 243097, `stop` = 243119, `strand` = '-', `normReads` = 2.8139, `intervalName_id` = 1, `structure` = '', `read_length` = 22 WHERE `loq_read_alignment`.`id` = 34 ; args=(u'D005', u'D005', u'GGGGGTAAAACTGTACGTTATA', u'TATAACGTACAGTTTTACCCCC', 40, 1, u'chr2L', 243097, 243119, u'-', 2.8139, 1, u'', 22, 34)\n"
       ]
      },
      {
       "output_type": "stream",
       "stream": "stderr",
       "text": [
        "DEBUG:django.db.backends:(0.000) SELECT `loq_library`.`library_id`, `loq_library`.`rescue`, `loq_library`.`description`, `loq_library`.`organism`, `loq_library`.`strain`, `loq_library`.`allele`, `loq_library`.`tissue`, `loq_library`.`target`, `loq_library`.`type`, `loq_library`.`total_mapped`, `loq_library`.`resolution`, `loq_library`.`source_org`, `loq_library`.`source_person`, `loq_library`.`five_prime_adapter_sequence`, `loq_library`.`three_prime_adapter_sequence`, `loq_library`.`multiplex_barcode_sequence`, `loq_library`.`notes` FROM `loq_library` WHERE `loq_library`.`library_id` = 'D005' ; args=(u'D005',)\n"
       ]
      },
      {
       "output_type": "stream",
       "stream": "stderr",
       "text": [
        "DEBUG:django.db.backends:(0.001) SELECT (1) AS `a` FROM `loq_read_alignment` WHERE `loq_read_alignment`.`id` = 35  LIMIT 1; args=(35,)\n"
       ]
      },
      {
       "output_type": "stream",
       "stream": "stderr",
       "text": [
        "DEBUG:django.db.backends:(0.000) UPDATE `loq_read_alignment` SET `lib` = 'D005', `library_id` = 'D005', `sequence` = 'GGGTAAAACTGTACGTTAT', `rev_sequence` = 'ATAACGTACAGTTTTACCC', `read_counts` = 1, `genomic_hits` = 1, `chr` = 'chr2L', `start` = 243098, `stop` = 243117, `strand` = '-', `normReads` = 0.0703, `intervalName_id` = 1, `structure` = '', `read_length` = 19 WHERE `loq_read_alignment`.`id` = 35 ; args=(u'D005', u'D005', u'GGGTAAAACTGTACGTTAT', u'ATAACGTACAGTTTTACCC', 1, 1, u'chr2L', 243098, 243117, u'-', 0.0703, 1, u'', 19, 35)\n"
       ]
      },
      {
       "output_type": "stream",
       "stream": "stderr",
       "text": [
        "DEBUG:django.db.backends:(0.000) SELECT `loq_library`.`library_id`, `loq_library`.`rescue`, `loq_library`.`description`, `loq_library`.`organism`, `loq_library`.`strain`, `loq_library`.`allele`, `loq_library`.`tissue`, `loq_library`.`target`, `loq_library`.`type`, `loq_library`.`total_mapped`, `loq_library`.`resolution`, `loq_library`.`source_org`, `loq_library`.`source_person`, `loq_library`.`five_prime_adapter_sequence`, `loq_library`.`three_prime_adapter_sequence`, `loq_library`.`multiplex_barcode_sequence`, `loq_library`.`notes` FROM `loq_library` WHERE `loq_library`.`library_id` = 'D005' ; args=(u'D005',)\n"
       ]
      },
      {
       "output_type": "stream",
       "stream": "stderr",
       "text": [
        "DEBUG:django.db.backends:(0.000) SELECT (1) AS `a` FROM `loq_read_alignment` WHERE `loq_read_alignment`.`id` = 36  LIMIT 1; args=(36,)\n"
       ]
      },
      {
       "output_type": "stream",
       "stream": "stderr",
       "text": [
        "DEBUG:django.db.backends:(0.001) UPDATE `loq_read_alignment` SET `lib` = 'D005', `library_id` = 'D005', `sequence` = 'GGGGTAAAACTGTACGTTAT', `rev_sequence` = 'ATAACGTACAGTTTTACCCC', `read_counts` = 318, `genomic_hits` = 1, `chr` = 'chr2L', `start` = 243098, `stop` = 243118, `strand` = '-', `normReads` = 22.3705, `intervalName_id` = 1, `structure` = '', `read_length` = 20 WHERE `loq_read_alignment`.`id` = 36 ; args=(u'D005', u'D005', u'GGGGTAAAACTGTACGTTAT', u'ATAACGTACAGTTTTACCCC', 318, 1, u'chr2L', 243098, 243118, u'-', 22.3705, 1, u'', 20, 36)\n"
       ]
      },
      {
       "output_type": "stream",
       "stream": "stderr",
       "text": [
        "DEBUG:django.db.backends:(0.000) SELECT `loq_library`.`library_id`, `loq_library`.`rescue`, `loq_library`.`description`, `loq_library`.`organism`, `loq_library`.`strain`, `loq_library`.`allele`, `loq_library`.`tissue`, `loq_library`.`target`, `loq_library`.`type`, `loq_library`.`total_mapped`, `loq_library`.`resolution`, `loq_library`.`source_org`, `loq_library`.`source_person`, `loq_library`.`five_prime_adapter_sequence`, `loq_library`.`three_prime_adapter_sequence`, `loq_library`.`multiplex_barcode_sequence`, `loq_library`.`notes` FROM `loq_library` WHERE `loq_library`.`library_id` = 'D005' ; args=(u'D005',)\n"
       ]
      },
      {
       "output_type": "stream",
       "stream": "stderr",
       "text": [
        "DEBUG:django.db.backends:(0.001) SELECT (1) AS `a` FROM `loq_read_alignment` WHERE `loq_read_alignment`.`id` = 37  LIMIT 1; args=(37,)\n"
       ]
      },
      {
       "output_type": "stream",
       "stream": "stderr",
       "text": [
        "DEBUG:django.db.backends:(0.000) UPDATE `loq_read_alignment` SET `lib` = 'D005', `library_id` = 'D005', `sequence` = 'GGGGGTAAAACTGTACGTTAT', `rev_sequence` = 'ATAACGTACAGTTTTACCCCC', `read_counts` = 22, `genomic_hits` = 1, `chr` = 'chr2L', `start` = 243098, `stop` = 243119, `strand` = '-', `normReads` = 1.5476, `intervalName_id` = 1, `structure` = '', `read_length` = 21 WHERE `loq_read_alignment`.`id` = 37 ; args=(u'D005', u'D005', u'GGGGGTAAAACTGTACGTTAT', u'ATAACGTACAGTTTTACCCCC', 22, 1, u'chr2L', 243098, 243119, u'-', 1.5476, 1, u'', 21, 37)\n"
       ]
      },
      {
       "output_type": "stream",
       "stream": "stderr",
       "text": [
        "DEBUG:django.db.backends:(0.000) SELECT `loq_library`.`library_id`, `loq_library`.`rescue`, `loq_library`.`description`, `loq_library`.`organism`, `loq_library`.`strain`, `loq_library`.`allele`, `loq_library`.`tissue`, `loq_library`.`target`, `loq_library`.`type`, `loq_library`.`total_mapped`, `loq_library`.`resolution`, `loq_library`.`source_org`, `loq_library`.`source_person`, `loq_library`.`five_prime_adapter_sequence`, `loq_library`.`three_prime_adapter_sequence`, `loq_library`.`multiplex_barcode_sequence`, `loq_library`.`notes` FROM `loq_library` WHERE `loq_library`.`library_id` = 'D005' ; args=(u'D005',)\n"
       ]
      },
      {
       "output_type": "stream",
       "stream": "stderr",
       "text": [
        "DEBUG:django.db.backends:(0.001) SELECT (1) AS `a` FROM `loq_read_alignment` WHERE `loq_read_alignment`.`id` = 38  LIMIT 1; args=(38,)\n"
       ]
      },
      {
       "output_type": "stream",
       "stream": "stderr",
       "text": [
        "DEBUG:django.db.backends:(0.000) UPDATE `loq_read_alignment` SET `lib` = 'D005', `library_id` = 'D005', `sequence` = 'GGGGTAAAACTGTACGTTA', `rev_sequence` = 'TAACGTACAGTTTTACCCC', `read_counts` = 78, `genomic_hits` = 1, `chr` = 'chr2L', `start` = 243099, `stop` = 243118, `strand` = '-', `normReads` = 5.4871, `intervalName_id` = 1, `structure` = '', `read_length` = 19 WHERE `loq_read_alignment`.`id` = 38 ; args=(u'D005', u'D005', u'GGGGTAAAACTGTACGTTA', u'TAACGTACAGTTTTACCCC', 78, 1, u'chr2L', 243099, 243118, u'-', 5.4871, 1, u'', 19, 38)\n"
       ]
      },
      {
       "output_type": "stream",
       "stream": "stderr",
       "text": [
        "DEBUG:django.db.backends:(0.000) SELECT `loq_library`.`library_id`, `loq_library`.`rescue`, `loq_library`.`description`, `loq_library`.`organism`, `loq_library`.`strain`, `loq_library`.`allele`, `loq_library`.`tissue`, `loq_library`.`target`, `loq_library`.`type`, `loq_library`.`total_mapped`, `loq_library`.`resolution`, `loq_library`.`source_org`, `loq_library`.`source_person`, `loq_library`.`five_prime_adapter_sequence`, `loq_library`.`three_prime_adapter_sequence`, `loq_library`.`multiplex_barcode_sequence`, `loq_library`.`notes` FROM `loq_library` WHERE `loq_library`.`library_id` = 'D005' ; args=(u'D005',)\n"
       ]
      },
      {
       "output_type": "stream",
       "stream": "stderr",
       "text": [
        "DEBUG:django.db.backends:(0.001) SELECT (1) AS `a` FROM `loq_read_alignment` WHERE `loq_read_alignment`.`id` = 39  LIMIT 1; args=(39,)\n"
       ]
      },
      {
       "output_type": "stream",
       "stream": "stderr",
       "text": [
        "DEBUG:django.db.backends:(0.019) UPDATE `loq_read_alignment` SET `lib` = 'D005', `library_id` = 'D005', `sequence` = 'GGGGGTAAAACTGTACGTTA', `rev_sequence` = 'TAACGTACAGTTTTACCCCC', `read_counts` = 8, `genomic_hits` = 1, `chr` = 'chr2L', `start` = 243099, `stop` = 243119, `strand` = '-', `normReads` = 0.5628, `intervalName_id` = 1, `structure` = '', `read_length` = 20 WHERE `loq_read_alignment`.`id` = 39 ; args=(u'D005', u'D005', u'GGGGGTAAAACTGTACGTTA', u'TAACGTACAGTTTTACCCCC', 8, 1, u'chr2L', 243099, 243119, u'-', 0.5628, 1, u'', 20, 39)\n"
       ]
      },
      {
       "output_type": "stream",
       "stream": "stderr",
       "text": [
        "DEBUG:django.db.backends:(0.001) SELECT `loq_library`.`library_id`, `loq_library`.`rescue`, `loq_library`.`description`, `loq_library`.`organism`, `loq_library`.`strain`, `loq_library`.`allele`, `loq_library`.`tissue`, `loq_library`.`target`, `loq_library`.`type`, `loq_library`.`total_mapped`, `loq_library`.`resolution`, `loq_library`.`source_org`, `loq_library`.`source_person`, `loq_library`.`five_prime_adapter_sequence`, `loq_library`.`three_prime_adapter_sequence`, `loq_library`.`multiplex_barcode_sequence`, `loq_library`.`notes` FROM `loq_library` WHERE `loq_library`.`library_id` = 'D005' ; args=(u'D005',)\n"
       ]
      },
      {
       "output_type": "stream",
       "stream": "stderr",
       "text": [
        "DEBUG:django.db.backends:(0.000) SELECT (1) AS `a` FROM `loq_read_alignment` WHERE `loq_read_alignment`.`id` = 40  LIMIT 1; args=(40,)\n"
       ]
      },
      {
       "output_type": "stream",
       "stream": "stderr",
       "text": [
        "DEBUG:django.db.backends:(0.015) UPDATE `loq_read_alignment` SET `lib` = 'D005', `library_id` = 'D005', `sequence` = 'GGGGTAAAACTGTACGTT', `rev_sequence` = 'AACGTACAGTTTTACCCC', `read_counts` = 84, `genomic_hits` = 1, `chr` = 'chr2L', `start` = 243100, `stop` = 243118, `strand` = '-', `normReads` = 5.9092, `intervalName_id` = 1, `structure` = '', `read_length` = 18 WHERE `loq_read_alignment`.`id` = 40 ; args=(u'D005', u'D005', u'GGGGTAAAACTGTACGTT', u'AACGTACAGTTTTACCCC', 84, 1, u'chr2L', 243100, 243118, u'-', 5.9092, 1, u'', 18, 40)\n"
       ]
      },
      {
       "output_type": "stream",
       "stream": "stderr",
       "text": [
        "DEBUG:django.db.backends:(0.000) SELECT `loq_library`.`library_id`, `loq_library`.`rescue`, `loq_library`.`description`, `loq_library`.`organism`, `loq_library`.`strain`, `loq_library`.`allele`, `loq_library`.`tissue`, `loq_library`.`target`, `loq_library`.`type`, `loq_library`.`total_mapped`, `loq_library`.`resolution`, `loq_library`.`source_org`, `loq_library`.`source_person`, `loq_library`.`five_prime_adapter_sequence`, `loq_library`.`three_prime_adapter_sequence`, `loq_library`.`multiplex_barcode_sequence`, `loq_library`.`notes` FROM `loq_library` WHERE `loq_library`.`library_id` = 'D005' ; args=(u'D005',)\n"
       ]
      },
      {
       "output_type": "stream",
       "stream": "stderr",
       "text": [
        "DEBUG:django.db.backends:(0.001) SELECT (1) AS `a` FROM `loq_read_alignment` WHERE `loq_read_alignment`.`id` = 41  LIMIT 1; args=(41,)\n"
       ]
      },
      {
       "output_type": "stream",
       "stream": "stderr",
       "text": [
        "DEBUG:django.db.backends:(0.001) UPDATE `loq_read_alignment` SET `lib` = 'D005', `library_id` = 'D005', `sequence` = 'GGGGGTAAAACTGTACGTT', `rev_sequence` = 'AACGTACAGTTTTACCCCC', `read_counts` = 5, `genomic_hits` = 1, `chr` = 'chr2L', `start` = 243100, `stop` = 243119, `strand` = '-', `normReads` = 0.3517, `intervalName_id` = 1, `structure` = '', `read_length` = 19 WHERE `loq_read_alignment`.`id` = 41 ; args=(u'D005', u'D005', u'GGGGGTAAAACTGTACGTT', u'AACGTACAGTTTTACCCCC', 5, 1, u'chr2L', 243100, 243119, u'-', 0.3517, 1, u'', 19, 41)\n"
       ]
      },
      {
       "output_type": "stream",
       "stream": "stderr",
       "text": [
        "DEBUG:django.db.backends:(0.000) SELECT `loq_library`.`library_id`, `loq_library`.`rescue`, `loq_library`.`description`, `loq_library`.`organism`, `loq_library`.`strain`, `loq_library`.`allele`, `loq_library`.`tissue`, `loq_library`.`target`, `loq_library`.`type`, `loq_library`.`total_mapped`, `loq_library`.`resolution`, `loq_library`.`source_org`, `loq_library`.`source_person`, `loq_library`.`five_prime_adapter_sequence`, `loq_library`.`three_prime_adapter_sequence`, `loq_library`.`multiplex_barcode_sequence`, `loq_library`.`notes` FROM `loq_library` WHERE `loq_library`.`library_id` = 'D005' ; args=(u'D005',)\n"
       ]
      },
      {
       "output_type": "stream",
       "stream": "stderr",
       "text": [
        "DEBUG:django.db.backends:(0.022) SELECT (1) AS `a` FROM `loq_read_alignment` WHERE `loq_read_alignment`.`id` = 42  LIMIT 1; args=(42,)\n"
       ]
      },
      {
       "output_type": "stream",
       "stream": "stderr",
       "text": [
        "DEBUG:django.db.backends:(0.000) UPDATE `loq_read_alignment` SET `lib` = 'D005', `library_id` = 'D005', `sequence` = 'GGGGGTAAAACTGTACGT', `rev_sequence` = 'ACGTACAGTTTTACCCCC', `read_counts` = 2, `genomic_hits` = 1, `chr` = 'chr2L', `start` = 243101, `stop` = 243119, `strand` = '-', `normReads` = 0.1407, `intervalName_id` = 1, `structure` = '', `read_length` = 18 WHERE `loq_read_alignment`.`id` = 42 ; args=(u'D005', u'D005', u'GGGGGTAAAACTGTACGT', u'ACGTACAGTTTTACCCCC', 2, 1, u'chr2L', 243101, 243119, u'-', 0.1407, 1, u'', 18, 42)\n"
       ]
      },
      {
       "output_type": "stream",
       "stream": "stderr",
       "text": [
        "DEBUG:django.db.backends:(0.001) SELECT `loq_library`.`library_id`, `loq_library`.`rescue`, `loq_library`.`description`, `loq_library`.`organism`, `loq_library`.`strain`, `loq_library`.`allele`, `loq_library`.`tissue`, `loq_library`.`target`, `loq_library`.`type`, `loq_library`.`total_mapped`, `loq_library`.`resolution`, `loq_library`.`source_org`, `loq_library`.`source_person`, `loq_library`.`five_prime_adapter_sequence`, `loq_library`.`three_prime_adapter_sequence`, `loq_library`.`multiplex_barcode_sequence`, `loq_library`.`notes` FROM `loq_library` WHERE `loq_library`.`library_id` = 'D005' ; args=(u'D005',)\n"
       ]
      },
      {
       "output_type": "stream",
       "stream": "stderr",
       "text": [
        "DEBUG:django.db.backends:(0.000) SELECT (1) AS `a` FROM `loq_read_alignment` WHERE `loq_read_alignment`.`id` = 43  LIMIT 1; args=(43,)\n"
       ]
      },
      {
       "output_type": "stream",
       "stream": "stderr",
       "text": [
        "DEBUG:django.db.backends:(0.001) UPDATE `loq_read_alignment` SET `lib` = 'D005', `library_id` = 'D005', `sequence` = 'ACAATATTGCTCAACATTTTGG', `rev_sequence` = 'CCAAAATGTTGAGCAATATTGT', `read_counts` = 1, `genomic_hits` = 1, `chr` = 'chr2L', `start` = 243118, `stop` = 243140, `strand` = '-', `normReads` = 0.0703, `intervalName_id` = 1, `structure` = '', `read_length` = 22 WHERE `loq_read_alignment`.`id` = 43 ; args=(u'D005', u'D005', u'ACAATATTGCTCAACATTTTGG', u'CCAAAATGTTGAGCAATATTGT', 1, 1, u'chr2L', 243118, 243140, u'-', 0.0703, 1, u'', 22, 43)\n"
       ]
      },
      {
       "output_type": "stream",
       "stream": "stderr",
       "text": [
        "DEBUG:django.db.backends:(0.000) SELECT `loq_library`.`library_id`, `loq_library`.`rescue`, `loq_library`.`description`, `loq_library`.`organism`, `loq_library`.`strain`, `loq_library`.`allele`, `loq_library`.`tissue`, `loq_library`.`target`, `loq_library`.`type`, `loq_library`.`total_mapped`, `loq_library`.`resolution`, `loq_library`.`source_org`, `loq_library`.`source_person`, `loq_library`.`five_prime_adapter_sequence`, `loq_library`.`three_prime_adapter_sequence`, `loq_library`.`multiplex_barcode_sequence`, `loq_library`.`notes` FROM `loq_library` WHERE `loq_library`.`library_id` = 'D005' ; args=(u'D005',)\n"
       ]
      },
      {
       "output_type": "stream",
       "stream": "stderr",
       "text": [
        "DEBUG:django.db.backends:(0.000) SELECT (1) AS `a` FROM `loq_read_alignment` WHERE `loq_read_alignment`.`id` = 44  LIMIT 1; args=(44,)\n"
       ]
      },
      {
       "output_type": "stream",
       "stream": "stderr",
       "text": [
        "DEBUG:django.db.backends:(0.000) UPDATE `loq_read_alignment` SET `lib` = 'D005', `library_id` = 'D005', `sequence` = 'ACTTGGGCCAAGGGAATGCAAACT', `rev_sequence` = NULL, `read_counts` = 2, `genomic_hits` = 1, `chr` = 'chr2L', `start` = 857555, `stop` = 857579, `strand` = '+', `normReads` = 0.1407, `intervalName_id` = 2, `structure` = '', `read_length` = 24 WHERE `loq_read_alignment`.`id` = 44 ; args=(u'D005', u'D005', u'ACTTGGGCCAAGGGAATGCAAACT', 2, 1, u'chr2L', 857555, 857579, u'+', 0.1407, 2, u'', 24, 44)\n"
       ]
      },
      {
       "output_type": "stream",
       "stream": "stderr",
       "text": [
        "DEBUG:django.db.backends:(0.000) SELECT `loq_library`.`library_id`, `loq_library`.`rescue`, `loq_library`.`description`, `loq_library`.`organism`, `loq_library`.`strain`, `loq_library`.`allele`, `loq_library`.`tissue`, `loq_library`.`target`, `loq_library`.`type`, `loq_library`.`total_mapped`, `loq_library`.`resolution`, `loq_library`.`source_org`, `loq_library`.`source_person`, `loq_library`.`five_prime_adapter_sequence`, `loq_library`.`three_prime_adapter_sequence`, `loq_library`.`multiplex_barcode_sequence`, `loq_library`.`notes` FROM `loq_library` WHERE `loq_library`.`library_id` = 'D005' ; args=(u'D005',)\n"
       ]
      },
      {
       "output_type": "stream",
       "stream": "stderr",
       "text": [
        "DEBUG:django.db.backends:(0.001) SELECT (1) AS `a` FROM `loq_read_alignment` WHERE `loq_read_alignment`.`id` = 45  LIMIT 1; args=(45,)\n"
       ]
      },
      {
       "output_type": "stream",
       "stream": "stderr",
       "text": [
        "DEBUG:django.db.backends:(0.000) UPDATE `loq_read_alignment` SET `lib` = 'D005', `library_id` = 'D005', `sequence` = 'TTTGTTCGTTTGGCTTAAGT', `rev_sequence` = NULL, `read_counts` = 1, `genomic_hits` = 1, `chr` = 'chr2L', `start` = 857595, `stop` = 857615, `strand` = '+', `normReads` = 0.0703, `intervalName_id` = 2, `structure` = '', `read_length` = 20 WHERE `loq_read_alignment`.`id` = 45 ; args=(u'D005', u'D005', u'TTTGTTCGTTTGGCTTAAGT', 1, 1, u'chr2L', 857595, 857615, u'+', 0.0703, 2, u'', 20, 45)\n"
       ]
      },
      {
       "output_type": "stream",
       "stream": "stderr",
       "text": [
        "DEBUG:django.db.backends:(0.001) SELECT `loq_library`.`library_id`, `loq_library`.`rescue`, `loq_library`.`description`, `loq_library`.`organism`, `loq_library`.`strain`, `loq_library`.`allele`, `loq_library`.`tissue`, `loq_library`.`target`, `loq_library`.`type`, `loq_library`.`total_mapped`, `loq_library`.`resolution`, `loq_library`.`source_org`, `loq_library`.`source_person`, `loq_library`.`five_prime_adapter_sequence`, `loq_library`.`three_prime_adapter_sequence`, `loq_library`.`multiplex_barcode_sequence`, `loq_library`.`notes` FROM `loq_library` WHERE `loq_library`.`library_id` = 'D005' ; args=(u'D005',)\n"
       ]
      },
      {
       "output_type": "stream",
       "stream": "stderr",
       "text": [
        "DEBUG:django.db.backends:(0.000) SELECT (1) AS `a` FROM `loq_read_alignment` WHERE `loq_read_alignment`.`id` = 46  LIMIT 1; args=(46,)\n"
       ]
      },
      {
       "output_type": "stream",
       "stream": "stderr",
       "text": [
        "DEBUG:django.db.backends:(0.000) UPDATE `loq_read_alignment` SET `lib` = 'D005', `library_id` = 'D005', `sequence` = 'TTTGTTCGTTTGGCTTAAGTT', `rev_sequence` = NULL, `read_counts` = 11, `genomic_hits` = 1, `chr` = 'chr2L', `start` = 857595, `stop` = 857616, `strand` = '+', `normReads` = 0.7738, `intervalName_id` = 2, `structure` = '', `read_length` = 21 WHERE `loq_read_alignment`.`id` = 46 ; args=(u'D005', u'D005', u'TTTGTTCGTTTGGCTTAAGTT', 11, 1, u'chr2L', 857595, 857616, u'+', 0.7738, 2, u'', 21, 46)\n"
       ]
      },
      {
       "output_type": "stream",
       "stream": "stderr",
       "text": [
        "DEBUG:django.db.backends:(0.000) SELECT `loq_library`.`library_id`, `loq_library`.`rescue`, `loq_library`.`description`, `loq_library`.`organism`, `loq_library`.`strain`, `loq_library`.`allele`, `loq_library`.`tissue`, `loq_library`.`target`, `loq_library`.`type`, `loq_library`.`total_mapped`, `loq_library`.`resolution`, `loq_library`.`source_org`, `loq_library`.`source_person`, `loq_library`.`five_prime_adapter_sequence`, `loq_library`.`three_prime_adapter_sequence`, `loq_library`.`multiplex_barcode_sequence`, `loq_library`.`notes` FROM `loq_library` WHERE `loq_library`.`library_id` = 'D005' ; args=(u'D005',)\n"
       ]
      },
      {
       "output_type": "stream",
       "stream": "stderr",
       "text": [
        "DEBUG:django.db.backends:(0.000) SELECT (1) AS `a` FROM `loq_read_alignment` WHERE `loq_read_alignment`.`id` = 47  LIMIT 1; args=(47,)\n"
       ]
      },
      {
       "output_type": "stream",
       "stream": "stderr",
       "text": [
        "DEBUG:django.db.backends:(0.000) UPDATE `loq_read_alignment` SET `lib` = 'D005', `library_id` = 'D005', `sequence` = 'TTTGTTCGTTTGGCTTAAGTTA', `rev_sequence` = NULL, `read_counts` = 8, `genomic_hits` = 1, `chr` = 'chr2L', `start` = 857595, `stop` = 857617, `strand` = '+', `normReads` = 0.5628, `intervalName_id` = 2, `structure` = '', `read_length` = 22 WHERE `loq_read_alignment`.`id` = 47 ; args=(u'D005', u'D005', u'TTTGTTCGTTTGGCTTAAGTTA', 8, 1, u'chr2L', 857595, 857617, u'+', 0.5628, 2, u'', 22, 47)\n"
       ]
      },
      {
       "output_type": "stream",
       "stream": "stderr",
       "text": [
        "DEBUG:django.db.backends:(0.000) SELECT `loq_library`.`library_id`, `loq_library`.`rescue`, `loq_library`.`description`, `loq_library`.`organism`, `loq_library`.`strain`, `loq_library`.`allele`, `loq_library`.`tissue`, `loq_library`.`target`, `loq_library`.`type`, `loq_library`.`total_mapped`, `loq_library`.`resolution`, `loq_library`.`source_org`, `loq_library`.`source_person`, `loq_library`.`five_prime_adapter_sequence`, `loq_library`.`three_prime_adapter_sequence`, `loq_library`.`multiplex_barcode_sequence`, `loq_library`.`notes` FROM `loq_library` WHERE `loq_library`.`library_id` = 'D005' ; args=(u'D005',)\n"
       ]
      },
      {
       "output_type": "stream",
       "stream": "stderr",
       "text": [
        "DEBUG:django.db.backends:(0.000) SELECT (1) AS `a` FROM `loq_read_alignment` WHERE `loq_read_alignment`.`id` = 48  LIMIT 1; args=(48,)\n"
       ]
      },
      {
       "output_type": "stream",
       "stream": "stderr",
       "text": [
        "DEBUG:django.db.backends:(0.001) UPDATE `loq_read_alignment` SET `lib` = 'D005', `library_id` = 'D005', `sequence` = 'TCTTAGCTTGGCAATAAAATATTATT', `rev_sequence` = 'AATAATATTTTATTGCCAAGCTAAGA', `read_counts` = 5, `genomic_hits` = 1, `chr` = 'chr2L', `start` = 1831744, `stop` = 1831770, `strand` = '-', `normReads` = 0.3517, `intervalName_id` = 3, `structure` = '', `read_length` = 26 WHERE `loq_read_alignment`.`id` = 48 ; args=(u'D005', u'D005', u'TCTTAGCTTGGCAATAAAATATTATT', u'AATAATATTTTATTGCCAAGCTAAGA', 5, 1, u'chr2L', 1831744, 1831770, u'-', 0.3517, 3, u'', 26, 48)\n"
       ]
      },
      {
       "output_type": "stream",
       "stream": "stderr",
       "text": [
        "DEBUG:django.db.backends:(0.000) SELECT `loq_library`.`library_id`, `loq_library`.`rescue`, `loq_library`.`description`, `loq_library`.`organism`, `loq_library`.`strain`, `loq_library`.`allele`, `loq_library`.`tissue`, `loq_library`.`target`, `loq_library`.`type`, `loq_library`.`total_mapped`, `loq_library`.`resolution`, `loq_library`.`source_org`, `loq_library`.`source_person`, `loq_library`.`five_prime_adapter_sequence`, `loq_library`.`three_prime_adapter_sequence`, `loq_library`.`multiplex_barcode_sequence`, `loq_library`.`notes` FROM `loq_library` WHERE `loq_library`.`library_id` = 'D005' ; args=(u'D005',)\n"
       ]
      },
      {
       "output_type": "stream",
       "stream": "stderr",
       "text": [
        "DEBUG:django.db.backends:(0.000) SELECT (1) AS `a` FROM `loq_read_alignment` WHERE `loq_read_alignment`.`id` = 49  LIMIT 1; args=(49,)\n"
       ]
      },
      {
       "output_type": "stream",
       "stream": "stderr",
       "text": [
        "DEBUG:django.db.backends:(0.000) UPDATE `loq_read_alignment` SET `lib` = 'D005', `library_id` = 'D005', `sequence` = 'CTTAGCTTGGCAATAAAATATT', `rev_sequence` = 'AATATTTTATTGCCAAGCTAAG', `read_counts` = 1, `genomic_hits` = 1, `chr` = 'chr2L', `start` = 1831747, `stop` = 1831769, `strand` = '-', `normReads` = 0.0703, `intervalName_id` = 3, `structure` = '', `read_length` = 22 WHERE `loq_read_alignment`.`id` = 49 ; args=(u'D005', u'D005', u'CTTAGCTTGGCAATAAAATATT', u'AATATTTTATTGCCAAGCTAAG', 1, 1, u'chr2L', 1831747, 1831769, u'-', 0.0703, 3, u'', 22, 49)\n"
       ]
      },
      {
       "output_type": "stream",
       "stream": "stderr",
       "text": [
        "DEBUG:django.db.backends:(0.000) SELECT `loq_library`.`library_id`, `loq_library`.`rescue`, `loq_library`.`description`, `loq_library`.`organism`, `loq_library`.`strain`, `loq_library`.`allele`, `loq_library`.`tissue`, `loq_library`.`target`, `loq_library`.`type`, `loq_library`.`total_mapped`, `loq_library`.`resolution`, `loq_library`.`source_org`, `loq_library`.`source_person`, `loq_library`.`five_prime_adapter_sequence`, `loq_library`.`three_prime_adapter_sequence`, `loq_library`.`multiplex_barcode_sequence`, `loq_library`.`notes` FROM `loq_library` WHERE `loq_library`.`library_id` = 'D005' ; args=(u'D005',)\n"
       ]
      },
      {
       "output_type": "stream",
       "stream": "stderr",
       "text": [
        "DEBUG:django.db.backends:(0.001) SELECT (1) AS `a` FROM `loq_read_alignment` WHERE `loq_read_alignment`.`id` = 50  LIMIT 1; args=(50,)\n"
       ]
      },
      {
       "output_type": "stream",
       "stream": "stderr",
       "text": [
        "DEBUG:django.db.backends:(0.000) UPDATE `loq_read_alignment` SET `lib` = 'D005', `library_id` = 'D005', `sequence` = 'TCTTAGCTTGGCAATAAAATATT', `rev_sequence` = 'AATATTTTATTGCCAAGCTAAGA', `read_counts` = 1, `genomic_hits` = 1, `chr` = 'chr2L', `start` = 1831747, `stop` = 1831770, `strand` = '-', `normReads` = 0.0703, `intervalName_id` = 3, `structure` = '', `read_length` = 23 WHERE `loq_read_alignment`.`id` = 50 ; args=(u'D005', u'D005', u'TCTTAGCTTGGCAATAAAATATT', u'AATATTTTATTGCCAAGCTAAGA', 1, 1, u'chr2L', 1831747, 1831770, u'-', 0.0703, 3, u'', 23, 50)\n"
       ]
      },
      {
       "output_type": "stream",
       "stream": "stderr",
       "text": [
        "DEBUG:django.db.backends:(0.000) SELECT `loq_library`.`library_id`, `loq_library`.`rescue`, `loq_library`.`description`, `loq_library`.`organism`, `loq_library`.`strain`, `loq_library`.`allele`, `loq_library`.`tissue`, `loq_library`.`target`, `loq_library`.`type`, `loq_library`.`total_mapped`, `loq_library`.`resolution`, `loq_library`.`source_org`, `loq_library`.`source_person`, `loq_library`.`five_prime_adapter_sequence`, `loq_library`.`three_prime_adapter_sequence`, `loq_library`.`multiplex_barcode_sequence`, `loq_library`.`notes` FROM `loq_library` WHERE `loq_library`.`library_id` = 'D005' ; args=(u'D005',)\n"
       ]
      },
      {
       "output_type": "stream",
       "stream": "stderr",
       "text": [
        "DEBUG:django.db.backends:(0.000) SELECT (1) AS `a` FROM `loq_read_alignment` WHERE `loq_read_alignment`.`id` = 51  LIMIT 1; args=(51,)\n"
       ]
      },
      {
       "output_type": "stream",
       "stream": "stderr",
       "text": [
        "DEBUG:django.db.backends:(0.020) UPDATE `loq_read_alignment` SET `lib` = 'D005', `library_id` = 'D005', `sequence` = 'TCTTAGCTTGGCAATAAAATAT', `rev_sequence` = 'ATATTTTATTGCCAAGCTAAGA', `read_counts` = 4, `genomic_hits` = 1, `chr` = 'chr2L', `start` = 1831748, `stop` = 1831770, `strand` = '-', `normReads` = 0.2814, `intervalName_id` = 3, `structure` = '', `read_length` = 22 WHERE `loq_read_alignment`.`id` = 51 ; args=(u'D005', u'D005', u'TCTTAGCTTGGCAATAAAATAT', u'ATATTTTATTGCCAAGCTAAGA', 4, 1, u'chr2L', 1831748, 1831770, u'-', 0.2814, 3, u'', 22, 51)\n"
       ]
      },
      {
       "output_type": "stream",
       "stream": "stderr",
       "text": [
        "DEBUG:django.db.backends:(0.001) SELECT `loq_library`.`library_id`, `loq_library`.`rescue`, `loq_library`.`description`, `loq_library`.`organism`, `loq_library`.`strain`, `loq_library`.`allele`, `loq_library`.`tissue`, `loq_library`.`target`, `loq_library`.`type`, `loq_library`.`total_mapped`, `loq_library`.`resolution`, `loq_library`.`source_org`, `loq_library`.`source_person`, `loq_library`.`five_prime_adapter_sequence`, `loq_library`.`three_prime_adapter_sequence`, `loq_library`.`multiplex_barcode_sequence`, `loq_library`.`notes` FROM `loq_library` WHERE `loq_library`.`library_id` = 'D005' ; args=(u'D005',)\n"
       ]
      },
      {
       "output_type": "stream",
       "stream": "stderr",
       "text": [
        "DEBUG:django.db.backends:(0.000) SELECT (1) AS `a` FROM `loq_read_alignment` WHERE `loq_read_alignment`.`id` = 52  LIMIT 1; args=(52,)\n"
       ]
      },
      {
       "output_type": "stream",
       "stream": "stderr",
       "text": [
        "DEBUG:django.db.backends:(0.001) UPDATE `loq_read_alignment` SET `lib` = 'D005', `library_id` = 'D005', `sequence` = 'GGTGGATGAGCTTGTCAGTGG', `rev_sequence` = 'CCACTGACAAGCTCATCCACC', `read_counts` = 1, `genomic_hits` = 1, `chr` = 'chr2L', `start` = 3463365, `stop` = 3463386, `strand` = '-', `normReads` = 0.0703, `intervalName_id` = 5, `structure` = '', `read_length` = 21 WHERE `loq_read_alignment`.`id` = 52 ; args=(u'D005', u'D005', u'GGTGGATGAGCTTGTCAGTGG', u'CCACTGACAAGCTCATCCACC', 1, 1, u'chr2L', 3463365, 3463386, u'-', 0.0703, 5, u'', 21, 52)\n"
       ]
      },
      {
       "output_type": "stream",
       "stream": "stderr",
       "text": [
        "DEBUG:django.db.backends:(0.000) SELECT `loq_library`.`library_id`, `loq_library`.`rescue`, `loq_library`.`description`, `loq_library`.`organism`, `loq_library`.`strain`, `loq_library`.`allele`, `loq_library`.`tissue`, `loq_library`.`target`, `loq_library`.`type`, `loq_library`.`total_mapped`, `loq_library`.`resolution`, `loq_library`.`source_org`, `loq_library`.`source_person`, `loq_library`.`five_prime_adapter_sequence`, `loq_library`.`three_prime_adapter_sequence`, `loq_library`.`multiplex_barcode_sequence`, `loq_library`.`notes` FROM `loq_library` WHERE `loq_library`.`library_id` = 'D005' ; args=(u'D005',)\n"
       ]
      },
      {
       "output_type": "stream",
       "stream": "stderr",
       "text": [
        "DEBUG:django.db.backends:(0.001) SELECT (1) AS `a` FROM `loq_read_alignment` WHERE `loq_read_alignment`.`id` = 53  LIMIT 1; args=(53,)\n"
       ]
      },
      {
       "output_type": "stream",
       "stream": "stderr",
       "text": [
        "DEBUG:django.db.backends:(0.022) UPDATE `loq_read_alignment` SET `lib` = 'D005', `library_id` = 'D005', `sequence` = 'TCACATCACTTCCCTCACAG', `rev_sequence` = NULL, `read_counts` = 1, `genomic_hits` = 1, `chr` = 'chr2L', `start` = 3767668, `stop` = 3767688, `strand` = '+', `normReads` = 0.0703, `intervalName_id` = 7, `structure` = '', `read_length` = 20 WHERE `loq_read_alignment`.`id` = 53 ; args=(u'D005', u'D005', u'TCACATCACTTCCCTCACAG', 1, 1, u'chr2L', 3767668, 3767688, u'+', 0.0703, 7, u'', 20, 53)\n"
       ]
      },
      {
       "output_type": "stream",
       "stream": "stderr",
       "text": [
        "DEBUG:django.db.backends:(0.000) SELECT `loq_library`.`library_id`, `loq_library`.`rescue`, `loq_library`.`description`, `loq_library`.`organism`, `loq_library`.`strain`, `loq_library`.`allele`, `loq_library`.`tissue`, `loq_library`.`target`, `loq_library`.`type`, `loq_library`.`total_mapped`, `loq_library`.`resolution`, `loq_library`.`source_org`, `loq_library`.`source_person`, `loq_library`.`five_prime_adapter_sequence`, `loq_library`.`three_prime_adapter_sequence`, `loq_library`.`multiplex_barcode_sequence`, `loq_library`.`notes` FROM `loq_library` WHERE `loq_library`.`library_id` = 'D005' ; args=(u'D005',)\n"
       ]
      },
      {
       "output_type": "stream",
       "stream": "stderr",
       "text": [
        "DEBUG:django.db.backends:(0.001) SELECT (1) AS `a` FROM `loq_read_alignment` WHERE `loq_read_alignment`.`id` = 54  LIMIT 1; args=(54,)\n"
       ]
      },
      {
       "output_type": "stream",
       "stream": "stderr",
       "text": [
        "DEBUG:django.db.backends:(0.020) UPDATE `loq_read_alignment` SET `lib` = 'D005', `library_id` = 'D005', `sequence` = 'GTGAGTTGATCGATTTCGAGGT', `rev_sequence` = NULL, `read_counts` = 2, `genomic_hits` = 1, `chr` = 'chr2L', `start` = 4343695, `stop` = 4343717, `strand` = '+', `normReads` = 0.1407, `intervalName_id` = 8, `structure` = '', `read_length` = 22 WHERE `loq_read_alignment`.`id` = 54 ; args=(u'D005', u'D005', u'GTGAGTTGATCGATTTCGAGGT', 2, 1, u'chr2L', 4343695, 4343717, u'+', 0.1407, 8, u'', 22, 54)\n"
       ]
      },
      {
       "output_type": "stream",
       "stream": "stderr",
       "text": [
        "DEBUG:django.db.backends:(0.014) SELECT `loq_library`.`library_id`, `loq_library`.`rescue`, `loq_library`.`description`, `loq_library`.`organism`, `loq_library`.`strain`, `loq_library`.`allele`, `loq_library`.`tissue`, `loq_library`.`target`, `loq_library`.`type`, `loq_library`.`total_mapped`, `loq_library`.`resolution`, `loq_library`.`source_org`, `loq_library`.`source_person`, `loq_library`.`five_prime_adapter_sequence`, `loq_library`.`three_prime_adapter_sequence`, `loq_library`.`multiplex_barcode_sequence`, `loq_library`.`notes` FROM `loq_library` WHERE `loq_library`.`library_id` = 'D005' ; args=(u'D005',)\n"
       ]
      },
      {
       "output_type": "stream",
       "stream": "stderr",
       "text": [
        "DEBUG:django.db.backends:(0.000) SELECT (1) AS `a` FROM `loq_read_alignment` WHERE `loq_read_alignment`.`id` = 55  LIMIT 1; args=(55,)\n"
       ]
      },
      {
       "output_type": "stream",
       "stream": "stderr",
       "text": [
        "DEBUG:django.db.backends:(0.042) UPDATE `loq_read_alignment` SET `lib` = 'D005', `library_id` = 'D005', `sequence` = 'GTGAGTTGATCGATTTCGAGGTT', `rev_sequence` = NULL, `read_counts` = 7, `genomic_hits` = 1, `chr` = 'chr2L', `start` = 4343695, `stop` = 4343718, `strand` = '+', `normReads` = 0.4924, `intervalName_id` = 8, `structure` = '', `read_length` = 23 WHERE `loq_read_alignment`.`id` = 55 ; args=(u'D005', u'D005', u'GTGAGTTGATCGATTTCGAGGTT', 7, 1, u'chr2L', 4343695, 4343718, u'+', 0.4924, 8, u'', 23, 55)\n"
       ]
      },
      {
       "output_type": "stream",
       "stream": "stderr",
       "text": [
        "DEBUG:django.db.backends:(0.000) SELECT `loq_library`.`library_id`, `loq_library`.`rescue`, `loq_library`.`description`, `loq_library`.`organism`, `loq_library`.`strain`, `loq_library`.`allele`, `loq_library`.`tissue`, `loq_library`.`target`, `loq_library`.`type`, `loq_library`.`total_mapped`, `loq_library`.`resolution`, `loq_library`.`source_org`, `loq_library`.`source_person`, `loq_library`.`five_prime_adapter_sequence`, `loq_library`.`three_prime_adapter_sequence`, `loq_library`.`multiplex_barcode_sequence`, `loq_library`.`notes` FROM `loq_library` WHERE `loq_library`.`library_id` = 'D005' ; args=(u'D005',)\n"
       ]
      },
      {
       "output_type": "stream",
       "stream": "stderr",
       "text": [
        "DEBUG:django.db.backends:(0.000) SELECT (1) AS `a` FROM `loq_read_alignment` WHERE `loq_read_alignment`.`id` = 56  LIMIT 1; args=(56,)\n"
       ]
      },
      {
       "output_type": "stream",
       "stream": "stderr",
       "text": [
        "DEBUG:django.db.backends:(0.001) UPDATE `loq_read_alignment` SET `lib` = 'D005', `library_id` = 'D005', `sequence` = 'TCTGGAATCTTTAATTCGC', `rev_sequence` = NULL, `read_counts` = 2, `genomic_hits` = 1, `chr` = 'chr2L', `start` = 4343735, `stop` = 4343754, `strand` = '+', `normReads` = 0.1407, `intervalName_id` = 8, `structure` = '', `read_length` = 19 WHERE `loq_read_alignment`.`id` = 56 ; args=(u'D005', u'D005', u'TCTGGAATCTTTAATTCGC', 2, 1, u'chr2L', 4343735, 4343754, u'+', 0.1407, 8, u'', 19, 56)\n"
       ]
      },
      {
       "output_type": "stream",
       "stream": "stderr",
       "text": [
        "DEBUG:django.db.backends:(0.000) SELECT `loq_library`.`library_id`, `loq_library`.`rescue`, `loq_library`.`description`, `loq_library`.`organism`, `loq_library`.`strain`, `loq_library`.`allele`, `loq_library`.`tissue`, `loq_library`.`target`, `loq_library`.`type`, `loq_library`.`total_mapped`, `loq_library`.`resolution`, `loq_library`.`source_org`, `loq_library`.`source_person`, `loq_library`.`five_prime_adapter_sequence`, `loq_library`.`three_prime_adapter_sequence`, `loq_library`.`multiplex_barcode_sequence`, `loq_library`.`notes` FROM `loq_library` WHERE `loq_library`.`library_id` = 'D005' ; args=(u'D005',)\n"
       ]
      },
      {
       "output_type": "stream",
       "stream": "stderr",
       "text": [
        "DEBUG:django.db.backends:(0.000) SELECT (1) AS `a` FROM `loq_read_alignment` WHERE `loq_read_alignment`.`id` = 57  LIMIT 1; args=(57,)\n"
       ]
      },
      {
       "output_type": "stream",
       "stream": "stderr",
       "text": [
        "DEBUG:django.db.backends:(0.022) UPDATE `loq_read_alignment` SET `lib` = 'D005', `library_id` = 'D005', `sequence` = 'TCTGGAATCTTTAATTCGCA', `rev_sequence` = NULL, `read_counts` = 3, `genomic_hits` = 1, `chr` = 'chr2L', `start` = 4343735, `stop` = 4343755, `strand` = '+', `normReads` = 0.211, `intervalName_id` = 8, `structure` = '', `read_length` = 20 WHERE `loq_read_alignment`.`id` = 57 ; args=(u'D005', u'D005', u'TCTGGAATCTTTAATTCGCA', 3, 1, u'chr2L', 4343735, 4343755, u'+', 0.211, 8, u'', 20, 57)\n"
       ]
      },
      {
       "output_type": "stream",
       "stream": "stderr",
       "text": [
        "DEBUG:django.db.backends:(0.000) SELECT `loq_library`.`library_id`, `loq_library`.`rescue`, `loq_library`.`description`, `loq_library`.`organism`, `loq_library`.`strain`, `loq_library`.`allele`, `loq_library`.`tissue`, `loq_library`.`target`, `loq_library`.`type`, `loq_library`.`total_mapped`, `loq_library`.`resolution`, `loq_library`.`source_org`, `loq_library`.`source_person`, `loq_library`.`five_prime_adapter_sequence`, `loq_library`.`three_prime_adapter_sequence`, `loq_library`.`multiplex_barcode_sequence`, `loq_library`.`notes` FROM `loq_library` WHERE `loq_library`.`library_id` = 'D005' ; args=(u'D005',)\n"
       ]
      },
      {
       "output_type": "stream",
       "stream": "stderr",
       "text": [
        "DEBUG:django.db.backends:(0.020) SELECT (1) AS `a` FROM `loq_read_alignment` WHERE `loq_read_alignment`.`id` = 58  LIMIT 1; args=(58,)\n"
       ]
      },
      {
       "output_type": "stream",
       "stream": "stderr",
       "text": [
        "DEBUG:django.db.backends:(0.002) UPDATE `loq_read_alignment` SET `lib` = 'D005', `library_id` = 'D005', `sequence` = 'TCTGGAATCTTTAATTCGCAG', `rev_sequence` = NULL, `read_counts` = 6, `genomic_hits` = 1, `chr` = 'chr2L', `start` = 4343735, `stop` = 4343756, `strand` = '+', `normReads` = 0.4221, `intervalName_id` = 8, `structure` = '', `read_length` = 21 WHERE `loq_read_alignment`.`id` = 58 ; args=(u'D005', u'D005', u'TCTGGAATCTTTAATTCGCAG', 6, 1, u'chr2L', 4343735, 4343756, u'+', 0.4221, 8, u'', 21, 58)\n"
       ]
      },
      {
       "output_type": "stream",
       "stream": "stderr",
       "text": [
        "DEBUG:django.db.backends:(0.000) SELECT `loq_library`.`library_id`, `loq_library`.`rescue`, `loq_library`.`description`, `loq_library`.`organism`, `loq_library`.`strain`, `loq_library`.`allele`, `loq_library`.`tissue`, `loq_library`.`target`, `loq_library`.`type`, `loq_library`.`total_mapped`, `loq_library`.`resolution`, `loq_library`.`source_org`, `loq_library`.`source_person`, `loq_library`.`five_prime_adapter_sequence`, `loq_library`.`three_prime_adapter_sequence`, `loq_library`.`multiplex_barcode_sequence`, `loq_library`.`notes` FROM `loq_library` WHERE `loq_library`.`library_id` = 'D005' ; args=(u'D005',)\n"
       ]
      },
      {
       "output_type": "stream",
       "stream": "stderr",
       "text": [
        "DEBUG:django.db.backends:(0.000) SELECT (1) AS `a` FROM `loq_read_alignment` WHERE `loq_read_alignment`.`id` = 59  LIMIT 1; args=(59,)\n"
       ]
      },
      {
       "output_type": "stream",
       "stream": "stderr",
       "text": [
        "DEBUG:django.db.backends:(0.001) UPDATE `loq_read_alignment` SET `lib` = 'D005', `library_id` = 'D005', `sequence` = 'TCTGGAATCTTTAATTCGCAGT', `rev_sequence` = NULL, `read_counts` = 9, `genomic_hits` = 1, `chr` = 'chr2L', `start` = 4343735, `stop` = 4343756, `strand` = '+', `normReads` = 0.6331, `intervalName_id` = 8, `structure` = '', `read_length` = 22 WHERE `loq_read_alignment`.`id` = 59 ; args=(u'D005', u'D005', u'TCTGGAATCTTTAATTCGCAGT', 9, 1, u'chr2L', 4343735, 4343756, u'+', 0.6331, 8, u'', 22, 59)\n"
       ]
      },
      {
       "output_type": "stream",
       "stream": "stderr",
       "text": [
        "DEBUG:django.db.backends:(0.000) SELECT `loq_library`.`library_id`, `loq_library`.`rescue`, `loq_library`.`description`, `loq_library`.`organism`, `loq_library`.`strain`, `loq_library`.`allele`, `loq_library`.`tissue`, `loq_library`.`target`, `loq_library`.`type`, `loq_library`.`total_mapped`, `loq_library`.`resolution`, `loq_library`.`source_org`, `loq_library`.`source_person`, `loq_library`.`five_prime_adapter_sequence`, `loq_library`.`three_prime_adapter_sequence`, `loq_library`.`multiplex_barcode_sequence`, `loq_library`.`notes` FROM `loq_library` WHERE `loq_library`.`library_id` = 'D005' ; args=(u'D005',)\n"
       ]
      },
      {
       "output_type": "stream",
       "stream": "stderr",
       "text": [
        "DEBUG:django.db.backends:(0.000) SELECT (1) AS `a` FROM `loq_read_alignment` WHERE `loq_read_alignment`.`id` = 60  LIMIT 1; args=(60,)\n"
       ]
      },
      {
       "output_type": "stream",
       "stream": "stderr",
       "text": [
        "DEBUG:django.db.backends:(0.001) UPDATE `loq_read_alignment` SET `lib` = 'D005', `library_id` = 'D005', `sequence` = 'TCTGGAATCTTTAATTCGCAGTT', `rev_sequence` = NULL, `read_counts` = 2, `genomic_hits` = 1, `chr` = 'chr2L', `start` = 4343735, `stop` = 4343756, `strand` = '+', `normReads` = 0.1407, `intervalName_id` = 8, `structure` = '', `read_length` = 23 WHERE `loq_read_alignment`.`id` = 60 ; args=(u'D005', u'D005', u'TCTGGAATCTTTAATTCGCAGTT', 2, 1, u'chr2L', 4343735, 4343756, u'+', 0.1407, 8, u'', 23, 60)\n"
       ]
      },
      {
       "output_type": "stream",
       "stream": "stderr",
       "text": [
        "DEBUG:django.db.backends:(0.000) SELECT `loq_library`.`library_id`, `loq_library`.`rescue`, `loq_library`.`description`, `loq_library`.`organism`, `loq_library`.`strain`, `loq_library`.`allele`, `loq_library`.`tissue`, `loq_library`.`target`, `loq_library`.`type`, `loq_library`.`total_mapped`, `loq_library`.`resolution`, `loq_library`.`source_org`, `loq_library`.`source_person`, `loq_library`.`five_prime_adapter_sequence`, `loq_library`.`three_prime_adapter_sequence`, `loq_library`.`multiplex_barcode_sequence`, `loq_library`.`notes` FROM `loq_library` WHERE `loq_library`.`library_id` = 'D005' ; args=(u'D005',)\n"
       ]
      },
      {
       "output_type": "stream",
       "stream": "stderr",
       "text": [
        "DEBUG:django.db.backends:(0.000) SELECT (1) AS `a` FROM `loq_read_alignment` WHERE `loq_read_alignment`.`id` = 61  LIMIT 1; args=(61,)\n"
       ]
      },
      {
       "output_type": "stream",
       "stream": "stderr",
       "text": [
        "DEBUG:django.db.backends:(0.000) UPDATE `loq_read_alignment` SET `lib` = 'D005', `library_id` = 'D005', `sequence` = 'CTATAAATTAATGTCCACTACTTT', `rev_sequence` = 'AAAGTAGTGGACATTAATTTATAG', `read_counts` = 1, `genomic_hits` = 1, `chr` = 'chr2L', `start` = 4829982, `stop` = 4830006, `strand` = '-', `normReads` = 0.0703, `intervalName_id` = 10, `structure` = '', `read_length` = 24 WHERE `loq_read_alignment`.`id` = 61 ; args=(u'D005', u'D005', u'CTATAAATTAATGTCCACTACTTT', u'AAAGTAGTGGACATTAATTTATAG', 1, 1, u'chr2L', 4829982, 4830006, u'-', 0.0703, 10, u'', 24, 61)\n"
       ]
      },
      {
       "output_type": "stream",
       "stream": "stderr",
       "text": [
        "DEBUG:django.db.backends:(0.000) SELECT `loq_library`.`library_id`, `loq_library`.`rescue`, `loq_library`.`description`, `loq_library`.`organism`, `loq_library`.`strain`, `loq_library`.`allele`, `loq_library`.`tissue`, `loq_library`.`target`, `loq_library`.`type`, `loq_library`.`total_mapped`, `loq_library`.`resolution`, `loq_library`.`source_org`, `loq_library`.`source_person`, `loq_library`.`five_prime_adapter_sequence`, `loq_library`.`three_prime_adapter_sequence`, `loq_library`.`multiplex_barcode_sequence`, `loq_library`.`notes` FROM `loq_library` WHERE `loq_library`.`library_id` = 'D005' ; args=(u'D005',)\n"
       ]
      },
      {
       "output_type": "stream",
       "stream": "stderr",
       "text": [
        "DEBUG:django.db.backends:(0.000) SELECT (1) AS `a` FROM `loq_read_alignment` WHERE `loq_read_alignment`.`id` = 62  LIMIT 1; args=(62,)\n"
       ]
      },
      {
       "output_type": "stream",
       "stream": "stderr",
       "text": [
        "DEBUG:django.db.backends:(0.000) UPDATE `loq_read_alignment` SET `lib` = 'D005', `library_id` = 'D005', `sequence` = 'CTTAGTACTCGGGTTGATAAAGA', `rev_sequence` = NULL, `read_counts` = 2, `genomic_hits` = 1, `chr` = 'chr2L', `start` = 5640957, `stop` = 5640980, `strand` = '+', `normReads` = 0.1407, `intervalName_id` = 12, `structure` = '', `read_length` = 23 WHERE `loq_read_alignment`.`id` = 62 ; args=(u'D005', u'D005', u'CTTAGTACTCGGGTTGATAAAGA', 2, 1, u'chr2L', 5640957, 5640980, u'+', 0.1407, 12, u'', 23, 62)\n"
       ]
      },
      {
       "output_type": "stream",
       "stream": "stderr",
       "text": [
        "DEBUG:django.db.backends:(0.000) SELECT `loq_library`.`library_id`, `loq_library`.`rescue`, `loq_library`.`description`, `loq_library`.`organism`, `loq_library`.`strain`, `loq_library`.`allele`, `loq_library`.`tissue`, `loq_library`.`target`, `loq_library`.`type`, `loq_library`.`total_mapped`, `loq_library`.`resolution`, `loq_library`.`source_org`, `loq_library`.`source_person`, `loq_library`.`five_prime_adapter_sequence`, `loq_library`.`three_prime_adapter_sequence`, `loq_library`.`multiplex_barcode_sequence`, `loq_library`.`notes` FROM `loq_library` WHERE `loq_library`.`library_id` = 'D005' ; args=(u'D005',)\n"
       ]
      },
      {
       "output_type": "stream",
       "stream": "stderr",
       "text": [
        "DEBUG:django.db.backends:(0.000) SELECT (1) AS `a` FROM `loq_read_alignment` WHERE `loq_read_alignment`.`id` = 63  LIMIT 1; args=(63,)\n"
       ]
      },
      {
       "output_type": "stream",
       "stream": "stderr",
       "text": [
        "DEBUG:django.db.backends:(0.001) UPDATE `loq_read_alignment` SET `lib` = 'D005', `library_id` = 'D005', `sequence` = 'TTAGTACTCGGGTTGATAAAGA', `rev_sequence` = NULL, `read_counts` = 1, `genomic_hits` = 1, `chr` = 'chr2L', `start` = 5640958, `stop` = 5640980, `strand` = '+', `normReads` = 0.0703, `intervalName_id` = 12, `structure` = '', `read_length` = 22 WHERE `loq_read_alignment`.`id` = 63 ; args=(u'D005', u'D005', u'TTAGTACTCGGGTTGATAAAGA', 1, 1, u'chr2L', 5640958, 5640980, u'+', 0.0703, 12, u'', 22, 63)\n"
       ]
      },
      {
       "output_type": "stream",
       "stream": "stderr",
       "text": [
        "DEBUG:django.db.backends:(0.000) SELECT `loq_library`.`library_id`, `loq_library`.`rescue`, `loq_library`.`description`, `loq_library`.`organism`, `loq_library`.`strain`, `loq_library`.`allele`, `loq_library`.`tissue`, `loq_library`.`target`, `loq_library`.`type`, `loq_library`.`total_mapped`, `loq_library`.`resolution`, `loq_library`.`source_org`, `loq_library`.`source_person`, `loq_library`.`five_prime_adapter_sequence`, `loq_library`.`three_prime_adapter_sequence`, `loq_library`.`multiplex_barcode_sequence`, `loq_library`.`notes` FROM `loq_library` WHERE `loq_library`.`library_id` = 'D005' ; args=(u'D005',)\n"
       ]
      },
      {
       "output_type": "stream",
       "stream": "stderr",
       "text": [
        "DEBUG:django.db.backends:(0.000) SELECT (1) AS `a` FROM `loq_read_alignment` WHERE `loq_read_alignment`.`id` = 64  LIMIT 1; args=(64,)\n"
       ]
      },
      {
       "output_type": "stream",
       "stream": "stderr",
       "text": [
        "DEBUG:django.db.backends:(0.001) UPDATE `loq_read_alignment` SET `lib` = 'D005', `library_id` = 'D005', `sequence` = 'TTTGTCATCGGGGGTATTA', `rev_sequence` = NULL, `read_counts` = 1, `genomic_hits` = 1, `chr` = 'chr2L', `start` = 5640998, `stop` = 5641017, `strand` = '+', `normReads` = 0.0703, `intervalName_id` = 12, `structure` = '', `read_length` = 19 WHERE `loq_read_alignment`.`id` = 64 ; args=(u'D005', u'D005', u'TTTGTCATCGGGGGTATTA', 1, 1, u'chr2L', 5640998, 5641017, u'+', 0.0703, 12, u'', 19, 64)\n"
       ]
      },
      {
       "output_type": "stream",
       "stream": "stderr",
       "text": [
        "DEBUG:django.db.backends:(0.000) SELECT `loq_library`.`library_id`, `loq_library`.`rescue`, `loq_library`.`description`, `loq_library`.`organism`, `loq_library`.`strain`, `loq_library`.`allele`, `loq_library`.`tissue`, `loq_library`.`target`, `loq_library`.`type`, `loq_library`.`total_mapped`, `loq_library`.`resolution`, `loq_library`.`source_org`, `loq_library`.`source_person`, `loq_library`.`five_prime_adapter_sequence`, `loq_library`.`three_prime_adapter_sequence`, `loq_library`.`multiplex_barcode_sequence`, `loq_library`.`notes` FROM `loq_library` WHERE `loq_library`.`library_id` = 'D005' ; args=(u'D005',)\n"
       ]
      },
      {
       "output_type": "stream",
       "stream": "stderr",
       "text": [
        "DEBUG:django.db.backends:(0.001) SELECT (1) AS `a` FROM `loq_read_alignment` WHERE `loq_read_alignment`.`id` = 65  LIMIT 1; args=(65,)\n"
       ]
      },
      {
       "output_type": "stream",
       "stream": "stderr",
       "text": [
        "DEBUG:django.db.backends:(0.001) UPDATE `loq_read_alignment` SET `lib` = 'D005', `library_id` = 'D005', `sequence` = 'TTTGTCATCGGGGGTATTATGA', `rev_sequence` = NULL, `read_counts` = 1, `genomic_hits` = 1, `chr` = 'chr2L', `start` = 5640998, `stop` = 5641020, `strand` = '+', `normReads` = 0.0703, `intervalName_id` = 12, `structure` = '', `read_length` = 22 WHERE `loq_read_alignment`.`id` = 65 ; args=(u'D005', u'D005', u'TTTGTCATCGGGGGTATTATGA', 1, 1, u'chr2L', 5640998, 5641020, u'+', 0.0703, 12, u'', 22, 65)\n"
       ]
      },
      {
       "output_type": "stream",
       "stream": "stderr",
       "text": [
        "DEBUG:django.db.backends:(0.000) SELECT `loq_library`.`library_id`, `loq_library`.`rescue`, `loq_library`.`description`, `loq_library`.`organism`, `loq_library`.`strain`, `loq_library`.`allele`, `loq_library`.`tissue`, `loq_library`.`target`, `loq_library`.`type`, `loq_library`.`total_mapped`, `loq_library`.`resolution`, `loq_library`.`source_org`, `loq_library`.`source_person`, `loq_library`.`five_prime_adapter_sequence`, `loq_library`.`three_prime_adapter_sequence`, `loq_library`.`multiplex_barcode_sequence`, `loq_library`.`notes` FROM `loq_library` WHERE `loq_library`.`library_id` = 'D005' ; args=(u'D005',)\n"
       ]
      },
      {
       "output_type": "stream",
       "stream": "stderr",
       "text": [
        "DEBUG:django.db.backends:(0.018) SELECT (1) AS `a` FROM `loq_read_alignment` WHERE `loq_read_alignment`.`id` = 66  LIMIT 1; args=(66,)\n"
       ]
      },
      {
       "output_type": "stream",
       "stream": "stderr",
       "text": [
        "DEBUG:django.db.backends:(0.000) UPDATE `loq_read_alignment` SET `lib` = 'D005', `library_id` = 'D005', `sequence` = 'TCTGAGTATTCCAGATTGCATAGC', `rev_sequence` = NULL, `read_counts` = 1, `genomic_hits` = 1, `chr` = 'chr2L', `start` = 5641078, `stop` = 5641102, `strand` = '+', `normReads` = 0.0703, `intervalName_id` = 13, `structure` = '', `read_length` = 24 WHERE `loq_read_alignment`.`id` = 66 ; args=(u'D005', u'D005', u'TCTGAGTATTCCAGATTGCATAGC', 1, 1, u'chr2L', 5641078, 5641102, u'+', 0.0703, 13, u'', 24, 66)\n"
       ]
      },
      {
       "output_type": "stream",
       "stream": "stderr",
       "text": [
        "DEBUG:django.db.backends:(0.000) SELECT `loq_library`.`library_id`, `loq_library`.`rescue`, `loq_library`.`description`, `loq_library`.`organism`, `loq_library`.`strain`, `loq_library`.`allele`, `loq_library`.`tissue`, `loq_library`.`target`, `loq_library`.`type`, `loq_library`.`total_mapped`, `loq_library`.`resolution`, `loq_library`.`source_org`, `loq_library`.`source_person`, `loq_library`.`five_prime_adapter_sequence`, `loq_library`.`three_prime_adapter_sequence`, `loq_library`.`multiplex_barcode_sequence`, `loq_library`.`notes` FROM `loq_library` WHERE `loq_library`.`library_id` = 'D005' ; args=(u'D005',)\n"
       ]
      },
      {
       "output_type": "stream",
       "stream": "stderr",
       "text": [
        "DEBUG:django.db.backends:(0.000) SELECT (1) AS `a` FROM `loq_read_alignment` WHERE `loq_read_alignment`.`id` = 67  LIMIT 1; args=(67,)\n"
       ]
      },
      {
       "output_type": "stream",
       "stream": "stderr",
       "text": [
        "DEBUG:django.db.backends:(0.001) UPDATE `loq_read_alignment` SET `lib` = 'D005', `library_id` = 'D005', `sequence` = 'TGAGTATTCCAGATTGCATAG', `rev_sequence` = NULL, `read_counts` = 4, `genomic_hits` = 1, `chr` = 'chr2L', `start` = 5641080, `stop` = 5641101, `strand` = '+', `normReads` = 0.2814, `intervalName_id` = 13, `structure` = '', `read_length` = 21 WHERE `loq_read_alignment`.`id` = 67 ; args=(u'D005', u'D005', u'TGAGTATTCCAGATTGCATAG', 4, 1, u'chr2L', 5641080, 5641101, u'+', 0.2814, 13, u'', 21, 67)\n"
       ]
      },
      {
       "output_type": "stream",
       "stream": "stderr",
       "text": [
        "DEBUG:django.db.backends:(0.000) SELECT `loq_library`.`library_id`, `loq_library`.`rescue`, `loq_library`.`description`, `loq_library`.`organism`, `loq_library`.`strain`, `loq_library`.`allele`, `loq_library`.`tissue`, `loq_library`.`target`, `loq_library`.`type`, `loq_library`.`total_mapped`, `loq_library`.`resolution`, `loq_library`.`source_org`, `loq_library`.`source_person`, `loq_library`.`five_prime_adapter_sequence`, `loq_library`.`three_prime_adapter_sequence`, `loq_library`.`multiplex_barcode_sequence`, `loq_library`.`notes` FROM `loq_library` WHERE `loq_library`.`library_id` = 'D005' ; args=(u'D005',)\n"
       ]
      },
      {
       "output_type": "stream",
       "stream": "stderr",
       "text": [
        "DEBUG:django.db.backends:(0.000) SELECT (1) AS `a` FROM `loq_read_alignment` WHERE `loq_read_alignment`.`id` = 68  LIMIT 1; args=(68,)\n"
       ]
      },
      {
       "output_type": "stream",
       "stream": "stderr",
       "text": [
        "DEBUG:django.db.backends:(0.000) UPDATE `loq_read_alignment` SET `lib` = 'D005', `library_id` = 'D005', `sequence` = 'TGAGTATTCCAGATTGCATAGC', `rev_sequence` = NULL, `read_counts` = 20, `genomic_hits` = 1, `chr` = 'chr2L', `start` = 5641080, `stop` = 5641102, `strand` = '+', `normReads` = 1.4069, `intervalName_id` = 13, `structure` = '', `read_length` = 22 WHERE `loq_read_alignment`.`id` = 68 ; args=(u'D005', u'D005', u'TGAGTATTCCAGATTGCATAGC', 20, 1, u'chr2L', 5641080, 5641102, u'+', 1.4069, 13, u'', 22, 68)\n"
       ]
      },
      {
       "output_type": "stream",
       "stream": "stderr",
       "text": [
        "DEBUG:django.db.backends:(0.000) SELECT `loq_library`.`library_id`, `loq_library`.`rescue`, `loq_library`.`description`, `loq_library`.`organism`, `loq_library`.`strain`, `loq_library`.`allele`, `loq_library`.`tissue`, `loq_library`.`target`, `loq_library`.`type`, `loq_library`.`total_mapped`, `loq_library`.`resolution`, `loq_library`.`source_org`, `loq_library`.`source_person`, `loq_library`.`five_prime_adapter_sequence`, `loq_library`.`three_prime_adapter_sequence`, `loq_library`.`multiplex_barcode_sequence`, `loq_library`.`notes` FROM `loq_library` WHERE `loq_library`.`library_id` = 'D005' ; args=(u'D005',)\n"
       ]
      },
      {
       "output_type": "stream",
       "stream": "stderr",
       "text": [
        "DEBUG:django.db.backends:(0.000) SELECT (1) AS `a` FROM `loq_read_alignment` WHERE `loq_read_alignment`.`id` = 69  LIMIT 1; args=(69,)\n"
       ]
      },
      {
       "output_type": "stream",
       "stream": "stderr",
       "text": [
        "DEBUG:django.db.backends:(0.035) UPDATE `loq_read_alignment` SET `lib` = 'D005', `library_id` = 'D005', `sequence` = 'TATACGGTCTGGGACACTTTT', `rev_sequence` = NULL, `read_counts` = 1, `genomic_hits` = 1, `chr` = 'chr2L', `start` = 5641118, `stop` = 5641139, `strand` = '+', `normReads` = 0.0703, `intervalName_id` = 13, `structure` = '', `read_length` = 21 WHERE `loq_read_alignment`.`id` = 69 ; args=(u'D005', u'D005', u'TATACGGTCTGGGACACTTTT', 1, 1, u'chr2L', 5641118, 5641139, u'+', 0.0703, 13, u'', 21, 69)\n"
       ]
      },
      {
       "output_type": "stream",
       "stream": "stderr",
       "text": [
        "DEBUG:django.db.backends:(0.000) SELECT `loq_library`.`library_id`, `loq_library`.`rescue`, `loq_library`.`description`, `loq_library`.`organism`, `loq_library`.`strain`, `loq_library`.`allele`, `loq_library`.`tissue`, `loq_library`.`target`, `loq_library`.`type`, `loq_library`.`total_mapped`, `loq_library`.`resolution`, `loq_library`.`source_org`, `loq_library`.`source_person`, `loq_library`.`five_prime_adapter_sequence`, `loq_library`.`three_prime_adapter_sequence`, `loq_library`.`multiplex_barcode_sequence`, `loq_library`.`notes` FROM `loq_library` WHERE `loq_library`.`library_id` = 'D005' ; args=(u'D005',)\n"
       ]
      },
      {
       "output_type": "stream",
       "stream": "stderr",
       "text": [
        "DEBUG:django.db.backends:(0.000) SELECT (1) AS `a` FROM `loq_read_alignment` WHERE `loq_read_alignment`.`id` = 70  LIMIT 1; args=(70,)\n"
       ]
      },
      {
       "output_type": "stream",
       "stream": "stderr",
       "text": [
        "DEBUG:django.db.backends:(0.000) UPDATE `loq_read_alignment` SET `lib` = 'D005', `library_id` = 'D005', `sequence` = 'ACAAGGTAAATATCAGGTTGTTTC', `rev_sequence` = NULL, `read_counts` = 11, `genomic_hits` = 1, `chr` = 'chr2L', `start` = 5642004, `stop` = 5642028, `strand` = '+', `normReads` = 0.7738, `intervalName_id` = 16, `structure` = '', `read_length` = 24 WHERE `loq_read_alignment`.`id` = 70 ; args=(u'D005', u'D005', u'ACAAGGTAAATATCAGGTTGTTTC', 11, 1, u'chr2L', 5642004, 5642028, u'+', 0.7738, 16, u'', 24, 70)\n"
       ]
      },
      {
       "output_type": "stream",
       "stream": "stderr",
       "text": [
        "DEBUG:django.db.backends:(0.000) SELECT `loq_library`.`library_id`, `loq_library`.`rescue`, `loq_library`.`description`, `loq_library`.`organism`, `loq_library`.`strain`, `loq_library`.`allele`, `loq_library`.`tissue`, `loq_library`.`target`, `loq_library`.`type`, `loq_library`.`total_mapped`, `loq_library`.`resolution`, `loq_library`.`source_org`, `loq_library`.`source_person`, `loq_library`.`five_prime_adapter_sequence`, `loq_library`.`three_prime_adapter_sequence`, `loq_library`.`multiplex_barcode_sequence`, `loq_library`.`notes` FROM `loq_library` WHERE `loq_library`.`library_id` = 'D005' ; args=(u'D005',)\n"
       ]
      },
      {
       "output_type": "stream",
       "stream": "stderr",
       "text": [
        "DEBUG:django.db.backends:(0.000) SELECT (1) AS `a` FROM `loq_read_alignment` WHERE `loq_read_alignment`.`id` = 71  LIMIT 1; args=(71,)\n"
       ]
      },
      {
       "output_type": "stream",
       "stream": "stderr",
       "text": [
        "DEBUG:django.db.backends:(0.001) UPDATE `loq_read_alignment` SET `lib` = 'D005', `library_id` = 'D005', `sequence` = 'ACAAGGTAAATATCAGGTTGTTTCC', `rev_sequence` = NULL, `read_counts` = 1, `genomic_hits` = 1, `chr` = 'chr2L', `start` = 5642004, `stop` = 5642029, `strand` = '+', `normReads` = 0.0703, `intervalName_id` = 16, `structure` = '', `read_length` = 25 WHERE `loq_read_alignment`.`id` = 71 ; args=(u'D005', u'D005', u'ACAAGGTAAATATCAGGTTGTTTCC', 1, 1, u'chr2L', 5642004, 5642029, u'+', 0.0703, 16, u'', 25, 71)\n"
       ]
      },
      {
       "output_type": "stream",
       "stream": "stderr",
       "text": [
        "DEBUG:django.db.backends:(0.000) SELECT `loq_library`.`library_id`, `loq_library`.`rescue`, `loq_library`.`description`, `loq_library`.`organism`, `loq_library`.`strain`, `loq_library`.`allele`, `loq_library`.`tissue`, `loq_library`.`target`, `loq_library`.`type`, `loq_library`.`total_mapped`, `loq_library`.`resolution`, `loq_library`.`source_org`, `loq_library`.`source_person`, `loq_library`.`five_prime_adapter_sequence`, `loq_library`.`three_prime_adapter_sequence`, `loq_library`.`multiplex_barcode_sequence`, `loq_library`.`notes` FROM `loq_library` WHERE `loq_library`.`library_id` = 'D005' ; args=(u'D005',)\n"
       ]
      },
      {
       "output_type": "stream",
       "stream": "stderr",
       "text": [
        "DEBUG:django.db.backends:(0.014) SELECT (1) AS `a` FROM `loq_read_alignment` WHERE `loq_read_alignment`.`id` = 72  LIMIT 1; args=(72,)\n"
       ]
      },
      {
       "output_type": "stream",
       "stream": "stderr",
       "text": [
        "DEBUG:django.db.backends:(0.000) UPDATE `loq_read_alignment` SET `lib` = 'D005', `library_id` = 'D005', `sequence` = 'AACATCTGTATATACCTTTGTTCC', `rev_sequence` = NULL, `read_counts` = 3, `genomic_hits` = 1, `chr` = 'chr2L', `start` = 5642042, `stop` = 5642066, `strand` = '+', `normReads` = 0.211, `intervalName_id` = 16, `structure` = '', `read_length` = 24 WHERE `loq_read_alignment`.`id` = 72 ; args=(u'D005', u'D005', u'AACATCTGTATATACCTTTGTTCC', 3, 1, u'chr2L', 5642042, 5642066, u'+', 0.211, 16, u'', 24, 72)\n"
       ]
      },
      {
       "output_type": "stream",
       "stream": "stderr",
       "text": [
        "DEBUG:django.db.backends:(0.000) SELECT `loq_library`.`library_id`, `loq_library`.`rescue`, `loq_library`.`description`, `loq_library`.`organism`, `loq_library`.`strain`, `loq_library`.`allele`, `loq_library`.`tissue`, `loq_library`.`target`, `loq_library`.`type`, `loq_library`.`total_mapped`, `loq_library`.`resolution`, `loq_library`.`source_org`, `loq_library`.`source_person`, `loq_library`.`five_prime_adapter_sequence`, `loq_library`.`three_prime_adapter_sequence`, `loq_library`.`multiplex_barcode_sequence`, `loq_library`.`notes` FROM `loq_library` WHERE `loq_library`.`library_id` = 'D005' ; args=(u'D005',)\n"
       ]
      },
      {
       "output_type": "stream",
       "stream": "stderr",
       "text": [
        "DEBUG:django.db.backends:(0.015) SELECT (1) AS `a` FROM `loq_read_alignment` WHERE `loq_read_alignment`.`id` = 73  LIMIT 1; args=(73,)\n"
       ]
      },
      {
       "output_type": "stream",
       "stream": "stderr",
       "text": [
        "DEBUG:django.db.backends:(0.007) UPDATE `loq_read_alignment` SET `lib` = 'D005', `library_id` = 'D005', `sequence` = 'CATCTGTATATACCTTTGTTCC', `rev_sequence` = NULL, `read_counts` = 1, `genomic_hits` = 1, `chr` = 'chr2L', `start` = 5642044, `stop` = 5642066, `strand` = '+', `normReads` = 0.0703, `intervalName_id` = 16, `structure` = '', `read_length` = 22 WHERE `loq_read_alignment`.`id` = 73 ; args=(u'D005', u'D005', u'CATCTGTATATACCTTTGTTCC', 1, 1, u'chr2L', 5642044, 5642066, u'+', 0.0703, 16, u'', 22, 73)\n"
       ]
      },
      {
       "output_type": "stream",
       "stream": "stderr",
       "text": [
        "DEBUG:django.db.backends:(0.000) SELECT `loq_library`.`library_id`, `loq_library`.`rescue`, `loq_library`.`description`, `loq_library`.`organism`, `loq_library`.`strain`, `loq_library`.`allele`, `loq_library`.`tissue`, `loq_library`.`target`, `loq_library`.`type`, `loq_library`.`total_mapped`, `loq_library`.`resolution`, `loq_library`.`source_org`, `loq_library`.`source_person`, `loq_library`.`five_prime_adapter_sequence`, `loq_library`.`three_prime_adapter_sequence`, `loq_library`.`multiplex_barcode_sequence`, `loq_library`.`notes` FROM `loq_library` WHERE `loq_library`.`library_id` = 'D005' ; args=(u'D005',)\n"
       ]
      },
      {
       "output_type": "stream",
       "stream": "stderr",
       "text": [
        "DEBUG:django.db.backends:(0.001) SELECT (1) AS `a` FROM `loq_read_alignment` WHERE `loq_read_alignment`.`id` = 74  LIMIT 1; args=(74,)\n"
       ]
      },
      {
       "output_type": "stream",
       "stream": "stderr",
       "text": [
        "DEBUG:django.db.backends:(0.002) UPDATE `loq_read_alignment` SET `lib` = 'D005', `library_id` = 'D005', `sequence` = 'ATATTGGTCCAACTTGCC', `rev_sequence` = NULL, `read_counts` = 2, `genomic_hits` = 1, `chr` = 'chr2L', `start` = 5642108, `stop` = 5642126, `strand` = '+', `normReads` = 0.1407, `intervalName_id` = 17, `structure` = '', `read_length` = 18 WHERE `loq_read_alignment`.`id` = 74 ; args=(u'D005', u'D005', u'ATATTGGTCCAACTTGCC', 2, 1, u'chr2L', 5642108, 5642126, u'+', 0.1407, 17, u'', 18, 74)\n"
       ]
      },
      {
       "output_type": "stream",
       "stream": "stderr",
       "text": [
        "DEBUG:django.db.backends:(0.000) SELECT `loq_library`.`library_id`, `loq_library`.`rescue`, `loq_library`.`description`, `loq_library`.`organism`, `loq_library`.`strain`, `loq_library`.`allele`, `loq_library`.`tissue`, `loq_library`.`target`, `loq_library`.`type`, `loq_library`.`total_mapped`, `loq_library`.`resolution`, `loq_library`.`source_org`, `loq_library`.`source_person`, `loq_library`.`five_prime_adapter_sequence`, `loq_library`.`three_prime_adapter_sequence`, `loq_library`.`multiplex_barcode_sequence`, `loq_library`.`notes` FROM `loq_library` WHERE `loq_library`.`library_id` = 'D005' ; args=(u'D005',)\n"
       ]
      },
      {
       "output_type": "stream",
       "stream": "stderr",
       "text": [
        "DEBUG:django.db.backends:(0.017) SELECT (1) AS `a` FROM `loq_read_alignment` WHERE `loq_read_alignment`.`id` = 75  LIMIT 1; args=(75,)\n"
       ]
      },
      {
       "output_type": "stream",
       "stream": "stderr",
       "text": [
        "DEBUG:django.db.backends:(0.003) UPDATE `loq_read_alignment` SET `lib` = 'D005', `library_id` = 'D005', `sequence` = 'TTAGAATAGGGGAGCTTA', `rev_sequence` = NULL, `read_counts` = 2, `genomic_hits` = 1, `chr` = 'chr2L', `start` = 5642126, `stop` = 5642144, `strand` = '+', `normReads` = 0.1407, `intervalName_id` = 17, `structure` = '', `read_length` = 18 WHERE `loq_read_alignment`.`id` = 75 ; args=(u'D005', u'D005', u'TTAGAATAGGGGAGCTTA', 2, 1, u'chr2L', 5642126, 5642144, u'+', 0.1407, 17, u'', 18, 75)\n"
       ]
      },
      {
       "output_type": "stream",
       "stream": "stderr",
       "text": [
        "DEBUG:django.db.backends:(0.000) SELECT `loq_library`.`library_id`, `loq_library`.`rescue`, `loq_library`.`description`, `loq_library`.`organism`, `loq_library`.`strain`, `loq_library`.`allele`, `loq_library`.`tissue`, `loq_library`.`target`, `loq_library`.`type`, `loq_library`.`total_mapped`, `loq_library`.`resolution`, `loq_library`.`source_org`, `loq_library`.`source_person`, `loq_library`.`five_prime_adapter_sequence`, `loq_library`.`three_prime_adapter_sequence`, `loq_library`.`multiplex_barcode_sequence`, `loq_library`.`notes` FROM `loq_library` WHERE `loq_library`.`library_id` = 'D005' ; args=(u'D005',)\n"
       ]
      },
      {
       "output_type": "stream",
       "stream": "stderr",
       "text": [
        "DEBUG:django.db.backends:(0.000) SELECT (1) AS `a` FROM `loq_read_alignment` WHERE `loq_read_alignment`.`id` = 76  LIMIT 1; args=(76,)\n"
       ]
      },
      {
       "output_type": "stream",
       "stream": "stderr",
       "text": [
        "DEBUG:django.db.backends:(0.000) UPDATE `loq_read_alignment` SET `lib` = 'D005', `library_id` = 'D005', `sequence` = 'TTAGAATAGGGGAGCTTAAC', `rev_sequence` = NULL, `read_counts` = 5, `genomic_hits` = 1, `chr` = 'chr2L', `start` = 5642126, `stop` = 5642146, `strand` = '+', `normReads` = 0.3517, `intervalName_id` = 17, `structure` = '', `read_length` = 20 WHERE `loq_read_alignment`.`id` = 76 ; args=(u'D005', u'D005', u'TTAGAATAGGGGAGCTTAAC', 5, 1, u'chr2L', 5642126, 5642146, u'+', 0.3517, 17, u'', 20, 76)\n"
       ]
      },
      {
       "output_type": "stream",
       "stream": "stderr",
       "text": [
        "DEBUG:django.db.backends:(0.001) SELECT `loq_library`.`library_id`, `loq_library`.`rescue`, `loq_library`.`description`, `loq_library`.`organism`, `loq_library`.`strain`, `loq_library`.`allele`, `loq_library`.`tissue`, `loq_library`.`target`, `loq_library`.`type`, `loq_library`.`total_mapped`, `loq_library`.`resolution`, `loq_library`.`source_org`, `loq_library`.`source_person`, `loq_library`.`five_prime_adapter_sequence`, `loq_library`.`three_prime_adapter_sequence`, `loq_library`.`multiplex_barcode_sequence`, `loq_library`.`notes` FROM `loq_library` WHERE `loq_library`.`library_id` = 'D005' ; args=(u'D005',)\n"
       ]
      },
      {
       "output_type": "stream",
       "stream": "stderr",
       "text": [
        "DEBUG:django.db.backends:(0.000) SELECT (1) AS `a` FROM `loq_read_alignment` WHERE `loq_read_alignment`.`id` = 77  LIMIT 1; args=(77,)\n"
       ]
      },
      {
       "output_type": "stream",
       "stream": "stderr",
       "text": [
        "DEBUG:django.db.backends:(0.000) UPDATE `loq_read_alignment` SET `lib` = 'D005', `library_id` = 'D005', `sequence` = 'TTAGAATAGGGGAGCTTAACT', `rev_sequence` = NULL, `read_counts` = 30, `genomic_hits` = 1, `chr` = 'chr2L', `start` = 5642126, `stop` = 5642147, `strand` = '+', `normReads` = 2.1104, `intervalName_id` = 17, `structure` = '', `read_length` = 21 WHERE `loq_read_alignment`.`id` = 77 ; args=(u'D005', u'D005', u'TTAGAATAGGGGAGCTTAACT', 30, 1, u'chr2L', 5642126, 5642147, u'+', 2.1104, 17, u'', 21, 77)\n"
       ]
      },
      {
       "output_type": "stream",
       "stream": "stderr",
       "text": [
        "DEBUG:django.db.backends:(0.000) SELECT `loq_library`.`library_id`, `loq_library`.`rescue`, `loq_library`.`description`, `loq_library`.`organism`, `loq_library`.`strain`, `loq_library`.`allele`, `loq_library`.`tissue`, `loq_library`.`target`, `loq_library`.`type`, `loq_library`.`total_mapped`, `loq_library`.`resolution`, `loq_library`.`source_org`, `loq_library`.`source_person`, `loq_library`.`five_prime_adapter_sequence`, `loq_library`.`three_prime_adapter_sequence`, `loq_library`.`multiplex_barcode_sequence`, `loq_library`.`notes` FROM `loq_library` WHERE `loq_library`.`library_id` = 'D005' ; args=(u'D005',)\n"
       ]
      },
      {
       "output_type": "stream",
       "stream": "stderr",
       "text": [
        "DEBUG:django.db.backends:(0.021) SELECT (1) AS `a` FROM `loq_read_alignment` WHERE `loq_read_alignment`.`id` = 78  LIMIT 1; args=(78,)\n"
       ]
      },
      {
       "output_type": "stream",
       "stream": "stderr",
       "text": [
        "DEBUG:django.db.backends:(0.000) UPDATE `loq_read_alignment` SET `lib` = 'D005', `library_id` = 'D005', `sequence` = 'TTAGAATAGGGGAGCTTAACTT', `rev_sequence` = NULL, `read_counts` = 49, `genomic_hits` = 1, `chr` = 'chr2L', `start` = 5642126, `stop` = 5642148, `strand` = '+', `normReads` = 3.447, `intervalName_id` = 17, `structure` = '', `read_length` = 22 WHERE `loq_read_alignment`.`id` = 78 ; args=(u'D005', u'D005', u'TTAGAATAGGGGAGCTTAACTT', 49, 1, u'chr2L', 5642126, 5642148, u'+', 3.447, 17, u'', 22, 78)\n"
       ]
      },
      {
       "output_type": "stream",
       "stream": "stderr",
       "text": [
        "DEBUG:django.db.backends:(0.000) SELECT `loq_library`.`library_id`, `loq_library`.`rescue`, `loq_library`.`description`, `loq_library`.`organism`, `loq_library`.`strain`, `loq_library`.`allele`, `loq_library`.`tissue`, `loq_library`.`target`, `loq_library`.`type`, `loq_library`.`total_mapped`, `loq_library`.`resolution`, `loq_library`.`source_org`, `loq_library`.`source_person`, `loq_library`.`five_prime_adapter_sequence`, `loq_library`.`three_prime_adapter_sequence`, `loq_library`.`multiplex_barcode_sequence`, `loq_library`.`notes` FROM `loq_library` WHERE `loq_library`.`library_id` = 'D005' ; args=(u'D005',)\n"
       ]
      },
      {
       "output_type": "stream",
       "stream": "stderr",
       "text": [
        "DEBUG:django.db.backends:(0.000) SELECT (1) AS `a` FROM `loq_read_alignment` WHERE `loq_read_alignment`.`id` = 79  LIMIT 1; args=(79,)\n"
       ]
      },
      {
       "output_type": "stream",
       "stream": "stderr",
       "text": [
        "DEBUG:django.db.backends:(0.001) UPDATE `loq_read_alignment` SET `lib` = 'D005', `library_id` = 'D005', `sequence` = 'TAGAATAGGGGAGCTTAACT', `rev_sequence` = NULL, `read_counts` = 2, `genomic_hits` = 1, `chr` = 'chr2L', `start` = 5642127, `stop` = 5642147, `strand` = '+', `normReads` = 0.1407, `intervalName_id` = 17, `structure` = '', `read_length` = 20 WHERE `loq_read_alignment`.`id` = 79 ; args=(u'D005', u'D005', u'TAGAATAGGGGAGCTTAACT', 2, 1, u'chr2L', 5642127, 5642147, u'+', 0.1407, 17, u'', 20, 79)\n"
       ]
      },
      {
       "output_type": "stream",
       "stream": "stderr",
       "text": [
        "DEBUG:django.db.backends:(0.000) SELECT `loq_library`.`library_id`, `loq_library`.`rescue`, `loq_library`.`description`, `loq_library`.`organism`, `loq_library`.`strain`, `loq_library`.`allele`, `loq_library`.`tissue`, `loq_library`.`target`, `loq_library`.`type`, `loq_library`.`total_mapped`, `loq_library`.`resolution`, `loq_library`.`source_org`, `loq_library`.`source_person`, `loq_library`.`five_prime_adapter_sequence`, `loq_library`.`three_prime_adapter_sequence`, `loq_library`.`multiplex_barcode_sequence`, `loq_library`.`notes` FROM `loq_library` WHERE `loq_library`.`library_id` = 'D005' ; args=(u'D005',)\n"
       ]
      },
      {
       "output_type": "stream",
       "stream": "stderr",
       "text": [
        "DEBUG:django.db.backends:(0.000) SELECT (1) AS `a` FROM `loq_read_alignment` WHERE `loq_read_alignment`.`id` = 80  LIMIT 1; args=(80,)\n"
       ]
      },
      {
       "output_type": "stream",
       "stream": "stderr",
       "text": [
        "DEBUG:django.db.backends:(0.023) UPDATE `loq_read_alignment` SET `lib` = 'D005', `library_id` = 'D005', `sequence` = 'TAGAATAGGGGAGCTTAACTT', `rev_sequence` = NULL, `read_counts` = 5, `genomic_hits` = 1, `chr` = 'chr2L', `start` = 5642127, `stop` = 5642148, `strand` = '+', `normReads` = 0.3517, `intervalName_id` = 17, `structure` = '', `read_length` = 21 WHERE `loq_read_alignment`.`id` = 80 ; args=(u'D005', u'D005', u'TAGAATAGGGGAGCTTAACTT', 5, 1, u'chr2L', 5642127, 5642148, u'+', 0.3517, 17, u'', 21, 80)\n"
       ]
      },
      {
       "output_type": "stream",
       "stream": "stderr",
       "text": [
        "DEBUG:django.db.backends:(0.000) SELECT `loq_library`.`library_id`, `loq_library`.`rescue`, `loq_library`.`description`, `loq_library`.`organism`, `loq_library`.`strain`, `loq_library`.`allele`, `loq_library`.`tissue`, `loq_library`.`target`, `loq_library`.`type`, `loq_library`.`total_mapped`, `loq_library`.`resolution`, `loq_library`.`source_org`, `loq_library`.`source_person`, `loq_library`.`five_prime_adapter_sequence`, `loq_library`.`three_prime_adapter_sequence`, `loq_library`.`multiplex_barcode_sequence`, `loq_library`.`notes` FROM `loq_library` WHERE `loq_library`.`library_id` = 'D005' ; args=(u'D005',)\n"
       ]
      },
      {
       "output_type": "stream",
       "stream": "stderr",
       "text": [
        "DEBUG:django.db.backends:(0.000) SELECT (1) AS `a` FROM `loq_read_alignment` WHERE `loq_read_alignment`.`id` = 81  LIMIT 1; args=(81,)\n"
       ]
      },
      {
       "output_type": "stream",
       "stream": "stderr",
       "text": [
        "DEBUG:django.db.backends:(0.019) UPDATE `loq_read_alignment` SET `lib` = 'D005', `library_id` = 'D005', `sequence` = 'AGTTAAAAGCCTCTGTTCTAAG', `rev_sequence` = NULL, `read_counts` = 1, `genomic_hits` = 1, `chr` = 'chr2L', `start` = 5642164, `stop` = 5642186, `strand` = '+', `normReads` = 0.0703, `intervalName_id` = 17, `structure` = '', `read_length` = 22 WHERE `loq_read_alignment`.`id` = 81 ; args=(u'D005', u'D005', u'AGTTAAAAGCCTCTGTTCTAAG', 1, 1, u'chr2L', 5642164, 5642186, u'+', 0.0703, 17, u'', 22, 81)\n"
       ]
      },
      {
       "output_type": "stream",
       "stream": "stderr",
       "text": [
        "DEBUG:django.db.backends:(0.001) SELECT `loq_library`.`library_id`, `loq_library`.`rescue`, `loq_library`.`description`, `loq_library`.`organism`, `loq_library`.`strain`, `loq_library`.`allele`, `loq_library`.`tissue`, `loq_library`.`target`, `loq_library`.`type`, `loq_library`.`total_mapped`, `loq_library`.`resolution`, `loq_library`.`source_org`, `loq_library`.`source_person`, `loq_library`.`five_prime_adapter_sequence`, `loq_library`.`three_prime_adapter_sequence`, `loq_library`.`multiplex_barcode_sequence`, `loq_library`.`notes` FROM `loq_library` WHERE `loq_library`.`library_id` = 'D005' ; args=(u'D005',)\n"
       ]
      },
      {
       "output_type": "stream",
       "stream": "stderr",
       "text": [
        "DEBUG:django.db.backends:(0.021) SELECT (1) AS `a` FROM `loq_read_alignment` WHERE `loq_read_alignment`.`id` = 82  LIMIT 1; args=(82,)\n"
       ]
      },
      {
       "output_type": "stream",
       "stream": "stderr",
       "text": [
        "DEBUG:django.db.backends:(0.000) UPDATE `loq_read_alignment` SET `lib` = 'D005', `library_id` = 'D005', `sequence` = 'GTTAAAAGCCTCTGTTCTA', `rev_sequence` = NULL, `read_counts` = 1, `genomic_hits` = 1, `chr` = 'chr2L', `start` = 5642165, `stop` = 5642184, `strand` = '+', `normReads` = 0.0703, `intervalName_id` = 17, `structure` = '', `read_length` = 19 WHERE `loq_read_alignment`.`id` = 82 ; args=(u'D005', u'D005', u'GTTAAAAGCCTCTGTTCTA', 1, 1, u'chr2L', 5642165, 5642184, u'+', 0.0703, 17, u'', 19, 82)\n"
       ]
      },
      {
       "output_type": "stream",
       "stream": "stderr",
       "text": [
        "DEBUG:django.db.backends:(0.000) SELECT `loq_library`.`library_id`, `loq_library`.`rescue`, `loq_library`.`description`, `loq_library`.`organism`, `loq_library`.`strain`, `loq_library`.`allele`, `loq_library`.`tissue`, `loq_library`.`target`, `loq_library`.`type`, `loq_library`.`total_mapped`, `loq_library`.`resolution`, `loq_library`.`source_org`, `loq_library`.`source_person`, `loq_library`.`five_prime_adapter_sequence`, `loq_library`.`three_prime_adapter_sequence`, `loq_library`.`multiplex_barcode_sequence`, `loq_library`.`notes` FROM `loq_library` WHERE `loq_library`.`library_id` = 'D005' ; args=(u'D005',)\n"
       ]
      },
      {
       "output_type": "stream",
       "stream": "stderr",
       "text": [
        "DEBUG:django.db.backends:(0.000) SELECT (1) AS `a` FROM `loq_read_alignment` WHERE `loq_read_alignment`.`id` = 83  LIMIT 1; args=(83,)\n"
       ]
      },
      {
       "output_type": "stream",
       "stream": "stderr",
       "text": [
        "DEBUG:django.db.backends:(0.001) UPDATE `loq_read_alignment` SET `lib` = 'D005', `library_id` = 'D005', `sequence` = 'GTTAAAAGCCTCTGTTCTAAG', `rev_sequence` = NULL, `read_counts` = 1, `genomic_hits` = 1, `chr` = 'chr2L', `start` = 5642165, `stop` = 5642186, `strand` = '+', `normReads` = 0.0703, `intervalName_id` = 17, `structure` = '', `read_length` = 21 WHERE `loq_read_alignment`.`id` = 83 ; args=(u'D005', u'D005', u'GTTAAAAGCCTCTGTTCTAAG', 1, 1, u'chr2L', 5642165, 5642186, u'+', 0.0703, 17, u'', 21, 83)\n"
       ]
      },
      {
       "output_type": "stream",
       "stream": "stderr",
       "text": [
        "DEBUG:django.db.backends:(0.001) SELECT `loq_library`.`library_id`, `loq_library`.`rescue`, `loq_library`.`description`, `loq_library`.`organism`, `loq_library`.`strain`, `loq_library`.`allele`, `loq_library`.`tissue`, `loq_library`.`target`, `loq_library`.`type`, `loq_library`.`total_mapped`, `loq_library`.`resolution`, `loq_library`.`source_org`, `loq_library`.`source_person`, `loq_library`.`five_prime_adapter_sequence`, `loq_library`.`three_prime_adapter_sequence`, `loq_library`.`multiplex_barcode_sequence`, `loq_library`.`notes` FROM `loq_library` WHERE `loq_library`.`library_id` = 'D005' ; args=(u'D005',)\n"
       ]
      },
      {
       "output_type": "stream",
       "stream": "stderr",
       "text": [
        "DEBUG:django.db.backends:(0.001) SELECT (1) AS `a` FROM `loq_read_alignment` WHERE `loq_read_alignment`.`id` = 84  LIMIT 1; args=(84,)\n"
       ]
      },
      {
       "output_type": "stream",
       "stream": "stderr",
       "text": [
        "DEBUG:django.db.backends:(0.001) UPDATE `loq_read_alignment` SET `lib` = 'D005', `library_id` = 'D005', `sequence` = 'GTTAAAAGCCTCTGTTCTAAGA', `rev_sequence` = NULL, `read_counts` = 2, `genomic_hits` = 1, `chr` = 'chr2L', `start` = 5642165, `stop` = 5642187, `strand` = '+', `normReads` = 0.1407, `intervalName_id` = 17, `structure` = '', `read_length` = 22 WHERE `loq_read_alignment`.`id` = 84 ; args=(u'D005', u'D005', u'GTTAAAAGCCTCTGTTCTAAGA', 2, 1, u'chr2L', 5642165, 5642187, u'+', 0.1407, 17, u'', 22, 84)\n"
       ]
      },
      {
       "output_type": "stream",
       "stream": "stderr",
       "text": [
        "DEBUG:django.db.backends:(0.000) SELECT `loq_library`.`library_id`, `loq_library`.`rescue`, `loq_library`.`description`, `loq_library`.`organism`, `loq_library`.`strain`, `loq_library`.`allele`, `loq_library`.`tissue`, `loq_library`.`target`, `loq_library`.`type`, `loq_library`.`total_mapped`, `loq_library`.`resolution`, `loq_library`.`source_org`, `loq_library`.`source_person`, `loq_library`.`five_prime_adapter_sequence`, `loq_library`.`three_prime_adapter_sequence`, `loq_library`.`multiplex_barcode_sequence`, `loq_library`.`notes` FROM `loq_library` WHERE `loq_library`.`library_id` = 'D005' ; args=(u'D005',)\n"
       ]
      },
      {
       "output_type": "stream",
       "stream": "stderr",
       "text": [
        "DEBUG:django.db.backends:(0.000) SELECT (1) AS `a` FROM `loq_read_alignment` WHERE `loq_read_alignment`.`id` = 85  LIMIT 1; args=(85,)\n"
       ]
      },
      {
       "output_type": "stream",
       "stream": "stderr",
       "text": [
        "DEBUG:django.db.backends:(0.000) UPDATE `loq_read_alignment` SET `lib` = 'D005', `library_id` = 'D005', `sequence` = 'TTAAAAGCCTCTGTTCTAAGA', `rev_sequence` = NULL, `read_counts` = 3, `genomic_hits` = 1, `chr` = 'chr2L', `start` = 5642166, `stop` = 5642187, `strand` = '+', `normReads` = 0.211, `intervalName_id` = 17, `structure` = '', `read_length` = 21 WHERE `loq_read_alignment`.`id` = 85 ; args=(u'D005', u'D005', u'TTAAAAGCCTCTGTTCTAAGA', 3, 1, u'chr2L', 5642166, 5642187, u'+', 0.211, 17, u'', 21, 85)\n"
       ]
      },
      {
       "output_type": "stream",
       "stream": "stderr",
       "text": [
        "DEBUG:django.db.backends:(0.000) SELECT `loq_library`.`library_id`, `loq_library`.`rescue`, `loq_library`.`description`, `loq_library`.`organism`, `loq_library`.`strain`, `loq_library`.`allele`, `loq_library`.`tissue`, `loq_library`.`target`, `loq_library`.`type`, `loq_library`.`total_mapped`, `loq_library`.`resolution`, `loq_library`.`source_org`, `loq_library`.`source_person`, `loq_library`.`five_prime_adapter_sequence`, `loq_library`.`three_prime_adapter_sequence`, `loq_library`.`multiplex_barcode_sequence`, `loq_library`.`notes` FROM `loq_library` WHERE `loq_library`.`library_id` = 'D005' ; args=(u'D005',)\n"
       ]
      },
      {
       "output_type": "stream",
       "stream": "stderr",
       "text": [
        "DEBUG:django.db.backends:(0.000) SELECT (1) AS `a` FROM `loq_read_alignment` WHERE `loq_read_alignment`.`id` = 86  LIMIT 1; args=(86,)\n"
       ]
      },
      {
       "output_type": "stream",
       "stream": "stderr",
       "text": [
        "DEBUG:django.db.backends:(0.000) UPDATE `loq_read_alignment` SET `lib` = 'D005', `library_id` = 'D005', `sequence` = 'TAAAAGCCTCTGTTCTAAG', `rev_sequence` = NULL, `read_counts` = 1, `genomic_hits` = 1, `chr` = 'chr2L', `start` = 5642167, `stop` = 5642186, `strand` = '+', `normReads` = 0.0703, `intervalName_id` = 17, `structure` = '', `read_length` = 19 WHERE `loq_read_alignment`.`id` = 86 ; args=(u'D005', u'D005', u'TAAAAGCCTCTGTTCTAAG', 1, 1, u'chr2L', 5642167, 5642186, u'+', 0.0703, 17, u'', 19, 86)\n"
       ]
      },
      {
       "output_type": "stream",
       "stream": "stderr",
       "text": [
        "DEBUG:django.db.backends:(0.000) SELECT `loq_library`.`library_id`, `loq_library`.`rescue`, `loq_library`.`description`, `loq_library`.`organism`, `loq_library`.`strain`, `loq_library`.`allele`, `loq_library`.`tissue`, `loq_library`.`target`, `loq_library`.`type`, `loq_library`.`total_mapped`, `loq_library`.`resolution`, `loq_library`.`source_org`, `loq_library`.`source_person`, `loq_library`.`five_prime_adapter_sequence`, `loq_library`.`three_prime_adapter_sequence`, `loq_library`.`multiplex_barcode_sequence`, `loq_library`.`notes` FROM `loq_library` WHERE `loq_library`.`library_id` = 'D005' ; args=(u'D005',)\n"
       ]
      },
      {
       "output_type": "stream",
       "stream": "stderr",
       "text": [
        "DEBUG:django.db.backends:(0.000) SELECT (1) AS `a` FROM `loq_read_alignment` WHERE `loq_read_alignment`.`id` = 87  LIMIT 1; args=(87,)\n"
       ]
      },
      {
       "output_type": "stream",
       "stream": "stderr",
       "text": [
        "DEBUG:django.db.backends:(0.001) UPDATE `loq_read_alignment` SET `lib` = 'D005', `library_id` = 'D005', `sequence` = 'CGCCAGTTGATAACCCCCAGC', `rev_sequence` = 'GCTGGGGGTTATCAACTGGCG', `read_counts` = 1, `genomic_hits` = 1, `chr` = 'chr2L', `start` = 6045641, `stop` = 6045662, `strand` = '-', `normReads` = 0.0703, `intervalName_id` = 18, `structure` = '', `read_length` = 21 WHERE `loq_read_alignment`.`id` = 87 ; args=(u'D005', u'D005', u'CGCCAGTTGATAACCCCCAGC', u'GCTGGGGGTTATCAACTGGCG', 1, 1, u'chr2L', 6045641, 6045662, u'-', 0.0703, 18, u'', 21, 87)\n"
       ]
      },
      {
       "output_type": "stream",
       "stream": "stderr",
       "text": [
        "DEBUG:django.db.backends:(0.000) SELECT `loq_library`.`library_id`, `loq_library`.`rescue`, `loq_library`.`description`, `loq_library`.`organism`, `loq_library`.`strain`, `loq_library`.`allele`, `loq_library`.`tissue`, `loq_library`.`target`, `loq_library`.`type`, `loq_library`.`total_mapped`, `loq_library`.`resolution`, `loq_library`.`source_org`, `loq_library`.`source_person`, `loq_library`.`five_prime_adapter_sequence`, `loq_library`.`three_prime_adapter_sequence`, `loq_library`.`multiplex_barcode_sequence`, `loq_library`.`notes` FROM `loq_library` WHERE `loq_library`.`library_id` = 'D005' ; args=(u'D005',)\n"
       ]
      },
      {
       "output_type": "stream",
       "stream": "stderr",
       "text": [
        "DEBUG:django.db.backends:(0.000) SELECT (1) AS `a` FROM `loq_read_alignment` WHERE `loq_read_alignment`.`id` = 88  LIMIT 1; args=(88,)\n"
       ]
      },
      {
       "output_type": "stream",
       "stream": "stderr",
       "text": [
        "DEBUG:django.db.backends:(0.001) UPDATE `loq_read_alignment` SET `lib` = 'D005', `library_id` = 'D005', `sequence` = 'TGTGGGTTGTGGGCTGTGTGGCT', `rev_sequence` = 'AGCCACACAGCCCACAACCCACA', `read_counts` = 1, `genomic_hits` = 1, `chr` = 'chr2L', `start` = 6045675, `stop` = 6045698, `strand` = '-', `normReads` = 0.0703, `intervalName_id` = 18, `structure` = '', `read_length` = 23 WHERE `loq_read_alignment`.`id` = 88 ; args=(u'D005', u'D005', u'TGTGGGTTGTGGGCTGTGTGGCT', u'AGCCACACAGCCCACAACCCACA', 1, 1, u'chr2L', 6045675, 6045698, u'-', 0.0703, 18, u'', 23, 88)\n"
       ]
      },
      {
       "output_type": "stream",
       "stream": "stderr",
       "text": [
        "DEBUG:django.db.backends:(0.000) SELECT `loq_library`.`library_id`, `loq_library`.`rescue`, `loq_library`.`description`, `loq_library`.`organism`, `loq_library`.`strain`, `loq_library`.`allele`, `loq_library`.`tissue`, `loq_library`.`target`, `loq_library`.`type`, `loq_library`.`total_mapped`, `loq_library`.`resolution`, `loq_library`.`source_org`, `loq_library`.`source_person`, `loq_library`.`five_prime_adapter_sequence`, `loq_library`.`three_prime_adapter_sequence`, `loq_library`.`multiplex_barcode_sequence`, `loq_library`.`notes` FROM `loq_library` WHERE `loq_library`.`library_id` = 'D005' ; args=(u'D005',)\n"
       ]
      },
      {
       "output_type": "stream",
       "stream": "stderr",
       "text": [
        "DEBUG:django.db.backends:(0.000) SELECT (1) AS `a` FROM `loq_read_alignment` WHERE `loq_read_alignment`.`id` = 89  LIMIT 1; args=(89,)\n"
       ]
      },
      {
       "output_type": "stream",
       "stream": "stderr",
       "text": [
        "DEBUG:django.db.backends:(0.025) UPDATE `loq_read_alignment` SET `lib` = 'D005', `library_id` = 'D005', `sequence` = 'TGTGGGTTGTGGGCTGTGTGGC', `rev_sequence` = 'GCCACACAGCCCACAACCCACA', `read_counts` = 4, `genomic_hits` = 1, `chr` = 'chr2L', `start` = 6045676, `stop` = 6045698, `strand` = '-', `normReads` = 0.2814, `intervalName_id` = 18, `structure` = '', `read_length` = 22 WHERE `loq_read_alignment`.`id` = 89 ; args=(u'D005', u'D005', u'TGTGGGTTGTGGGCTGTGTGGC', u'GCCACACAGCCCACAACCCACA', 4, 1, u'chr2L', 6045676, 6045698, u'-', 0.2814, 18, u'', 22, 89)\n"
       ]
      },
      {
       "output_type": "stream",
       "stream": "stderr",
       "text": [
        "DEBUG:django.db.backends:(0.000) SELECT `loq_library`.`library_id`, `loq_library`.`rescue`, `loq_library`.`description`, `loq_library`.`organism`, `loq_library`.`strain`, `loq_library`.`allele`, `loq_library`.`tissue`, `loq_library`.`target`, `loq_library`.`type`, `loq_library`.`total_mapped`, `loq_library`.`resolution`, `loq_library`.`source_org`, `loq_library`.`source_person`, `loq_library`.`five_prime_adapter_sequence`, `loq_library`.`three_prime_adapter_sequence`, `loq_library`.`multiplex_barcode_sequence`, `loq_library`.`notes` FROM `loq_library` WHERE `loq_library`.`library_id` = 'D005' ; args=(u'D005',)\n"
       ]
      },
      {
       "output_type": "stream",
       "stream": "stderr",
       "text": [
        "DEBUG:django.db.backends:(0.000) SELECT (1) AS `a` FROM `loq_read_alignment` WHERE `loq_read_alignment`.`id` = 90  LIMIT 1; args=(90,)\n"
       ]
      },
      {
       "output_type": "stream",
       "stream": "stderr",
       "text": [
        "DEBUG:django.db.backends:(0.001) UPDATE `loq_read_alignment` SET `lib` = 'D005', `library_id` = 'D005', `sequence` = 'TGTGGGTTGTGGGCTGTGTGG', `rev_sequence` = 'CCACACAGCCCACAACCCACA', `read_counts` = 2, `genomic_hits` = 1, `chr` = 'chr2L', `start` = 6045677, `stop` = 6045698, `strand` = '-', `normReads` = 0.1407, `intervalName_id` = 18, `structure` = '', `read_length` = 21 WHERE `loq_read_alignment`.`id` = 90 ; args=(u'D005', u'D005', u'TGTGGGTTGTGGGCTGTGTGG', u'CCACACAGCCCACAACCCACA', 2, 1, u'chr2L', 6045677, 6045698, u'-', 0.1407, 18, u'', 21, 90)\n"
       ]
      },
      {
       "output_type": "stream",
       "stream": "stderr",
       "text": [
        "DEBUG:django.db.backends:(0.000) SELECT `loq_library`.`library_id`, `loq_library`.`rescue`, `loq_library`.`description`, `loq_library`.`organism`, `loq_library`.`strain`, `loq_library`.`allele`, `loq_library`.`tissue`, `loq_library`.`target`, `loq_library`.`type`, `loq_library`.`total_mapped`, `loq_library`.`resolution`, `loq_library`.`source_org`, `loq_library`.`source_person`, `loq_library`.`five_prime_adapter_sequence`, `loq_library`.`three_prime_adapter_sequence`, `loq_library`.`multiplex_barcode_sequence`, `loq_library`.`notes` FROM `loq_library` WHERE `loq_library`.`library_id` = 'D005' ; args=(u'D005',)\n"
       ]
      },
      {
       "output_type": "stream",
       "stream": "stderr",
       "text": [
        "DEBUG:django.db.backends:(0.000) SELECT (1) AS `a` FROM `loq_read_alignment` WHERE `loq_read_alignment`.`id` = 91  LIMIT 1; args=(91,)\n"
       ]
      },
      {
       "output_type": "stream",
       "stream": "stderr",
       "text": [
        "DEBUG:django.db.backends:(0.000) UPDATE `loq_read_alignment` SET `lib` = 'D005', `library_id` = 'D005', `sequence` = 'TGTGGGTTGTGGGCTGTGTG', `rev_sequence` = 'CACACAGCCCACAACCCACA', `read_counts` = 1, `genomic_hits` = 1, `chr` = 'chr2L', `start` = 6045678, `stop` = 6045698, `strand` = '-', `normReads` = 0.0703, `intervalName_id` = 18, `structure` = '', `read_length` = 20 WHERE `loq_read_alignment`.`id` = 91 ; args=(u'D005', u'D005', u'TGTGGGTTGTGGGCTGTGTG', u'CACACAGCCCACAACCCACA', 1, 1, u'chr2L', 6045678, 6045698, u'-', 0.0703, 18, u'', 20, 91)\n"
       ]
      },
      {
       "output_type": "stream",
       "stream": "stderr",
       "text": [
        "DEBUG:django.db.backends:(0.000) SELECT `loq_library`.`library_id`, `loq_library`.`rescue`, `loq_library`.`description`, `loq_library`.`organism`, `loq_library`.`strain`, `loq_library`.`allele`, `loq_library`.`tissue`, `loq_library`.`target`, `loq_library`.`type`, `loq_library`.`total_mapped`, `loq_library`.`resolution`, `loq_library`.`source_org`, `loq_library`.`source_person`, `loq_library`.`five_prime_adapter_sequence`, `loq_library`.`three_prime_adapter_sequence`, `loq_library`.`multiplex_barcode_sequence`, `loq_library`.`notes` FROM `loq_library` WHERE `loq_library`.`library_id` = 'D005' ; args=(u'D005',)\n"
       ]
      },
      {
       "output_type": "stream",
       "stream": "stderr",
       "text": [
        "DEBUG:django.db.backends:(0.000) SELECT (1) AS `a` FROM `loq_read_alignment` WHERE `loq_read_alignment`.`id` = 92  LIMIT 1; args=(92,)\n"
       ]
      },
      {
       "output_type": "stream",
       "stream": "stderr",
       "text": [
        "DEBUG:django.db.backends:(0.000) UPDATE `loq_read_alignment` SET `lib` = 'D005', `library_id` = 'D005', `sequence` = 'TGTGGGTTGTGGGCTGTG', `rev_sequence` = 'CACAGCCCACAACCCACA', `read_counts` = 1, `genomic_hits` = 1, `chr` = 'chr2L', `start` = 6045680, `stop` = 6045698, `strand` = '-', `normReads` = 0.0703, `intervalName_id` = 18, `structure` = '', `read_length` = 18 WHERE `loq_read_alignment`.`id` = 92 ; args=(u'D005', u'D005', u'TGTGGGTTGTGGGCTGTG', u'CACAGCCCACAACCCACA', 1, 1, u'chr2L', 6045680, 6045698, u'-', 0.0703, 18, u'', 18, 92)\n"
       ]
      },
      {
       "output_type": "stream",
       "stream": "stderr",
       "text": [
        "DEBUG:django.db.backends:(0.000) SELECT `loq_library`.`library_id`, `loq_library`.`rescue`, `loq_library`.`description`, `loq_library`.`organism`, `loq_library`.`strain`, `loq_library`.`allele`, `loq_library`.`tissue`, `loq_library`.`target`, `loq_library`.`type`, `loq_library`.`total_mapped`, `loq_library`.`resolution`, `loq_library`.`source_org`, `loq_library`.`source_person`, `loq_library`.`five_prime_adapter_sequence`, `loq_library`.`three_prime_adapter_sequence`, `loq_library`.`multiplex_barcode_sequence`, `loq_library`.`notes` FROM `loq_library` WHERE `loq_library`.`library_id` = 'D005' ; args=(u'D005',)\n"
       ]
      },
      {
       "output_type": "stream",
       "stream": "stderr",
       "text": [
        "DEBUG:django.db.backends:(0.000) SELECT (1) AS `a` FROM `loq_read_alignment` WHERE `loq_read_alignment`.`id` = 93  LIMIT 1; args=(93,)\n"
       ]
      },
      {
       "output_type": "stream",
       "stream": "stderr",
       "text": [
        "DEBUG:django.db.backends:(0.001) UPDATE `loq_read_alignment` SET `lib` = 'D005', `library_id` = 'D005', `sequence` = 'TCAATTCCGTAGTGCATTGC', `rev_sequence` = NULL, `read_counts` = 1, `genomic_hits` = 1, `chr` = 'chr2L', `start` = 6902076, `stop` = 6902096, `strand` = '+', `normReads` = 0.0703, `intervalName_id` = 19, `structure` = '', `read_length` = 20 WHERE `loq_read_alignment`.`id` = 93 ; args=(u'D005', u'D005', u'TCAATTCCGTAGTGCATTGC', 1, 1, u'chr2L', 6902076, 6902096, u'+', 0.0703, 19, u'', 20, 93)\n"
       ]
      },
      {
       "output_type": "stream",
       "stream": "stderr",
       "text": [
        "DEBUG:django.db.backends:(0.000) SELECT `loq_library`.`library_id`, `loq_library`.`rescue`, `loq_library`.`description`, `loq_library`.`organism`, `loq_library`.`strain`, `loq_library`.`allele`, `loq_library`.`tissue`, `loq_library`.`target`, `loq_library`.`type`, `loq_library`.`total_mapped`, `loq_library`.`resolution`, `loq_library`.`source_org`, `loq_library`.`source_person`, `loq_library`.`five_prime_adapter_sequence`, `loq_library`.`three_prime_adapter_sequence`, `loq_library`.`multiplex_barcode_sequence`, `loq_library`.`notes` FROM `loq_library` WHERE `loq_library`.`library_id` = 'D005' ; args=(u'D005',)\n"
       ]
      },
      {
       "output_type": "stream",
       "stream": "stderr",
       "text": [
        "DEBUG:django.db.backends:(0.000) SELECT (1) AS `a` FROM `loq_read_alignment` WHERE `loq_read_alignment`.`id` = 94  LIMIT 1; args=(94,)\n"
       ]
      },
      {
       "output_type": "stream",
       "stream": "stderr",
       "text": [
        "DEBUG:django.db.backends:(0.000) UPDATE `loq_read_alignment` SET `lib` = 'D005', `library_id` = 'D005', `sequence` = 'TCAATTCCGTAGTGCATTGCA', `rev_sequence` = NULL, `read_counts` = 3, `genomic_hits` = 1, `chr` = 'chr2L', `start` = 6902076, `stop` = 6902097, `strand` = '+', `normReads` = 0.211, `intervalName_id` = 19, `structure` = '', `read_length` = 21 WHERE `loq_read_alignment`.`id` = 94 ; args=(u'D005', u'D005', u'TCAATTCCGTAGTGCATTGCA', 3, 1, u'chr2L', 6902076, 6902097, u'+', 0.211, 19, u'', 21, 94)\n"
       ]
      },
      {
       "output_type": "stream",
       "stream": "stderr",
       "text": [
        "DEBUG:django.db.backends:(0.000) SELECT `loq_library`.`library_id`, `loq_library`.`rescue`, `loq_library`.`description`, `loq_library`.`organism`, `loq_library`.`strain`, `loq_library`.`allele`, `loq_library`.`tissue`, `loq_library`.`target`, `loq_library`.`type`, `loq_library`.`total_mapped`, `loq_library`.`resolution`, `loq_library`.`source_org`, `loq_library`.`source_person`, `loq_library`.`five_prime_adapter_sequence`, `loq_library`.`three_prime_adapter_sequence`, `loq_library`.`multiplex_barcode_sequence`, `loq_library`.`notes` FROM `loq_library` WHERE `loq_library`.`library_id` = 'D005' ; args=(u'D005',)\n"
       ]
      },
      {
       "output_type": "stream",
       "stream": "stderr",
       "text": [
        "DEBUG:django.db.backends:(0.000) SELECT (1) AS `a` FROM `loq_read_alignment` WHERE `loq_read_alignment`.`id` = 95  LIMIT 1; args=(95,)\n"
       ]
      },
      {
       "output_type": "stream",
       "stream": "stderr",
       "text": [
        "DEBUG:django.db.backends:(0.001) UPDATE `loq_read_alignment` SET `lib` = 'D005', `library_id` = 'D005', `sequence` = 'TCAATTCCGTAGTGCATTGCAG', `rev_sequence` = NULL, `read_counts` = 13, `genomic_hits` = 1, `chr` = 'chr2L', `start` = 6902076, `stop` = 6902098, `strand` = '+', `normReads` = 0.9145, `intervalName_id` = 19, `structure` = '', `read_length` = 22 WHERE `loq_read_alignment`.`id` = 95 ; args=(u'D005', u'D005', u'TCAATTCCGTAGTGCATTGCAG', 13, 1, u'chr2L', 6902076, 6902098, u'+', 0.9145, 19, u'', 22, 95)\n"
       ]
      },
      {
       "output_type": "stream",
       "stream": "stderr",
       "text": [
        "DEBUG:django.db.backends:(0.000) SELECT `loq_library`.`library_id`, `loq_library`.`rescue`, `loq_library`.`description`, `loq_library`.`organism`, `loq_library`.`strain`, `loq_library`.`allele`, `loq_library`.`tissue`, `loq_library`.`target`, `loq_library`.`type`, `loq_library`.`total_mapped`, `loq_library`.`resolution`, `loq_library`.`source_org`, `loq_library`.`source_person`, `loq_library`.`five_prime_adapter_sequence`, `loq_library`.`three_prime_adapter_sequence`, `loq_library`.`multiplex_barcode_sequence`, `loq_library`.`notes` FROM `loq_library` WHERE `loq_library`.`library_id` = 'D005' ; args=(u'D005',)\n"
       ]
      },
      {
       "output_type": "stream",
       "stream": "stderr",
       "text": [
        "DEBUG:django.db.backends:(0.000) SELECT (1) AS `a` FROM `loq_read_alignment` WHERE `loq_read_alignment`.`id` = 96  LIMIT 1; args=(96,)\n"
       ]
      },
      {
       "output_type": "stream",
       "stream": "stderr",
       "text": [
        "DEBUG:django.db.backends:(0.000) UPDATE `loq_read_alignment` SET `lib` = 'D005', `library_id` = 'D005', `sequence` = 'TCAATTCCGTAGTGCATTGCAGT', `rev_sequence` = NULL, `read_counts` = 214, `genomic_hits` = 1, `chr` = 'chr2L', `start` = 6902076, `stop` = 6902099, `strand` = '+', `normReads` = 15.0544, `intervalName_id` = 19, `structure` = '', `read_length` = 23 WHERE `loq_read_alignment`.`id` = 96 ; args=(u'D005', u'D005', u'TCAATTCCGTAGTGCATTGCAGT', 214, 1, u'chr2L', 6902076, 6902099, u'+', 15.0544, 19, u'', 23, 96)\n"
       ]
      },
      {
       "output_type": "stream",
       "stream": "stderr",
       "text": [
        "DEBUG:django.db.backends:(0.000) SELECT `loq_library`.`library_id`, `loq_library`.`rescue`, `loq_library`.`description`, `loq_library`.`organism`, `loq_library`.`strain`, `loq_library`.`allele`, `loq_library`.`tissue`, `loq_library`.`target`, `loq_library`.`type`, `loq_library`.`total_mapped`, `loq_library`.`resolution`, `loq_library`.`source_org`, `loq_library`.`source_person`, `loq_library`.`five_prime_adapter_sequence`, `loq_library`.`three_prime_adapter_sequence`, `loq_library`.`multiplex_barcode_sequence`, `loq_library`.`notes` FROM `loq_library` WHERE `loq_library`.`library_id` = 'D005' ; args=(u'D005',)\n"
       ]
      },
      {
       "output_type": "stream",
       "stream": "stderr",
       "text": [
        "DEBUG:django.db.backends:(0.000) SELECT (1) AS `a` FROM `loq_read_alignment` WHERE `loq_read_alignment`.`id` = 97  LIMIT 1; args=(97,)\n"
       ]
      },
      {
       "output_type": "stream",
       "stream": "stderr",
       "text": [
        "DEBUG:django.db.backends:(0.000) UPDATE `loq_read_alignment` SET `lib` = 'D005', `library_id` = 'D005', `sequence` = 'TCAATTCCGTAGTGCATTGCAGTG', `rev_sequence` = NULL, `read_counts` = 1, `genomic_hits` = 1, `chr` = 'chr2L', `start` = 6902076, `stop` = 6902100, `strand` = '+', `normReads` = 0.0703, `intervalName_id` = 19, `structure` = '', `read_length` = 24 WHERE `loq_read_alignment`.`id` = 97 ; args=(u'D005', u'D005', u'TCAATTCCGTAGTGCATTGCAGTG', 1, 1, u'chr2L', 6902076, 6902100, u'+', 0.0703, 19, u'', 24, 97)\n"
       ]
      },
      {
       "output_type": "stream",
       "stream": "stderr",
       "text": [
        "DEBUG:django.db.backends:(0.000) SELECT `loq_library`.`library_id`, `loq_library`.`rescue`, `loq_library`.`description`, `loq_library`.`organism`, `loq_library`.`strain`, `loq_library`.`allele`, `loq_library`.`tissue`, `loq_library`.`target`, `loq_library`.`type`, `loq_library`.`total_mapped`, `loq_library`.`resolution`, `loq_library`.`source_org`, `loq_library`.`source_person`, `loq_library`.`five_prime_adapter_sequence`, `loq_library`.`three_prime_adapter_sequence`, `loq_library`.`multiplex_barcode_sequence`, `loq_library`.`notes` FROM `loq_library` WHERE `loq_library`.`library_id` = 'D005' ; args=(u'D005',)\n"
       ]
      },
      {
       "output_type": "stream",
       "stream": "stderr",
       "text": [
        "DEBUG:django.db.backends:(0.018) SELECT (1) AS `a` FROM `loq_read_alignment` WHERE `loq_read_alignment`.`id` = 98  LIMIT 1; args=(98,)\n"
       ]
      },
      {
       "output_type": "stream",
       "stream": "stderr",
       "text": [
        "DEBUG:django.db.backends:(0.000) UPDATE `loq_read_alignment` SET `lib` = 'D005', `library_id` = 'D005', `sequence` = 'AATTCCGTAGTGCATTGCAGT', `rev_sequence` = NULL, `read_counts` = 2, `genomic_hits` = 1, `chr` = 'chr2L', `start` = 6902078, `stop` = 6902099, `strand` = '+', `normReads` = 0.1407, `intervalName_id` = 19, `structure` = '', `read_length` = 21 WHERE `loq_read_alignment`.`id` = 98 ; args=(u'D005', u'D005', u'AATTCCGTAGTGCATTGCAGT', 2, 1, u'chr2L', 6902078, 6902099, u'+', 0.1407, 19, u'', 21, 98)\n"
       ]
      },
      {
       "ename": "KeyboardInterrupt",
       "evalue": "",
       "output_type": "pyerr",
       "traceback": [
        "\u001b[1;31m---------------------------------------------------------------------------\u001b[0m\n\u001b[1;31mKeyboardInterrupt\u001b[0m                         Traceback (most recent call last)",
        "\u001b[1;32m<ipython-input-3-f62b5046dfc1>\u001b[0m in \u001b[0;36m<module>\u001b[1;34m()\u001b[0m\n\u001b[0;32m      5\u001b[0m     \u001b[0mi\u001b[0m\u001b[1;33m.\u001b[0m\u001b[0mlibrary\u001b[0m \u001b[1;33m=\u001b[0m \u001b[0mb\u001b[0m\u001b[1;33m\u001b[0m\u001b[0m\n\u001b[0;32m      6\u001b[0m \u001b[1;33m\u001b[0m\u001b[0m\n\u001b[1;32m----> 7\u001b[1;33m     \u001b[0mi\u001b[0m\u001b[1;33m.\u001b[0m\u001b[0msave\u001b[0m\u001b[1;33m(\u001b[0m\u001b[1;33m)\u001b[0m\u001b[1;33m\u001b[0m\u001b[0m\n\u001b[0m\u001b[0;32m      8\u001b[0m     \u001b[1;31m#print i.library\u001b[0m\u001b[1;33m\u001b[0m\u001b[1;33m\u001b[0m\u001b[0m\n",
        "\u001b[1;32m/usr/local/lib/python2.7/dist-packages/django/db/models/base.pyc\u001b[0m in \u001b[0;36msave\u001b[1;34m(self, force_insert, force_update, using, update_fields)\u001b[0m\n\u001b[0;32m    544\u001b[0m \u001b[1;33m\u001b[0m\u001b[0m\n\u001b[0;32m    545\u001b[0m         self.save_base(using=using, force_insert=force_insert,\n\u001b[1;32m--> 546\u001b[1;33m                        force_update=force_update, update_fields=update_fields)\n\u001b[0m\u001b[0;32m    547\u001b[0m     \u001b[0msave\u001b[0m\u001b[1;33m.\u001b[0m\u001b[0malters_data\u001b[0m \u001b[1;33m=\u001b[0m \u001b[0mTrue\u001b[0m\u001b[1;33m\u001b[0m\u001b[0m\n\u001b[0;32m    548\u001b[0m \u001b[1;33m\u001b[0m\u001b[0m\n",
        "\u001b[1;32m/usr/local/lib/python2.7/dist-packages/django/db/models/base.pyc\u001b[0m in \u001b[0;36msave_base\u001b[1;34m(self, raw, cls, origin, force_insert, force_update, using, update_fields)\u001b[0m\n\u001b[0;32m    652\u001b[0m                 \u001b[1;32mif\u001b[0m \u001b[0mupdate_pk\u001b[0m\u001b[1;33m:\u001b[0m\u001b[1;33m\u001b[0m\u001b[0m\n\u001b[0;32m    653\u001b[0m                     \u001b[0msetattr\u001b[0m\u001b[1;33m(\u001b[0m\u001b[0mself\u001b[0m\u001b[1;33m,\u001b[0m \u001b[0mmeta\u001b[0m\u001b[1;33m.\u001b[0m\u001b[0mpk\u001b[0m\u001b[1;33m.\u001b[0m\u001b[0mattname\u001b[0m\u001b[1;33m,\u001b[0m \u001b[0mresult\u001b[0m\u001b[1;33m)\u001b[0m\u001b[1;33m\u001b[0m\u001b[0m\n\u001b[1;32m--> 654\u001b[1;33m             \u001b[0mtransaction\u001b[0m\u001b[1;33m.\u001b[0m\u001b[0mcommit_unless_managed\u001b[0m\u001b[1;33m(\u001b[0m\u001b[0musing\u001b[0m\u001b[1;33m=\u001b[0m\u001b[0musing\u001b[0m\u001b[1;33m)\u001b[0m\u001b[1;33m\u001b[0m\u001b[0m\n\u001b[0m\u001b[0;32m    655\u001b[0m \u001b[1;33m\u001b[0m\u001b[0m\n\u001b[0;32m    656\u001b[0m         \u001b[1;31m# Store the database on which the object was saved\u001b[0m\u001b[1;33m\u001b[0m\u001b[1;33m\u001b[0m\u001b[0m\n",
        "\u001b[1;32m/usr/local/lib/python2.7/dist-packages/django/db/transaction.pyc\u001b[0m in \u001b[0;36mcommit_unless_managed\u001b[1;34m(using)\u001b[0m\n\u001b[0;32m    132\u001b[0m         \u001b[0musing\u001b[0m \u001b[1;33m=\u001b[0m \u001b[0mDEFAULT_DB_ALIAS\u001b[0m\u001b[1;33m\u001b[0m\u001b[0m\n\u001b[0;32m    133\u001b[0m     \u001b[0mconnection\u001b[0m \u001b[1;33m=\u001b[0m \u001b[0mconnections\u001b[0m\u001b[1;33m[\u001b[0m\u001b[0musing\u001b[0m\u001b[1;33m]\u001b[0m\u001b[1;33m\u001b[0m\u001b[0m\n\u001b[1;32m--> 134\u001b[1;33m     \u001b[0mconnection\u001b[0m\u001b[1;33m.\u001b[0m\u001b[0mcommit_unless_managed\u001b[0m\u001b[1;33m(\u001b[0m\u001b[1;33m)\u001b[0m\u001b[1;33m\u001b[0m\u001b[0m\n\u001b[0m\u001b[0;32m    135\u001b[0m \u001b[1;33m\u001b[0m\u001b[0m\n\u001b[0;32m    136\u001b[0m \u001b[1;32mdef\u001b[0m \u001b[0mrollback_unless_managed\u001b[0m\u001b[1;33m(\u001b[0m\u001b[0musing\u001b[0m\u001b[1;33m=\u001b[0m\u001b[0mNone\u001b[0m\u001b[1;33m)\u001b[0m\u001b[1;33m:\u001b[0m\u001b[1;33m\u001b[0m\u001b[0m\n",
        "\u001b[1;32m/usr/local/lib/python2.7/dist-packages/django/db/backends/__init__.pyc\u001b[0m in \u001b[0;36mcommit_unless_managed\u001b[1;34m(self)\u001b[0m\n\u001b[0;32m    219\u001b[0m         \u001b[0mself\u001b[0m\u001b[1;33m.\u001b[0m\u001b[0mvalidate_thread_sharing\u001b[0m\u001b[1;33m(\u001b[0m\u001b[1;33m)\u001b[0m\u001b[1;33m\u001b[0m\u001b[0m\n\u001b[0;32m    220\u001b[0m         \u001b[1;32mif\u001b[0m \u001b[1;32mnot\u001b[0m \u001b[0mself\u001b[0m\u001b[1;33m.\u001b[0m\u001b[0mis_managed\u001b[0m\u001b[1;33m(\u001b[0m\u001b[1;33m)\u001b[0m\u001b[1;33m:\u001b[0m\u001b[1;33m\u001b[0m\u001b[0m\n\u001b[1;32m--> 221\u001b[1;33m             \u001b[0mself\u001b[0m\u001b[1;33m.\u001b[0m\u001b[0m_commit\u001b[0m\u001b[1;33m(\u001b[0m\u001b[1;33m)\u001b[0m\u001b[1;33m\u001b[0m\u001b[0m\n\u001b[0m\u001b[0;32m    222\u001b[0m             \u001b[0mself\u001b[0m\u001b[1;33m.\u001b[0m\u001b[0mclean_savepoints\u001b[0m\u001b[1;33m(\u001b[0m\u001b[1;33m)\u001b[0m\u001b[1;33m\u001b[0m\u001b[0m\n\u001b[0;32m    223\u001b[0m         \u001b[1;32melse\u001b[0m\u001b[1;33m:\u001b[0m\u001b[1;33m\u001b[0m\u001b[0m\n",
        "\u001b[1;32m/usr/local/lib/python2.7/dist-packages/django/db/backends/__init__.pyc\u001b[0m in \u001b[0;36m_commit\u001b[1;34m(self)\u001b[0m\n\u001b[0;32m     53\u001b[0m     \u001b[1;32mdef\u001b[0m \u001b[0m_commit\u001b[0m\u001b[1;33m(\u001b[0m\u001b[0mself\u001b[0m\u001b[1;33m)\u001b[0m\u001b[1;33m:\u001b[0m\u001b[1;33m\u001b[0m\u001b[0m\n\u001b[0;32m     54\u001b[0m         \u001b[1;32mif\u001b[0m \u001b[0mself\u001b[0m\u001b[1;33m.\u001b[0m\u001b[0mconnection\u001b[0m \u001b[1;32mis\u001b[0m \u001b[1;32mnot\u001b[0m \u001b[0mNone\u001b[0m\u001b[1;33m:\u001b[0m\u001b[1;33m\u001b[0m\u001b[0m\n\u001b[1;32m---> 55\u001b[1;33m             \u001b[1;32mreturn\u001b[0m \u001b[0mself\u001b[0m\u001b[1;33m.\u001b[0m\u001b[0mconnection\u001b[0m\u001b[1;33m.\u001b[0m\u001b[0mcommit\u001b[0m\u001b[1;33m(\u001b[0m\u001b[1;33m)\u001b[0m\u001b[1;33m\u001b[0m\u001b[0m\n\u001b[0m\u001b[0;32m     56\u001b[0m \u001b[1;33m\u001b[0m\u001b[0m\n\u001b[0;32m     57\u001b[0m     \u001b[1;32mdef\u001b[0m \u001b[0m_rollback\u001b[0m\u001b[1;33m(\u001b[0m\u001b[0mself\u001b[0m\u001b[1;33m)\u001b[0m\u001b[1;33m:\u001b[0m\u001b[1;33m\u001b[0m\u001b[0m\n",
        "\u001b[1;31mKeyboardInterrupt\u001b[0m: "
       ]
      }
     ],
     "prompt_number": 3
    },
    {
     "cell_type": "code",
     "collapsed": false,
     "input": [
      "### formula to get readcounts from normreads and total mapped reads from each library\n",
      "import decimal\n",
      "for i in a:\n",
      "    i.read_counts = round(decimal.Decimal((i.normReads / 1000000) * i.library.total_mapped)* i.genomic_hits,0)\n",
      "    i.save()"
     ],
     "language": "python",
     "metadata": {},
     "outputs": []
    },
    {
     "cell_type": "code",
     "collapsed": false,
     "input": [
      "### mapping foreign keys of interval to read_alignments using chr start stop and strand to verify. \n",
      "### currently this is missing strand to ensure both strands get mapped, but only sense is used for analysis \n",
      "a = Interval.objects.all()\n",
      "b = Read_alignment.objects.all()\n",
      "for i in a:\n",
      "    for j in b:\n",
      "        if j.chr == i.chr and j.start >= i.start and j.stop <= i.stop:\n",
      "            j.intervalName = i\n",
      "            #print j.intervalName\n",
      "            j.save()\n",
      "    #i.NeatName = str(i.chr)+ \":\" + str(i.start+1) +\"-\"+ str(i.stop)\n",
      "    #print i.NeatName\n",
      "    #i.IntervalSerialNumber = i.id\n",
      "   "
     ],
     "language": "python",
     "metadata": {},
     "outputs": []
    },
    {
     "cell_type": "code",
     "collapsed": false,
     "input": [
      "### using abundance of reads mapped to intervals to find out if interval is either + or - \n",
      "### this is not required if interval.csv file has mapped_strand header with + or - \n",
      "from django.db.models import Count\n",
      "\n",
      "for i in Interval.objects.all():\n",
      "    a = Read_alignment.objects.filter(intervalName=i).values('strand').annotate(Count('strand'))\n",
      "    #print a\n",
      "    \n",
      "    try:\n",
      "        if len(a) == 1:\n",
      "            i.mapped_strand = a[0]['strand']\n",
      "        elif len(a) == 0:\n",
      "            pass\n",
      "        else:\n",
      "            if a[0]['strand__count'] > a[1]['strand__count']:\n",
      "                i.mapped_strand = a[0]['strand']\n",
      "            else: \n",
      "                i.mapped_strand = a[1]['strand']\n",
      "        i.save()\n",
      "    except:\n",
      "        print i.id\n",
      "    #else:\n",
      "        #print i.id\n",
      "        #i.mapped_strand = a[0]['strand']\n",
      "     \n",
      "#print a[0]['strand']\n",
      "#print a[0]['strand']"
     ],
     "language": "python",
     "metadata": {},
     "outputs": []
    },
    {
     "cell_type": "code",
     "collapsed": false,
     "input": [
      "### to fill in the read_length column using the length of string method of the read sequence\n",
      "a = Interval.objects.get(id=240)\n",
      "print a\n",
      "b = Read_alignment.objects.filter(chr='chrXHet', start__gte=183977, stop__lte=184045)\n",
      "for i in b:\n",
      "    #i.intervalName = a\n",
      "    i.read_length= len(i.sequence)\n",
      "    i.save()"
     ],
     "language": "python",
     "metadata": {},
     "outputs": []
    },
    {
     "cell_type": "code",
     "collapsed": false,
     "input": [
      "### Parses the chromosome / genome file for the interval sequence according to the coordinates and strand\n",
      "from Bio import SeqIO\n",
      "from Bio.Seq import Seq\n",
      "\n",
      "self = Interval.objects.get(id=1)\n",
      "read_list= Read_alignment.objects.filter(intervalName=a)\n",
      "string =\"\"\n",
      "for i in read_list:\n",
      "    reads = '%s\\n' % (i.sequence)   \n",
      "    spaces = int(self.stop)-int(i.stop)\n",
      "    if spaces >= 1:\n",
      "        string += spaces * ' ' + reads \n",
      "    else:\n",
      "        string += reads\n",
      "#print read_list[0]\n",
      "        #print string\n",
      "#print Interval._meta.get_all_field_names()\n",
      "\n",
      "stt = self.start \n",
      "stp = self.stop\n",
      "#still hardcoded! needs to be static*\n",
      "   \n",
      "for seq_record in SeqIO.parse('/home/lichenhao/djangosite/loq/static/fasta/dmel-2L-chromosome-r5.50.fasta','fasta'):\n",
      "    seq = seq_record.seq\n",
      "    if Read_alignment.objects.filter(intervalName=a)[0].strand == \"+\":\n",
      "       seqInterval = str(seq[stt:stp])\n",
      "    else:\n",
      "        seqInterval = str(seq[stt:stp].reverse_complement())\n",
      "print seqInterval"
     ],
     "language": "python",
     "metadata": {},
     "outputs": []
    },
    {
     "cell_type": "code",
     "collapsed": false,
     "input": [
      "### 1st version of generating the coordinates for plotting the curve. \n",
      "### this uses a hash table to store values and updating via addition\n",
      "self= Interval.objects.get(id=2)\n",
      "reads= Read_alignment.objects.filter(intervalName=self).order_by('lib')\n",
      "table = {}\n",
      "list = []\n",
      "for i in range(self.start-1,self.stop+1):            \n",
      "    table[i]=int(0)\n",
      "for i in reads:\n",
      "    row = [i.start, i.stop, i.normReads]\n",
      "    for j in range(row[0],row[1]):\n",
      "        try:\n",
      "            if j in table:\n",
      "                table[j] = table[j] + row[2]\n",
      "        except:\n",
      "               print \"index not found\"\n",
      "for key, value in table.iteritems():\n",
      "    temp = [key,int(value)]\n",
      "    list.append(temp)\n",
      "    list= sorted(list)\n",
      "for i in list:\n",
      "    i[0]=str(i[0])\n",
      "print list\n"
     ],
     "language": "python",
     "metadata": {},
     "outputs": []
    },
    {
     "cell_type": "code",
     "collapsed": false,
     "input": [
      "### finds the sum_normreads or sum_read_counts at each interval entry.\n",
      "from django.db.models import Sum\n",
      "a = Read_alignment.objects.filter(intervalName=b).values('intervalName').annotate(dsum=Sum('read_counts'))\n",
      "\n",
      "for i in a:\n",
      "    item = Interval.objects.get(id = i['intervalName'])\n",
      "    item.sum_read_counts= i['dsum']\n",
      "    print b.mirName\n",
      "    print item.sum_read_counts\n",
      "    item.save()"
     ],
     "language": "python",
     "metadata": {},
     "outputs": [
      {
       "output_type": "stream",
       "stream": "stdout",
       "text": [
        "dme-mir-iab-8\n",
        "24\n"
       ]
      }
     ],
     "prompt_number": 14
    },
    {
     "cell_type": "code",
     "collapsed": false,
     "input": [
      "from django.db.models import Sum\n",
      "b = Interval.objects.get(id=239)\n",
      "a = Read_alignment.objects.filter(intervalName=b).values('intervalName').annotate(dsum=Sum('normReads'))\n",
      "print b.mirName\n",
      "b.sum_normReads = a[0]['dsum']\n",
      "b.save()"
     ],
     "language": "python",
     "metadata": {},
     "outputs": [
      {
       "output_type": "stream",
       "stream": "stdout",
       "text": [
        "dme-mir-iab-8\n"
       ]
      }
     ],
     "prompt_number": 15
    },
    {
     "cell_type": "code",
     "collapsed": false,
     "input": [
      "import numpy as np\n",
      "from numpy.random import randn\n",
      "import pandas as pd\n",
      "from scipy import stats\n",
      "import matplotlib as mpl\n",
      "import matplotlib.pyplot as plt\n",
      "import seaborn as sns\n",
      "from matplotlib.pyplot import plot, hist"
     ],
     "language": "python",
     "metadata": {},
     "outputs": []
    },
    {
     "cell_type": "code",
     "collapsed": false,
     "input": [
      "### Code to update FK using previous FK\n",
      "self=Interval.objects.get(NeatName='chr3L:22766169-22767910')\n",
      "reads= Read_alignment.objects.filter(intervalName=self)\n",
      "for i in reads:\n",
      "    i.intervalName='chr3L:22766591-22766737'\n",
      "    i.save()"
     ],
     "language": "python",
     "metadata": {},
     "outputs": []
    },
    {
     "cell_type": "code",
     "collapsed": false,
     "input": [
      "### code to store normReads using calculated formula\n",
      "aligns = Read_alignment.objects.filter(intervalName='chr3L:22766638-22766704')\n",
      "from srb.models import Library\n",
      "a = Library.objects.get(library_id='V064V0642')\n",
      "#print aligns\n",
      "for i in aligns:\n",
      "    #i.normReads = i.normRead()\n",
      "    i.library= a\n",
      "    i.save()\n"
     ],
     "language": "python",
     "metadata": {},
     "outputs": []
    },
    {
     "cell_type": "code",
     "collapsed": false,
     "input": [
      "### Generates a pileup of either normreads or read_counts using pandas dataframe. similar to hash table\n",
      "### but allows for multiple libraries to be processed with overlaying plots.  \n",
      "import numpy as np\n",
      "import pandas as pd\n",
      "%pylab inline\n",
      "self= Interval.objects.get(id=65)\n",
      "reads= Read_alignment.objects.filter(intervalName=self).order_by('lib')\n",
      "\n",
      "libs = ['D005', 'D006','D007','D008','D009', 'D010']\n",
      "cords = np.arange(self.start-1,self.stop+1)\n",
      "w = range(self.start-1,self.stop+1)\n",
      "w = np.array([w])\n",
      " \n",
      "df = pd.DataFrame(index=cords, columns=libs)\n",
      "df = df.fillna(0)\n",
      "\n",
      "for i in reads:\n",
      "    for j in range(i.start,i.stop):\n",
      "        df[i.lib][j] += i.normReads\n",
      "\n",
      "a= np.array(df)\n",
      "w = np.reshape(w,(len(cords),-1))\n",
      "b = np.concatenate((w,a),axis=1)\n",
      "b = np.flipud(b)\n",
      "b = b.tolist()\n",
      "#libs.insert(0,\"Coordinates\")\n",
      "#b.insert(0,libs)\n",
      "for i in b:\n",
      "    i[0] =str(i[0])\n",
      "\n",
      "#row_1=['Coordinates']\n",
      "#for i in libs:\n",
      "#    row_1.append(str(i))\n",
      "\n",
      "#b = b.insert(0,row_1)\n",
      "\n",
      "#len(a)\n",
      "#print df[0:50]\n",
      "#cord = np.transpose(cords)\n",
      "\n",
      "fig= plt.figure()\n",
      "ax = fig.add_subplot(111)\n",
      "ax.plot(df)\n",
      "#plt.ylim(0,3.0)\n",
      "plt.title('Reads pileup for ' +str(self.mirName))\n",
      "#plt.xlim(5508754,5508838)\n",
      "ax.xaxis.get_major_formatter().set_powerlimits((0, 5))\n",
      "plt.legend(libs)\n",
      "#df.plot()\n"
     ],
     "language": "python",
     "metadata": {},
     "outputs": []
    },
    {
     "cell_type": "code",
     "collapsed": false,
     "input": [
      "### Deprecated code to calculate pileup\n",
      "self=Interval.objects.get(IntervalSerialNumber=1)\n",
      "reads= Read_alignment.objects.filter(library_id='V064V0642')\n",
      "cord = []\n",
      "data =[]\n",
      "index = []\n",
      "for i in reads:\n",
      "    index.append(i.id)\n",
      "    cord.append(i.start)\n",
      "    cord.append(i.stop)\n",
      "    ac =[int(i.start-self.start)*str(0),int(i.stop-i.start) *str(i.read_counts),int(self.stop-i.stop)*str(0)]\n",
      "    #print list(\"\".join(ac))\n",
      "    data.append(list(\"\".join(ac)))\n",
      "#for i in data: \n",
      "#    print i\n",
      "#cords = range(self.start,self.stop)\n",
      "#for i in data: \n",
      "#    i=map(int,i)\n",
      "#print data\n",
      "#    matrix\n",
      "#matrix= zip(matrix)\n",
      "#print matrix\n",
      "#print len(cords)\n",
      "#print len(index)\n",
      "#print np.array(matrix)\n",
      "#print np.array(data)\n",
      "#frame = pd.DataFrame(data,columns=cords, index=index).convert_objects(convert_numeric=True)\n",
      "#print frame[22766591]\n",
      "#pile= frame.values.sum(axis=1)\n",
      "#print pile\n",
      "#graph_list=[]\n",
      "#print reads\n",
      "#print str(data)\n"
     ],
     "language": "python",
     "metadata": {},
     "outputs": []
    },
    {
     "cell_type": "code",
     "collapsed": false,
     "input": [
      "### 2nd version of plotting using a list to contain values. old and deprecated\n",
      "self=Interval.objects.get(NeatName='chr3L:22766591-22766737')\n",
      "reads= Read_alignment.objects.filter(intervalName=self)\n",
      "cord = []\n",
      "data =[]        \n",
      "index = []\n",
      "for i in reads:\n",
      "    index.append(i.id)\n",
      "    cord.append(i.start)\n",
      "    cord.append(i.stop)\n",
      "    ac =[int(i.start-self.start)*str(0),int(i.stop-i.start) *str(i.read_counts),int(self.stop-i.stop)*str(0)]\n",
      "    data.append(list(\"\".join(ac)))\n",
      "    nt=sorted(cord)\n",
      "    cords = range(self.start,self.stop)\n",
      "    matrix = [] \n",
      "for i in data:\n",
      "    i=map(int,i)\n",
      "    #print len(i)\n",
      "    matrix.append(i)\n",
      "frame = pd.DataFrame(matrix,columns=cords, index=index, dtype='int')\n",
      "pile= frame.values.sum(axis=0)\n",
      "g_list= []\n",
      "for i in range(0,len(cords)):\n",
      "    g_list.append([str(cords[i]),pile[i]])    \n",
      "g_list.insert(0,[\"Position(nt)\", \"Counts\"])\n",
      "g_list"
     ],
     "language": "python",
     "metadata": {},
     "outputs": []
    },
    {
     "cell_type": "code",
     "collapsed": false,
     "input": [
      "### old script, non functional\n",
      "#from django.db.models import Count\n",
      "#from pandas import DataFrame\n",
      "#def toDict(x):\n",
      "#    return [item for item in x]\n",
      "#lib_table ={}\n",
      "\n",
      "#print libs\n",
      "#table = {}\n",
      "#frame ={}\n",
      "\n",
      "#self= Interval.objects.get(id=2)\n",
      "\n",
      "#reads= Read_alignment.objects.filter(intervalName=self).order_by('lib')\n",
      "#libraries = reads.values('lib').annotate(dcount=Count('lib'))\n",
      "\n",
      "\n",
      "#for i in range(self.start-1,self.stop+1):            \n",
      "#    table[i]=int(0)\n",
      "    \n",
      "#lib_dict = toDict(libraries)\n",
      "#libs = [i['lib'] for i in lib_dict]\n",
      "#libs = ['D005', 'D006','D007','D008','D009', 'D010']\n",
      "#frame ={i:table for i in libs}\n",
      "#print frame\n",
      "#for i in libs:\n",
      "#    data = Read_alignment.objects.filter(intervalName=self, lib=i)\n",
      "#print frame\n",
      "data = []\n",
      "for j in reads: \n",
      "    data.append([j.lib,j.start,j.stop,j.normReads])\n",
      "    \n",
      " \n",
      "\n",
      "for i in data:\n",
      "    for q in range(i[1],i[2]+1):\n",
      "        #currentReads = frame[1][q]\n",
      "        #print currentReads\n",
      "        #frame[i[0]][q] = i[3] + currentReads\n",
      "    #print frame['D005'] == frame['D010']    \n",
      "            # OR\n",
      "        frame[i[0]][q] += j.normReads\n",
      "            #frame[j.lib] =table\n",
      "            #table[q] += j.normReads\n",
      "                        \n",
      "#print j.lib +'\\t'+ str(frame[][857595]) + '\\t'+ str(frame['D005'][857595])  \n",
      "\n",
      "print frame['D005']       \n",
      "print '\\n\\n'\n",
      "print frame['D008']\n",
      "#print frame['D006']    \n",
      "#print frame['D008'] == frame['D005']\n",
      "\n",
      "#for k,v in lib_table.iteritems():\n",
      "#print lib_table\n",
      "#array = []\n",
      "#for keys, values in lib_table.iteritems():\n",
      "#    for k,v in values.iteritems():\n",
      "#        array.append([k,v])\n",
      "#    lib_table[keys] = sorted(array)\n",
      "    #print len(array)\n",
      "#    array =[]\n",
      "#left = DataFrame(lib_table)\n",
      "#print left\n",
      "        #list.append(temp)\n",
      "        #list= sorted(list)\n",
      "#for i in list:\n",
      "#    i[0]=str(i[0])\n",
      "#print list\n",
      "    "
     ],
     "language": "python",
     "metadata": {},
     "outputs": []
    }
   ],
   "metadata": {}
  }
 ]
}