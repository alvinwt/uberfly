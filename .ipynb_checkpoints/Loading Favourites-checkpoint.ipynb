{
 "metadata": {
  "name": ""
 },
 "nbformat": 3,
 "nbformat_minor": 0,
 "worksheets": [
  {
   "cells": [
    {
     "cell_type": "code",
     "collapsed": false,
     "input": [
      "from django.core.management import setup_environ\n",
      "from loq import settings\n",
      "setup_environ(settings)\n",
      "import os\n",
      "os.environ['DJANGO_SETTINGS_MODULE'] = 'loq.settings'"
     ],
     "language": "python",
     "metadata": {},
     "outputs": []
    },
    {
     "cell_type": "code",
     "collapsed": false,
     "input": [
      "from django.contrib.auth.models import User\n",
      "from loq.models import Interval\n",
      "from favit.models import Favorite\n",
      "\n",
      "\n",
      "user = User.objects.get(username='katsutomo')\n",
      "loq_object = Interval.objects.filter(pk__in=favs)\n",
      "#print len(loq_object)\n",
      "for i in loq_object:\n",
      "    fav = Favorite.objects.create(user, i)\n"
     ],
     "language": "python",
     "metadata": {},
     "outputs": []
    },
    {
     "cell_type": "code",
     "collapsed": false,
     "input": [
      "favs = [3,17,18,21,27,34,37,38,61,62,65,67,69,75,78,79,82,94,96,105,109,121,130,131,139,149,162,166,167,174,184,188,199,200,208,212,216,217,218,237,240]\n",
      " "
     ],
     "language": "python",
     "metadata": {},
     "outputs": []
    }
   ],
   "metadata": {}
  }
 ]
}